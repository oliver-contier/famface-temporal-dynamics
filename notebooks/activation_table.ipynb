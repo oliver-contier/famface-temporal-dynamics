{
 "metadata": {
  "name": "",
  "signature": "sha256:4fe923955ae7766d230c198b20b63dc3ac8520430f09c9d392b305a62757e596"
 },
 "nbformat": 3,
 "nbformat_minor": 0,
 "worksheets": [
  {
   "cells": [
    {
     "cell_type": "heading",
     "level": 1,
     "metadata": {},
     "source": [
      "Activation Table"
     ]
    },
    {
     "cell_type": "markdown",
     "metadata": {},
     "source": [
      "Co-ordinates of Centers of Gravity of the clusters that survived thresholding. Probability for these co-ordinates by the Harvard-Oxford Cortical Atlas. "
     ]
    },
    {
     "cell_type": "code",
     "collapsed": false,
     "input": [
      "%%HTML\n",
      "<style type=\"text/css\">\n",
      ".tg  {border-collapse:collapse;border-spacing:0;}\n",
      ".tg td{font-family:Arial, sans-serif;font-size:14px;padding:10px 5px;border-style:solid;border-width:1px;overflow:hidden;word-break:normal;}\n",
      ".tg th{font-family:Arial, sans-serif;font-size:14px;font-weight:normal;padding:10px 5px;border-style:solid;border-width:1px;overflow:hidden;word-break:normal;}\n",
      ".tg .tg-baqh{text-align:center;vertical-align:top}\n",
      ".tg .tg-yw4l{vertical-align:top}\n",
      "</style>\n",
      "<table class=\"tg\">\n",
      "  <tr>\n",
      "    <th class=\"tg-baqh\">Contrast</th>\n",
      "    <th class=\"tg-baqh\" colspan=\"3\">Center of gravity</th>\n",
      "    <th class=\"tg-baqh\" rowspan=\"2\">Harvard-Oxford Cortical Atlas</th>\n",
      "    <th class=\"tg-baqh\" rowspan=\"2\">z-value</th>\n",
      "  </tr>\n",
      "  <tr>\n",
      "    <td class=\"tg-yw4l\">negative slope forfamiliar &gt; unfamiliar</td>\n",
      "    <td class=\"tg-yw4l\">x</td>\n",
      "    <td class=\"tg-yw4l\">y</td>\n",
      "    <td class=\"tg-yw4l\">z</td>\n",
      "  </tr>\n",
      "  <tr>\n",
      "    <td class=\"tg-baqh\">1</td>\n",
      "    <td class=\"tg-baqh\">1.34</td>\n",
      "    <td class=\"tg-baqh\">-25.83</td>\n",
      "    <td class=\"tg-baqh\">31.436</td>\n",
      "    <td class=\"tg-yw4l\">89% Cingulate Gyrus, posterior division<br>5% Cingulate Gyrus, anterior division</td>\n",
      "    <td class=\"tg-baqh\"></td>\n",
      "  </tr>\n",
      "  <tr>\n",
      "    <td class=\"tg-baqh\">2</td>\n",
      "    <td class=\"tg-baqh\">50.03</td>\n",
      "    <td class=\"tg-baqh\">-54.13</td>\n",
      "    <td class=\"tg-baqh\">-6.44</td>\n",
      "    <td class=\"tg-yw4l\">46% Inferior Temporal Gyrus, temporooccipital part<br>14% Middle Temporal Gyrus, temporooccipital part<br>7% Lateral Occipital Gyrus, infirior division</td>\n",
      "    <td class=\"tg-baqh\"></td>\n",
      "  </tr>\n",
      "  <tr>\n",
      "    <td class=\"tg-baqh\">3</td>\n",
      "    <td class=\"tg-baqh\">40.60</td>\n",
      "    <td class=\"tg-baqh\">25.97</td>\n",
      "    <td class=\"tg-baqh\">9.48</td>\n",
      "    <td class=\"tg-yw4l\">21% Frontal Opercular Cortex<br>16% Inferior Frontal Gyrus, pars triangularis<br>5% Inferior Frontal Gyrus, pars opercularis</td>\n",
      "    <td class=\"tg-baqh\"></td>\n",
      "  </tr>\n",
      "</table>"
     ],
     "language": "python",
     "metadata": {},
     "outputs": [
      {
       "html": [
        "<style type=\"text/css\">\n",
        ".tg  {border-collapse:collapse;border-spacing:0;}\n",
        ".tg td{font-family:Arial, sans-serif;font-size:14px;padding:10px 5px;border-style:solid;border-width:1px;overflow:hidden;word-break:normal;}\n",
        ".tg th{font-family:Arial, sans-serif;font-size:14px;font-weight:normal;padding:10px 5px;border-style:solid;border-width:1px;overflow:hidden;word-break:normal;}\n",
        ".tg .tg-baqh{text-align:center;vertical-align:top}\n",
        ".tg .tg-yw4l{vertical-align:top}\n",
        "</style>\n",
        "<table class=\"tg\">\n",
        "  <tr>\n",
        "    <th class=\"tg-baqh\">Contrast</th>\n",
        "    <th class=\"tg-baqh\" colspan=\"3\">Center of gravity</th>\n",
        "    <th class=\"tg-baqh\" rowspan=\"2\">Harvard-Oxford Cortical Atlas</th>\n",
        "    <th class=\"tg-baqh\" rowspan=\"2\">z-value</th>\n",
        "  </tr>\n",
        "  <tr>\n",
        "    <td class=\"tg-yw4l\">negative slope forfamiliar &gt; unfamiliar</td>\n",
        "    <td class=\"tg-yw4l\">x</td>\n",
        "    <td class=\"tg-yw4l\">y</td>\n",
        "    <td class=\"tg-yw4l\">z</td>\n",
        "  </tr>\n",
        "  <tr>\n",
        "    <td class=\"tg-baqh\">1</td>\n",
        "    <td class=\"tg-baqh\">1.34</td>\n",
        "    <td class=\"tg-baqh\">-25.83</td>\n",
        "    <td class=\"tg-baqh\">31.436</td>\n",
        "    <td class=\"tg-yw4l\">89% Cingulate Gyrus, posterior division<br>5% Cingulate Gyrus, anterior division</td>\n",
        "    <td class=\"tg-baqh\"></td>\n",
        "  </tr>\n",
        "  <tr>\n",
        "    <td class=\"tg-baqh\">2</td>\n",
        "    <td class=\"tg-baqh\">50.03</td>\n",
        "    <td class=\"tg-baqh\">-54.13</td>\n",
        "    <td class=\"tg-baqh\">-6.44</td>\n",
        "    <td class=\"tg-yw4l\">46% Inferior Temporal Gyrus, temporooccipital part<br>14% Middle Temporal Gyrus, temporooccipital part<br>7% Lateral Occipital Gyrus, infirior division</td>\n",
        "    <td class=\"tg-baqh\"></td>\n",
        "  </tr>\n",
        "  <tr>\n",
        "    <td class=\"tg-baqh\">3</td>\n",
        "    <td class=\"tg-baqh\">40.60</td>\n",
        "    <td class=\"tg-baqh\">25.97</td>\n",
        "    <td class=\"tg-baqh\">9.48</td>\n",
        "    <td class=\"tg-yw4l\">21% Frontal Opercular Cortex<br>16% Inferior Frontal Gyrus, pars triangularis<br>5% Inferior Frontal Gyrus, pars opercularis</td>\n",
        "    <td class=\"tg-baqh\"></td>\n",
        "  </tr>\n",
        "</table>"
       ],
       "metadata": {},
       "output_type": "display_data",
       "text": [
        "<IPython.core.display.HTML at 0x7f9a086b9e90>"
       ]
      }
     ],
     "prompt_number": 7
    },
    {
     "cell_type": "code",
     "collapsed": false,
     "input": [],
     "language": "python",
     "metadata": {},
     "outputs": []
    }
   ],
   "metadata": {}
  }
 ]
}