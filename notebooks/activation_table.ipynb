{
 "metadata": {
  "name": "",
  "signature": "sha256:582690c2d1d1773d6ec35544764fb8bc0212de8202a8fdd276b1d22f219bbcaa"
 },
 "nbformat": 3,
 "nbformat_minor": 0,
 "worksheets": [
  {
   "cells": [
    {
     "cell_type": "code",
     "collapsed": false,
     "input": [
      "%matplotlib inline\n",
      "from os.path import join\n",
      "import csv\n",
      "import numpy as np\n",
      "from nilearn import datasets\n",
      "from nilearn.image import load_img, math_img, mean_img, index_img\n",
      "from nilearn.plotting import plot_stat_map, plot_img, plot_prob_atlas, plot_anat\n",
      "from nibabel.affines import apply_affine\n",
      "from mvpa2.datasets.mri import fmri_dataset, map2nifti\n",
      "from IPython.display import HTML, display\n",
      "import tabulate"
     ],
     "language": "python",
     "metadata": {},
     "outputs": [],
     "prompt_number": 139
    },
    {
     "cell_type": "heading",
     "level": 1,
     "metadata": {},
     "source": [
      "Local maxima"
     ]
    },
    {
     "cell_type": "markdown",
     "metadata": {},
     "source": [
      "### read local maxima"
     ]
    },
    {
     "cell_type": "code",
     "collapsed": false,
     "input": [
      "# get coordinates of local maxima from file\n",
      "def get_localmaxima(textfile):\n",
      "    \"\"\"\n",
      "    Reads csv-file with local maxima (as output from nipype). returns numpy ndarray.\n",
      "    \"\"\"\n",
      "    with open(textfile, 'rb') as f:\n",
      "        reader = csv.reader(f)\n",
      "        data = [r[0].split() for r in reader]\n",
      "        str_coords = [d[-3:] for d in data[1:]]\n",
      "        lcmax_coords = np.array([[int(value) for value in triplet] for triplet in str_coords])\n",
      "        return lcmax_coords"
     ],
     "language": "python",
     "metadata": {},
     "outputs": [],
     "prompt_number": 2
    },
    {
     "cell_type": "code",
     "collapsed": false,
     "input": [
      "def vox2mnicoords(coords):\n",
      "    \"\"\"\n",
      "    transforms list of voxel idk coordinates into mni.\n",
      "    \"\"\"\n",
      "    # affine matrix for standard space\n",
      "    mni_affine = datasets.load_mni152_template().affine\n",
      "    # apply affine to voxel idk to get mni coords\n",
      "    coords_mni = np.array([apply_affine(mni_affine, coord) for coord in coords])\n",
      "    return coords_mni"
     ],
     "language": "python",
     "metadata": {},
     "outputs": [],
     "prompt_number": 3
    },
    {
     "cell_type": "code",
     "collapsed": false,
     "input": [
      "# path to local maxima csv files\n",
      "basedir = '/data/famface/openfmri/oli/results/results_with_main_effects/l2ants_fwhm6_hp60_derivs_frac0.1/model001/task001/subjects_all/stats'\n",
      "lcmaxfile_intc = join(basedir, 'contrast__l1-03-l2-01', 'zstat1_localmax.txt')\n",
      "lcmaxfile_slp = join(basedir, 'contrast__l1-03-l2-02', 'zstat1_reversed_localmax.txt')"
     ],
     "language": "python",
     "metadata": {},
     "outputs": [],
     "prompt_number": 14
    },
    {
     "cell_type": "code",
     "collapsed": false,
     "input": [
      "# get local maxima as MNI coordinates as nd.array\n",
      "lcmax_intc = vox2mnicoords(get_localmaxima(lcmaxfile_intc))\n",
      "lcmax_slp = vox2mnicoords(get_localmaxima(lcmaxfile_slp))"
     ],
     "language": "python",
     "metadata": {},
     "outputs": [],
     "prompt_number": 21
    },
    {
     "cell_type": "code",
     "collapsed": false,
     "input": [
      "# get them as voxel idk\n",
      "lcmax_idk_intc = get_localmaxima(lcmaxfile_intc)\n",
      "lcmax_idk_slp = get_localmaxima(lcmaxfile_slp)"
     ],
     "language": "python",
     "metadata": {},
     "outputs": [],
     "prompt_number": 40
    },
    {
     "cell_type": "markdown",
     "metadata": {},
     "source": [
      "### get probabilities with fsl atlasquery"
     ]
    },
    {
     "cell_type": "markdown",
     "metadata": {},
     "source": [
      "About atlasquery output:\n",
      "\n",
      "\"It gives the (average) probability of a voxel or mask being a member of the different labelled regions within the atlas. If a mask is used then the probability is averaged over all the voxels in the mask. All the probability numbers are scaled from 0 to 100, so that they are easily interpreted as percentages (e.g., 49.5 represents a probability of 0.495).\"\n",
      "\n",
      "https://fsl.fmrib.ox.ac.uk/fsl/fslwiki/Atlasquery"
     ]
    },
    {
     "cell_type": "code",
     "collapsed": false,
     "input": [
      "def call_atlasquery(lcmax_list, stripatl=True):\n",
      "    \"\"\"\n",
      "    Call FSL's atlasquery for a list of MNI coordinates (as tuples)\n",
      "    and store result in dict.\n",
      "    strip atlas name from output optionally.\n",
      "    \"\"\"\n",
      "    prob_dict = {}\n",
      "    for coords in lcmax_list:\n",
      "        # transform to string for atlasquery\n",
      "        coords_stdin = str(coords).replace('[', '\"').replace(']', '\"').replace('.', ',').replace(' ', '')\n",
      "\n",
      "        # call atlasquery\n",
      "        stdout = !atlasquery -a \"Harvard-Oxford Cortical Structural Atlas\" -c {coords_stdin}\n",
      "\n",
      "        if stripatl:\n",
      "            # get the standard output into shape\n",
      "            stdout_split = stdout[0].replace('<b>Harvard-Oxford Cortical Structural Atlas</b><br>', '').split(',')\n",
      "            probabilities = [i+','+j for i,j in zip(stdout_split[::2], stdout_split[1::2])]\n",
      "            prob_dict[tuple(coords)] = stdout\n",
      "\n",
      "        else:\n",
      "            prob_dict[tuple(coords)] = stdout\n",
      "    return prob_dict"
     ],
     "language": "python",
     "metadata": {},
     "outputs": [],
     "prompt_number": 213
    },
    {
     "cell_type": "code",
     "collapsed": false,
     "input": [
      "# get probabilities for slope and intercept local maxima\n",
      "\n",
      "intc_probs = call_atlasquery(lcmax_intc)\n",
      "\n",
      "slp_probs = call_atlasquery(lcmax_slp)"
     ],
     "language": "python",
     "metadata": {},
     "outputs": [],
     "prompt_number": 214
    },
    {
     "cell_type": "code",
     "collapsed": false,
     "input": [
      "# print(intc_probs)\n",
      "# print(slp_probs)"
     ],
     "language": "python",
     "metadata": {},
     "outputs": [],
     "prompt_number": 194
    },
    {
     "cell_type": "markdown",
     "metadata": {},
     "source": [
      "# Thresholded results as mask"
     ]
    },
    {
     "cell_type": "code",
     "collapsed": false,
     "input": [
      "# specify file paths\n",
      "\n",
      "basedir = '/data/famface/openfmri/oli/results/results_with_main_effects/l2ants_fwhm6_hp60_derivs_frac0.1/model001/task001/subjects_all/stats'\n",
      "\n",
      "slp_thresh = join(basedir, 'contrast__l1-03-l2-02', 'zstat1_reversed_threshold.nii.gz')\n",
      "intc_thresh = join(basedir, 'contrast__l1-03-l2-01', 'zstat1_threshold.nii.gz')"
     ],
     "language": "python",
     "metadata": {},
     "outputs": [],
     "prompt_number": 215
    },
    {
     "cell_type": "code",
     "collapsed": false,
     "input": [
      "# intercept\n",
      "!atlasquery -a \"Harvard-Oxford Cortical Structural Atlas\" -m {intc_thresh}"
     ],
     "language": "python",
     "metadata": {},
     "outputs": [
      {
       "output_type": "stream",
       "stream": "stdout",
       "text": [
        "Frontal Pole:7.11195\r\n"
       ]
      },
      {
       "output_type": "stream",
       "stream": "stdout",
       "text": [
        "Insular Cortex:1.9526\r\n"
       ]
      },
      {
       "output_type": "stream",
       "stream": "stdout",
       "text": [
        "Superior Frontal Gyrus:0.507893\r\n"
       ]
      },
      {
       "output_type": "stream",
       "stream": "stdout",
       "text": [
        "Middle Frontal Gyrus:0.357205\r\n"
       ]
      },
      {
       "output_type": "stream",
       "stream": "stdout",
       "text": [
        "Inferior Frontal Gyrus, pars triangularis:0.83437\r\n"
       ]
      },
      {
       "output_type": "stream",
       "stream": "stdout",
       "text": [
        "Inferior Frontal Gyrus, pars opercularis:0.990204\r\n"
       ]
      },
      {
       "output_type": "stream",
       "stream": "stdout",
       "text": [
        "Precentral Gyrus:2.56203\r\n"
       ]
      },
      {
       "output_type": "stream",
       "stream": "stdout",
       "text": [
        "Temporal Pole:1.8101\r\n"
       ]
      },
      {
       "output_type": "stream",
       "stream": "stdout",
       "text": [
        "Superior Temporal Gyrus, anterior division:0.435723\r\n"
       ]
      },
      {
       "output_type": "stream",
       "stream": "stdout",
       "text": [
        "Superior Temporal Gyrus, posterior division:1.22678\r\n"
       ]
      },
      {
       "output_type": "stream",
       "stream": "stdout",
       "text": [
        "Middle Temporal Gyrus, anterior division:0.532472\r\n"
       ]
      },
      {
       "output_type": "stream",
       "stream": "stdout",
       "text": [
        "Middle Temporal Gyrus, posterior division:0.847979\r\n"
       ]
      },
      {
       "output_type": "stream",
       "stream": "stdout",
       "text": [
        "Middle Temporal Gyrus, temporooccipital part:3.82318\r\n"
       ]
      },
      {
       "output_type": "stream",
       "stream": "stdout",
       "text": [
        "Inferior Temporal Gyrus, anterior division:0.162929\r\n"
       ]
      },
      {
       "output_type": "stream",
       "stream": "stdout",
       "text": [
        "Inferior Temporal Gyrus, posterior division:0.19019\r\n"
       ]
      },
      {
       "output_type": "stream",
       "stream": "stdout",
       "text": [
        "Inferior Temporal Gyrus, temporooccipital part:0.774296\r\n"
       ]
      },
      {
       "output_type": "stream",
       "stream": "stdout",
       "text": [
        "Postcentral Gyrus:0.676164\r\n"
       ]
      },
      {
       "output_type": "stream",
       "stream": "stdout",
       "text": [
        "Superior Parietal Lobule:0.0218567\r\n"
       ]
      },
      {
       "output_type": "stream",
       "stream": "stdout",
       "text": [
        "Supramarginal Gyrus, anterior division:2.63401\r\n"
       ]
      },
      {
       "output_type": "stream",
       "stream": "stdout",
       "text": [
        "Supramarginal Gyrus, posterior division:2.21149\r\n"
       ]
      },
      {
       "output_type": "stream",
       "stream": "stdout",
       "text": [
        "Angular Gyrus:1.98835\r\n"
       ]
      },
      {
       "output_type": "stream",
       "stream": "stdout",
       "text": [
        "Lateral Occipital Cortex, superior division:1.66577\r\n"
       ]
      },
      {
       "output_type": "stream",
       "stream": "stdout",
       "text": [
        "Lateral Occipital Cortex, inferior division:2.3456\r\n"
       ]
      },
      {
       "output_type": "stream",
       "stream": "stdout",
       "text": [
        "Intracalcarine Cortex:0.0209564\r\n"
       ]
      },
      {
       "output_type": "stream",
       "stream": "stdout",
       "text": [
        "Frontal Medial Cortex:1.35904\r\n"
       ]
      },
      {
       "output_type": "stream",
       "stream": "stdout",
       "text": [
        "Juxtapositional Lobule Cortex (formerly Supplementary Motor Cortex):0.194042\r\n"
       ]
      },
      {
       "output_type": "stream",
       "stream": "stdout",
       "text": [
        "Subcallosal Cortex:0.0607228\r\n"
       ]
      },
      {
       "output_type": "stream",
       "stream": "stdout",
       "text": [
        "Paracingulate Gyrus:4.12429\r\n"
       ]
      },
      {
       "output_type": "stream",
       "stream": "stdout",
       "text": [
        "Cingulate Gyrus, anterior division:6.24959\r\n"
       ]
      },
      {
       "output_type": "stream",
       "stream": "stdout",
       "text": [
        "Cingulate Gyrus, posterior division:3.7403\r\n"
       ]
      },
      {
       "output_type": "stream",
       "stream": "stdout",
       "text": [
        "Precuneous Cortex:4.62523\r\n"
       ]
      },
      {
       "output_type": "stream",
       "stream": "stdout",
       "text": [
        "Cuneal Cortex:0.328249\r\n"
       ]
      },
      {
       "output_type": "stream",
       "stream": "stdout",
       "text": [
        "Frontal Orbital Cortex:0.977756\r\n"
       ]
      },
      {
       "output_type": "stream",
       "stream": "stdout",
       "text": [
        "Parahippocampal Gyrus, anterior division:0.0542813\r\n"
       ]
      },
      {
       "output_type": "stream",
       "stream": "stdout",
       "text": [
        "Parahippocampal Gyrus, posterior division:0.00215526\r\n"
       ]
      },
      {
       "output_type": "stream",
       "stream": "stdout",
       "text": [
        "Lingual Gyrus:0.00167049\r\n"
       ]
      },
      {
       "output_type": "stream",
       "stream": "stdout",
       "text": [
        "Temporal Fusiform Cortex, anterior division:0.0412087\r\n"
       ]
      },
      {
       "output_type": "stream",
       "stream": "stdout",
       "text": [
        "Temporal Fusiform Cortex, posterior division:0.247691\r\n"
       ]
      },
      {
       "output_type": "stream",
       "stream": "stdout",
       "text": [
        "Temporal Occipital Fusiform Cortex:0.433349\r\n"
       ]
      },
      {
       "output_type": "stream",
       "stream": "stdout",
       "text": [
        "Occipital Fusiform Gyrus:0.0531722\r\n"
       ]
      },
      {
       "output_type": "stream",
       "stream": "stdout",
       "text": [
        "Frontal Operculum Cortex:0.694148\r\n"
       ]
      },
      {
       "output_type": "stream",
       "stream": "stdout",
       "text": [
        "Central Opercular Cortex:0.568955\r\n"
       ]
      },
      {
       "output_type": "stream",
       "stream": "stdout",
       "text": [
        "Parietal Operculum Cortex:0.545307\r\n"
       ]
      },
      {
       "output_type": "stream",
       "stream": "stdout",
       "text": [
        "Planum Polare:0.319227\r\n"
       ]
      },
      {
       "output_type": "stream",
       "stream": "stdout",
       "text": [
        "Heschl's Gyrus (includes H1 and H2):0.00863567\r\n"
       ]
      },
      {
       "output_type": "stream",
       "stream": "stdout",
       "text": [
        "Planum Temporale:0.363053\r\n"
       ]
      },
      {
       "output_type": "stream",
       "stream": "stdout",
       "text": [
        "Supracalcarine Cortex:0.0851904\r\n"
       ]
      },
      {
       "output_type": "stream",
       "stream": "stdout",
       "text": [
        "Occipital Pole:0.00056954\r\n"
       ]
      }
     ],
     "prompt_number": 200
    },
    {
     "cell_type": "code",
     "collapsed": false,
     "input": [
      "# slope\n",
      "!atlasquery -a \"Harvard-Oxford Cortical Structural Atlas\" -m {slp_thresh}"
     ],
     "language": "python",
     "metadata": {},
     "outputs": [
      {
       "output_type": "stream",
       "stream": "stdout",
       "text": [
        "Frontal Pole:10.4649\r\n"
       ]
      },
      {
       "output_type": "stream",
       "stream": "stdout",
       "text": [
        "Insular Cortex:5.48081\r\n"
       ]
      },
      {
       "output_type": "stream",
       "stream": "stdout",
       "text": [
        "Superior Frontal Gyrus:0.00153698\r\n"
       ]
      },
      {
       "output_type": "stream",
       "stream": "stdout",
       "text": [
        "Middle Frontal Gyrus:0.885467\r\n"
       ]
      },
      {
       "output_type": "stream",
       "stream": "stdout",
       "text": [
        "Inferior Frontal Gyrus, pars triangularis:2.74077\r\n"
       ]
      },
      {
       "output_type": "stream",
       "stream": "stdout",
       "text": [
        "Inferior Frontal Gyrus, pars opercularis:2.88489\r\n"
       ]
      },
      {
       "output_type": "stream",
       "stream": "stdout",
       "text": [
        "Precentral Gyrus:2.25716\r\n"
       ]
      },
      {
       "output_type": "stream",
       "stream": "stdout",
       "text": [
        "Temporal Pole:0.517833\r\n"
       ]
      },
      {
       "output_type": "stream",
       "stream": "stdout",
       "text": [
        "Superior Temporal Gyrus, anterior division:0.000213688\r\n"
       ]
      },
      {
       "output_type": "stream",
       "stream": "stdout",
       "text": [
        "Middle Temporal Gyrus, temporooccipital part:3.80273\r\n"
       ]
      },
      {
       "output_type": "stream",
       "stream": "stdout",
       "text": [
        "Inferior Temporal Gyrus, posterior division:0.199564\r\n"
       ]
      },
      {
       "output_type": "stream",
       "stream": "stdout",
       "text": [
        "Inferior Temporal Gyrus, temporooccipital part:4.43166\r\n"
       ]
      },
      {
       "output_type": "stream",
       "stream": "stdout",
       "text": [
        "Postcentral Gyrus:0.0101679\r\n"
       ]
      },
      {
       "output_type": "stream",
       "stream": "stdout",
       "text": [
        "Supramarginal Gyrus, posterior division:0.00529913\r\n"
       ]
      },
      {
       "output_type": "stream",
       "stream": "stdout",
       "text": [
        "Angular Gyrus:0.392645\r\n"
       ]
      },
      {
       "output_type": "stream",
       "stream": "stdout",
       "text": [
        "Lateral Occipital Cortex, superior division:1.90245\r\n"
       ]
      },
      {
       "output_type": "stream",
       "stream": "stdout",
       "text": [
        "Lateral Occipital Cortex, inferior division:1.42339\r\n"
       ]
      },
      {
       "output_type": "stream",
       "stream": "stdout",
       "text": [
        "Frontal Medial Cortex:0.00046011\r\n"
       ]
      },
      {
       "output_type": "stream",
       "stream": "stdout",
       "text": [
        "Juxtapositional Lobule Cortex (formerly Supplementary Motor Cortex):0.00792232\r\n"
       ]
      },
      {
       "output_type": "stream",
       "stream": "stdout",
       "text": [
        "Subcallosal Cortex:0.00898425\r\n"
       ]
      },
      {
       "output_type": "stream",
       "stream": "stdout",
       "text": [
        "Paracingulate Gyrus:0.000447231\r\n"
       ]
      },
      {
       "output_type": "stream",
       "stream": "stdout",
       "text": [
        "Cingulate Gyrus, anterior division:3.2203\r\n"
       ]
      },
      {
       "output_type": "stream",
       "stream": "stdout",
       "text": [
        "Cingulate Gyrus, posterior division:10.6877\r\n"
       ]
      },
      {
       "output_type": "stream",
       "stream": "stdout",
       "text": [
        "Precuneous Cortex:0.235016\r\n"
       ]
      },
      {
       "output_type": "stream",
       "stream": "stdout",
       "text": [
        "Frontal Orbital Cortex:2.08556\r\n"
       ]
      },
      {
       "output_type": "stream",
       "stream": "stdout",
       "text": [
        "Temporal Fusiform Cortex, posterior division:0.146771\r\n"
       ]
      },
      {
       "output_type": "stream",
       "stream": "stdout",
       "text": [
        "Temporal Occipital Fusiform Cortex:1.166\r\n"
       ]
      },
      {
       "output_type": "stream",
       "stream": "stdout",
       "text": [
        "Frontal Operculum Cortex:2.57564\r\n"
       ]
      },
      {
       "output_type": "stream",
       "stream": "stdout",
       "text": [
        "Central Opercular Cortex:1.12041\r\n"
       ]
      },
      {
       "output_type": "stream",
       "stream": "stdout",
       "text": [
        "Planum Polare:0.157228\r\n"
       ]
      },
      {
       "output_type": "stream",
       "stream": "stdout",
       "text": [
        "Heschl's Gyrus (includes H1 and H2):0.00299984\r\n"
       ]
      }
     ],
     "prompt_number": 201
    },
    {
     "cell_type": "markdown",
     "metadata": {},
     "source": [
      "# Center of Gravity"
     ]
    },
    {
     "cell_type": "code",
     "collapsed": false,
     "input": [
      "# cluster index images\n",
      "intc_index = intc_thresh.replace('threshold', 'index')\n",
      "slp_index = slp_thresh.replace('threshold', 'index')"
     ],
     "language": "python",
     "metadata": {},
     "outputs": [],
     "prompt_number": 301
    },
    {
     "cell_type": "code",
     "collapsed": false,
     "input": [
      "def getcogs(indeximage):\n",
      "    \"\"\"\n",
      "    use fsl to find out centers of gravity for all clusters within a given cluster mask.\n",
      "    clusters must be indexed with integers in this image.\n",
      "    \"\"\"\n",
      "\n",
      "    minmax_out = !fslstats {indeximage} -R\n",
      "    maximum = int(float(minmax_out[0].split(' ')[1]))\n",
      "\n",
      "    cogs = []\n",
      "\n",
      "    for i in range(1, maximum+1):\n",
      "        !fslmaths {indeximage} -thr {i-0.5} -uthr {i+0.5} tempmask.nii.gz\n",
      "        cog = !fslstats tempmask.nii.gz -c\n",
      "\n",
      "        cogs.append(cog)\n",
      "\n",
      "    return cogs"
     ],
     "language": "python",
     "metadata": {},
     "outputs": [],
     "prompt_number": 269
    },
    {
     "cell_type": "markdown",
     "metadata": {},
     "source": [
      "### COG probabilities for intercept"
     ]
    },
    {
     "cell_type": "markdown",
     "metadata": {},
     "source": [
      "There surely is a way to automate this, but I just want to look it up quickly"
     ]
    },
    {
     "cell_type": "code",
     "collapsed": false,
     "input": [
      "int_cogs = getcogs(intc_index)\n",
      "int_cogs"
     ],
     "language": "python",
     "metadata": {},
     "outputs": [
      {
       "metadata": {},
       "output_type": "pyout",
       "prompt_number": 295,
       "text": [
        "[['-32.776404 -0.002247 -2.189888 '],\n",
        " ['-53.503846 -50.241667 8.811538 '],\n",
        " ['48.937251 -14.896627 5.972434 '],\n",
        " ['1.855365 10.515791 22.343792 ']]"
       ]
      }
     ],
     "prompt_number": 295
    },
    {
     "cell_type": "code",
     "collapsed": false,
     "input": [
      "!atlasquery -a \"Harvard-Oxford Cortical Structural Atlas\" -c -32.776404,-0.002247,-2.189888\n",
      "print('this first one is not in cortex. subcortical atlas says: 83.1% Left Cerebral White Matter, 16.8% Left Putamen')\n",
      "!atlasquery -a \"Harvard-Oxford Cortical Structural Atlas\" -c -53.503846,-50.241667,8.811538\n",
      "!atlasquery -a \"Harvard-Oxford Cortical Structural Atlas\" -c 48.937251,-14.896627,5.972434\n",
      "!atlasquery -a \"Harvard-Oxford Cortical Structural Atlas\" -c 1.855365,10.515791,22.343792"
     ],
     "language": "python",
     "metadata": {},
     "outputs": [
      {
       "output_type": "stream",
       "stream": "stdout",
       "text": [
        "<b>Harvard-Oxford Cortical Structural Atlas</b><br>No label found!\r\n"
       ]
      },
      {
       "output_type": "stream",
       "stream": "stdout",
       "text": [
        "this first one is not in cortex. subcortical atlas says: 83.1% Left Cerebral White Matter, 16.8% Left Putamen\n"
       ]
      },
      {
       "output_type": "stream",
       "stream": "stdout",
       "text": [
        "<b>Harvard-Oxford Cortical Structural Atlas</b><br>44% Middle Temporal Gyrus, temporooccipital part, 13% Supramarginal Gyrus, posterior division, 12% Angular Gyrus, 3% Superior Temporal Gyrus, posterior division, 1% Lateral Occipital Cortex, inferior division\r\n"
       ]
      },
      {
       "output_type": "stream",
       "stream": "stdout",
       "text": [
        "<b>Harvard-Oxford Cortical Structural Atlas</b><br>35% Heschl's Gyrus (includes H1 and H2), 3% Planum Polare, 1% Planum Temporale\r\n"
       ]
      },
      {
       "output_type": "stream",
       "stream": "stdout",
       "text": [
        "<b>Harvard-Oxford Cortical Structural Atlas</b><br>12% Cingulate Gyrus, anterior division\r\n"
       ]
      }
     ],
     "prompt_number": 300
    },
    {
     "cell_type": "markdown",
     "metadata": {},
     "source": [
      "### COG probabilities for slope"
     ]
    },
    {
     "cell_type": "code",
     "collapsed": false,
     "input": [
      "slp_cogs = getcogs(slp_index)\n",
      "slp_cogs"
     ],
     "language": "python",
     "metadata": {},
     "outputs": [
      {
       "metadata": {},
       "output_type": "pyout",
       "prompt_number": 271,
       "text": [
        "[['1.340302 -25.828107 31.435540 '],\n",
        " ['50.033161 -54.128497 -6.435233 '],\n",
        " ['40.597319 25.971336 9.483125 ']]"
       ]
      }
     ],
     "prompt_number": 271
    },
    {
     "cell_type": "code",
     "collapsed": false,
     "input": [
      "!atlasquery -a \"Harvard-Oxford Cortical Structural Atlas\" -c 1.340,-25.828,31.436\n",
      "!atlasquery -a \"Harvard-Oxford Cortical Structural Atlas\" -c 50.033161,-54.128497,-6.435233\n",
      "!atlasquery -a \"Harvard-Oxford Cortical Structural Atlas\" -c 40.597319,25.971336,9.483125 "
     ],
     "language": "python",
     "metadata": {},
     "outputs": [
      {
       "output_type": "stream",
       "stream": "stdout",
       "text": [
        "<b>Harvard-Oxford Cortical Structural Atlas</b><br>89% Cingulate Gyrus, posterior division, 5% Cingulate Gyrus, anterior division\r\n"
       ]
      },
      {
       "output_type": "stream",
       "stream": "stdout",
       "text": [
        "<b>Harvard-Oxford Cortical Structural Atlas</b><br>46% Inferior Temporal Gyrus, temporooccipital part, 14% Middle Temporal Gyrus, temporooccipital part, 7% Lateral Occipital Cortex, inferior division\r\n"
       ]
      },
      {
       "output_type": "stream",
       "stream": "stdout",
       "text": [
        "<b>Harvard-Oxford Cortical Structural Atlas</b><br>21% Frontal Operculum Cortex, 16% Inferior Frontal Gyrus, pars triangularis, 5% Inferior Frontal Gyrus, pars opercularis\r\n"
       ]
      }
     ],
     "prompt_number": 294
    },
    {
     "cell_type": "markdown",
     "metadata": {},
     "source": [
      "## COG table"
     ]
    },
    {
     "cell_type": "markdown",
     "metadata": {},
     "source": [
      "<table>\n",
      "  <tr>\n",
      "    <th rowspan=\"2\">Cluster index</th>\n",
      "    <th colspan=\"3\">Center of Gravity</th>\n",
      "    <th rowspan=\"2\">Harvard-Oxford Cortical<br>Atlas</th>\n",
      "    <th rowspan=\"2\">Harvard-Oxford Subcortical<br>Atlas</th>\n",
      "    <th rowspan=\"2\">z-value</th>\n",
      "  </tr>\n",
      "  <tr>\n",
      "    <td>x</td>\n",
      "    <td>y</td>\n",
      "    <td>z</td>\n",
      "  </tr>\n",
      "  <tr>\n",
      "    <td colspan=\"7\">familiar &gt; unfamiliar (negative slope)<br></td>\n",
      "  </tr>\n",
      "  <tr>\n",
      "    <td>1</td>\n",
      "    <td>1.34</td>\n",
      "    <td>-25.83</td>\n",
      "    <td>31.44</td>\n",
      "    <td>89% Cingulate gyrus, posterior division<br>5% Cingulate gyrus, anterior division</td>\n",
      "    <td></td>\n",
      "    <td></td>\n",
      "  </tr>\n",
      "  <tr>\n",
      "    <td>2</td>\n",
      "    <td>50.03</td>\n",
      "    <td>-54.13</td>\n",
      "    <td>-6.44</td>\n",
      "    <td>46% Inferior Temporal gyrus, temporooccipital part<br>14 % Middle Temporal gyrus, temporooccipital part<br>7% Lateral Occipital gyrus, inferior division</td>\n",
      "    <td></td>\n",
      "    <td></td>\n",
      "  </tr>\n",
      "  <tr>\n",
      "    <td>3</td>\n",
      "    <td>40.60</td>\n",
      "    <td>25.97</td>\n",
      "    <td>9.48</td>\n",
      "    <td>21% Frontal Opercular Cortex<br>16% Inferior Frontal Gyrus, pars triangularis<br>5% Inferior Frontal Gyrus, pars opercularis<br></td>\n",
      "    <td></td>\n",
      "    <td></td>\n",
      "  </tr>\n",
      "  <tr>\n",
      "    <td colspan=\"7\">familiar &gt; unfamiliar (intercept)</td>\n",
      "  </tr>\n",
      "  <tr>\n",
      "    <td>1</td>\n",
      "    <td>-32.78</td>\n",
      "    <td>-0.00</td>\n",
      "    <td>-2.19</td>\n",
      "    <td></td>\n",
      "    <td>83.1% Left Cerebral White Matter,16.8% Left Putamen,83.1% Left Cerebral White Matter,<br>16.8% Left Putamen</td>\n",
      "    <td></td>\n",
      "  </tr>\n",
      "  <tr>\n",
      "    <td>2</td>\n",
      "    <td>-53.50</td>\n",
      "    <td>-50.24</td>\n",
      "    <td>8.81</td>\n",
      "    <td>44% Middle Temporal Gyrus, temporooccipital part,<br>13% Supramarginal Gyrus, posterior division,<br>12% Angular Gyrus,<br>3% Superior Temporal Gyrus, posterior division, 1% Lateral Occipital Cortex, inferior division</td>\n",
      "    <td></td>\n",
      "    <td></td>\n",
      "  </tr>\n",
      "  <tr>\n",
      "    <td>3</td>\n",
      "    <td>48.94</td>\n",
      "    <td>-14.90</td>\n",
      "    <td>5.97</td>\n",
      "    <td>35% Heschl's Gyrus (includes H1 and H2),<br>3% Planum Polare,<br>1% Planum Temporale</td>\n",
      "    <td></td>\n",
      "    <td></td>\n",
      "  </tr>\n",
      "  <tr>\n",
      "    <td>4</td>\n",
      "    <td>1.86</td>\n",
      "    <td>10.52</td>\n",
      "    <td>22.34</td>\n",
      "    <td>12% Cingulate Gyrus, anterior division</td>\n",
      "    <td></td>\n",
      "    <td></td>\n",
      "  </tr>\n",
      "</table>"
     ]
    },
    {
     "cell_type": "code",
     "collapsed": false,
     "input": [],
     "language": "python",
     "metadata": {},
     "outputs": []
    }
   ],
   "metadata": {}
  }
 ]
}