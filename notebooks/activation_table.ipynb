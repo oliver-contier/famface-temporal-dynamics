{
 "metadata": {
  "name": "",
  "signature": "sha256:783461d6578325c51b35153852a575f249e23419b54caab790e346ef0a8bbfa4"
 },
 "nbformat": 3,
 "nbformat_minor": 0,
 "worksheets": [
  {
   "cells": [
    {
     "cell_type": "heading",
     "level": 1,
     "metadata": {},
     "source": [
      "Activation Table"
     ]
    },
    {
     "cell_type": "markdown",
     "metadata": {},
     "source": [
      "Co-ordinates of Centers of Gravity of the clusters that survived thresholding. Probability for these co-ordinates by the Harvard-Oxford Cortical Atlas. "
     ]
    },
    {
     "cell_type": "markdown",
     "metadata": {},
     "source": [
      "|                                         | x     | y      | z      | Harvard-Oxford Cortical Atlas                                                                                                                     | z-value |\n",
      "|:---------------------------------------:|-------|--------|--------|---------------------------------------------------------------------------------------------------------------------------------------------------|---------|\n",
      "| negative slope forfamiliar > unfamiliar |       |        |        |                                                                                                                                                   |         |\n",
      "|                    1                    |  1.34 | -25.83 | 31.436 |                                   89% Cingulate Gyrus, posterior division 5% Cingulate Gyrus, anterior division                                   |         |\n",
      "|                    2                    | 50.03 | -54.13 |  -6.44 | 46% Inferior Temporal Gyrus, temporooccipital part 14% Middle Temporal Gyrus, temporooccipital part 7% Lateral Occipital Gyrus, infirior division |         |\n",
      "|                    3                    | 40.60 |  25.97 |  9.48  |               21% Frontal Opercular Cortex 16% Inferior Frontal Gyrus, pars triangularis 5% Inferior Frontal Gyrus, pars opercularis              |         |"
     ]
    },
    {
     "cell_type": "code",
     "collapsed": false,
     "input": [],
     "language": "python",
     "metadata": {},
     "outputs": []
    }
   ],
   "metadata": {}
  }
 ]
}