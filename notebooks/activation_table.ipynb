{
 "metadata": {
  "name": "",
  "signature": "sha256:60d68537cecfe0bd52bc2515948a63edc2129736c720ee1d68c26f96bdaa7502"
 },
 "nbformat": 3,
 "nbformat_minor": 0,
 "worksheets": [
  {
   "cells": [
    {
     "cell_type": "heading",
     "level": 1,
     "metadata": {},
     "source": [
      "Activation Table"
     ]
    },
    {
     "cell_type": "markdown",
     "metadata": {},
     "source": [
      "Co-ordinates of Centers of Gravity of the clusters that survived thresholding. Probability for these co-ordinates by the Harvard-Oxford Cortical Atlas. "
     ]
    },
    {
     "cell_type": "code",
     "collapsed": false,
     "input": [
      "%%HTML\n",
      "<style type=\"text/css\">\n",
      ".tg  {border-collapse:collapse;border-spacing:0;margin:0px auto;}\n",
      ".tg td{font-family:Arial, sans-serif;font-size:14px;padding:9px 20px;border-style:solid;border-width:0px;overflow:hidden;word-break:normal;border-top-width:1px;border-bottom-width:1px;}\n",
      ".tg th{font-family:Arial, sans-serif;font-size:14px;font-weight:normal;padding:9px 20px;border-style:solid;border-width:0px;overflow:hidden;word-break:normal;border-top-width:1px;border-bottom-width:1px;}\n",
      ".tg .tg-s6z2{text-align:center}\n",
      "th.tg-sort-header::-moz-selection { background:transparent; }th.tg-sort-header::selection      { background:transparent; }th.tg-sort-header { cursor:pointer; }table th.tg-sort-header:after {  content:'';  float:right;  margin-top:7px;  border-width:0 4px 4px;  border-style:solid;  border-color:#404040 transparent;  visibility:hidden;  }table th.tg-sort-header:hover:after {  visibility:visible;  }table th.tg-sort-desc:after,table th.tg-sort-asc:after,table th.tg-sort-asc:hover:after {  visibility:visible;  opacity:0.4;  }table th.tg-sort-desc:after {  border-bottom:none;  border-width:4px 4px 0;  }@media screen and (max-width: 767px) {.tg {width: auto !important;}.tg col {width: auto !important;}.tg-wrap {overflow-x: auto;-webkit-overflow-scrolling: touch;margin: auto 0px;}}</style>\n",
      "<div class=\"tg-wrap\"><table id=\"tg-1e7uy\" class=\"tg\">\n",
      "  <tr>\n",
      "    <th class=\"tg-s6z2\" rowspan=\"2\">Contrast</th>\n",
      "    <th class=\"tg-s6z2\" colspan=\"3\">Center of gravity</th>\n",
      "    <th class=\"tg-s6z2\" rowspan=\"2\">Harvard-Oxford Cortical Atlas</th>\n",
      "    <th class=\"tg-s6z2\" rowspan=\"2\">z-value</th>\n",
      "  </tr>\n",
      "  <tr>\n",
      "    <td class=\"tg-031e\">x</td>\n",
      "    <td class=\"tg-031e\">y</td>\n",
      "    <td class=\"tg-031e\">z</td>\n",
      "  </tr>\n",
      "  <tr>\n",
      "    <td class=\"tg-s6z2\" colspan=\"6\">negative slope forfamiliar &gt; unfamiliar</td>\n",
      "  </tr>\n",
      "  <tr>\n",
      "    <td class=\"tg-s6z2\">1</td>\n",
      "    <td class=\"tg-s6z2\">1.34</td>\n",
      "    <td class=\"tg-s6z2\">-25.83</td>\n",
      "    <td class=\"tg-s6z2\">31.436</td>\n",
      "    <td class=\"tg-031e\">89% Cingulate Gyrus, posterior division<br>5% Cingulate Gyrus, anterior division</td>\n",
      "    <td class=\"tg-s6z2\"></td>\n",
      "  </tr>\n",
      "  <tr>\n",
      "    <td class=\"tg-s6z2\">2</td>\n",
      "    <td class=\"tg-s6z2\">50.03</td>\n",
      "    <td class=\"tg-s6z2\">-54.13</td>\n",
      "    <td class=\"tg-s6z2\">-6.44</td>\n",
      "    <td class=\"tg-031e\">46% Inferior Temporal Gyrus, temporooccipital part<br>14% Middle Temporal Gyrus, temporooccipital part<br>7% Lateral Occipital Gyrus, infirior division</td>\n",
      "    <td class=\"tg-s6z2\"></td>\n",
      "  </tr>\n",
      "  <tr>\n",
      "    <td class=\"tg-s6z2\">3</td>\n",
      "    <td class=\"tg-s6z2\">40.60</td>\n",
      "    <td class=\"tg-s6z2\">25.97</td>\n",
      "    <td class=\"tg-s6z2\">9.48</td>\n",
      "    <td class=\"tg-031e\">21% Frontal Opercular Cortex<br>16% Inferior Frontal Gyrus, pars triangularis<br>5% Inferior Frontal Gyrus, pars opercularis</td>\n",
      "    <td class=\"tg-s6z2\"></td>\n",
      "  </tr>\n",
      "</table></div>\n",
      "<script type=\"text/javascript\" charset=\"utf-8\">var TgTableSort=window.TgTableSort||function(n,t){\"use strict\";function r(n,t){for(var e=[],o=n.childNodes,i=0;i<o.length;++i){var u=o[i];if(\".\"==t.substring(0,1)){var a=t.substring(1);f(u,a)&&e.push(u)}else u.nodeName.toLowerCase()==t&&e.push(u);var c=r(u,t);e=e.concat(c)}return e}function e(n,t){var e=[],o=r(n,\"tr\");return o.forEach(function(n){var o=r(n,\"td\");t>=0&&t<o.length&&e.push(o[t])}),e}function o(n){return n.textContent||n.innerText||\"\"}function i(n){return n.innerHTML||\"\"}function u(n,t){var r=e(n,t);return r.map(o)}function a(n,t){var r=e(n,t);return r.map(i)}function c(n){var t=n.className||\"\";return t.match(/\\S+/g)||[]}function f(n,t){return-1!=c(n).indexOf(t)}function s(n,t){f(n,t)||(n.className+=\" \"+t)}function d(n,t){if(f(n,t)){var r=c(n),e=r.indexOf(t);r.splice(e,1),n.className=r.join(\" \")}}function v(n){d(n,L),d(n,E)}function l(n,t,e){r(n,\".\"+E).map(v),r(n,\".\"+L).map(v),e==T?s(t,E):s(t,L)}function g(n){return function(t,r){var e=n*t.str.localeCompare(r.str);return 0==e&&(e=t.index-r.index),e}}function h(n){return function(t,r){var e=+t.str,o=+r.str;return e==o?t.index-r.index:n*(e-o)}}function m(n,t,r){var e=u(n,t),o=e.map(function(n,t){return{str:n,index:t}}),i=e&&-1==e.map(isNaN).indexOf(!0),a=i?h(r):g(r);return o.sort(a),o.map(function(n){return n.index})}function p(n,t,r,o){for(var i=f(o,E)?N:T,u=m(n,r,i),c=0;t>c;++c){var s=e(n,c),d=a(n,c);s.forEach(function(n,t){n.innerHTML=d[u[t]]})}l(n,o,i)}function x(n,t){var r=t.length;t.forEach(function(t,e){t.addEventListener(\"click\",function(){p(n,r,e,t)}),s(t,\"tg-sort-header\")})}var T=1,N=-1,E=\"tg-sort-asc\",L=\"tg-sort-desc\";return function(t){var e=n.getElementById(t),o=r(e,\"tr\"),i=o.length>0?r(o[0],\"td\"):[];0==i.length&&(i=r(o[0],\"th\"));for(var u=1;u<o.length;++u){var a=r(o[u],\"td\");if(a.length!=i.length)return}x(e,i)}}(document);document.addEventListener(\"DOMContentLoaded\",function(n){TgTableSort(\"tg-1e7uy\")});</script>"
     ],
     "language": "python",
     "metadata": {},
     "outputs": [
      {
       "html": [
        "<style type=\"text/css\">\n",
        ".tg  {border-collapse:collapse;border-spacing:0;margin:0px auto;}\n",
        ".tg td{font-family:Arial, sans-serif;font-size:14px;padding:9px 20px;border-style:solid;border-width:0px;overflow:hidden;word-break:normal;border-top-width:1px;border-bottom-width:1px;}\n",
        ".tg th{font-family:Arial, sans-serif;font-size:14px;font-weight:normal;padding:9px 20px;border-style:solid;border-width:0px;overflow:hidden;word-break:normal;border-top-width:1px;border-bottom-width:1px;}\n",
        ".tg .tg-s6z2{text-align:center}\n",
        "th.tg-sort-header::-moz-selection { background:transparent; }th.tg-sort-header::selection      { background:transparent; }th.tg-sort-header { cursor:pointer; }table th.tg-sort-header:after {  content:'';  float:right;  margin-top:7px;  border-width:0 4px 4px;  border-style:solid;  border-color:#404040 transparent;  visibility:hidden;  }table th.tg-sort-header:hover:after {  visibility:visible;  }table th.tg-sort-desc:after,table th.tg-sort-asc:after,table th.tg-sort-asc:hover:after {  visibility:visible;  opacity:0.4;  }table th.tg-sort-desc:after {  border-bottom:none;  border-width:4px 4px 0;  }@media screen and (max-width: 767px) {.tg {width: auto !important;}.tg col {width: auto !important;}.tg-wrap {overflow-x: auto;-webkit-overflow-scrolling: touch;margin: auto 0px;}}</style>\n",
        "<div class=\"tg-wrap\"><table id=\"tg-1e7uy\" class=\"tg\">\n",
        "  <tr>\n",
        "    <th class=\"tg-s6z2\" rowspan=\"2\">Contrast</th>\n",
        "    <th class=\"tg-s6z2\" colspan=\"3\">Center of gravity</th>\n",
        "    <th class=\"tg-s6z2\" rowspan=\"2\">Harvard-Oxford Cortical Atlas</th>\n",
        "    <th class=\"tg-s6z2\" rowspan=\"2\">z-value</th>\n",
        "  </tr>\n",
        "  <tr>\n",
        "    <td class=\"tg-031e\">x</td>\n",
        "    <td class=\"tg-031e\">y</td>\n",
        "    <td class=\"tg-031e\">z</td>\n",
        "  </tr>\n",
        "  <tr>\n",
        "    <td class=\"tg-s6z2\" colspan=\"6\">negative slope forfamiliar &gt; unfamiliar</td>\n",
        "  </tr>\n",
        "  <tr>\n",
        "    <td class=\"tg-s6z2\">1</td>\n",
        "    <td class=\"tg-s6z2\">1.34</td>\n",
        "    <td class=\"tg-s6z2\">-25.83</td>\n",
        "    <td class=\"tg-s6z2\">31.436</td>\n",
        "    <td class=\"tg-031e\">89% Cingulate Gyrus, posterior division<br>5% Cingulate Gyrus, anterior division</td>\n",
        "    <td class=\"tg-s6z2\"></td>\n",
        "  </tr>\n",
        "  <tr>\n",
        "    <td class=\"tg-s6z2\">2</td>\n",
        "    <td class=\"tg-s6z2\">50.03</td>\n",
        "    <td class=\"tg-s6z2\">-54.13</td>\n",
        "    <td class=\"tg-s6z2\">-6.44</td>\n",
        "    <td class=\"tg-031e\">46% Inferior Temporal Gyrus, temporooccipital part<br>14% Middle Temporal Gyrus, temporooccipital part<br>7% Lateral Occipital Gyrus, infirior division</td>\n",
        "    <td class=\"tg-s6z2\"></td>\n",
        "  </tr>\n",
        "  <tr>\n",
        "    <td class=\"tg-s6z2\">3</td>\n",
        "    <td class=\"tg-s6z2\">40.60</td>\n",
        "    <td class=\"tg-s6z2\">25.97</td>\n",
        "    <td class=\"tg-s6z2\">9.48</td>\n",
        "    <td class=\"tg-031e\">21% Frontal Opercular Cortex<br>16% Inferior Frontal Gyrus, pars triangularis<br>5% Inferior Frontal Gyrus, pars opercularis</td>\n",
        "    <td class=\"tg-s6z2\"></td>\n",
        "  </tr>\n",
        "</table></div>\n",
        "<script type=\"text/javascript\" charset=\"utf-8\">var TgTableSort=window.TgTableSort||function(n,t){\"use strict\";function r(n,t){for(var e=[],o=n.childNodes,i=0;i<o.length;++i){var u=o[i];if(\".\"==t.substring(0,1)){var a=t.substring(1);f(u,a)&&e.push(u)}else u.nodeName.toLowerCase()==t&&e.push(u);var c=r(u,t);e=e.concat(c)}return e}function e(n,t){var e=[],o=r(n,\"tr\");return o.forEach(function(n){var o=r(n,\"td\");t>=0&&t<o.length&&e.push(o[t])}),e}function o(n){return n.textContent||n.innerText||\"\"}function i(n){return n.innerHTML||\"\"}function u(n,t){var r=e(n,t);return r.map(o)}function a(n,t){var r=e(n,t);return r.map(i)}function c(n){var t=n.className||\"\";return t.match(/\\S+/g)||[]}function f(n,t){return-1!=c(n).indexOf(t)}function s(n,t){f(n,t)||(n.className+=\" \"+t)}function d(n,t){if(f(n,t)){var r=c(n),e=r.indexOf(t);r.splice(e,1),n.className=r.join(\" \")}}function v(n){d(n,L),d(n,E)}function l(n,t,e){r(n,\".\"+E).map(v),r(n,\".\"+L).map(v),e==T?s(t,E):s(t,L)}function g(n){return function(t,r){var e=n*t.str.localeCompare(r.str);return 0==e&&(e=t.index-r.index),e}}function h(n){return function(t,r){var e=+t.str,o=+r.str;return e==o?t.index-r.index:n*(e-o)}}function m(n,t,r){var e=u(n,t),o=e.map(function(n,t){return{str:n,index:t}}),i=e&&-1==e.map(isNaN).indexOf(!0),a=i?h(r):g(r);return o.sort(a),o.map(function(n){return n.index})}function p(n,t,r,o){for(var i=f(o,E)?N:T,u=m(n,r,i),c=0;t>c;++c){var s=e(n,c),d=a(n,c);s.forEach(function(n,t){n.innerHTML=d[u[t]]})}l(n,o,i)}function x(n,t){var r=t.length;t.forEach(function(t,e){t.addEventListener(\"click\",function(){p(n,r,e,t)}),s(t,\"tg-sort-header\")})}var T=1,N=-1,E=\"tg-sort-asc\",L=\"tg-sort-desc\";return function(t){var e=n.getElementById(t),o=r(e,\"tr\"),i=o.length>0?r(o[0],\"td\"):[];0==i.length&&(i=r(o[0],\"th\"));for(var u=1;u<o.length;++u){var a=r(o[u],\"td\");if(a.length!=i.length)return}x(e,i)}}(document);document.addEventListener(\"DOMContentLoaded\",function(n){TgTableSort(\"tg-1e7uy\")});</script>"
       ],
       "metadata": {},
       "output_type": "display_data",
       "text": [
        "<IPython.core.display.HTML at 0x7f6fbc30ff50>"
       ]
      }
     ],
     "prompt_number": 16
    }
   ],
   "metadata": {}
  }
 ]
}