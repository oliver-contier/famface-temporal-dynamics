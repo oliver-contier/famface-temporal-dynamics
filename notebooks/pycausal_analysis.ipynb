{
 "cells": [
  {
   "cell_type": "markdown",
   "metadata": {},
   "source": [
    "# IMaGES on ROI time series"
   ]
  },
  {
   "cell_type": "code",
   "execution_count": 1,
   "metadata": {
    "collapsed": true
   },
   "outputs": [],
   "source": [
    "import os\n",
    "from os.path import join as pjoin\n",
    "import glob\n",
    "import pandas as pd\n",
    "import numpy as np\n",
    "import pydot\n",
    "from IPython.display import SVG\n",
    "from pycausal import pycausal as pc\n",
    "from pycausal import search as s\n",
    "import networkx as nx\n",
    "from networkx.drawing import nx_pydot\n",
    "import itertools"
   ]
  },
  {
   "cell_type": "code",
   "execution_count": 2,
   "metadata": {
    "collapsed": true
   },
   "outputs": [],
   "source": [
    "def getdfs(csvdir):\n",
    "    \"\"\"give us list of data frames for csv files in directory\"\"\"\n",
    "    dfs = []\n",
    "    for csvfile in glob.glob(csvdir_allruns + os.sep + \"*.csv\"):\n",
    "        df = pd.read_csv(csvfile)\n",
    "        dfs.append(df)\n",
    "    return dfs"
   ]
  },
  {
   "cell_type": "markdown",
   "metadata": {},
   "source": [
    "## Preprocessed BOLD data"
   ]
  },
  {
   "cell_type": "code",
   "execution_count": 3,
   "metadata": {
    "collapsed": true
   },
   "outputs": [],
   "source": [
    "# directory with csv files for roi time series (seperate csv file for each run)\n",
    "csvdir_allruns = pjoin('/host', 'famfaces', 'extract_meants', 'csv', 'allruns')\n",
    "dfs = getdfs(csvdir_allruns)"
   ]
  },
  {
   "cell_type": "code",
   "execution_count": 4,
   "metadata": {
    "collapsed": true
   },
   "outputs": [],
   "source": [
    "# perform images search\n",
    "pc.start_vm() # start\n",
    "images = s.imagesSemBic(dfs, verbose = True)\n",
    "pc.stop_vm() # stop"
   ]
  },
  {
   "cell_type": "code",
   "execution_count": 5,
   "metadata": {
    "collapsed": true
   },
   "outputs": [],
   "source": [
    "# show nodes\n",
    "# images.getNodes()"
   ]
  },
  {
   "cell_type": "code",
   "execution_count": 6,
   "metadata": {
    "collapsed": true
   },
   "outputs": [],
   "source": [
    "# show edges\n",
    "# images.getEdges()"
   ]
  },
  {
   "cell_type": "code",
   "execution_count": 7,
   "metadata": {},
   "outputs": [
    {
     "data": {
      "image/svg+xml": [
       "<svg height=\"908pt\" viewBox=\"0.00 0.00 464.39 908.00\" width=\"464pt\" xmlns=\"http://www.w3.org/2000/svg\" xmlns:xlink=\"http://www.w3.org/1999/xlink\">\n",
       "<g class=\"graph\" id=\"graph0\" transform=\"scale(1 1) rotate(0) translate(4 904)\">\n",
       "<title>G</title>\n",
       "<polygon fill=\"white\" points=\"-4,4 -4,-904 460.39,-904 460.39,4 -4,4\" stroke=\"none\"/>\n",
       "<!-- EV1&#45;L -->\n",
       "<g class=\"node\" id=\"node1\"><title>EV1-L</title>\n",
       "<ellipse cx=\"105.527\" cy=\"-738\" fill=\"none\" rx=\"34.8285\" ry=\"18\" stroke=\"black\"/>\n",
       "<text font-family=\"Times,serif\" font-size=\"14.00\" text-anchor=\"middle\" x=\"105.527\" y=\"-733.8\">EV1-L</text>\n",
       "</g>\n",
       "<!-- EV1&#45;R -->\n",
       "<g class=\"node\" id=\"node2\"><title>EV1-R</title>\n",
       "<ellipse cx=\"128.527\" cy=\"-810\" fill=\"none\" rx=\"35.3216\" ry=\"18\" stroke=\"black\"/>\n",
       "<text font-family=\"Times,serif\" font-size=\"14.00\" text-anchor=\"middle\" x=\"128.527\" y=\"-805.8\">EV1-R</text>\n",
       "</g>\n",
       "<!-- EV1&#45;R&#45;&gt;EV1&#45;L -->\n",
       "<g class=\"edge\" id=\"edge23\"><title>EV1-R-&gt;EV1-L</title>\n",
       "<path d=\"M122.959,-792.055C119.343,-781.049 114.649,-766.764 111.043,-755.789\" fill=\"none\" stroke=\"black\"/>\n",
       "</g>\n",
       "<!-- EV2&#45;L -->\n",
       "<g class=\"node\" id=\"node3\"><title>EV2-L</title>\n",
       "<ellipse cx=\"192.527\" cy=\"-738\" fill=\"none\" rx=\"34.8285\" ry=\"18\" stroke=\"black\"/>\n",
       "<text font-family=\"Times,serif\" font-size=\"14.00\" text-anchor=\"middle\" x=\"192.527\" y=\"-733.8\">EV2-L</text>\n",
       "</g>\n",
       "<!-- EV1&#45;R&#45;&gt;EV2&#45;L -->\n",
       "<g class=\"edge\" id=\"edge24\"><title>EV1-R-&gt;EV2-L</title>\n",
       "<path d=\"M142.731,-793.465C153.337,-781.865 167.767,-766.082 178.363,-754.492\" fill=\"none\" stroke=\"black\"/>\n",
       "</g>\n",
       "<!-- EV2&#45;R -->\n",
       "<g class=\"node\" id=\"node4\"><title>EV2-R</title>\n",
       "<ellipse cx=\"190.527\" cy=\"-666\" fill=\"none\" rx=\"35.3216\" ry=\"18\" stroke=\"black\"/>\n",
       "<text font-family=\"Times,serif\" font-size=\"14.00\" text-anchor=\"middle\" x=\"190.527\" y=\"-661.8\">EV2-R</text>\n",
       "</g>\n",
       "<!-- EV2&#45;L&#45;&gt;EV2&#45;R -->\n",
       "<g class=\"edge\" id=\"edge25\"><title>EV2-L-&gt;EV2-R</title>\n",
       "<path d=\"M192.033,-719.697C191.723,-708.846 191.325,-694.917 191.016,-684.104\" fill=\"none\" stroke=\"black\"/>\n",
       "</g>\n",
       "<!-- OccFus&#45;L -->\n",
       "<g class=\"node\" id=\"node5\"><title>OccFus-L</title>\n",
       "<ellipse cx=\"293.527\" cy=\"-738\" fill=\"none\" rx=\"45.4441\" ry=\"18\" stroke=\"black\"/>\n",
       "<text font-family=\"Times,serif\" font-size=\"14.00\" text-anchor=\"middle\" x=\"293.527\" y=\"-733.8\">OccFus-L</text>\n",
       "</g>\n",
       "<!-- dPreCun&#45;R -->\n",
       "<g class=\"node\" id=\"node26\"><title>dPreCun-R</title>\n",
       "<ellipse cx=\"293.527\" cy=\"-666\" fill=\"none\" rx=\"49.805\" ry=\"18\" stroke=\"black\"/>\n",
       "<text font-family=\"Times,serif\" font-size=\"14.00\" text-anchor=\"middle\" x=\"293.527\" y=\"-661.8\">dPreCun-R</text>\n",
       "</g>\n",
       "<!-- OccFus&#45;L&#45;&gt;dPreCun&#45;R -->\n",
       "<g class=\"edge\" id=\"edge6\"><title>OccFus-L-&gt;dPreCun-R</title>\n",
       "<path d=\"M293.527,-719.697C293.527,-711.983 293.527,-702.712 293.527,-694.112\" fill=\"none\" stroke=\"black\"/>\n",
       "<polygon fill=\"black\" points=\"297.027,-694.104 293.527,-684.104 290.027,-694.104 297.027,-694.104\" stroke=\"black\"/>\n",
       "</g>\n",
       "<!-- OccFus&#45;R -->\n",
       "<g class=\"node\" id=\"node6\"><title>OccFus-R</title>\n",
       "<ellipse cx=\"272.527\" cy=\"-810\" fill=\"none\" rx=\"45.9373\" ry=\"18\" stroke=\"black\"/>\n",
       "<text font-family=\"Times,serif\" font-size=\"14.00\" text-anchor=\"middle\" x=\"272.527\" y=\"-805.8\">OccFus-R</text>\n",
       "</g>\n",
       "<!-- OccFus&#45;R&#45;&gt;EV2&#45;L -->\n",
       "<g class=\"edge\" id=\"edge1\"><title>OccFus-R-&gt;EV2-L</title>\n",
       "<path d=\"M254.374,-793.116C240.913,-781.337 222.69,-765.392 209.514,-753.864\" fill=\"none\" stroke=\"black\"/>\n",
       "</g>\n",
       "<!-- OccFus&#45;R&#45;&gt;OccFus&#45;L -->\n",
       "<g class=\"edge\" id=\"edge13\"><title>OccFus-R-&gt;OccFus-L</title>\n",
       "<path d=\"M277.611,-792.055C279.949,-784.261 282.781,-774.822 285.403,-766.079\" fill=\"none\" stroke=\"black\"/>\n",
       "<polygon fill=\"black\" points=\"288.823,-766.859 288.345,-756.275 282.119,-764.848 288.823,-766.859\" stroke=\"black\"/>\n",
       "</g>\n",
       "<!-- pFus&#45;L -->\n",
       "<g class=\"node\" id=\"node7\"><title>pFus-L</title>\n",
       "<ellipse cx=\"372.527\" cy=\"-810\" fill=\"none\" rx=\"35.8147\" ry=\"18\" stroke=\"black\"/>\n",
       "<text font-family=\"Times,serif\" font-size=\"14.00\" text-anchor=\"middle\" x=\"372.527\" y=\"-805.8\">pFus-L</text>\n",
       "</g>\n",
       "<!-- pFus&#45;L&#45;&gt;OccFus&#45;L -->\n",
       "<g class=\"edge\" id=\"edge26\"><title>pFus-L-&gt;OccFus-L</title>\n",
       "<path d=\"M355.385,-793.811C344.664,-784.311 330.667,-771.909 318.699,-761.304\" fill=\"none\" stroke=\"black\"/>\n",
       "<polygon fill=\"black\" points=\"320.988,-758.656 311.182,-754.644 316.346,-763.896 320.988,-758.656\" stroke=\"black\"/>\n",
       "</g>\n",
       "<!-- mFus&#45;L -->\n",
       "<g class=\"node\" id=\"node9\"><title>mFus-L</title>\n",
       "<ellipse cx=\"397.527\" cy=\"-738\" fill=\"none\" rx=\"38.2284\" ry=\"18\" stroke=\"black\"/>\n",
       "<text font-family=\"Times,serif\" font-size=\"14.00\" text-anchor=\"middle\" x=\"397.527\" y=\"-733.8\">mFus-L</text>\n",
       "</g>\n",
       "<!-- pFus&#45;L&#45;&gt;mFus&#45;L -->\n",
       "<g class=\"edge\" id=\"edge3\"><title>pFus-L-&gt;mFus-L</title>\n",
       "<path d=\"M378.579,-792.055C382.51,-781.049 387.612,-766.764 391.531,-755.789\" fill=\"none\" stroke=\"black\"/>\n",
       "</g>\n",
       "<!-- pFus&#45;R -->\n",
       "<g class=\"node\" id=\"node8\"><title>pFus-R</title>\n",
       "<ellipse cx=\"322.527\" cy=\"-882\" fill=\"none\" rx=\"36.3078\" ry=\"18\" stroke=\"black\"/>\n",
       "<text font-family=\"Times,serif\" font-size=\"14.00\" text-anchor=\"middle\" x=\"322.527\" y=\"-877.8\">pFus-R</text>\n",
       "</g>\n",
       "<!-- pFus&#45;R&#45;&gt;OccFus&#45;R -->\n",
       "<g class=\"edge\" id=\"edge15\"><title>pFus-R-&gt;OccFus-R</title>\n",
       "<path d=\"M310.93,-864.765C302.968,-853.618 292.431,-838.865 284.408,-827.633\" fill=\"none\" stroke=\"black\"/>\n",
       "</g>\n",
       "<!-- pFus&#45;R&#45;&gt;pFus&#45;L -->\n",
       "<g class=\"edge\" id=\"edge4\"><title>pFus-R-&gt;pFus-L</title>\n",
       "<path d=\"M334.124,-864.765C342.201,-853.456 352.929,-838.437 360.993,-827.147\" fill=\"none\" stroke=\"black\"/>\n",
       "</g>\n",
       "<!-- mFus&#45;R -->\n",
       "<g class=\"node\" id=\"node10\"><title>mFus-R</title>\n",
       "<ellipse cx=\"400.527\" cy=\"-666\" fill=\"none\" rx=\"38.7215\" ry=\"18\" stroke=\"black\"/>\n",
       "<text font-family=\"Times,serif\" font-size=\"14.00\" text-anchor=\"middle\" x=\"400.527\" y=\"-661.8\">mFus-R</text>\n",
       "</g>\n",
       "<!-- mFus&#45;L&#45;&gt;mFus&#45;R -->\n",
       "<g class=\"edge\" id=\"edge5\"><title>mFus-L-&gt;mFus-R</title>\n",
       "<path d=\"M398.269,-719.697C398.734,-708.846 399.331,-694.917 399.794,-684.104\" fill=\"none\" stroke=\"black\"/>\n",
       "</g>\n",
       "<!-- pMTG&#45;L -->\n",
       "<g class=\"node\" id=\"node11\"><title>pMTG-L</title>\n",
       "<ellipse cx=\"42.5271\" cy=\"-162\" fill=\"none\" rx=\"42.5542\" ry=\"18\" stroke=\"black\"/>\n",
       "<text font-family=\"Times,serif\" font-size=\"14.00\" text-anchor=\"middle\" x=\"42.5271\" y=\"-157.8\">pMTG-L</text>\n",
       "</g>\n",
       "<!-- pMTG&#45;R -->\n",
       "<g class=\"node\" id=\"node12\"><title>pMTG-R</title>\n",
       "<ellipse cx=\"137.527\" cy=\"-234\" fill=\"none\" rx=\"43.0474\" ry=\"18\" stroke=\"black\"/>\n",
       "<text font-family=\"Times,serif\" font-size=\"14.00\" text-anchor=\"middle\" x=\"137.527\" y=\"-229.8\">pMTG-R</text>\n",
       "</g>\n",
       "<!-- pMTG&#45;R&#45;&gt;pMTG&#45;L -->\n",
       "<g class=\"edge\" id=\"edge12\"><title>pMTG-R-&gt;pMTG-L</title>\n",
       "<path d=\"M116.914,-217.811C103.502,-207.929 85.8263,-194.905 71.0704,-184.032\" fill=\"none\" stroke=\"black\"/>\n",
       "<polygon fill=\"black\" points=\"72.9009,-181.033 62.7741,-177.919 68.7485,-186.669 72.9009,-181.033\" stroke=\"black\"/>\n",
       "</g>\n",
       "<!-- IFG2&#45;R -->\n",
       "<g class=\"node\" id=\"node20\"><title>IFG2-R</title>\n",
       "<ellipse cx=\"140.527\" cy=\"-162\" fill=\"none\" rx=\"37.7439\" ry=\"18\" stroke=\"black\"/>\n",
       "<text font-family=\"Times,serif\" font-size=\"14.00\" text-anchor=\"middle\" x=\"140.527\" y=\"-157.8\">IFG2-R</text>\n",
       "</g>\n",
       "<!-- pMTG&#45;R&#45;&gt;IFG2&#45;R -->\n",
       "<g class=\"edge\" id=\"edge7\"><title>pMTG-R-&gt;IFG2-R</title>\n",
       "<path d=\"M138.269,-215.697C138.599,-207.983 138.997,-198.712 139.365,-190.112\" fill=\"none\" stroke=\"black\"/>\n",
       "<polygon fill=\"black\" points=\"142.863,-190.245 139.794,-180.104 135.869,-189.945 142.863,-190.245\" stroke=\"black\"/>\n",
       "</g>\n",
       "<!-- aFus&#45;R -->\n",
       "<g class=\"node\" id=\"node13\"><title>aFus-R</title>\n",
       "<ellipse cx=\"412.527\" cy=\"-882\" fill=\"none\" rx=\"35.8147\" ry=\"18\" stroke=\"black\"/>\n",
       "<text font-family=\"Times,serif\" font-size=\"14.00\" text-anchor=\"middle\" x=\"412.527\" y=\"-877.8\">aFus-R</text>\n",
       "</g>\n",
       "<!-- mMTG&#45;L -->\n",
       "<g class=\"node\" id=\"node14\"><title>mMTG-L</title>\n",
       "<ellipse cx=\"289.527\" cy=\"-378\" fill=\"none\" rx=\"44.9682\" ry=\"18\" stroke=\"black\"/>\n",
       "<text font-family=\"Times,serif\" font-size=\"14.00\" text-anchor=\"middle\" x=\"289.527\" y=\"-373.8\">mMTG-L</text>\n",
       "</g>\n",
       "<!-- mMTG&#45;R -->\n",
       "<g class=\"node\" id=\"node15\"><title>mMTG-R</title>\n",
       "<ellipse cx=\"239.527\" cy=\"-306\" fill=\"none\" rx=\"45.4614\" ry=\"18\" stroke=\"black\"/>\n",
       "<text font-family=\"Times,serif\" font-size=\"14.00\" text-anchor=\"middle\" x=\"239.527\" y=\"-301.8\">mMTG-R</text>\n",
       "</g>\n",
       "<!-- mMTG&#45;L&#45;&gt;mMTG&#45;R -->\n",
       "<g class=\"edge\" id=\"edge14\"><title>mMTG-L-&gt;mMTG-R</title>\n",
       "<path d=\"M277.678,-360.411C271.575,-351.868 264.012,-341.278 257.232,-331.787\" fill=\"none\" stroke=\"black\"/>\n",
       "<polygon fill=\"black\" points=\"259.952,-329.573 251.291,-323.47 254.256,-333.642 259.952,-329.573\" stroke=\"black\"/>\n",
       "</g>\n",
       "<!-- IFG1&#45;L -->\n",
       "<g class=\"node\" id=\"node18\"><title>IFG1-L</title>\n",
       "<ellipse cx=\"340.527\" cy=\"-306\" fill=\"none\" rx=\"37.2507\" ry=\"18\" stroke=\"black\"/>\n",
       "<text font-family=\"Times,serif\" font-size=\"14.00\" text-anchor=\"middle\" x=\"340.527\" y=\"-301.8\">IFG1-L</text>\n",
       "</g>\n",
       "<!-- mMTG&#45;L&#45;&gt;IFG1&#45;L -->\n",
       "<g class=\"edge\" id=\"edge19\"><title>mMTG-L-&gt;IFG1-L</title>\n",
       "<path d=\"M301.613,-360.411C307.838,-351.868 315.553,-341.278 322.468,-331.787\" fill=\"none\" stroke=\"black\"/>\n",
       "<polygon fill=\"black\" points=\"325.468,-333.613 328.528,-323.47 319.81,-329.491 325.468,-333.613\" stroke=\"black\"/>\n",
       "</g>\n",
       "<!-- mMTG&#45;R&#45;&gt;pMTG&#45;R -->\n",
       "<g class=\"edge\" id=\"edge21\"><title>mMTG-R-&gt;pMTG-R</title>\n",
       "<path d=\"M217.896,-290.155C203.29,-280.132 183.811,-266.763 167.687,-255.698\" fill=\"none\" stroke=\"black\"/>\n",
       "<polygon fill=\"black\" points=\"169.353,-252.596 159.127,-249.824 165.392,-258.368 169.353,-252.596\" stroke=\"black\"/>\n",
       "</g>\n",
       "<!-- aMTG&#45;R -->\n",
       "<g class=\"node\" id=\"node17\"><title>aMTG-R</title>\n",
       "<ellipse cx=\"241.527\" cy=\"-234\" fill=\"none\" rx=\"42.5542\" ry=\"18\" stroke=\"black\"/>\n",
       "<text font-family=\"Times,serif\" font-size=\"14.00\" text-anchor=\"middle\" x=\"241.527\" y=\"-229.8\">aMTG-R</text>\n",
       "</g>\n",
       "<!-- mMTG&#45;R&#45;&gt;aMTG&#45;R -->\n",
       "<g class=\"edge\" id=\"edge27\"><title>mMTG-R-&gt;aMTG-R</title>\n",
       "<path d=\"M240.021,-287.697C240.242,-279.983 240.507,-270.712 240.752,-262.112\" fill=\"none\" stroke=\"black\"/>\n",
       "<polygon fill=\"black\" points=\"244.251,-262.2 241.038,-252.104 237.254,-262 244.251,-262.2\" stroke=\"black\"/>\n",
       "</g>\n",
       "<!-- aMTG&#45;L -->\n",
       "<g class=\"node\" id=\"node16\"><title>aMTG-L</title>\n",
       "<ellipse cx=\"241.527\" cy=\"-162\" fill=\"none\" rx=\"42.0611\" ry=\"18\" stroke=\"black\"/>\n",
       "<text font-family=\"Times,serif\" font-size=\"14.00\" text-anchor=\"middle\" x=\"241.527\" y=\"-157.8\">aMTG-L</text>\n",
       "</g>\n",
       "<!-- aMTG&#45;R&#45;&gt;aMTG&#45;L -->\n",
       "<g class=\"edge\" id=\"edge9\"><title>aMTG-R-&gt;aMTG-L</title>\n",
       "<path d=\"M241.527,-215.697C241.527,-207.983 241.527,-198.712 241.527,-190.112\" fill=\"none\" stroke=\"black\"/>\n",
       "<polygon fill=\"black\" points=\"245.027,-190.104 241.527,-180.104 238.027,-190.104 245.027,-190.104\" stroke=\"black\"/>\n",
       "</g>\n",
       "<!-- IFG2&#45;L -->\n",
       "<g class=\"node\" id=\"node19\"><title>IFG2-L</title>\n",
       "<ellipse cx=\"340.527\" cy=\"-234\" fill=\"none\" rx=\"37.2507\" ry=\"18\" stroke=\"black\"/>\n",
       "<text font-family=\"Times,serif\" font-size=\"14.00\" text-anchor=\"middle\" x=\"340.527\" y=\"-229.8\">IFG2-L</text>\n",
       "</g>\n",
       "<!-- IFG1&#45;L&#45;&gt;IFG2&#45;L -->\n",
       "<g class=\"edge\" id=\"edge10\"><title>IFG1-L-&gt;IFG2-L</title>\n",
       "<path d=\"M340.527,-287.697C340.527,-279.983 340.527,-270.712 340.527,-262.112\" fill=\"none\" stroke=\"black\"/>\n",
       "<polygon fill=\"black\" points=\"344.027,-262.104 340.527,-252.104 337.027,-262.104 344.027,-262.104\" stroke=\"black\"/>\n",
       "</g>\n",
       "<!-- MPFC&#45;R -->\n",
       "<g class=\"node\" id=\"node24\"><title>MPFC-R</title>\n",
       "<ellipse cx=\"140.527\" cy=\"-90\" fill=\"none\" rx=\"42.5974\" ry=\"18\" stroke=\"black\"/>\n",
       "<text font-family=\"Times,serif\" font-size=\"14.00\" text-anchor=\"middle\" x=\"140.527\" y=\"-85.8\">MPFC-R</text>\n",
       "</g>\n",
       "<!-- IFG2&#45;R&#45;&gt;MPFC&#45;R -->\n",
       "<g class=\"edge\" id=\"edge18\"><title>IFG2-R-&gt;MPFC-R</title>\n",
       "<path d=\"M140.527,-143.697C140.527,-135.983 140.527,-126.712 140.527,-118.112\" fill=\"none\" stroke=\"black\"/>\n",
       "<polygon fill=\"black\" points=\"144.027,-118.104 140.527,-108.104 137.027,-118.104 144.027,-118.104\" stroke=\"black\"/>\n",
       "</g>\n",
       "<!-- TPJ&#45;L -->\n",
       "<g class=\"node\" id=\"node21\"><title>TPJ-L</title>\n",
       "<ellipse cx=\"303.527\" cy=\"-450\" fill=\"none\" rx=\"32.4324\" ry=\"18\" stroke=\"black\"/>\n",
       "<text font-family=\"Times,serif\" font-size=\"14.00\" text-anchor=\"middle\" x=\"303.527\" y=\"-445.8\">TPJ-L</text>\n",
       "</g>\n",
       "<!-- TPJ&#45;L&#45;&gt;mMTG&#45;L -->\n",
       "<g class=\"edge\" id=\"edge8\"><title>TPJ-L-&gt;mMTG-L</title>\n",
       "<path d=\"M300.138,-432.055C298.596,-424.346 296.732,-415.027 295,-406.364\" fill=\"none\" stroke=\"black\"/>\n",
       "<polygon fill=\"black\" points=\"298.375,-405.395 292.982,-396.275 291.511,-406.768 298.375,-405.395\" stroke=\"black\"/>\n",
       "</g>\n",
       "<!-- mPreCun&#45;L -->\n",
       "<g class=\"node\" id=\"node27\"><title>mPreCun-L</title>\n",
       "<ellipse cx=\"404.527\" cy=\"-378\" fill=\"none\" rx=\"51.726\" ry=\"18\" stroke=\"black\"/>\n",
       "<text font-family=\"Times,serif\" font-size=\"14.00\" text-anchor=\"middle\" x=\"404.527\" y=\"-373.8\">mPreCun-L</text>\n",
       "</g>\n",
       "<!-- TPJ&#45;L&#45;&gt;mPreCun&#45;L -->\n",
       "<g class=\"edge\" id=\"edge30\"><title>TPJ-L-&gt;mPreCun-L</title>\n",
       "<path d=\"M323.001,-435.503C337.45,-425.489 357.432,-411.64 373.996,-400.16\" fill=\"none\" stroke=\"black\"/>\n",
       "<polygon fill=\"black\" points=\"376.074,-402.978 382.3,-394.405 372.087,-397.225 376.074,-402.978\" stroke=\"black\"/>\n",
       "</g>\n",
       "<!-- TPJ&#45;R -->\n",
       "<g class=\"node\" id=\"node22\"><title>TPJ-R</title>\n",
       "<ellipse cx=\"303.527\" cy=\"-522\" fill=\"none\" rx=\"32.9255\" ry=\"18\" stroke=\"black\"/>\n",
       "<text font-family=\"Times,serif\" font-size=\"14.00\" text-anchor=\"middle\" x=\"303.527\" y=\"-517.8\">TPJ-R</text>\n",
       "</g>\n",
       "<!-- TPJ&#45;R&#45;&gt;TPJ&#45;L -->\n",
       "<g class=\"edge\" id=\"edge20\"><title>TPJ-R-&gt;TPJ-L</title>\n",
       "<path d=\"M303.527,-503.697C303.527,-495.983 303.527,-486.712 303.527,-478.112\" fill=\"none\" stroke=\"black\"/>\n",
       "<polygon fill=\"black\" points=\"307.027,-478.104 303.527,-468.104 300.027,-478.104 307.027,-478.104\" stroke=\"black\"/>\n",
       "</g>\n",
       "<!-- MPFC&#45;L -->\n",
       "<g class=\"node\" id=\"node23\"><title>MPFC-L</title>\n",
       "<ellipse cx=\"140.527\" cy=\"-18\" fill=\"none\" rx=\"42.1043\" ry=\"18\" stroke=\"black\"/>\n",
       "<text font-family=\"Times,serif\" font-size=\"14.00\" text-anchor=\"middle\" x=\"140.527\" y=\"-13.8\">MPFC-L</text>\n",
       "</g>\n",
       "<!-- MPFC&#45;R&#45;&gt;MPFC&#45;L -->\n",
       "<g class=\"edge\" id=\"edge11\"><title>MPFC-R-&gt;MPFC-L</title>\n",
       "<path d=\"M140.527,-71.6966C140.527,-63.9827 140.527,-54.7125 140.527,-46.1124\" fill=\"none\" stroke=\"black\"/>\n",
       "<polygon fill=\"black\" points=\"144.027,-46.1043 140.527,-36.1043 137.027,-46.1044 144.027,-46.1043\" stroke=\"black\"/>\n",
       "</g>\n",
       "<!-- dPreCun&#45;L -->\n",
       "<g class=\"node\" id=\"node25\"><title>dPreCun-L</title>\n",
       "<ellipse cx=\"233.527\" cy=\"-594\" fill=\"none\" rx=\"49.3119\" ry=\"18\" stroke=\"black\"/>\n",
       "<text font-family=\"Times,serif\" font-size=\"14.00\" text-anchor=\"middle\" x=\"233.527\" y=\"-589.8\">dPreCun-L</text>\n",
       "</g>\n",
       "<!-- dPreCun&#45;R&#45;&gt;dPreCun&#45;L -->\n",
       "<g class=\"edge\" id=\"edge29\"><title>dPreCun-R-&gt;dPreCun-L</title>\n",
       "<path d=\"M279.308,-648.411C271.836,-639.693 262.537,-628.845 254.277,-619.208\" fill=\"none\" stroke=\"black\"/>\n",
       "<polygon fill=\"black\" points=\"256.81,-616.785 247.644,-611.47 251.495,-621.34 256.81,-616.785\" stroke=\"black\"/>\n",
       "</g>\n",
       "<!-- mPreCun&#45;R -->\n",
       "<g class=\"node\" id=\"node28\"><title>mPreCun-R</title>\n",
       "<ellipse cx=\"353.527\" cy=\"-594\" fill=\"none\" rx=\"52.2192\" ry=\"18\" stroke=\"black\"/>\n",
       "<text font-family=\"Times,serif\" font-size=\"14.00\" text-anchor=\"middle\" x=\"353.527\" y=\"-589.8\">mPreCun-R</text>\n",
       "</g>\n",
       "<!-- dPreCun&#45;R&#45;&gt;mPreCun&#45;R -->\n",
       "<g class=\"edge\" id=\"edge16\"><title>dPreCun-R-&gt;mPreCun-R</title>\n",
       "<path d=\"M307.746,-648.411C315.219,-639.693 324.517,-628.845 332.778,-619.208\" fill=\"none\" stroke=\"black\"/>\n",
       "<polygon fill=\"black\" points=\"335.559,-621.34 339.41,-611.47 330.245,-616.785 335.559,-621.34\" stroke=\"black\"/>\n",
       "</g>\n",
       "<!-- mPreCun&#45;R&#45;&gt;TPJ&#45;R -->\n",
       "<g class=\"edge\" id=\"edge28\"><title>mPreCun-R-&gt;TPJ-R</title>\n",
       "<path d=\"M341.678,-576.411C335.487,-567.744 327.792,-556.971 320.938,-547.375\" fill=\"none\" stroke=\"black\"/>\n",
       "<polygon fill=\"black\" points=\"323.608,-545.091 314.947,-538.988 317.912,-549.16 323.608,-545.091\" stroke=\"black\"/>\n",
       "</g>\n",
       "<!-- vPreCun&#45;R -->\n",
       "<g class=\"node\" id=\"node30\"><title>vPreCun-R</title>\n",
       "<ellipse cx=\"404.527\" cy=\"-522\" fill=\"none\" rx=\"49.805\" ry=\"18\" stroke=\"black\"/>\n",
       "<text font-family=\"Times,serif\" font-size=\"14.00\" text-anchor=\"middle\" x=\"404.527\" y=\"-517.8\">vPreCun-R</text>\n",
       "</g>\n",
       "<!-- mPreCun&#45;R&#45;&gt;vPreCun&#45;R -->\n",
       "<g class=\"edge\" id=\"edge17\"><title>mPreCun-R-&gt;vPreCun-R</title>\n",
       "<path d=\"M365.613,-576.411C371.748,-567.992 379.329,-557.585 386.167,-548.201\" fill=\"none\" stroke=\"black\"/>\n",
       "<polygon fill=\"black\" points=\"389.114,-550.1 392.173,-539.956 383.456,-545.978 389.114,-550.1\" stroke=\"black\"/>\n",
       "</g>\n",
       "<!-- vPreCun&#45;L -->\n",
       "<g class=\"node\" id=\"node29\"><title>vPreCun-L</title>\n",
       "<ellipse cx=\"404.527\" cy=\"-450\" fill=\"none\" rx=\"49.3119\" ry=\"18\" stroke=\"black\"/>\n",
       "<text font-family=\"Times,serif\" font-size=\"14.00\" text-anchor=\"middle\" x=\"404.527\" y=\"-445.8\">vPreCun-L</text>\n",
       "</g>\n",
       "<!-- vPreCun&#45;L&#45;&gt;mPreCun&#45;L -->\n",
       "<g class=\"edge\" id=\"edge22\"><title>vPreCun-L-&gt;mPreCun-L</title>\n",
       "<path d=\"M404.527,-431.697C404.527,-423.983 404.527,-414.712 404.527,-406.112\" fill=\"none\" stroke=\"black\"/>\n",
       "<polygon fill=\"black\" points=\"408.027,-406.104 404.527,-396.104 401.027,-406.104 408.027,-406.104\" stroke=\"black\"/>\n",
       "</g>\n",
       "<!-- vPreCun&#45;R&#45;&gt;vPreCun&#45;L -->\n",
       "<g class=\"edge\" id=\"edge2\"><title>vPreCun-R-&gt;vPreCun-L</title>\n",
       "<path d=\"M404.527,-503.697C404.527,-495.983 404.527,-486.712 404.527,-478.112\" fill=\"none\" stroke=\"black\"/>\n",
       "<polygon fill=\"black\" points=\"408.027,-478.104 404.527,-468.104 401.027,-478.104 408.027,-478.104\" stroke=\"black\"/>\n",
       "</g>\n",
       "</g>\n",
       "</svg>"
      ],
      "text/plain": [
       "<IPython.core.display.SVG object>"
      ]
     },
     "execution_count": 7,
     "metadata": {},
     "output_type": "execute_result"
    }
   ],
   "source": [
    "# render resulting graph\n",
    "dot = images.getDot()\n",
    "svg_str = dot.create_svg(prog='dot')\n",
    "SVG(svg_str)"
   ]
  },
  {
   "cell_type": "markdown",
   "metadata": {},
   "source": [
    "## Residuals 1"
   ]
  },
  {
   "cell_type": "markdown",
   "metadata": {},
   "source": [
    "From a nuisance model with motion parameters, outliers, and button press as regressors."
   ]
  },
  {
   "cell_type": "code",
   "execution_count": 8,
   "metadata": {
    "collapsed": true
   },
   "outputs": [],
   "source": [
    "# nuisance data with button press\n",
    "dfs_nb = getdfs(pjoin('/host', 'famfaces', 'extract_meants_nuisance_button', 'csv', 'run*'))"
   ]
  },
  {
   "cell_type": "code",
   "execution_count": 9,
   "metadata": {
    "collapsed": true
   },
   "outputs": [],
   "source": [
    "# perform images search\n",
    "pc.start_vm() # start\n",
    "images_nb = s.imagesSemBic(dfs_nb, verbose = True)\n",
    "pc.stop_vm() # stop"
   ]
  },
  {
   "cell_type": "code",
   "execution_count": 10,
   "metadata": {
    "collapsed": true
   },
   "outputs": [],
   "source": [
    "# nodes and edges\n",
    "# images_nb.getNodes()\n",
    "# images_nb.getEdges()  "
   ]
  },
  {
   "cell_type": "code",
   "execution_count": 11,
   "metadata": {},
   "outputs": [
    {
     "data": {
      "image/svg+xml": [
       "<svg height=\"908pt\" viewBox=\"0.00 0.00 464.39 908.00\" width=\"464pt\" xmlns=\"http://www.w3.org/2000/svg\" xmlns:xlink=\"http://www.w3.org/1999/xlink\">\n",
       "<g class=\"graph\" id=\"graph0\" transform=\"scale(1 1) rotate(0) translate(4 904)\">\n",
       "<title>G</title>\n",
       "<polygon fill=\"white\" points=\"-4,4 -4,-904 460.39,-904 460.39,4 -4,4\" stroke=\"none\"/>\n",
       "<!-- EV1&#45;L -->\n",
       "<g class=\"node\" id=\"node1\"><title>EV1-L</title>\n",
       "<ellipse cx=\"105.527\" cy=\"-738\" fill=\"none\" rx=\"34.8285\" ry=\"18\" stroke=\"black\"/>\n",
       "<text font-family=\"Times,serif\" font-size=\"14.00\" text-anchor=\"middle\" x=\"105.527\" y=\"-733.8\">EV1-L</text>\n",
       "</g>\n",
       "<!-- EV1&#45;R -->\n",
       "<g class=\"node\" id=\"node2\"><title>EV1-R</title>\n",
       "<ellipse cx=\"128.527\" cy=\"-810\" fill=\"none\" rx=\"35.3216\" ry=\"18\" stroke=\"black\"/>\n",
       "<text font-family=\"Times,serif\" font-size=\"14.00\" text-anchor=\"middle\" x=\"128.527\" y=\"-805.8\">EV1-R</text>\n",
       "</g>\n",
       "<!-- EV1&#45;R&#45;&gt;EV1&#45;L -->\n",
       "<g class=\"edge\" id=\"edge23\"><title>EV1-R-&gt;EV1-L</title>\n",
       "<path d=\"M122.959,-792.055C119.343,-781.049 114.649,-766.764 111.043,-755.789\" fill=\"none\" stroke=\"black\"/>\n",
       "</g>\n",
       "<!-- EV2&#45;L -->\n",
       "<g class=\"node\" id=\"node3\"><title>EV2-L</title>\n",
       "<ellipse cx=\"192.527\" cy=\"-738\" fill=\"none\" rx=\"34.8285\" ry=\"18\" stroke=\"black\"/>\n",
       "<text font-family=\"Times,serif\" font-size=\"14.00\" text-anchor=\"middle\" x=\"192.527\" y=\"-733.8\">EV2-L</text>\n",
       "</g>\n",
       "<!-- EV1&#45;R&#45;&gt;EV2&#45;L -->\n",
       "<g class=\"edge\" id=\"edge24\"><title>EV1-R-&gt;EV2-L</title>\n",
       "<path d=\"M142.731,-793.465C153.337,-781.865 167.767,-766.082 178.363,-754.492\" fill=\"none\" stroke=\"black\"/>\n",
       "</g>\n",
       "<!-- EV2&#45;R -->\n",
       "<g class=\"node\" id=\"node4\"><title>EV2-R</title>\n",
       "<ellipse cx=\"190.527\" cy=\"-666\" fill=\"none\" rx=\"35.3216\" ry=\"18\" stroke=\"black\"/>\n",
       "<text font-family=\"Times,serif\" font-size=\"14.00\" text-anchor=\"middle\" x=\"190.527\" y=\"-661.8\">EV2-R</text>\n",
       "</g>\n",
       "<!-- EV2&#45;L&#45;&gt;EV2&#45;R -->\n",
       "<g class=\"edge\" id=\"edge25\"><title>EV2-L-&gt;EV2-R</title>\n",
       "<path d=\"M192.033,-719.697C191.723,-708.846 191.325,-694.917 191.016,-684.104\" fill=\"none\" stroke=\"black\"/>\n",
       "</g>\n",
       "<!-- OccFus&#45;L -->\n",
       "<g class=\"node\" id=\"node5\"><title>OccFus-L</title>\n",
       "<ellipse cx=\"293.527\" cy=\"-738\" fill=\"none\" rx=\"45.4441\" ry=\"18\" stroke=\"black\"/>\n",
       "<text font-family=\"Times,serif\" font-size=\"14.00\" text-anchor=\"middle\" x=\"293.527\" y=\"-733.8\">OccFus-L</text>\n",
       "</g>\n",
       "<!-- dPreCun&#45;R -->\n",
       "<g class=\"node\" id=\"node26\"><title>dPreCun-R</title>\n",
       "<ellipse cx=\"293.527\" cy=\"-666\" fill=\"none\" rx=\"49.805\" ry=\"18\" stroke=\"black\"/>\n",
       "<text font-family=\"Times,serif\" font-size=\"14.00\" text-anchor=\"middle\" x=\"293.527\" y=\"-661.8\">dPreCun-R</text>\n",
       "</g>\n",
       "<!-- OccFus&#45;L&#45;&gt;dPreCun&#45;R -->\n",
       "<g class=\"edge\" id=\"edge6\"><title>OccFus-L-&gt;dPreCun-R</title>\n",
       "<path d=\"M293.527,-719.697C293.527,-711.983 293.527,-702.712 293.527,-694.112\" fill=\"none\" stroke=\"black\"/>\n",
       "<polygon fill=\"black\" points=\"297.027,-694.104 293.527,-684.104 290.027,-694.104 297.027,-694.104\" stroke=\"black\"/>\n",
       "</g>\n",
       "<!-- OccFus&#45;R -->\n",
       "<g class=\"node\" id=\"node6\"><title>OccFus-R</title>\n",
       "<ellipse cx=\"272.527\" cy=\"-810\" fill=\"none\" rx=\"45.9373\" ry=\"18\" stroke=\"black\"/>\n",
       "<text font-family=\"Times,serif\" font-size=\"14.00\" text-anchor=\"middle\" x=\"272.527\" y=\"-805.8\">OccFus-R</text>\n",
       "</g>\n",
       "<!-- OccFus&#45;R&#45;&gt;EV2&#45;L -->\n",
       "<g class=\"edge\" id=\"edge1\"><title>OccFus-R-&gt;EV2-L</title>\n",
       "<path d=\"M254.374,-793.116C240.913,-781.337 222.69,-765.392 209.514,-753.864\" fill=\"none\" stroke=\"black\"/>\n",
       "</g>\n",
       "<!-- OccFus&#45;R&#45;&gt;OccFus&#45;L -->\n",
       "<g class=\"edge\" id=\"edge13\"><title>OccFus-R-&gt;OccFus-L</title>\n",
       "<path d=\"M277.611,-792.055C279.949,-784.261 282.781,-774.822 285.403,-766.079\" fill=\"none\" stroke=\"black\"/>\n",
       "<polygon fill=\"black\" points=\"288.823,-766.859 288.345,-756.275 282.119,-764.848 288.823,-766.859\" stroke=\"black\"/>\n",
       "</g>\n",
       "<!-- pFus&#45;L -->\n",
       "<g class=\"node\" id=\"node7\"><title>pFus-L</title>\n",
       "<ellipse cx=\"372.527\" cy=\"-810\" fill=\"none\" rx=\"35.8147\" ry=\"18\" stroke=\"black\"/>\n",
       "<text font-family=\"Times,serif\" font-size=\"14.00\" text-anchor=\"middle\" x=\"372.527\" y=\"-805.8\">pFus-L</text>\n",
       "</g>\n",
       "<!-- pFus&#45;L&#45;&gt;OccFus&#45;L -->\n",
       "<g class=\"edge\" id=\"edge26\"><title>pFus-L-&gt;OccFus-L</title>\n",
       "<path d=\"M355.385,-793.811C344.664,-784.311 330.667,-771.909 318.699,-761.304\" fill=\"none\" stroke=\"black\"/>\n",
       "<polygon fill=\"black\" points=\"320.988,-758.656 311.182,-754.644 316.346,-763.896 320.988,-758.656\" stroke=\"black\"/>\n",
       "</g>\n",
       "<!-- mFus&#45;L -->\n",
       "<g class=\"node\" id=\"node9\"><title>mFus-L</title>\n",
       "<ellipse cx=\"397.527\" cy=\"-738\" fill=\"none\" rx=\"38.2284\" ry=\"18\" stroke=\"black\"/>\n",
       "<text font-family=\"Times,serif\" font-size=\"14.00\" text-anchor=\"middle\" x=\"397.527\" y=\"-733.8\">mFus-L</text>\n",
       "</g>\n",
       "<!-- pFus&#45;L&#45;&gt;mFus&#45;L -->\n",
       "<g class=\"edge\" id=\"edge3\"><title>pFus-L-&gt;mFus-L</title>\n",
       "<path d=\"M378.579,-792.055C382.51,-781.049 387.612,-766.764 391.531,-755.789\" fill=\"none\" stroke=\"black\"/>\n",
       "</g>\n",
       "<!-- pFus&#45;R -->\n",
       "<g class=\"node\" id=\"node8\"><title>pFus-R</title>\n",
       "<ellipse cx=\"322.527\" cy=\"-882\" fill=\"none\" rx=\"36.3078\" ry=\"18\" stroke=\"black\"/>\n",
       "<text font-family=\"Times,serif\" font-size=\"14.00\" text-anchor=\"middle\" x=\"322.527\" y=\"-877.8\">pFus-R</text>\n",
       "</g>\n",
       "<!-- pFus&#45;R&#45;&gt;OccFus&#45;R -->\n",
       "<g class=\"edge\" id=\"edge15\"><title>pFus-R-&gt;OccFus-R</title>\n",
       "<path d=\"M310.93,-864.765C302.968,-853.618 292.431,-838.865 284.408,-827.633\" fill=\"none\" stroke=\"black\"/>\n",
       "</g>\n",
       "<!-- pFus&#45;R&#45;&gt;pFus&#45;L -->\n",
       "<g class=\"edge\" id=\"edge4\"><title>pFus-R-&gt;pFus-L</title>\n",
       "<path d=\"M334.124,-864.765C342.201,-853.456 352.929,-838.437 360.993,-827.147\" fill=\"none\" stroke=\"black\"/>\n",
       "</g>\n",
       "<!-- mFus&#45;R -->\n",
       "<g class=\"node\" id=\"node10\"><title>mFus-R</title>\n",
       "<ellipse cx=\"400.527\" cy=\"-666\" fill=\"none\" rx=\"38.7215\" ry=\"18\" stroke=\"black\"/>\n",
       "<text font-family=\"Times,serif\" font-size=\"14.00\" text-anchor=\"middle\" x=\"400.527\" y=\"-661.8\">mFus-R</text>\n",
       "</g>\n",
       "<!-- mFus&#45;L&#45;&gt;mFus&#45;R -->\n",
       "<g class=\"edge\" id=\"edge5\"><title>mFus-L-&gt;mFus-R</title>\n",
       "<path d=\"M398.269,-719.697C398.734,-708.846 399.331,-694.917 399.794,-684.104\" fill=\"none\" stroke=\"black\"/>\n",
       "</g>\n",
       "<!-- pMTG&#45;L -->\n",
       "<g class=\"node\" id=\"node11\"><title>pMTG-L</title>\n",
       "<ellipse cx=\"42.5271\" cy=\"-162\" fill=\"none\" rx=\"42.5542\" ry=\"18\" stroke=\"black\"/>\n",
       "<text font-family=\"Times,serif\" font-size=\"14.00\" text-anchor=\"middle\" x=\"42.5271\" y=\"-157.8\">pMTG-L</text>\n",
       "</g>\n",
       "<!-- pMTG&#45;R -->\n",
       "<g class=\"node\" id=\"node12\"><title>pMTG-R</title>\n",
       "<ellipse cx=\"137.527\" cy=\"-234\" fill=\"none\" rx=\"43.0474\" ry=\"18\" stroke=\"black\"/>\n",
       "<text font-family=\"Times,serif\" font-size=\"14.00\" text-anchor=\"middle\" x=\"137.527\" y=\"-229.8\">pMTG-R</text>\n",
       "</g>\n",
       "<!-- pMTG&#45;R&#45;&gt;pMTG&#45;L -->\n",
       "<g class=\"edge\" id=\"edge12\"><title>pMTG-R-&gt;pMTG-L</title>\n",
       "<path d=\"M116.914,-217.811C103.502,-207.929 85.8263,-194.905 71.0704,-184.032\" fill=\"none\" stroke=\"black\"/>\n",
       "<polygon fill=\"black\" points=\"72.9009,-181.033 62.7741,-177.919 68.7485,-186.669 72.9009,-181.033\" stroke=\"black\"/>\n",
       "</g>\n",
       "<!-- IFG2&#45;R -->\n",
       "<g class=\"node\" id=\"node20\"><title>IFG2-R</title>\n",
       "<ellipse cx=\"140.527\" cy=\"-162\" fill=\"none\" rx=\"37.7439\" ry=\"18\" stroke=\"black\"/>\n",
       "<text font-family=\"Times,serif\" font-size=\"14.00\" text-anchor=\"middle\" x=\"140.527\" y=\"-157.8\">IFG2-R</text>\n",
       "</g>\n",
       "<!-- pMTG&#45;R&#45;&gt;IFG2&#45;R -->\n",
       "<g class=\"edge\" id=\"edge7\"><title>pMTG-R-&gt;IFG2-R</title>\n",
       "<path d=\"M138.269,-215.697C138.599,-207.983 138.997,-198.712 139.365,-190.112\" fill=\"none\" stroke=\"black\"/>\n",
       "<polygon fill=\"black\" points=\"142.863,-190.245 139.794,-180.104 135.869,-189.945 142.863,-190.245\" stroke=\"black\"/>\n",
       "</g>\n",
       "<!-- aFus&#45;R -->\n",
       "<g class=\"node\" id=\"node13\"><title>aFus-R</title>\n",
       "<ellipse cx=\"412.527\" cy=\"-882\" fill=\"none\" rx=\"35.8147\" ry=\"18\" stroke=\"black\"/>\n",
       "<text font-family=\"Times,serif\" font-size=\"14.00\" text-anchor=\"middle\" x=\"412.527\" y=\"-877.8\">aFus-R</text>\n",
       "</g>\n",
       "<!-- mMTG&#45;L -->\n",
       "<g class=\"node\" id=\"node14\"><title>mMTG-L</title>\n",
       "<ellipse cx=\"289.527\" cy=\"-378\" fill=\"none\" rx=\"44.9682\" ry=\"18\" stroke=\"black\"/>\n",
       "<text font-family=\"Times,serif\" font-size=\"14.00\" text-anchor=\"middle\" x=\"289.527\" y=\"-373.8\">mMTG-L</text>\n",
       "</g>\n",
       "<!-- mMTG&#45;R -->\n",
       "<g class=\"node\" id=\"node15\"><title>mMTG-R</title>\n",
       "<ellipse cx=\"239.527\" cy=\"-306\" fill=\"none\" rx=\"45.4614\" ry=\"18\" stroke=\"black\"/>\n",
       "<text font-family=\"Times,serif\" font-size=\"14.00\" text-anchor=\"middle\" x=\"239.527\" y=\"-301.8\">mMTG-R</text>\n",
       "</g>\n",
       "<!-- mMTG&#45;L&#45;&gt;mMTG&#45;R -->\n",
       "<g class=\"edge\" id=\"edge14\"><title>mMTG-L-&gt;mMTG-R</title>\n",
       "<path d=\"M277.678,-360.411C271.575,-351.868 264.012,-341.278 257.232,-331.787\" fill=\"none\" stroke=\"black\"/>\n",
       "<polygon fill=\"black\" points=\"259.952,-329.573 251.291,-323.47 254.256,-333.642 259.952,-329.573\" stroke=\"black\"/>\n",
       "</g>\n",
       "<!-- IFG1&#45;L -->\n",
       "<g class=\"node\" id=\"node18\"><title>IFG1-L</title>\n",
       "<ellipse cx=\"340.527\" cy=\"-306\" fill=\"none\" rx=\"37.2507\" ry=\"18\" stroke=\"black\"/>\n",
       "<text font-family=\"Times,serif\" font-size=\"14.00\" text-anchor=\"middle\" x=\"340.527\" y=\"-301.8\">IFG1-L</text>\n",
       "</g>\n",
       "<!-- mMTG&#45;L&#45;&gt;IFG1&#45;L -->\n",
       "<g class=\"edge\" id=\"edge19\"><title>mMTG-L-&gt;IFG1-L</title>\n",
       "<path d=\"M301.613,-360.411C307.838,-351.868 315.553,-341.278 322.468,-331.787\" fill=\"none\" stroke=\"black\"/>\n",
       "<polygon fill=\"black\" points=\"325.468,-333.613 328.528,-323.47 319.81,-329.491 325.468,-333.613\" stroke=\"black\"/>\n",
       "</g>\n",
       "<!-- mMTG&#45;R&#45;&gt;pMTG&#45;R -->\n",
       "<g class=\"edge\" id=\"edge21\"><title>mMTG-R-&gt;pMTG-R</title>\n",
       "<path d=\"M217.896,-290.155C203.29,-280.132 183.811,-266.763 167.687,-255.698\" fill=\"none\" stroke=\"black\"/>\n",
       "<polygon fill=\"black\" points=\"169.353,-252.596 159.127,-249.824 165.392,-258.368 169.353,-252.596\" stroke=\"black\"/>\n",
       "</g>\n",
       "<!-- aMTG&#45;R -->\n",
       "<g class=\"node\" id=\"node17\"><title>aMTG-R</title>\n",
       "<ellipse cx=\"241.527\" cy=\"-234\" fill=\"none\" rx=\"42.5542\" ry=\"18\" stroke=\"black\"/>\n",
       "<text font-family=\"Times,serif\" font-size=\"14.00\" text-anchor=\"middle\" x=\"241.527\" y=\"-229.8\">aMTG-R</text>\n",
       "</g>\n",
       "<!-- mMTG&#45;R&#45;&gt;aMTG&#45;R -->\n",
       "<g class=\"edge\" id=\"edge27\"><title>mMTG-R-&gt;aMTG-R</title>\n",
       "<path d=\"M240.021,-287.697C240.242,-279.983 240.507,-270.712 240.752,-262.112\" fill=\"none\" stroke=\"black\"/>\n",
       "<polygon fill=\"black\" points=\"244.251,-262.2 241.038,-252.104 237.254,-262 244.251,-262.2\" stroke=\"black\"/>\n",
       "</g>\n",
       "<!-- aMTG&#45;L -->\n",
       "<g class=\"node\" id=\"node16\"><title>aMTG-L</title>\n",
       "<ellipse cx=\"241.527\" cy=\"-162\" fill=\"none\" rx=\"42.0611\" ry=\"18\" stroke=\"black\"/>\n",
       "<text font-family=\"Times,serif\" font-size=\"14.00\" text-anchor=\"middle\" x=\"241.527\" y=\"-157.8\">aMTG-L</text>\n",
       "</g>\n",
       "<!-- aMTG&#45;R&#45;&gt;aMTG&#45;L -->\n",
       "<g class=\"edge\" id=\"edge9\"><title>aMTG-R-&gt;aMTG-L</title>\n",
       "<path d=\"M241.527,-215.697C241.527,-207.983 241.527,-198.712 241.527,-190.112\" fill=\"none\" stroke=\"black\"/>\n",
       "<polygon fill=\"black\" points=\"245.027,-190.104 241.527,-180.104 238.027,-190.104 245.027,-190.104\" stroke=\"black\"/>\n",
       "</g>\n",
       "<!-- IFG2&#45;L -->\n",
       "<g class=\"node\" id=\"node19\"><title>IFG2-L</title>\n",
       "<ellipse cx=\"340.527\" cy=\"-234\" fill=\"none\" rx=\"37.2507\" ry=\"18\" stroke=\"black\"/>\n",
       "<text font-family=\"Times,serif\" font-size=\"14.00\" text-anchor=\"middle\" x=\"340.527\" y=\"-229.8\">IFG2-L</text>\n",
       "</g>\n",
       "<!-- IFG1&#45;L&#45;&gt;IFG2&#45;L -->\n",
       "<g class=\"edge\" id=\"edge10\"><title>IFG1-L-&gt;IFG2-L</title>\n",
       "<path d=\"M340.527,-287.697C340.527,-279.983 340.527,-270.712 340.527,-262.112\" fill=\"none\" stroke=\"black\"/>\n",
       "<polygon fill=\"black\" points=\"344.027,-262.104 340.527,-252.104 337.027,-262.104 344.027,-262.104\" stroke=\"black\"/>\n",
       "</g>\n",
       "<!-- MPFC&#45;R -->\n",
       "<g class=\"node\" id=\"node24\"><title>MPFC-R</title>\n",
       "<ellipse cx=\"140.527\" cy=\"-90\" fill=\"none\" rx=\"42.5974\" ry=\"18\" stroke=\"black\"/>\n",
       "<text font-family=\"Times,serif\" font-size=\"14.00\" text-anchor=\"middle\" x=\"140.527\" y=\"-85.8\">MPFC-R</text>\n",
       "</g>\n",
       "<!-- IFG2&#45;R&#45;&gt;MPFC&#45;R -->\n",
       "<g class=\"edge\" id=\"edge18\"><title>IFG2-R-&gt;MPFC-R</title>\n",
       "<path d=\"M140.527,-143.697C140.527,-135.983 140.527,-126.712 140.527,-118.112\" fill=\"none\" stroke=\"black\"/>\n",
       "<polygon fill=\"black\" points=\"144.027,-118.104 140.527,-108.104 137.027,-118.104 144.027,-118.104\" stroke=\"black\"/>\n",
       "</g>\n",
       "<!-- TPJ&#45;L -->\n",
       "<g class=\"node\" id=\"node21\"><title>TPJ-L</title>\n",
       "<ellipse cx=\"303.527\" cy=\"-450\" fill=\"none\" rx=\"32.4324\" ry=\"18\" stroke=\"black\"/>\n",
       "<text font-family=\"Times,serif\" font-size=\"14.00\" text-anchor=\"middle\" x=\"303.527\" y=\"-445.8\">TPJ-L</text>\n",
       "</g>\n",
       "<!-- TPJ&#45;L&#45;&gt;mMTG&#45;L -->\n",
       "<g class=\"edge\" id=\"edge8\"><title>TPJ-L-&gt;mMTG-L</title>\n",
       "<path d=\"M300.138,-432.055C298.596,-424.346 296.732,-415.027 295,-406.364\" fill=\"none\" stroke=\"black\"/>\n",
       "<polygon fill=\"black\" points=\"298.375,-405.395 292.982,-396.275 291.511,-406.768 298.375,-405.395\" stroke=\"black\"/>\n",
       "</g>\n",
       "<!-- mPreCun&#45;L -->\n",
       "<g class=\"node\" id=\"node27\"><title>mPreCun-L</title>\n",
       "<ellipse cx=\"404.527\" cy=\"-378\" fill=\"none\" rx=\"51.726\" ry=\"18\" stroke=\"black\"/>\n",
       "<text font-family=\"Times,serif\" font-size=\"14.00\" text-anchor=\"middle\" x=\"404.527\" y=\"-373.8\">mPreCun-L</text>\n",
       "</g>\n",
       "<!-- TPJ&#45;L&#45;&gt;mPreCun&#45;L -->\n",
       "<g class=\"edge\" id=\"edge30\"><title>TPJ-L-&gt;mPreCun-L</title>\n",
       "<path d=\"M323.001,-435.503C337.45,-425.489 357.432,-411.64 373.996,-400.16\" fill=\"none\" stroke=\"black\"/>\n",
       "<polygon fill=\"black\" points=\"376.074,-402.978 382.3,-394.405 372.087,-397.225 376.074,-402.978\" stroke=\"black\"/>\n",
       "</g>\n",
       "<!-- TPJ&#45;R -->\n",
       "<g class=\"node\" id=\"node22\"><title>TPJ-R</title>\n",
       "<ellipse cx=\"303.527\" cy=\"-522\" fill=\"none\" rx=\"32.9255\" ry=\"18\" stroke=\"black\"/>\n",
       "<text font-family=\"Times,serif\" font-size=\"14.00\" text-anchor=\"middle\" x=\"303.527\" y=\"-517.8\">TPJ-R</text>\n",
       "</g>\n",
       "<!-- TPJ&#45;R&#45;&gt;TPJ&#45;L -->\n",
       "<g class=\"edge\" id=\"edge20\"><title>TPJ-R-&gt;TPJ-L</title>\n",
       "<path d=\"M303.527,-503.697C303.527,-495.983 303.527,-486.712 303.527,-478.112\" fill=\"none\" stroke=\"black\"/>\n",
       "<polygon fill=\"black\" points=\"307.027,-478.104 303.527,-468.104 300.027,-478.104 307.027,-478.104\" stroke=\"black\"/>\n",
       "</g>\n",
       "<!-- MPFC&#45;L -->\n",
       "<g class=\"node\" id=\"node23\"><title>MPFC-L</title>\n",
       "<ellipse cx=\"140.527\" cy=\"-18\" fill=\"none\" rx=\"42.1043\" ry=\"18\" stroke=\"black\"/>\n",
       "<text font-family=\"Times,serif\" font-size=\"14.00\" text-anchor=\"middle\" x=\"140.527\" y=\"-13.8\">MPFC-L</text>\n",
       "</g>\n",
       "<!-- MPFC&#45;R&#45;&gt;MPFC&#45;L -->\n",
       "<g class=\"edge\" id=\"edge11\"><title>MPFC-R-&gt;MPFC-L</title>\n",
       "<path d=\"M140.527,-71.6966C140.527,-63.9827 140.527,-54.7125 140.527,-46.1124\" fill=\"none\" stroke=\"black\"/>\n",
       "<polygon fill=\"black\" points=\"144.027,-46.1043 140.527,-36.1043 137.027,-46.1044 144.027,-46.1043\" stroke=\"black\"/>\n",
       "</g>\n",
       "<!-- dPreCun&#45;L -->\n",
       "<g class=\"node\" id=\"node25\"><title>dPreCun-L</title>\n",
       "<ellipse cx=\"233.527\" cy=\"-594\" fill=\"none\" rx=\"49.3119\" ry=\"18\" stroke=\"black\"/>\n",
       "<text font-family=\"Times,serif\" font-size=\"14.00\" text-anchor=\"middle\" x=\"233.527\" y=\"-589.8\">dPreCun-L</text>\n",
       "</g>\n",
       "<!-- dPreCun&#45;R&#45;&gt;dPreCun&#45;L -->\n",
       "<g class=\"edge\" id=\"edge29\"><title>dPreCun-R-&gt;dPreCun-L</title>\n",
       "<path d=\"M279.308,-648.411C271.836,-639.693 262.537,-628.845 254.277,-619.208\" fill=\"none\" stroke=\"black\"/>\n",
       "<polygon fill=\"black\" points=\"256.81,-616.785 247.644,-611.47 251.495,-621.34 256.81,-616.785\" stroke=\"black\"/>\n",
       "</g>\n",
       "<!-- mPreCun&#45;R -->\n",
       "<g class=\"node\" id=\"node28\"><title>mPreCun-R</title>\n",
       "<ellipse cx=\"353.527\" cy=\"-594\" fill=\"none\" rx=\"52.2192\" ry=\"18\" stroke=\"black\"/>\n",
       "<text font-family=\"Times,serif\" font-size=\"14.00\" text-anchor=\"middle\" x=\"353.527\" y=\"-589.8\">mPreCun-R</text>\n",
       "</g>\n",
       "<!-- dPreCun&#45;R&#45;&gt;mPreCun&#45;R -->\n",
       "<g class=\"edge\" id=\"edge16\"><title>dPreCun-R-&gt;mPreCun-R</title>\n",
       "<path d=\"M307.746,-648.411C315.219,-639.693 324.517,-628.845 332.778,-619.208\" fill=\"none\" stroke=\"black\"/>\n",
       "<polygon fill=\"black\" points=\"335.559,-621.34 339.41,-611.47 330.245,-616.785 335.559,-621.34\" stroke=\"black\"/>\n",
       "</g>\n",
       "<!-- mPreCun&#45;R&#45;&gt;TPJ&#45;R -->\n",
       "<g class=\"edge\" id=\"edge28\"><title>mPreCun-R-&gt;TPJ-R</title>\n",
       "<path d=\"M341.678,-576.411C335.487,-567.744 327.792,-556.971 320.938,-547.375\" fill=\"none\" stroke=\"black\"/>\n",
       "<polygon fill=\"black\" points=\"323.608,-545.091 314.947,-538.988 317.912,-549.16 323.608,-545.091\" stroke=\"black\"/>\n",
       "</g>\n",
       "<!-- vPreCun&#45;R -->\n",
       "<g class=\"node\" id=\"node30\"><title>vPreCun-R</title>\n",
       "<ellipse cx=\"404.527\" cy=\"-522\" fill=\"none\" rx=\"49.805\" ry=\"18\" stroke=\"black\"/>\n",
       "<text font-family=\"Times,serif\" font-size=\"14.00\" text-anchor=\"middle\" x=\"404.527\" y=\"-517.8\">vPreCun-R</text>\n",
       "</g>\n",
       "<!-- mPreCun&#45;R&#45;&gt;vPreCun&#45;R -->\n",
       "<g class=\"edge\" id=\"edge17\"><title>mPreCun-R-&gt;vPreCun-R</title>\n",
       "<path d=\"M365.613,-576.411C371.748,-567.992 379.329,-557.585 386.167,-548.201\" fill=\"none\" stroke=\"black\"/>\n",
       "<polygon fill=\"black\" points=\"389.114,-550.1 392.173,-539.956 383.456,-545.978 389.114,-550.1\" stroke=\"black\"/>\n",
       "</g>\n",
       "<!-- vPreCun&#45;L -->\n",
       "<g class=\"node\" id=\"node29\"><title>vPreCun-L</title>\n",
       "<ellipse cx=\"404.527\" cy=\"-450\" fill=\"none\" rx=\"49.3119\" ry=\"18\" stroke=\"black\"/>\n",
       "<text font-family=\"Times,serif\" font-size=\"14.00\" text-anchor=\"middle\" x=\"404.527\" y=\"-445.8\">vPreCun-L</text>\n",
       "</g>\n",
       "<!-- vPreCun&#45;L&#45;&gt;mPreCun&#45;L -->\n",
       "<g class=\"edge\" id=\"edge22\"><title>vPreCun-L-&gt;mPreCun-L</title>\n",
       "<path d=\"M404.527,-431.697C404.527,-423.983 404.527,-414.712 404.527,-406.112\" fill=\"none\" stroke=\"black\"/>\n",
       "<polygon fill=\"black\" points=\"408.027,-406.104 404.527,-396.104 401.027,-406.104 408.027,-406.104\" stroke=\"black\"/>\n",
       "</g>\n",
       "<!-- vPreCun&#45;R&#45;&gt;vPreCun&#45;L -->\n",
       "<g class=\"edge\" id=\"edge2\"><title>vPreCun-R-&gt;vPreCun-L</title>\n",
       "<path d=\"M404.527,-503.697C404.527,-495.983 404.527,-486.712 404.527,-478.112\" fill=\"none\" stroke=\"black\"/>\n",
       "<polygon fill=\"black\" points=\"408.027,-478.104 404.527,-468.104 401.027,-478.104 408.027,-478.104\" stroke=\"black\"/>\n",
       "</g>\n",
       "</g>\n",
       "</svg>"
      ],
      "text/plain": [
       "<IPython.core.display.SVG object>"
      ]
     },
     "execution_count": 11,
     "metadata": {},
     "output_type": "execute_result"
    }
   ],
   "source": [
    "# render resulting graph\n",
    "dot_nb = images_nb.getDot()\n",
    "SVG(dot_nb.create_svg(prog='dot'))"
   ]
  },
  {
   "cell_type": "markdown",
   "metadata": {},
   "source": [
    "# extract adjacencies from images object"
   ]
  },
  {
   "cell_type": "code",
   "execution_count": 23,
   "metadata": {
    "collapsed": true
   },
   "outputs": [],
   "source": [
    "def splitpair(pair):\n",
    "    \"\"\"\n",
    "    split string containing two nodes into a tuple of two nodes.\n",
    "    ignore directedness of connection.\n",
    "    Used in get_adjacencies.\n",
    "    \"\"\"\n",
    "    split = tuple([label.replace('- ', '').replace('> ', '').replace(' ', '') # looks ugly, but is supposedly faster\n",
    "                   for label in pair.split('--')])\n",
    "    return split"
   ]
  },
  {
   "cell_type": "code",
   "execution_count": 24,
   "metadata": {
    "collapsed": true
   },
   "outputs": [],
   "source": [
    "def get_adjacencies(images_instance):\n",
    "    \"\"\"\n",
    "    returns a list of tuples of connected nodes\n",
    "    \"\"\"\n",
    "    \n",
    "    # get edges and convert from unicode to string\n",
    "    images_edges = images_instance.edges\n",
    "    edgestrings = [str(edge) for edge in images_edges]\n",
    "    \n",
    "    # split the strings to get tuples, turn into arrays and sort\n",
    "    edges = np.array([splitpair(pair) for pair in edgestrings])\n",
    "    sortededges = edges[np.argsort(edges[:, 0])]\n",
    "    \n",
    "    return sortededges"
   ]
  },
  {
   "cell_type": "code",
   "execution_count": 34,
   "metadata": {},
   "outputs": [
    {
     "name": "stdout",
     "output_type": "stream",
     "text": [
      "shape of adjacency array: (30, 2)\n",
      "\n",
      "[['EV1-R' 'EV2-L']\n",
      " ['EV1-R' 'EV1-L']\n",
      " ['EV2-L' 'EV2-R']\n",
      " ['IFG1-L' 'IFG2-L']\n",
      " ['IFG2-R' 'MPFC-R']\n",
      " ['MPFC-R' 'MPFC-L']\n",
      " ['OccFus-L' 'dPreCun-R']\n",
      " ['OccFus-R' 'EV2-L']\n",
      " ['OccFus-R' 'OccFus-L']\n",
      " ['TPJ-L' 'mPreCun-L']\n",
      " ['TPJ-L' 'mMTG-L']\n",
      " ['TPJ-R' 'TPJ-L']\n",
      " ['aMTG-R' 'aMTG-L']\n",
      " ['dPreCun-R' 'dPreCun-L']\n",
      " ['dPreCun-R' 'mPreCun-R']\n",
      " ['mFus-L' 'mFus-R']\n",
      " ['mMTG-L' 'mMTG-R']\n",
      " ['mMTG-L' 'IFG1-L']\n",
      " ['mMTG-R' 'pMTG-R']\n",
      " ['mMTG-R' 'aMTG-R']\n",
      " ['mPreCun-R' 'vPreCun-R']\n",
      " ['mPreCun-R' 'TPJ-R']\n",
      " ['pFus-L' 'OccFus-L']\n",
      " ['pFus-L' 'mFus-L']\n",
      " ['pFus-R' 'OccFus-R']\n",
      " ['pFus-R' 'pFus-L']\n",
      " ['pMTG-R' 'pMTG-L']\n",
      " ['pMTG-R' 'IFG2-R']\n",
      " ['vPreCun-L' 'mPreCun-L']\n",
      " ['vPreCun-R' 'vPreCun-L']]\n"
     ]
    }
   ],
   "source": [
    "# apply above functions and inspect results\n",
    "connections = get_adjacencies(images_nb)\n",
    "\n",
    "print('shape of adjacency array: ' + str(np.shape(connections)) + '\\n')\n",
    "print(connections)"
   ]
  },
  {
   "cell_type": "code",
   "execution_count": 17,
   "metadata": {
    "collapsed": true
   },
   "outputs": [],
   "source": [
    "# get nodes in string format (instead of unicode)\n",
    "# actually I don't think I need that.\n",
    "# nodes = [str(node) for node in images_nb.nodes]"
   ]
  },
  {
   "cell_type": "code",
   "execution_count": 37,
   "metadata": {},
   "outputs": [
    {
     "data": {
      "text/plain": [
       "array(['EV1-R', 'EV2-L'],\n",
       "      dtype='|S9')"
      ]
     },
     "execution_count": 37,
     "metadata": {},
     "output_type": "execute_result"
    }
   ],
   "source": [
    "firstrow = connections[0]\n",
    "firstrow"
   ]
  },
  {
   "cell_type": "code",
   "execution_count": 38,
   "metadata": {},
   "outputs": [
    {
     "data": {
      "text/plain": [
       "'EV2-L'"
      ]
     },
     "execution_count": 38,
     "metadata": {},
     "output_type": "execute_result"
    }
   ],
   "source": [
    "firstrow[1]"
   ]
  },
  {
   "cell_type": "code",
   "execution_count": 39,
   "metadata": {},
   "outputs": [
    {
     "data": {
      "text/plain": [
       "array([['EV2-L', 'EV2-R']],\n",
       "      dtype='|S9')"
      ]
     },
     "execution_count": 39,
     "metadata": {},
     "output_type": "execute_result"
    }
   ],
   "source": [
    "connections[connections[:,0]=='EV2-L']"
   ]
  },
  {
   "cell_type": "code",
   "execution_count": 18,
   "metadata": {},
   "outputs": [
    {
     "data": {
      "text/plain": [
       "(30, 30)"
      ]
     },
     "execution_count": 18,
     "metadata": {},
     "output_type": "execute_result"
    }
   ],
   "source": [
    "zeros = np.zeros(shape=(30,30))\n",
    "np.shape(zeros)"
   ]
  },
  {
   "cell_type": "markdown",
   "metadata": {},
   "source": [
    "**TODO:** create zero-array with shape 30x30. for row in rows: Look up index i of second element in first column. Fill i-th column of row with a 1."
   ]
  },
  {
   "cell_type": "code",
   "execution_count": 45,
   "metadata": {},
   "outputs": [
    {
     "data": {
      "text/plain": [
       "array([[False,  True],\n",
       "       [False, False],\n",
       "       [ True, False],\n",
       "       [False, False],\n",
       "       [False, False],\n",
       "       [False, False],\n",
       "       [False, False],\n",
       "       [False,  True],\n",
       "       [False, False],\n",
       "       [False, False],\n",
       "       [False, False],\n",
       "       [False, False],\n",
       "       [False, False],\n",
       "       [False, False],\n",
       "       [False, False],\n",
       "       [False, False],\n",
       "       [False, False],\n",
       "       [False, False],\n",
       "       [False, False],\n",
       "       [False, False],\n",
       "       [False, False],\n",
       "       [False, False],\n",
       "       [False, False],\n",
       "       [False, False],\n",
       "       [False, False],\n",
       "       [False, False],\n",
       "       [False, False],\n",
       "       [False, False],\n",
       "       [False, False],\n",
       "       [False, False]], dtype=bool)"
      ]
     },
     "execution_count": 45,
     "metadata": {},
     "output_type": "execute_result"
    }
   ],
   "source": [
    "# boolian array indicating the occurance of an element in connections array\n",
    "index = np.isin(connections, 'EV2-L')\n",
    "index"
   ]
  },
  {
   "cell_type": "markdown",
   "metadata": {},
   "source": [
    "# to networkx"
   ]
  },
  {
   "cell_type": "code",
   "execution_count": 133,
   "metadata": {
    "collapsed": true
   },
   "outputs": [],
   "source": [
    "# switch from dot to nx graph\n",
    "graph_raw = nx_pydot.from_pydot(dot)\n",
    "graph_nb = nx_pydot.from_pydot(dot_nb)\n",
    "\n",
    "# ALTERNATIVELY: maybe it could be done with pydot. instead of nx. method"
   ]
  },
  {
   "cell_type": "markdown",
   "metadata": {},
   "source": [
    "TODO: get adjacency matrices for two graphs, flat them, calc binary correlation of sorts. <br>\n",
    "TODO: beware that the order of pairwise comparisons in the adjacency matrix / array must be the same."
   ]
  },
  {
   "cell_type": "code",
   "execution_count": 134,
   "metadata": {
    "collapsed": true
   },
   "outputs": [],
   "source": [
    "# get adjacency matrix as tuples.\n",
    "# (For directed graphs, entry i,j corresponds to an edge from i to j.)\n",
    "# nx.adjacency_matrix?\n",
    "\n",
    "#am_raw = nx.adjacency_matrix(graph_raw)\n",
    "#am_nb = nx.adjacency_matrix(graph_nb)"
   ]
  },
  {
   "cell_type": "code",
   "execution_count": 143,
   "metadata": {
    "collapsed": true
   },
   "outputs": [],
   "source": [
    "# adjacency matrix as numpy array\n",
    "# nx.convert_matrix.to_numpy_matrix?\n",
    "\n",
    "am_raw = nx.convert_matrix.to_numpy_matrix(graph_raw)\n",
    "am_nb = nx.convert_matrix.to_numpy_matrix(graph_nb)\n",
    "\n",
    "# check if the two graphs have the same shape\n",
    "assert np.shape(am_raw) == np.shape(am_nb)"
   ]
  },
  {
   "cell_type": "markdown",
   "metadata": {},
   "source": [
    "### interesting nx methods"
   ]
  },
  {
   "cell_type": "code",
   "execution_count": 24,
   "metadata": {
    "collapsed": true
   },
   "outputs": [],
   "source": [
    "# show predecessors for a node. successors also possible.\n",
    "# graph.predecessors('pMTG-R')"
   ]
  },
  {
   "cell_type": "code",
   "execution_count": 47,
   "metadata": {
    "collapsed": true
   },
   "outputs": [],
   "source": [
    "# generate node positions in a circle for plotting\n",
    "# nx.circular_layout(graph)"
   ]
  }
 ],
 "metadata": {
  "kernelspec": {
   "display_name": "Python 2",
   "language": "python",
   "name": "python2"
  },
  "language_info": {
   "codemirror_mode": {
    "name": "ipython",
    "version": 2
   },
   "file_extension": ".py",
   "mimetype": "text/x-python",
   "name": "python",
   "nbconvert_exporter": "python",
   "pygments_lexer": "ipython2",
   "version": "2.7.13"
  }
 },
 "nbformat": 4,
 "nbformat_minor": 2
}
