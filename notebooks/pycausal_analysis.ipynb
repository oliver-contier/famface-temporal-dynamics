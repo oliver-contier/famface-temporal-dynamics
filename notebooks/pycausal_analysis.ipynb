{
 "cells": [
  {
   "cell_type": "markdown",
   "metadata": {},
   "source": [
    "# IMaGES on ROI time series"
   ]
  },
  {
   "cell_type": "code",
   "execution_count": 1,
   "metadata": {
    "collapsed": true
   },
   "outputs": [],
   "source": [
    "import os\n",
    "import pickle\n",
    "from os.path import join as pjoin\n",
    "import glob\n",
    "import pandas as pd\n",
    "import numpy as np\n",
    "import pydot\n",
    "from IPython.display import SVG\n",
    "import matplotlib.pyplot as plt\n",
    "import seaborn as sb\n",
    "from matplotlib import pyplot, patches\n",
    "from pycausal import pycausal as pc\n",
    "from pycausal import search as s\n",
    "import networkx as nx\n",
    "from networkx.drawing import nx_pydot\n",
    "import itertools\n",
    "import copy\n",
    "import mne"
   ]
  },
  {
   "cell_type": "code",
   "execution_count": 2,
   "metadata": {
    "collapsed": true
   },
   "outputs": [],
   "source": [
    "%matplotlib inline"
   ]
  },
  {
   "cell_type": "code",
   "execution_count": 3,
   "metadata": {
    "collapsed": true
   },
   "outputs": [],
   "source": [
    "sb.set_context('notebook')"
   ]
  },
  {
   "cell_type": "code",
   "execution_count": 4,
   "metadata": {
    "collapsed": true
   },
   "outputs": [],
   "source": [
    "def getdfs(csvdir):\n",
    "    \"\"\"\n",
    "    give us list of data frames for csv files in directory.\n",
    "    \"\"\"\n",
    "    dfs = []\n",
    "    for csvfile in glob.glob(csvdir + os.sep + \"*.csv\"):\n",
    "        df = pd.read_csv(csvfile)\n",
    "        dfs.append(df)\n",
    "    return dfs"
   ]
  },
  {
   "cell_type": "code",
   "execution_count": 5,
   "metadata": {
    "collapsed": true
   },
   "outputs": [],
   "source": [
    "def run_images_lofs(dfs,\n",
    "                    withlofs=True,\n",
    "                    lofsrule='R3',\n",
    "                    lofsscore='andersonDarling',\n",
    "                    maxdegree=30,\n",
    "                    penalty=4):\n",
    "    \"\"\"\n",
    "    run IMaGES and optionally LOFS post-processing on a given list of dataframes.\n",
    "    Return the graph instance of either images or lofs output.\n",
    "    \"\"\"\n",
    "    pc.start_vm() \n",
    "    \n",
    "    images = s.imagesSemBic(dfs, verbose=True, maxDegree=maxdegree, penaltyDiscount=penalty)\n",
    "    if withlofs:\n",
    "        tetradGraph = images.getTetradGraph()    \n",
    "        lofs = s.lofs(tetradGraph, dfs, dataType=0, rule=lofsrule, score=lofsscore)\n",
    "    \n",
    "        pc.stop_vm()\n",
    "        return lofs\n",
    "    else:\n",
    "        pc.stop_vm()\n",
    "        return images"
   ]
  },
  {
   "cell_type": "code",
   "execution_count": 86,
   "metadata": {
    "collapsed": true
   },
   "outputs": [],
   "source": [
    "def plot_svg(images_instance):\n",
    "    \"\"\"\n",
    "    Take graph instance from IMaGES or LOFS and plot the SVG.\n",
    "    \n",
    "    \"\"\"\n",
    "    dot = images_instance.getDot()\n",
    "    svg_str = dot.create_svg(prog='dot')\n",
    "    SVG(svg_str)\n",
    "    return dot"
   ]
  },
  {
   "cell_type": "code",
   "execution_count": 7,
   "metadata": {
    "collapsed": true
   },
   "outputs": [],
   "source": [
    "def save_dot2svg(dot, outname):\n",
    "    \"\"\"\n",
    "    save svg from dot file & return svg\n",
    "    \"\"\"\n",
    "    svg = dot.create_svg()\n",
    "    with open(outname, 'w') as f:\n",
    "        f.write(svg)\n",
    "    return svg"
   ]
  },
  {
   "cell_type": "markdown",
   "metadata": {},
   "source": [
    "## Preprocessed BOLD data"
   ]
  },
  {
   "cell_type": "code",
   "execution_count": 8,
   "metadata": {
    "collapsed": true
   },
   "outputs": [],
   "source": [
    "# directory with csv files for roi time series (seperate csv file for each run)\n",
    "csvdir_allruns = pjoin('/host', 'famfaces', 'extract_meants', 'csv', 'allruns')\n",
    "dfs = getdfs(csvdir_allruns)"
   ]
  },
  {
   "cell_type": "code",
   "execution_count": 9,
   "metadata": {
    "collapsed": true
   },
   "outputs": [],
   "source": [
    "lofs_raw = run_images_lofs(dfs)"
   ]
  },
  {
   "cell_type": "code",
   "execution_count": 85,
   "metadata": {
    "collapsed": true
   },
   "outputs": [],
   "source": [
    "plot_svg(lofs_raw)"
   ]
  },
  {
   "cell_type": "code",
   "execution_count": 11,
   "metadata": {
    "collapsed": true
   },
   "outputs": [],
   "source": [
    "## show nodes\n",
    "nodes = [str(node) for node in lofs_raw.getNodes()]"
   ]
  },
  {
   "cell_type": "code",
   "execution_count": 12,
   "metadata": {
    "collapsed": true
   },
   "outputs": [],
   "source": [
    "## show edges\n",
    "# lofs_raw.getEdges()"
   ]
  },
  {
   "cell_type": "markdown",
   "metadata": {},
   "source": [
    "## Residuals"
   ]
  },
  {
   "cell_type": "markdown",
   "metadata": {},
   "source": [
    "From a nuisance model with motion parameters, outliers, and button press as regressors."
   ]
  },
  {
   "cell_type": "code",
   "execution_count": 13,
   "metadata": {
    "collapsed": true
   },
   "outputs": [],
   "source": [
    "# nuisance data with button press\n",
    "dfs_nb = getdfs(pjoin('/host', 'famfaces', 'extract_meants_nuisance_button', 'csv', 'run*'))"
   ]
  },
  {
   "cell_type": "code",
   "execution_count": 14,
   "metadata": {
    "collapsed": true
   },
   "outputs": [],
   "source": [
    "lofs_nb = run_images_lofs(dfs_nb)"
   ]
  },
  {
   "cell_type": "code",
   "execution_count": 15,
   "metadata": {},
   "outputs": [
    {
     "data": {
      "text/plain": [
       "<pydot.Dot at 0x128bdea50>"
      ]
     },
     "execution_count": 15,
     "metadata": {},
     "output_type": "execute_result"
    }
   ],
   "source": [
    "plot_svg(lofs_nb)"
   ]
  },
  {
   "cell_type": "markdown",
   "metadata": {},
   "source": [
    "## Residual data without button press as regressor"
   ]
  },
  {
   "cell_type": "code",
   "execution_count": 16,
   "metadata": {
    "collapsed": true
   },
   "outputs": [],
   "source": [
    "dfs_n = getdfs(pjoin('/host', 'famfaces', 'extract_meants_nuisance', 'csv', 'run*'))"
   ]
  },
  {
   "cell_type": "code",
   "execution_count": 17,
   "metadata": {
    "collapsed": true
   },
   "outputs": [],
   "source": [
    "lofs_n = run_images_lofs(dfs_n)"
   ]
  },
  {
   "cell_type": "code",
   "execution_count": 18,
   "metadata": {},
   "outputs": [
    {
     "data": {
      "text/plain": [
       "<pydot.Dot at 0x128928990>"
      ]
     },
     "execution_count": 18,
     "metadata": {},
     "output_type": "execute_result"
    }
   ],
   "source": [
    "plot_svg(lofs_n)"
   ]
  },
  {
   "cell_type": "markdown",
   "metadata": {},
   "source": [
    "# Extract directed edges from images object *manually*"
   ]
  },
  {
   "cell_type": "markdown",
   "metadata": {},
   "source": [
    "TODO: These functions are not needed anymore (because replaced below). So save to some script before deleting."
   ]
  },
  {
   "cell_type": "code",
   "execution_count": 19,
   "metadata": {
    "collapsed": true
   },
   "outputs": [],
   "source": [
    "def splitpair(pair):\n",
    "    \"\"\"\n",
    "    split string containing two nodes into a tuple of two nodes.\n",
    "    ignore directedness of connection.\n",
    "    Used in get_adjacencies.\n",
    "    \"\"\"\n",
    "    split = tuple([label.replace('- ', '').replace('> ', '').replace(' ', '') # looks ugly, but is supposedly faster\n",
    "                   for label in pair.split('--')])\n",
    "    return split"
   ]
  },
  {
   "cell_type": "code",
   "execution_count": 20,
   "metadata": {
    "collapsed": true
   },
   "outputs": [],
   "source": [
    "def get_adjacencies(images_instance):\n",
    "    \"\"\"\n",
    "    returns a list of tuples of connected nodes (i.e. pairs)\n",
    "    \"\"\"\n",
    "    \n",
    "    # get edges and convert from unicode to string\n",
    "    images_edges = images_instance.edges\n",
    "    edgestrings = [str(edge) for edge in images_edges]\n",
    "    \n",
    "    # split the strings to get tuples, turn into arrays and sort\n",
    "    edges = np.array([splitpair(pair) for pair in edgestrings])\n",
    "    connections = edges[np.argsort(edges[:, 0])]\n",
    "    \n",
    "    return connections"
   ]
  },
  {
   "cell_type": "markdown",
   "metadata": {},
   "source": [
    "# get undirected adjacency matrices"
   ]
  },
  {
   "cell_type": "code",
   "execution_count": 21,
   "metadata": {
    "collapsed": true
   },
   "outputs": [],
   "source": [
    "def get_undirected_AM(images_instance):\n",
    "    \"\"\"\n",
    "    Get undirected adjacency matrix from an IMaGES or LOFS instance\n",
    "    by detour via networkx\n",
    "    \"\"\"\n",
    "    # get pydot from images instance\n",
    "    dot = images_instance.getDot()\n",
    "    # load dot to networkx\n",
    "    graph = nx_pydot.from_pydot(dot)\n",
    "    # make graph undirected\n",
    "    graph_undir = graph.to_undirected()\n",
    "        \n",
    "    # get AM as numpy matrix, sorted by nodes alphabetically\n",
    "    am = nx.to_numpy_matrix(graph_undir, dtype=np.bool, nodelist=sorted(graph.nodes()))\n",
    "    return am"
   ]
  },
  {
   "cell_type": "code",
   "execution_count": 22,
   "metadata": {
    "collapsed": true
   },
   "outputs": [],
   "source": [
    "# AM of undirected graphs from preprocessed and residual data\n",
    "am_und_raw = get_undirected_AM(lofs_raw)\n",
    "am_und_nb = get_undirected_AM(lofs_nb)\n",
    "am_und_n = get_undirected_AM(lofs_n)"
   ]
  },
  {
   "cell_type": "markdown",
   "metadata": {},
   "source": [
    "# plot undirected connectivity with circular layout"
   ]
  },
  {
   "cell_type": "code",
   "execution_count": 23,
   "metadata": {
    "collapsed": true
   },
   "outputs": [],
   "source": [
    "def plot_connectivity_circle(undirected_AM, nodes, fsize=(10,10), title=None):\n",
    "    \"\"\"\n",
    "    plot connectivity structure in circular layout using mne package.\n",
    "    makes sense only for undirected graphs.\n",
    "    \"\"\"\n",
    "    fig = plt.figure(figsize=fsize, facecolor='white')\n",
    "\n",
    "    connect_kwargs = dict(\n",
    "        facecolor = 'white',\n",
    "        textcolor = 'black',\n",
    "        fontsize_names=18,\n",
    "        fontsize_colorbar=14,\n",
    "        colormap = 'Greys',\n",
    "        node_edgecolor='white',\n",
    "        colorbar=False,\n",
    "        interactive=False,\n",
    "        node_linewidth=4,\n",
    "        linewidth=2,\n",
    "        vmin=0,\n",
    "        vmax=1,\n",
    "        show=False)\n",
    "\n",
    "    f, ax = mne.viz.plot_connectivity_circle(np.array(undirected_AM), # change type from matrix to ndarray\n",
    "                                     nodes,\n",
    "                                     fig=fig, **connect_kwargs)\n",
    "    if title:\n",
    "        plt.title(title, fontweight='bold', fontsize=18)\n",
    "    return fig"
   ]
  },
  {
   "cell_type": "code",
   "execution_count": 24,
   "metadata": {
    "collapsed": true
   },
   "outputs": [],
   "source": [
    "# alphabetically sorted list of nodes\n",
    "sorted_nodes = sorted([str(node) for node in lofs_n.getNodes()])"
   ]
  },
  {
   "cell_type": "code",
   "execution_count": 25,
   "metadata": {
    "scrolled": false
   },
   "outputs": [
    {
     "data": {
      "image/png": "[encoded data removed]",
      "text/plain": [
       "<matplotlib.figure.Figure at 0x1287b2f90>"
      ]
     },
     "metadata": {},
     "output_type": "display_data"
    }
   ],
   "source": [
    "circ_und_n = plot_connectivity_circle(am_und_n, sorted_nodes, title='Undirected graph\\nResidual data')"
   ]
  },
  {
   "cell_type": "markdown",
   "metadata": {
    "collapsed": true
   },
   "source": [
    "# Graph Matching methods"
   ]
  },
  {
   "cell_type": "markdown",
   "metadata": {},
   "source": [
    "**Simple matching**\n",
    "\n",
    "return the fraction of identical elements between two arrays"
   ]
  },
  {
   "cell_type": "code",
   "execution_count": 26,
   "metadata": {
    "collapsed": true
   },
   "outputs": [],
   "source": [
    "def simple_match(m1, m2):\n",
    "    \"\"\"\n",
    "    return the relative number of identical elements between two arrays.\n",
    "    \"\"\"\n",
    "    assert np.shape(m1) == np.shape(m2)\n",
    "    return float(np.sum(m1 == m2)) / float(m1.size)"
   ]
  },
  {
   "cell_type": "code",
   "execution_count": 27,
   "metadata": {},
   "outputs": [
    {
     "name": "stdout",
     "output_type": "stream",
     "text": [
      "0.98\n"
     ]
    }
   ],
   "source": [
    "# simple matching graphs from preprocessed and residual data\n",
    "match_residuals_preprocessed = simple_match(am_und_raw, am_und_nb)\n",
    "print(match_residuals_preprocessed)"
   ]
  },
  {
   "cell_type": "markdown",
   "metadata": {},
   "source": [
    "**Jaccard Index**"
   ]
  },
  {
   "cell_type": "markdown",
   "metadata": {},
   "source": [
    "Use Scikit learn. Basically, the Jaccard index is the intersection divided by the union of two sets."
   ]
  },
  {
   "cell_type": "code",
   "execution_count": 28,
   "metadata": {
    "collapsed": true
   },
   "outputs": [],
   "source": [
    "from sklearn.metrics import jaccard_similarity_score as jaccard"
   ]
  },
  {
   "cell_type": "code",
   "execution_count": 29,
   "metadata": {},
   "outputs": [
    {
     "data": {
      "text/plain": [
       "0.81999999999999995"
      ]
     },
     "execution_count": 29,
     "metadata": {},
     "output_type": "execute_result"
    }
   ],
   "source": [
    "# jaccard index comparing graphs from preprocessed and residual data\n",
    "jaccard(am_und_raw, am_und_nb)"
   ]
  },
  {
   "cell_type": "markdown",
   "metadata": {},
   "source": [
    "## Similarity across runs of undirected graphs (preprocessed data)"
   ]
  },
  {
   "cell_type": "code",
   "execution_count": 30,
   "metadata": {
    "collapsed": true
   },
   "outputs": [],
   "source": [
    "basedir = '/host/famfaces/extract_meants/csv'\n",
    "rundirs_raw = [pjoin(basedir, 'run%03d' % i) for i in xrange(1,12)]"
   ]
  },
  {
   "cell_type": "code",
   "execution_count": 31,
   "metadata": {
    "collapsed": true
   },
   "outputs": [],
   "source": [
    "def csv2am_undirected(rundir):\n",
    "    \"\"\"\n",
    "    based on csv directory, perform graph search and\n",
    "    return undirected adjacency matrix of the represented graph\n",
    "    \"\"\"\n",
    "\n",
    "    dfs = getdfs(rundir)\n",
    "    images_instance = run_images_lofs(dfs)\n",
    "    am = get_undirected_AM(images_instance)\n",
    "    \n",
    "    return am"
   ]
  },
  {
   "cell_type": "code",
   "execution_count": 32,
   "metadata": {
    "collapsed": true
   },
   "outputs": [],
   "source": [
    "def get_all_ams(rundirs):\n",
    "    \"\"\"\n",
    "    get adjacency matrices of all runs\n",
    "    \"\"\"\n",
    "    am_list = [csv2am_undirected(rundir) for rundir in rundirs]\n",
    "    return am_list"
   ]
  },
  {
   "cell_type": "code",
   "execution_count": 33,
   "metadata": {
    "collapsed": true
   },
   "outputs": [],
   "source": [
    "## this command takes a while to execute\n",
    "am_list = get_all_ams(rundirs_raw)"
   ]
  },
  {
   "cell_type": "code",
   "execution_count": 34,
   "metadata": {
    "collapsed": true
   },
   "outputs": [],
   "source": [
    "# save am_list as pickle\n",
    "# with open('am_list.pickle', 'wb') as handle:\n",
    "#    pickle.dump(am_list, handle, protocol=pickle.HIGHEST_PROTOCOL)\n",
    "\n",
    "# with open('am_list.pickle', 'rb') as handle:\n",
    "#     am_list = pickle.load(handle)"
   ]
  },
  {
   "cell_type": "code",
   "execution_count": 35,
   "metadata": {
    "collapsed": true
   },
   "outputs": [],
   "source": [
    "def compare_runs(am_list, method='simple', symmetric=False):\n",
    "    \"\"\"\n",
    "    pairwise comparison of matrices in a list of matrices.\n",
    "    Choose between different measures of similarity.\n",
    "    Choose if the input matrices are symmetric, due to undirected graphs.\n",
    "    \"\"\"\n",
    "    \n",
    "    if symmetric:\n",
    "        am_list = [np.triu(am) for am in am_list]\n",
    "    \n",
    "    if method=='simple':\n",
    "        match_list = np.array([\n",
    "            [simple_match(am1, am2) for am1 in am_list]\n",
    "            for am2 in am_list])\n",
    "        \n",
    "    if method=='jaccard':\n",
    "        match_list = np.array([\n",
    "            [jaccard(am1, am2) for am1 in am_list]\n",
    "            for am2 in am_list])\n",
    "        \n",
    "    return match_list"
   ]
  },
  {
   "cell_type": "code",
   "execution_count": 36,
   "metadata": {
    "collapsed": true
   },
   "outputs": [],
   "source": [
    "def plot_match_matrix(match_matrix, ttl=None, axis=None):\n",
    "    \n",
    "    if axis:\n",
    "        matrixplot = sb.heatmap(match_matrix, square=True, cmap='viridis', ax=axis)\n",
    "    else:\n",
    "        matrixplot = sb.heatmap(match_matrix, square=True, cmap='viridis')\n",
    "    plt.xticks(np.arange(0.5, 11.5, 1), range(1,12))\n",
    "    plt.yticks(np.arange(0.5, 11.5, 1), range(11,0,-1))\n",
    "    \n",
    "    if ttl:\n",
    "        plt.title(ttl, fontweight='bold')\n",
    "\n",
    "    print('minimum: ' + str(np.min(match_matrix)))\n",
    "    print('maximum: ' + str(np.max(match_matrix)))\n",
    "    print('mean: ' + str(np.mean(match_matrix)))\n",
    "\n",
    "    return matrixplot"
   ]
  },
  {
   "cell_type": "code",
   "execution_count": 37,
   "metadata": {
    "collapsed": true
   },
   "outputs": [],
   "source": [
    "# simple matching of undirected adjacency matrices for preprocessed data\n",
    "match_matrix_raw = compare_runs(am_list, symmetric=True)"
   ]
  },
  {
   "cell_type": "code",
   "execution_count": 38,
   "metadata": {
    "collapsed": true
   },
   "outputs": [],
   "source": [
    "def plot_clustered(matrix, colormap='viridis', meth='average',\n",
    "                   dendrogram=False, ttl=None, colorbar=True):\n",
    "    \"\"\"\n",
    "    Plot clustered correlation matrix using seaborn's clustermap.\n",
    "    \"\"\"\n",
    "\n",
    "    clustermap = sb.clustermap(matrix, cmap='viridis', method=meth, figsize=(7,7),\n",
    "                               xticklabels=range(1,12),\n",
    "                               yticklabels=range(1,12))\n",
    "    if not dendrogram:\n",
    "        clustermap.ax_row_dendrogram.set_visible(False)\n",
    "        clustermap.ax_col_dendrogram.set_visible(False)\n",
    "    if not colorbar:\n",
    "        clustermap.cax.set_visible(False)\n",
    "    if ttl:\n",
    "        clustermap.ax_heatmap.set_title(ttl, fontweight='bold', loc='center', fontsize=14)\n",
    "\n",
    "    return clustermap"
   ]
  },
  {
   "cell_type": "code",
   "execution_count": 39,
   "metadata": {
    "collapsed": true
   },
   "outputs": [],
   "source": [
    "# jaccard index of undirected adjacency matrices for preprocessed data\n",
    "jaccard_matrix_raw = compare_runs(am_list, method='jaccard', symmetric=True)"
   ]
  },
  {
   "cell_type": "markdown",
   "metadata": {},
   "source": [
    "## Similarity across runs of DIRECTED graphs (preprocessed data)"
   ]
  },
  {
   "cell_type": "code",
   "execution_count": 40,
   "metadata": {
    "collapsed": true
   },
   "outputs": [],
   "source": [
    "def get_mixed_adjacency_dicts(images_instance):\n",
    "    \"\"\"x\n",
    "    create a list of dicts, each containing the pair of nodes\n",
    "    and wether edge is directed.\n",
    "    \"\"\"\n",
    "    edgestrings = [str(edge) for edge in images_instance.edges]\n",
    "    \n",
    "    pairdicts = []\n",
    "    for element in sorted(edgestrings):\n",
    "        pairdict = {}\n",
    "        if '-->' in element:\n",
    "            pairdict['directed'] = True\n",
    "            pair = element.split('-->')\n",
    "        else:\n",
    "            pairdict['directed'] = False\n",
    "            pair = [word.replace('- ', '')\n",
    "                    for word in element.split('--')]\n",
    "\n",
    "        # remove whitespace and append\n",
    "        pairdict['pair'] = [string.replace(' ', '') for string in pair]\n",
    "        pairdicts.append(pairdict)\n",
    "    return pairdicts"
   ]
  },
  {
   "cell_type": "code",
   "execution_count": 41,
   "metadata": {},
   "outputs": [
    {
     "data": {
      "text/plain": [
       "[{'directed': True, 'pair': ['EV1-R', 'EV1-L']},\n",
       " {'directed': True, 'pair': ['EV1-R', 'EV2-L']},\n",
       " {'directed': True, 'pair': ['EV1-R', 'EV2-R']},\n",
       " {'directed': True, 'pair': ['EV2-L', 'EV1-L']},\n",
       " {'directed': True, 'pair': ['EV2-L', 'EV2-R']}]"
      ]
     },
     "execution_count": 41,
     "metadata": {},
     "output_type": "execute_result"
    }
   ],
   "source": [
    "adjacency_dicts = get_mixed_adjacency_dicts(lofs_raw)\n",
    "# show first few entries as example\n",
    "adjacency_dicts[:5]"
   ]
  },
  {
   "cell_type": "code",
   "execution_count": 42,
   "metadata": {
    "collapsed": true
   },
   "outputs": [],
   "source": [
    "def mixed_am_from_images(images_instance):\n",
    "    \"\"\"\n",
    "    Get adjacency matrix that allows undirected and directed edges\n",
    "    from result of IMaGES by py-causal.\n",
    "    \"\"\"\n",
    "    \n",
    "    # get nodes and dict of adjacencies (mixed)\n",
    "    adjacency_dicts = get_mixed_adjacency_dicts(images_instance)\n",
    "    nodes = [str(node) for node in images_instance.nodes]\n",
    "\n",
    "    # initiate empty matrix\n",
    "    am = np.zeros((len(nodes),len(nodes)))\n",
    "    \n",
    "    for edgedict in adjacency_dicts:\n",
    "        # find out node indices for source and target\n",
    "        source_index = nodes.index(edgedict['pair'][0])\n",
    "        target_index = nodes.index(edgedict['pair'][1])\n",
    "        # fill in matrix\n",
    "        am[source_index, target_index] = 1\n",
    "        # for undirected edges, also fill in on other side of diagonal\n",
    "        if not edgedict['directed']:\n",
    "            am[target_index, source_index] = 1\n",
    "    return am"
   ]
  },
  {
   "cell_type": "code",
   "execution_count": 43,
   "metadata": {
    "collapsed": true
   },
   "outputs": [],
   "source": [
    "def csv2mixed_am(rundir):\n",
    "    \"\"\"\n",
    "    Use above to run IMaGES on csv directory and extract mixed adjacency matrix\n",
    "    \"\"\"\n",
    "    dfs = getdfs(rundir)  \n",
    "    images_instance = run_images_lofs(dfs)\n",
    "    am = mixed_am_from_images(images_instance)\n",
    "    return am"
   ]
  },
  {
   "cell_type": "code",
   "execution_count": 44,
   "metadata": {},
   "outputs": [
    {
     "data": {
      "text/plain": [
       "(11, 30, 30)"
      ]
     },
     "execution_count": 44,
     "metadata": {},
     "output_type": "execute_result"
    }
   ],
   "source": [
    "# get mixed adjacency matrices for preprocessed data\n",
    "mixed_ams = [csv2mixed_am(rundir) for rundir in rundirs_raw]\n",
    "np.shape(mixed_ams)"
   ]
  },
  {
   "cell_type": "code",
   "execution_count": 45,
   "metadata": {},
   "outputs": [
    {
     "data": {
      "text/plain": [
       "<matplotlib.axes._subplots.AxesSubplot at 0x12d33a490>"
      ]
     },
     "execution_count": 45,
     "metadata": {},
     "output_type": "execute_result"
    },
    {
     "data": {
      "image/png": "[encoded data removed]",
      "text/plain": [
       "<matplotlib.figure.Figure at 0x12968b110>"
      ]
     },
     "metadata": {},
     "output_type": "display_data"
    }
   ],
   "source": [
    "# inspect one random am\n",
    "sb.heatmap(mixed_ams[1],\n",
    "           cbar=False, square=True,\n",
    "           xticklabels=nodes, yticklabels=nodes)"
   ]
  },
  {
   "cell_type": "code",
   "execution_count": 46,
   "metadata": {
    "collapsed": true
   },
   "outputs": [],
   "source": [
    "mixed_ams_n = [csv2mixed_am(rundir) for rundir in rundirs_raw]"
   ]
  },
  {
   "cell_type": "code",
   "execution_count": 47,
   "metadata": {
    "collapsed": true
   },
   "outputs": [],
   "source": [
    "# with open('mixed_ams.pickle', 'wb') as handle:\n",
    "#     pickle.dump(mixed_ams, handle, protocol=pickle.HIGHEST_PROTOCOL)"
   ]
  },
  {
   "cell_type": "code",
   "execution_count": 48,
   "metadata": {
    "collapsed": true
   },
   "outputs": [],
   "source": [
    "# simple matching of directed adjacency matrices from preprocessed data\n",
    "simple_matches_directed = compare_runs(mixed_ams)"
   ]
  },
  {
   "cell_type": "code",
   "execution_count": 49,
   "metadata": {
    "collapsed": true
   },
   "outputs": [],
   "source": [
    "# jaccard index of directed adjacency matrices from preprocessed data\n",
    "jaccard_directed = compare_runs(mixed_ams, method='jaccard')"
   ]
  },
  {
   "cell_type": "markdown",
   "metadata": {},
   "source": [
    "## Similarity across runs of undirected graphs (residual data, with button press)"
   ]
  },
  {
   "cell_type": "markdown",
   "metadata": {},
   "source": [
    "This is not to be used for the overview plot but rather just for completeness. We decided that regressing out button press might remove actual signal. Therefore, we want to focus on nuisance model with only motion and artifact regressors."
   ]
  },
  {
   "cell_type": "code",
   "execution_count": 50,
   "metadata": {
    "collapsed": true
   },
   "outputs": [],
   "source": [
    "basedir_nb = '/host/famfaces/extract_meants_nuisance_button/csv'\n",
    "rundirs_nb = [pjoin(basedir_nb, 'run%02d' % i) for i in xrange(1,12)]"
   ]
  },
  {
   "cell_type": "code",
   "execution_count": 51,
   "metadata": {
    "collapsed": true
   },
   "outputs": [],
   "source": [
    "# again, this takes a while. use pickle\n",
    "am_list_nb = get_all_ams(rundirs_nb)"
   ]
  },
  {
   "cell_type": "code",
   "execution_count": 52,
   "metadata": {
    "collapsed": true
   },
   "outputs": [],
   "source": [
    "# save am_list_nb as pickle\n",
    "#with open('am_list_nb.pickle', 'wb') as handle:\n",
    "#    pickle.dump(am_list_nb, handle, protocol=pickle.HIGHEST_PROTOCOL)"
   ]
  },
  {
   "cell_type": "code",
   "execution_count": 53,
   "metadata": {
    "collapsed": true
   },
   "outputs": [],
   "source": [
    "# Graph similarity (simple matching) across runs for residual data\n",
    "match_matrix_nb = compare_runs(am_list_nb, symmetric=True)"
   ]
  },
  {
   "cell_type": "code",
   "execution_count": 54,
   "metadata": {
    "collapsed": true
   },
   "outputs": [],
   "source": [
    "# graph similarity (jaccard index) for residual data\n",
    "jaccard_matrix_nb = compare_runs(am_list_nb, method='jaccard', symmetric=True)"
   ]
  },
  {
   "cell_type": "markdown",
   "metadata": {},
   "source": [
    "## Similarity across runs of undirected graphs (residual data, without button press)"
   ]
  },
  {
   "cell_type": "code",
   "execution_count": 55,
   "metadata": {
    "collapsed": true
   },
   "outputs": [],
   "source": [
    "basedir_n = '/host/famfaces/extract_meants_nuisance/csv'\n",
    "rundirs_n = [pjoin(basedir_n, 'run%02d' % i) for i in xrange(1,12)]"
   ]
  },
  {
   "cell_type": "code",
   "execution_count": 56,
   "metadata": {
    "collapsed": true
   },
   "outputs": [],
   "source": [
    "# list of undirected adjacency matrices\n",
    "am_list_n = get_all_ams(rundirs_n)"
   ]
  },
  {
   "cell_type": "code",
   "execution_count": 57,
   "metadata": {
    "collapsed": true
   },
   "outputs": [],
   "source": [
    "# graph comparison\n",
    "match_matrix_n = compare_runs(am_list_n, symmetric=True)\n",
    "jaccard_matrix_n = compare_runs(am_list_n, method='jaccard', symmetric=True)"
   ]
  },
  {
   "cell_type": "markdown",
   "metadata": {},
   "source": [
    "## Similarity across runs of DIRECTED graphs (residual data, without button press)"
   ]
  },
  {
   "cell_type": "code",
   "execution_count": 58,
   "metadata": {
    "collapsed": true
   },
   "outputs": [],
   "source": [
    "# list of directed adjacency matrices\n",
    "am_list_directed_n = [csv2mixed_am(rundir) for rundir in rundirs_n]"
   ]
  },
  {
   "cell_type": "code",
   "execution_count": 59,
   "metadata": {
    "collapsed": true
   },
   "outputs": [],
   "source": [
    "# graph comparison\n",
    "match_matrix_n_dir = compare_runs(am_list_directed_n, symmetric=True)\n",
    "jaccard_matrix_n_dir = compare_runs(am_list_directed_n, method='jaccard', symmetric=True)"
   ]
  },
  {
   "cell_type": "markdown",
   "metadata": {},
   "source": [
    "# Overview plot"
   ]
  },
  {
   "cell_type": "code",
   "execution_count": 60,
   "metadata": {
    "collapsed": true,
    "scrolled": false
   },
   "outputs": [],
   "source": [
    "def overview_plot(fonts=16, figs=(20,8), equal_limits=False):\n",
    "    \"\"\"\n",
    "    Make an overview plot containing heatmaps in two rows, and four columns.\n",
    "    Each heatmap represents graph similarity across runs.\n",
    "    We plot seperate heatmaps for each similarity measure (jaccard vs. simple matching),\n",
    "    data used (preprocessed vs. residual), and directionality of edges (undirected vs. directed).\n",
    "    \"\"\"\n",
    "    # TODO: make this function more flexible\n",
    "    \n",
    "    fig, axs = plt.subplots(ncols=4, nrows=2, figsize=figs)\n",
    "    \n",
    "    # arguments for seaborn heatmap plot\n",
    "    kwargs = {'xticklabels': range(1,12),\n",
    "              'yticklabels': range(1,12),\n",
    "              'cbar': True,\n",
    "              'square': True,\n",
    "              'cmap': 'viridis'}\n",
    "\n",
    "    # set equal vmin and vmax to all color bars if desired \n",
    "    if equal_limits:\n",
    "        kwargs['vmin'] = np.min([match_matrix_raw, jaccard_matrix_raw, simple_matches_directed,\n",
    "                                 jaccard_directed, match_matrix_n, jaccard_matrix_n])\n",
    "        kwargs['vmax'] = np.max([match_matrix_raw, jaccard_matrix_raw, simple_matches_directed,\n",
    "                                 jaccard_directed, match_matrix_n, jaccard_matrix_n])\n",
    "        \n",
    "    # preprocessed data (left half of panel)\n",
    "\n",
    "    positions_prep = [(0,0), (0,1), (1,0), (1,1)]\n",
    "    matrices_prep = [match_matrix_raw, jaccard_matrix_raw, simple_matches_directed, jaccard_directed]\n",
    "    titles_prep = ['simple matching\\npreprocessed data', 'jaccard\\npreprocessed data'] *2\n",
    "        \n",
    "    for mat, pos, ttl in zip(matrices_prep, positions_prep, titles_prep):\n",
    "        heatmap = sb.heatmap(mat, ax=axs[pos], **kwargs)\n",
    "        heatmap.set_title(ttl, fontweight='bold', fontsize=fonts)\n",
    "\n",
    "    # residuals (right half of panel)\n",
    "\n",
    "    positions_res = [(0,2), (0,3), (1,2), (1,3)]\n",
    "    matrices_res = [match_matrix_n, jaccard_matrix_n, match_matrix_n_dir, jaccard_matrix_n_dir]\n",
    "    titles_res = ['simple matching\\nresidual data', 'jaccard\\nresidual data'] *2\n",
    "\n",
    "    for mat, pos, ttl in zip(matrices_res, positions_res, titles_res):\n",
    "        heatmap = sb.heatmap(mat, ax=axs[pos], **kwargs)\n",
    "        heatmap.set_title(ttl, fontweight='bold', fontsize=fonts)\n",
    "\n",
    "    # turn off redundant axes\n",
    "    axs[1,2].axis('off')\n",
    "    axs[1,3].axis('off')\n",
    "    \n",
    "    # row labels\n",
    "    rownames = ['undirected', 'directed']\n",
    "    for ax, rowname in zip(axs[:,0], rownames):\n",
    "        ax.set_ylabel(rowname, rotation=90, fontsize=fonts, fontweight='bold')\n",
    "    \n",
    "    return fig, axs"
   ]
  },
  {
   "cell_type": "code",
   "execution_count": 61,
   "metadata": {},
   "outputs": [
    {
     "data": {
      "image/png": "[encoded data removed]",
      "text/plain": [
       "<matplotlib.figure.Figure at 0x12ced7810>"
      ]
     },
     "metadata": {},
     "output_type": "display_data"
    }
   ],
   "source": [
    "fig, axs = overview_plot()"
   ]
  },
  {
   "cell_type": "code",
   "execution_count": 62,
   "metadata": {
    "collapsed": true
   },
   "outputs": [],
   "source": [
    "# fig.savefig('overview_graphcomp_runs_withlofs.png', dpi=300)"
   ]
  },
  {
   "cell_type": "markdown",
   "metadata": {},
   "source": [
    " "
   ]
  },
  {
   "cell_type": "markdown",
   "metadata": {},
   "source": [
    " "
   ]
  },
  {
   "cell_type": "markdown",
   "metadata": {},
   "source": [
    "# Influence of experimental stimulation"
   ]
  },
  {
   "cell_type": "markdown",
   "metadata": {},
   "source": [
    "We modelled the influence of familiarity as a kind of differential regressor. For that purpose, stimulus onsets for familiar and unfamiliar faces respectively were convolved with a canonical HRF, and the result subtracted (familiar - unfamiliar).\n",
    "\n",
    "See also the notebook 'model_contrast_for_tetrad.ipynb' and the script 'meants_tetrad.py'"
   ]
  },
  {
   "cell_type": "markdown",
   "metadata": {},
   "source": [
    "## Residual data"
   ]
  },
  {
   "cell_type": "code",
   "execution_count": 63,
   "metadata": {
    "collapsed": true
   },
   "outputs": [],
   "source": [
    "path_withc_nb = pjoin('/host', 'famfaces', 'extract_meants_nuisance_button_withcontrast', 'sub*', 'csv', 'run*')"
   ]
  },
  {
   "cell_type": "code",
   "execution_count": 64,
   "metadata": {
    "collapsed": true
   },
   "outputs": [],
   "source": [
    "dfs_withc_nb = getdfs(path_withc_nb)"
   ]
  },
  {
   "cell_type": "code",
   "execution_count": 65,
   "metadata": {
    "collapsed": true
   },
   "outputs": [],
   "source": [
    "# perform images search\n",
    "pc.start_vm() # start\n",
    "images_withc_nb = s.imagesSemBic(dfs_withc_nb, verbose = True)\n",
    "pc.stop_vm() # stop"
   ]
  },
  {
   "cell_type": "code",
   "execution_count": 66,
   "metadata": {},
   "outputs": [
    {
     "data": {
      "image/svg+xml": [
       "<svg height=\"1268pt\" viewBox=\"0.00 0.00 449.02 1268.00\" width=\"449pt\" xmlns=\"http://www.w3.org/2000/svg\" xmlns:xlink=\"http://www.w3.org/1999/xlink\">\n",
       "<g class=\"graph\" id=\"graph0\" transform=\"scale(1 1) rotate(0) translate(4 1264)\">\n",
       "<title>G</title>\n",
       "<polygon fill=\"white\" points=\"-4,4 -4,-1264 445.016,-1264 445.016,4 -4,4\" stroke=\"none\"/>\n",
       "<!-- EV1&#45;L -->\n",
       "<g class=\"node\" id=\"node1\"><title>EV1-L</title>\n",
       "<ellipse cx=\"109.406\" cy=\"-882\" fill=\"none\" rx=\"34.8285\" ry=\"18\" stroke=\"black\"/>\n",
       "<text font-family=\"Times,serif\" font-size=\"14.00\" text-anchor=\"middle\" x=\"109.406\" y=\"-877.8\">EV1-L</text>\n",
       "</g>\n",
       "<!-- dPreCun&#45;R -->\n",
       "<g class=\"node\" id=\"node26\"><title>dPreCun-R</title>\n",
       "<ellipse cx=\"109.406\" cy=\"-810\" fill=\"none\" rx=\"49.805\" ry=\"18\" stroke=\"black\"/>\n",
       "<text font-family=\"Times,serif\" font-size=\"14.00\" text-anchor=\"middle\" x=\"109.406\" y=\"-805.8\">dPreCun-R</text>\n",
       "</g>\n",
       "<!-- EV1&#45;L&#45;&gt;dPreCun&#45;R -->\n",
       "<g class=\"edge\" id=\"edge9\"><title>EV1-L-&gt;dPreCun-R</title>\n",
       "<path d=\"M109.406,-863.697C109.406,-855.983 109.406,-846.712 109.406,-838.112\" fill=\"none\" stroke=\"black\"/>\n",
       "<polygon fill=\"black\" points=\"112.906,-838.104 109.406,-828.104 105.906,-838.104 112.906,-838.104\" stroke=\"black\"/>\n",
       "</g>\n",
       "<!-- EV1&#45;R -->\n",
       "<g class=\"node\" id=\"node2\"><title>EV1-R</title>\n",
       "<ellipse cx=\"141.406\" cy=\"-954\" fill=\"none\" rx=\"35.3216\" ry=\"18\" stroke=\"black\"/>\n",
       "<text font-family=\"Times,serif\" font-size=\"14.00\" text-anchor=\"middle\" x=\"141.406\" y=\"-949.8\">EV1-R</text>\n",
       "</g>\n",
       "<!-- EV1&#45;R&#45;&gt;EV1&#45;L -->\n",
       "<g class=\"edge\" id=\"edge29\"><title>EV1-R-&gt;EV1-L</title>\n",
       "<path d=\"M133.822,-936.411C130.091,-928.249 125.507,-918.22 121.321,-909.065\" fill=\"none\" stroke=\"black\"/>\n",
       "<polygon fill=\"black\" points=\"124.498,-907.596 117.157,-899.956 118.132,-910.506 124.498,-907.596\" stroke=\"black\"/>\n",
       "</g>\n",
       "<!-- EV2&#45;L -->\n",
       "<g class=\"node\" id=\"node3\"><title>EV2-L</title>\n",
       "<ellipse cx=\"146.406\" cy=\"-1098\" fill=\"none\" rx=\"34.8285\" ry=\"18\" stroke=\"black\"/>\n",
       "<text font-family=\"Times,serif\" font-size=\"14.00\" text-anchor=\"middle\" x=\"146.406\" y=\"-1093.8\">EV2-L</text>\n",
       "</g>\n",
       "<!-- EV2&#45;L&#45;&gt;EV1&#45;R -->\n",
       "<g class=\"edge\" id=\"edge30\"><title>EV2-L-&gt;EV1-R</title>\n",
       "<path d=\"M145.803,-1079.87C144.842,-1052.58 142.973,-999.52 142.011,-972.189\" fill=\"none\" stroke=\"black\"/>\n",
       "</g>\n",
       "<!-- EV2&#45;R -->\n",
       "<g class=\"node\" id=\"node4\"><title>EV2-R</title>\n",
       "<ellipse cx=\"191.406\" cy=\"-1026\" fill=\"none\" rx=\"35.3216\" ry=\"18\" stroke=\"black\"/>\n",
       "<text font-family=\"Times,serif\" font-size=\"14.00\" text-anchor=\"middle\" x=\"191.406\" y=\"-1021.8\">EV2-R</text>\n",
       "</g>\n",
       "<!-- EV2&#45;L&#45;&gt;EV2&#45;R -->\n",
       "<g class=\"edge\" id=\"edge31\"><title>EV2-L-&gt;EV2-R</title>\n",
       "<path d=\"M156.843,-1080.76C164.009,-1069.62 173.493,-1054.87 180.713,-1043.63\" fill=\"none\" stroke=\"black\"/>\n",
       "</g>\n",
       "<!-- EV2&#45;R&#45;&gt;EV1&#45;R -->\n",
       "<g class=\"edge\" id=\"edge19\"><title>EV2-R-&gt;EV1-R</title>\n",
       "<path d=\"M179.809,-1008.76C171.732,-997.456 161.003,-982.437 152.94,-971.147\" fill=\"none\" stroke=\"black\"/>\n",
       "</g>\n",
       "<!-- OccFus&#45;L -->\n",
       "<g class=\"node\" id=\"node5\"><title>OccFus-L</title>\n",
       "<ellipse cx=\"244.406\" cy=\"-1098\" fill=\"none\" rx=\"45.4441\" ry=\"18\" stroke=\"black\"/>\n",
       "<text font-family=\"Times,serif\" font-size=\"14.00\" text-anchor=\"middle\" x=\"244.406\" y=\"-1093.8\">OccFus-L</text>\n",
       "</g>\n",
       "<!-- OccFus&#45;R -->\n",
       "<g class=\"node\" id=\"node6\"><title>OccFus-R</title>\n",
       "<ellipse cx=\"152.406\" cy=\"-1170\" fill=\"none\" rx=\"45.9373\" ry=\"18\" stroke=\"black\"/>\n",
       "<text font-family=\"Times,serif\" font-size=\"14.00\" text-anchor=\"middle\" x=\"152.406\" y=\"-1165.8\">OccFus-R</text>\n",
       "</g>\n",
       "<!-- OccFus&#45;R&#45;&gt;EV2&#45;L -->\n",
       "<g class=\"edge\" id=\"edge2\"><title>OccFus-R-&gt;EV2-L</title>\n",
       "<path d=\"M150.923,-1151.7C149.993,-1140.85 148.799,-1126.92 147.872,-1116.1\" fill=\"none\" stroke=\"black\"/>\n",
       "</g>\n",
       "<!-- OccFus&#45;R&#45;&gt;OccFus&#45;L -->\n",
       "<g class=\"edge\" id=\"edge17\"><title>OccFus-R-&gt;OccFus-L</title>\n",
       "<path d=\"M172.824,-1153.46C185.537,-1143.79 202.073,-1131.21 216.048,-1120.58\" fill=\"none\" stroke=\"black\"/>\n",
       "<polygon fill=\"black\" points=\"218.523,-1123.09 224.362,-1114.25 214.284,-1117.52 218.523,-1123.09\" stroke=\"black\"/>\n",
       "</g>\n",
       "<!-- pFus&#45;L -->\n",
       "<g class=\"node\" id=\"node7\"><title>pFus-L</title>\n",
       "<ellipse cx=\"252.406\" cy=\"-1170\" fill=\"none\" rx=\"35.8147\" ry=\"18\" stroke=\"black\"/>\n",
       "<text font-family=\"Times,serif\" font-size=\"14.00\" text-anchor=\"middle\" x=\"252.406\" y=\"-1165.8\">pFus-L</text>\n",
       "</g>\n",
       "<!-- pFus&#45;L&#45;&gt;OccFus&#45;L -->\n",
       "<g class=\"edge\" id=\"edge32\"><title>pFus-L-&gt;OccFus-L</title>\n",
       "<path d=\"M250.428,-1151.7C249.547,-1143.98 248.487,-1134.71 247.504,-1126.11\" fill=\"none\" stroke=\"black\"/>\n",
       "<polygon fill=\"black\" points=\"250.974,-1125.64 246.361,-1116.1 244.019,-1126.44 250.974,-1125.64\" stroke=\"black\"/>\n",
       "</g>\n",
       "<!-- mFus&#45;L -->\n",
       "<g class=\"node\" id=\"node9\"><title>mFus-L</title>\n",
       "<ellipse cx=\"346.406\" cy=\"-1098\" fill=\"none\" rx=\"38.2284\" ry=\"18\" stroke=\"black\"/>\n",
       "<text font-family=\"Times,serif\" font-size=\"14.00\" text-anchor=\"middle\" x=\"346.406\" y=\"-1093.8\">mFus-L</text>\n",
       "</g>\n",
       "<!-- pFus&#45;L&#45;&gt;mFus&#45;L -->\n",
       "<g class=\"edge\" id=\"edge4\"><title>pFus-L-&gt;mFus-L</title>\n",
       "<path d=\"M271.883,-1154.5C288.015,-1142.48 310.828,-1125.49 326.954,-1113.49\" fill=\"none\" stroke=\"black\"/>\n",
       "</g>\n",
       "<!-- pFus&#45;R -->\n",
       "<g class=\"node\" id=\"node8\"><title>pFus-R</title>\n",
       "<ellipse cx=\"152.406\" cy=\"-1242\" fill=\"none\" rx=\"36.3078\" ry=\"18\" stroke=\"black\"/>\n",
       "<text font-family=\"Times,serif\" font-size=\"14.00\" text-anchor=\"middle\" x=\"152.406\" y=\"-1237.8\">pFus-R</text>\n",
       "</g>\n",
       "<!-- pFus&#45;R&#45;&gt;EV1&#45;L -->\n",
       "<g class=\"edge\" id=\"edge35\"><title>pFus-R-&gt;EV1-L</title>\n",
       "<path d=\"M132.448,-1226.73C120.482,-1217.12 105.971,-1203.42 97.4058,-1188 77.7623,-1152.64 78.4058,-1139.45 78.4058,-1099 78.4058,-1099 78.4058,-1099 78.4058,-1025 78.4058,-983.873 90.9712,-937.557 100.102,-909.328\" fill=\"none\" stroke=\"black\"/>\n",
       "<polygon fill=\"black\" points=\"103.44,-910.384 103.281,-899.79 96.7988,-908.17 103.44,-910.384\" stroke=\"black\"/>\n",
       "</g>\n",
       "<!-- pFus&#45;R&#45;&gt;OccFus&#45;R -->\n",
       "<g class=\"edge\" id=\"edge20\"><title>pFus-R-&gt;OccFus-R</title>\n",
       "<path d=\"M152.406,-1223.7C152.406,-1212.85 152.406,-1198.92 152.406,-1188.1\" fill=\"none\" stroke=\"black\"/>\n",
       "</g>\n",
       "<!-- pFus&#45;R&#45;&gt;pFus&#45;L -->\n",
       "<g class=\"edge\" id=\"edge6\"><title>pFus-R-&gt;pFus-L</title>\n",
       "<path d=\"M172.642,-1226.83C189.992,-1214.69 214.859,-1197.28 232.199,-1185.14\" fill=\"none\" stroke=\"black\"/>\n",
       "</g>\n",
       "<!-- mFus&#45;R -->\n",
       "<g class=\"node\" id=\"node10\"><title>mFus-R</title>\n",
       "<ellipse cx=\"402.406\" cy=\"-1026\" fill=\"none\" rx=\"38.7215\" ry=\"18\" stroke=\"black\"/>\n",
       "<text font-family=\"Times,serif\" font-size=\"14.00\" text-anchor=\"middle\" x=\"402.406\" y=\"-1021.8\">mFus-R</text>\n",
       "</g>\n",
       "<!-- mFus&#45;L&#45;&gt;mFus&#45;R -->\n",
       "<g class=\"edge\" id=\"edge7\"><title>mFus-L-&gt;mFus-R</title>\n",
       "<path d=\"M359.394,-1080.76C368.441,-1069.46 380.457,-1054.44 389.488,-1043.15\" fill=\"none\" stroke=\"black\"/>\n",
       "</g>\n",
       "<!-- aFus&#45;R -->\n",
       "<g class=\"node\" id=\"node13\"><title>aFus-R</title>\n",
       "<ellipse cx=\"310.406\" cy=\"-1026\" fill=\"none\" rx=\"35.8147\" ry=\"18\" stroke=\"black\"/>\n",
       "<text font-family=\"Times,serif\" font-size=\"14.00\" text-anchor=\"middle\" x=\"310.406\" y=\"-1021.8\">aFus-R</text>\n",
       "</g>\n",
       "<!-- mFus&#45;L&#45;&gt;aFus&#45;R -->\n",
       "<g class=\"edge\" id=\"edge10\"><title>mFus-L-&gt;aFus-R</title>\n",
       "<path d=\"M337.874,-1080.41C332.219,-1069.41 324.82,-1055.03 319.126,-1043.96\" fill=\"none\" stroke=\"black\"/>\n",
       "</g>\n",
       "<!-- pMTG&#45;L -->\n",
       "<g class=\"node\" id=\"node11\"><title>pMTG-L</title>\n",
       "<ellipse cx=\"291.406\" cy=\"-90\" fill=\"none\" rx=\"42.5542\" ry=\"18\" stroke=\"black\"/>\n",
       "<text font-family=\"Times,serif\" font-size=\"14.00\" text-anchor=\"middle\" x=\"291.406\" y=\"-85.8\">pMTG-L</text>\n",
       "</g>\n",
       "<!-- pMTG&#45;R -->\n",
       "<g class=\"node\" id=\"node12\"><title>pMTG-R</title>\n",
       "<ellipse cx=\"175.406\" cy=\"-234\" fill=\"none\" rx=\"43.0474\" ry=\"18\" stroke=\"black\"/>\n",
       "<text font-family=\"Times,serif\" font-size=\"14.00\" text-anchor=\"middle\" x=\"175.406\" y=\"-229.8\">pMTG-R</text>\n",
       "</g>\n",
       "<!-- pMTG&#45;R&#45;&gt;pMTG&#45;L -->\n",
       "<g class=\"edge\" id=\"edge16\"><title>pMTG-R-&gt;pMTG-L</title>\n",
       "<path d=\"M186.771,-216.482C199.5,-198.272 221.027,-168.334 241.406,-144 249.908,-133.847 259.818,-123.135 268.563,-114.019\" fill=\"none\" stroke=\"black\"/>\n",
       "<polygon fill=\"black\" points=\"271.13,-116.4 275.578,-106.784 266.104,-111.527 271.13,-116.4\" stroke=\"black\"/>\n",
       "</g>\n",
       "<!-- IFG2&#45;R -->\n",
       "<g class=\"node\" id=\"node20\"><title>IFG2-R</title>\n",
       "<ellipse cx=\"156.406\" cy=\"-162\" fill=\"none\" rx=\"37.7439\" ry=\"18\" stroke=\"black\"/>\n",
       "<text font-family=\"Times,serif\" font-size=\"14.00\" text-anchor=\"middle\" x=\"156.406\" y=\"-157.8\">IFG2-R</text>\n",
       "</g>\n",
       "<!-- pMTG&#45;R&#45;&gt;IFG2&#45;R -->\n",
       "<g class=\"edge\" id=\"edge8\"><title>pMTG-R-&gt;IFG2-R</title>\n",
       "<path d=\"M170.806,-216.055C168.691,-208.261 166.129,-198.822 163.756,-190.079\" fill=\"none\" stroke=\"black\"/>\n",
       "<polygon fill=\"black\" points=\"167.092,-189.009 161.095,-180.275 160.337,-190.843 167.092,-189.009\" stroke=\"black\"/>\n",
       "</g>\n",
       "<!-- mMTG&#45;L -->\n",
       "<g class=\"node\" id=\"node14\"><title>mMTG-L</title>\n",
       "<ellipse cx=\"112.406\" cy=\"-378\" fill=\"none\" rx=\"44.9682\" ry=\"18\" stroke=\"black\"/>\n",
       "<text font-family=\"Times,serif\" font-size=\"14.00\" text-anchor=\"middle\" x=\"112.406\" y=\"-373.8\">mMTG-L</text>\n",
       "</g>\n",
       "<!-- mMTG&#45;R -->\n",
       "<g class=\"node\" id=\"node15\"><title>mMTG-R</title>\n",
       "<ellipse cx=\"175.406\" cy=\"-306\" fill=\"none\" rx=\"45.4614\" ry=\"18\" stroke=\"black\"/>\n",
       "<text font-family=\"Times,serif\" font-size=\"14.00\" text-anchor=\"middle\" x=\"175.406\" y=\"-301.8\">mMTG-R</text>\n",
       "</g>\n",
       "<!-- mMTG&#45;L&#45;&gt;mMTG&#45;R -->\n",
       "<g class=\"edge\" id=\"edge18\"><title>mMTG-L-&gt;mMTG-R</title>\n",
       "<path d=\"M127.018,-360.765C135.049,-351.841 145.159,-340.608 154.058,-330.719\" fill=\"none\" stroke=\"black\"/>\n",
       "<polygon fill=\"black\" points=\"156.785,-332.922 160.873,-323.147 151.582,-328.239 156.785,-332.922\" stroke=\"black\"/>\n",
       "</g>\n",
       "<!-- IFG1&#45;L -->\n",
       "<g class=\"node\" id=\"node18\"><title>IFG1-L</title>\n",
       "<ellipse cx=\"90.4058\" cy=\"-90\" fill=\"none\" rx=\"37.2507\" ry=\"18\" stroke=\"black\"/>\n",
       "<text font-family=\"Times,serif\" font-size=\"14.00\" text-anchor=\"middle\" x=\"90.4058\" y=\"-85.8\">IFG1-L</text>\n",
       "</g>\n",
       "<!-- mMTG&#45;L&#45;&gt;IFG1&#45;L -->\n",
       "<g class=\"edge\" id=\"edge25\"><title>mMTG-L-&gt;IFG1-L</title>\n",
       "<path d=\"M111.096,-359.966C107.428,-312.291 97.0354,-177.185 92.5312,-118.63\" fill=\"none\" stroke=\"black\"/>\n",
       "<polygon fill=\"black\" points=\"95.9938,-118.009 91.7371,-108.306 89.0145,-118.545 95.9938,-118.009\" stroke=\"black\"/>\n",
       "</g>\n",
       "<!-- mMTG&#45;R&#45;&gt;pMTG&#45;R -->\n",
       "<g class=\"edge\" id=\"edge27\"><title>mMTG-R-&gt;pMTG-R</title>\n",
       "<path d=\"M175.406,-287.697C175.406,-279.983 175.406,-270.712 175.406,-262.112\" fill=\"none\" stroke=\"black\"/>\n",
       "<polygon fill=\"black\" points=\"178.906,-262.104 175.406,-252.104 171.906,-262.104 178.906,-262.104\" stroke=\"black\"/>\n",
       "</g>\n",
       "<!-- aMTG&#45;R -->\n",
       "<g class=\"node\" id=\"node17\"><title>aMTG-R</title>\n",
       "<ellipse cx=\"285.406\" cy=\"-234\" fill=\"none\" rx=\"42.5542\" ry=\"18\" stroke=\"black\"/>\n",
       "<text font-family=\"Times,serif\" font-size=\"14.00\" text-anchor=\"middle\" x=\"285.406\" y=\"-229.8\">aMTG-R</text>\n",
       "</g>\n",
       "<!-- mMTG&#45;R&#45;&gt;aMTG&#45;R -->\n",
       "<g class=\"edge\" id=\"edge34\"><title>mMTG-R-&gt;aMTG-R</title>\n",
       "<path d=\"M198.465,-290.326C214.56,-280.084 236.238,-266.289 253.921,-255.036\" fill=\"none\" stroke=\"black\"/>\n",
       "<polygon fill=\"black\" points=\"256.196,-257.737 262.753,-249.415 252.438,-251.831 256.196,-257.737\" stroke=\"black\"/>\n",
       "</g>\n",
       "<!-- aMTG&#45;L -->\n",
       "<g class=\"node\" id=\"node16\"><title>aMTG-L</title>\n",
       "<ellipse cx=\"292.406\" cy=\"-162\" fill=\"none\" rx=\"42.0611\" ry=\"18\" stroke=\"black\"/>\n",
       "<text font-family=\"Times,serif\" font-size=\"14.00\" text-anchor=\"middle\" x=\"292.406\" y=\"-157.8\">aMTG-L</text>\n",
       "</g>\n",
       "<!-- aMTG&#45;L&#45;&gt;pMTG&#45;L -->\n",
       "<g class=\"edge\" id=\"edge15\"><title>aMTG-L-&gt;pMTG-L</title>\n",
       "<path d=\"M292.159,-143.697C292.048,-135.983 291.916,-126.712 291.793,-118.112\" fill=\"none\" stroke=\"black\"/>\n",
       "<polygon fill=\"black\" points=\"295.293,-118.053 291.65,-108.104 288.293,-118.153 295.293,-118.053\" stroke=\"black\"/>\n",
       "</g>\n",
       "<!-- aMTG&#45;R&#45;&gt;aMTG&#45;L -->\n",
       "<g class=\"edge\" id=\"edge12\"><title>aMTG-R-&gt;aMTG-L</title>\n",
       "<path d=\"M287.136,-215.697C287.908,-207.983 288.835,-198.712 289.695,-190.112\" fill=\"none\" stroke=\"black\"/>\n",
       "<polygon fill=\"black\" points=\"293.183,-190.403 290.695,-180.104 286.218,-189.706 293.183,-190.403\" stroke=\"black\"/>\n",
       "</g>\n",
       "<!-- IFG2&#45;L -->\n",
       "<g class=\"node\" id=\"node19\"><title>IFG2-L</title>\n",
       "<ellipse cx=\"90.4058\" cy=\"-18\" fill=\"none\" rx=\"37.2507\" ry=\"18\" stroke=\"black\"/>\n",
       "<text font-family=\"Times,serif\" font-size=\"14.00\" text-anchor=\"middle\" x=\"90.4058\" y=\"-13.8\">IFG2-L</text>\n",
       "</g>\n",
       "<!-- IFG1&#45;L&#45;&gt;IFG2&#45;L -->\n",
       "<g class=\"edge\" id=\"edge13\"><title>IFG1-L-&gt;IFG2-L</title>\n",
       "<path d=\"M90.4058,-71.6966C90.4058,-63.9827 90.4058,-54.7125 90.4058,-46.1124\" fill=\"none\" stroke=\"black\"/>\n",
       "<polygon fill=\"black\" points=\"93.9059,-46.1043 90.4058,-36.1043 86.9059,-46.1044 93.9059,-46.1043\" stroke=\"black\"/>\n",
       "</g>\n",
       "<!-- IFG2&#45;R&#45;&gt;IFG1&#45;L -->\n",
       "<g class=\"edge\" id=\"edge5\"><title>IFG2-R-&gt;IFG1-L</title>\n",
       "<path d=\"M141.429,-145.116C132.822,-135.987 121.855,-124.355 112.296,-114.217\" fill=\"none\" stroke=\"black\"/>\n",
       "<polygon fill=\"black\" points=\"114.73,-111.696 105.323,-106.821 109.637,-116.498 114.73,-111.696\" stroke=\"black\"/>\n",
       "</g>\n",
       "<!-- MPFC&#45;R -->\n",
       "<g class=\"node\" id=\"node24\"><title>MPFC-R</title>\n",
       "<ellipse cx=\"188.406\" cy=\"-90\" fill=\"none\" rx=\"42.5974\" ry=\"18\" stroke=\"black\"/>\n",
       "<text font-family=\"Times,serif\" font-size=\"14.00\" text-anchor=\"middle\" x=\"188.406\" y=\"-85.8\">MPFC-R</text>\n",
       "</g>\n",
       "<!-- IFG2&#45;R&#45;&gt;MPFC&#45;R -->\n",
       "<g class=\"edge\" id=\"edge24\"><title>IFG2-R-&gt;MPFC-R</title>\n",
       "<path d=\"M164.152,-144.055C167.847,-135.973 172.35,-126.121 176.469,-117.112\" fill=\"none\" stroke=\"black\"/>\n",
       "<polygon fill=\"black\" points=\"179.756,-118.339 180.731,-107.789 173.39,-115.429 179.756,-118.339\" stroke=\"black\"/>\n",
       "</g>\n",
       "<!-- TPJ&#45;L -->\n",
       "<g class=\"node\" id=\"node21\"><title>TPJ-L</title>\n",
       "<ellipse cx=\"128.406\" cy=\"-450\" fill=\"none\" rx=\"32.4324\" ry=\"18\" stroke=\"black\"/>\n",
       "<text font-family=\"Times,serif\" font-size=\"14.00\" text-anchor=\"middle\" x=\"128.406\" y=\"-445.8\">TPJ-L</text>\n",
       "</g>\n",
       "<!-- TPJ&#45;L&#45;&gt;mMTG&#45;L -->\n",
       "<g class=\"edge\" id=\"edge11\"><title>TPJ-L-&gt;mMTG-L</title>\n",
       "<path d=\"M124.533,-432.055C122.751,-424.261 120.594,-414.822 118.595,-406.079\" fill=\"none\" stroke=\"black\"/>\n",
       "<polygon fill=\"black\" points=\"121.995,-405.244 116.354,-396.275 115.171,-406.804 121.995,-405.244\" stroke=\"black\"/>\n",
       "</g>\n",
       "<!-- TPJ&#45;R -->\n",
       "<g class=\"node\" id=\"node22\"><title>TPJ-R</title>\n",
       "<ellipse cx=\"208.406\" cy=\"-378\" fill=\"none\" rx=\"32.9255\" ry=\"18\" stroke=\"black\"/>\n",
       "<text font-family=\"Times,serif\" font-size=\"14.00\" text-anchor=\"middle\" x=\"208.406\" y=\"-373.8\">TPJ-R</text>\n",
       "</g>\n",
       "<!-- TPJ&#45;L&#45;&gt;TPJ&#45;R -->\n",
       "<g class=\"edge\" id=\"edge26\"><title>TPJ-L-&gt;TPJ-R</title>\n",
       "<path d=\"M144.982,-434.496C156.17,-424.707 171.132,-411.614 183.715,-400.605\" fill=\"none\" stroke=\"black\"/>\n",
       "<polygon fill=\"black\" points=\"186.355,-402.945 191.576,-393.726 181.745,-397.677 186.355,-402.945\" stroke=\"black\"/>\n",
       "</g>\n",
       "<!-- MPFC&#45;L -->\n",
       "<g class=\"node\" id=\"node23\"><title>MPFC-L</title>\n",
       "<ellipse cx=\"188.406\" cy=\"-18\" fill=\"none\" rx=\"42.1043\" ry=\"18\" stroke=\"black\"/>\n",
       "<text font-family=\"Times,serif\" font-size=\"14.00\" text-anchor=\"middle\" x=\"188.406\" y=\"-13.8\">MPFC-L</text>\n",
       "</g>\n",
       "<!-- MPFC&#45;R&#45;&gt;MPFC&#45;L -->\n",
       "<g class=\"edge\" id=\"edge14\"><title>MPFC-R-&gt;MPFC-L</title>\n",
       "<path d=\"M188.406,-71.6966C188.406,-63.9827 188.406,-54.7125 188.406,-46.1124\" fill=\"none\" stroke=\"black\"/>\n",
       "<polygon fill=\"black\" points=\"191.906,-46.1043 188.406,-36.1043 184.906,-46.1044 191.906,-46.1043\" stroke=\"black\"/>\n",
       "</g>\n",
       "<!-- dPreCun&#45;L -->\n",
       "<g class=\"node\" id=\"node25\"><title>dPreCun-L</title>\n",
       "<ellipse cx=\"49.4058\" cy=\"-738\" fill=\"none\" rx=\"49.3119\" ry=\"18\" stroke=\"black\"/>\n",
       "<text font-family=\"Times,serif\" font-size=\"14.00\" text-anchor=\"middle\" x=\"49.4058\" y=\"-733.8\">dPreCun-L</text>\n",
       "</g>\n",
       "<!-- dPreCun&#45;R&#45;&gt;dPreCun&#45;L -->\n",
       "<g class=\"edge\" id=\"edge36\"><title>dPreCun-R-&gt;dPreCun-L</title>\n",
       "<path d=\"M95.1867,-792.411C87.7144,-783.693 78.4162,-772.845 70.1553,-763.208\" fill=\"none\" stroke=\"black\"/>\n",
       "<polygon fill=\"black\" points=\"72.6883,-760.785 63.5229,-755.47 67.3735,-765.34 72.6883,-760.785\" stroke=\"black\"/>\n",
       "</g>\n",
       "<!-- mPreCun&#45;R -->\n",
       "<g class=\"node\" id=\"node28\"><title>mPreCun-R</title>\n",
       "<ellipse cx=\"169.406\" cy=\"-738\" fill=\"none\" rx=\"52.2192\" ry=\"18\" stroke=\"black\"/>\n",
       "<text font-family=\"Times,serif\" font-size=\"14.00\" text-anchor=\"middle\" x=\"169.406\" y=\"-733.8\">mPreCun-R</text>\n",
       "</g>\n",
       "<!-- dPreCun&#45;R&#45;&gt;mPreCun&#45;R -->\n",
       "<g class=\"edge\" id=\"edge21\"><title>dPreCun-R-&gt;mPreCun-R</title>\n",
       "<path d=\"M123.625,-792.411C131.097,-783.693 140.395,-772.845 148.656,-763.208\" fill=\"none\" stroke=\"black\"/>\n",
       "<polygon fill=\"black\" points=\"151.438,-765.34 155.289,-755.47 146.123,-760.785 151.438,-765.34\" stroke=\"black\"/>\n",
       "</g>\n",
       "<!-- mPreCun&#45;L -->\n",
       "<g class=\"node\" id=\"node27\"><title>mPreCun-L</title>\n",
       "<ellipse cx=\"128.406\" cy=\"-522\" fill=\"none\" rx=\"51.726\" ry=\"18\" stroke=\"black\"/>\n",
       "<text font-family=\"Times,serif\" font-size=\"14.00\" text-anchor=\"middle\" x=\"128.406\" y=\"-517.8\">mPreCun-L</text>\n",
       "</g>\n",
       "<!-- mPreCun&#45;L&#45;&gt;TPJ&#45;L -->\n",
       "<g class=\"edge\" id=\"edge37\"><title>mPreCun-L-&gt;TPJ-L</title>\n",
       "<path d=\"M128.406,-503.697C128.406,-495.983 128.406,-486.712 128.406,-478.112\" fill=\"none\" stroke=\"black\"/>\n",
       "<polygon fill=\"black\" points=\"131.906,-478.104 128.406,-468.104 124.906,-478.104 131.906,-478.104\" stroke=\"black\"/>\n",
       "</g>\n",
       "<!-- mPreCun&#45;R&#45;&gt;mPreCun&#45;L -->\n",
       "<g class=\"edge\" id=\"edge1\"><title>mPreCun-R-&gt;mPreCun-L</title>\n",
       "<path d=\"M161.896,-720.135C157.619,-709.876 152.51,-696.403 149.406,-684 137.845,-637.813 132.398,-582.487 130.03,-550.187\" fill=\"none\" stroke=\"black\"/>\n",
       "<polygon fill=\"black\" points=\"133.518,-549.899 129.34,-540.163 126.535,-550.379 133.518,-549.899\" stroke=\"black\"/>\n",
       "</g>\n",
       "<!-- vPreCun&#45;R -->\n",
       "<g class=\"node\" id=\"node30\"><title>vPreCun-R</title>\n",
       "<ellipse cx=\"208.406\" cy=\"-666\" fill=\"none\" rx=\"49.805\" ry=\"18\" stroke=\"black\"/>\n",
       "<text font-family=\"Times,serif\" font-size=\"14.00\" text-anchor=\"middle\" x=\"208.406\" y=\"-661.8\">vPreCun-R</text>\n",
       "</g>\n",
       "<!-- mPreCun&#45;R&#45;&gt;vPreCun&#45;R -->\n",
       "<g class=\"edge\" id=\"edge22\"><title>mPreCun-R-&gt;vPreCun-R</title>\n",
       "<path d=\"M178.847,-720.055C183.445,-711.801 189.072,-701.701 194.178,-692.538\" fill=\"none\" stroke=\"black\"/>\n",
       "<polygon fill=\"black\" points=\"197.242,-694.228 199.052,-683.789 191.127,-690.821 197.242,-694.228\" stroke=\"black\"/>\n",
       "</g>\n",
       "<!-- vPreCun&#45;L -->\n",
       "<g class=\"node\" id=\"node29\"><title>vPreCun-L</title>\n",
       "<ellipse cx=\"285.406\" cy=\"-594\" fill=\"none\" rx=\"49.3119\" ry=\"18\" stroke=\"black\"/>\n",
       "<text font-family=\"Times,serif\" font-size=\"14.00\" text-anchor=\"middle\" x=\"285.406\" y=\"-589.8\">vPreCun-L</text>\n",
       "</g>\n",
       "<!-- vPreCun&#45;L&#45;&gt;aMTG&#45;R -->\n",
       "<g class=\"edge\" id=\"edge23\"><title>vPreCun-L-&gt;aMTG-R</title>\n",
       "<path d=\"M285.406,-575.951C285.406,-549.292 285.406,-496.115 285.406,-451 285.406,-451 285.406,-451 285.406,-377 285.406,-336.996 285.406,-290.653 285.406,-262.08\" fill=\"none\" stroke=\"black\"/>\n",
       "<polygon fill=\"black\" points=\"288.906,-262.049 285.406,-252.049 281.906,-262.049 288.906,-262.049\" stroke=\"black\"/>\n",
       "</g>\n",
       "<!-- vPreCun&#45;L&#45;&gt;mPreCun&#45;L -->\n",
       "<g class=\"edge\" id=\"edge28\"><title>vPreCun-L-&gt;mPreCun-L</title>\n",
       "<path d=\"M255.506,-579.669C230.755,-568.633 195.376,-552.859 168.227,-540.755\" fill=\"none\" stroke=\"black\"/>\n",
       "<polygon fill=\"black\" points=\"169.557,-537.515 158.998,-536.64 166.706,-543.909 169.557,-537.515\" stroke=\"black\"/>\n",
       "</g>\n",
       "<!-- vPreCun&#45;R&#45;&gt;TPJ&#45;R -->\n",
       "<g class=\"edge\" id=\"edge33\"><title>vPreCun-R-&gt;TPJ-R</title>\n",
       "<path d=\"M208.406,-647.966C208.406,-600.291 208.406,-465.185 208.406,-406.63\" fill=\"none\" stroke=\"black\"/>\n",
       "<polygon fill=\"black\" points=\"211.906,-406.306 208.406,-396.306 204.906,-406.306 211.906,-406.306\" stroke=\"black\"/>\n",
       "</g>\n",
       "<!-- vPreCun&#45;R&#45;&gt;vPreCun&#45;L -->\n",
       "<g class=\"edge\" id=\"edge3\"><title>vPreCun-R-&gt;vPreCun-L</title>\n",
       "<path d=\"M225.878,-649.116C236.045,-639.874 249.034,-628.066 260.282,-617.84\" fill=\"none\" stroke=\"black\"/>\n",
       "<polygon fill=\"black\" points=\"262.691,-620.38 267.736,-611.064 257.982,-615.2 262.691,-620.38\" stroke=\"black\"/>\n",
       "</g>\n",
       "<!-- FAM&#45;UNFAM -->\n",
       "<g class=\"node\" id=\"node31\"><title>FAM-UNFAM</title>\n",
       "<ellipse cx=\"269.406\" cy=\"-1242\" fill=\"none\" rx=\"62.7138\" ry=\"18\" stroke=\"black\"/>\n",
       "<text font-family=\"Times,serif\" font-size=\"14.00\" text-anchor=\"middle\" x=\"269.406\" y=\"-1237.8\">FAM-UNFAM</text>\n",
       "</g>\n",
       "</g>\n",
       "</svg>"
      ],
      "text/plain": [
       "<IPython.core.display.SVG object>"
      ]
     },
     "execution_count": 66,
     "metadata": {},
     "output_type": "execute_result"
    }
   ],
   "source": [
    "# render resulting graph\n",
    "dot_withc_nb = images_withc_nb.getDot()\n",
    "svg_str = dot_withc_nb.create_svg(prog='dot')\n",
    "SVG(svg_str)"
   ]
  },
  {
   "cell_type": "markdown",
   "metadata": {},
   "source": [
    "## Preprocessed data"
   ]
  },
  {
   "cell_type": "code",
   "execution_count": 67,
   "metadata": {
    "collapsed": true
   },
   "outputs": [],
   "source": [
    "path_withc_raw = pjoin('/host', 'famfaces', 'extract_meants_withcontrast', 'sub*', 'csv', 'run*')"
   ]
  },
  {
   "cell_type": "code",
   "execution_count": 68,
   "metadata": {
    "collapsed": true
   },
   "outputs": [],
   "source": [
    "dfs_withc_raw = getdfs(path_withc_raw)"
   ]
  },
  {
   "cell_type": "code",
   "execution_count": 69,
   "metadata": {
    "collapsed": true
   },
   "outputs": [],
   "source": [
    "# perform images search\n",
    "pc.start_vm() # start\n",
    "images_withc_raw = s.imagesSemBic(dfs_withc_raw, verbose = True)\n",
    "pc.stop_vm() # stop"
   ]
  },
  {
   "cell_type": "code",
   "execution_count": 70,
   "metadata": {},
   "outputs": [
    {
     "data": {
      "image/svg+xml": [
       "<svg height=\"908pt\" viewBox=\"0.00 0.00 660.32 908.00\" width=\"660pt\" xmlns=\"http://www.w3.org/2000/svg\" xmlns:xlink=\"http://www.w3.org/1999/xlink\">\n",
       "<g class=\"graph\" id=\"graph0\" transform=\"scale(1 1) rotate(0) translate(4 904)\">\n",
       "<title>G</title>\n",
       "<polygon fill=\"white\" points=\"-4,4 -4,-904 656.321,-904 656.321,4 -4,4\" stroke=\"none\"/>\n",
       "<!-- EV1&#45;L -->\n",
       "<g class=\"node\" id=\"node1\"><title>EV1-L</title>\n",
       "<ellipse cx=\"34.6638\" cy=\"-522\" fill=\"none\" rx=\"34.8285\" ry=\"18\" stroke=\"black\"/>\n",
       "<text font-family=\"Times,serif\" font-size=\"14.00\" text-anchor=\"middle\" x=\"34.6638\" y=\"-517.8\">EV1-L</text>\n",
       "</g>\n",
       "<!-- EV1&#45;R -->\n",
       "<g class=\"node\" id=\"node2\"><title>EV1-R</title>\n",
       "<ellipse cx=\"65.6638\" cy=\"-594\" fill=\"none\" rx=\"35.3216\" ry=\"18\" stroke=\"black\"/>\n",
       "<text font-family=\"Times,serif\" font-size=\"14.00\" text-anchor=\"middle\" x=\"65.6638\" y=\"-589.8\">EV1-R</text>\n",
       "</g>\n",
       "<!-- EV1&#45;R&#45;&gt;EV1&#45;L -->\n",
       "<g class=\"edge\" id=\"edge28\"><title>EV1-R-&gt;EV1-L</title>\n",
       "<path d=\"M58.1596,-576.055C54.5803,-567.973 50.2176,-558.121 46.2276,-549.112\" fill=\"none\" stroke=\"black\"/>\n",
       "<polygon fill=\"black\" points=\"49.3485,-547.515 42.099,-539.789 42.9481,-550.35 49.3485,-547.515\" stroke=\"black\"/>\n",
       "</g>\n",
       "<!-- EV2&#45;L -->\n",
       "<g class=\"node\" id=\"node3\"><title>EV2-L</title>\n",
       "<ellipse cx=\"108.664\" cy=\"-738\" fill=\"none\" rx=\"34.8285\" ry=\"18\" stroke=\"black\"/>\n",
       "<text font-family=\"Times,serif\" font-size=\"14.00\" text-anchor=\"middle\" x=\"108.664\" y=\"-733.8\">EV2-L</text>\n",
       "</g>\n",
       "<!-- EV2&#45;L&#45;&gt;EV1&#45;R -->\n",
       "<g class=\"edge\" id=\"edge29\"><title>EV2-L-&gt;EV1-R</title>\n",
       "<path d=\"M112.292,-720.014C115.438,-701.658 118.269,-671.836 109.664,-648 104.304,-633.152 92.773,-619.525 82.8602,-609.807\" fill=\"none\" stroke=\"black\"/>\n",
       "</g>\n",
       "<!-- EV2&#45;R -->\n",
       "<g class=\"node\" id=\"node4\"><title>EV2-R</title>\n",
       "<ellipse cx=\"65.6638\" cy=\"-666\" fill=\"none\" rx=\"35.3216\" ry=\"18\" stroke=\"black\"/>\n",
       "<text font-family=\"Times,serif\" font-size=\"14.00\" text-anchor=\"middle\" x=\"65.6638\" y=\"-661.8\">EV2-R</text>\n",
       "</g>\n",
       "<!-- EV2&#45;L&#45;&gt;EV2&#45;R -->\n",
       "<g class=\"edge\" id=\"edge31\"><title>EV2-L-&gt;EV2-R</title>\n",
       "<path d=\"M98.4734,-720.411C91.6189,-709.252 82.6203,-694.604 75.7811,-683.47\" fill=\"none\" stroke=\"black\"/>\n",
       "</g>\n",
       "<!-- EV2&#45;R&#45;&gt;EV1&#45;R -->\n",
       "<g class=\"edge\" id=\"edge17\"><title>EV2-R-&gt;EV1-R</title>\n",
       "<path d=\"M65.6638,-647.697C65.6638,-636.846 65.6638,-622.917 65.6638,-612.104\" fill=\"none\" stroke=\"black\"/>\n",
       "</g>\n",
       "<!-- OccFus&#45;L -->\n",
       "<g class=\"node\" id=\"node5\"><title>OccFus-L</title>\n",
       "<ellipse cx=\"207.664\" cy=\"-738\" fill=\"none\" rx=\"45.4441\" ry=\"18\" stroke=\"black\"/>\n",
       "<text font-family=\"Times,serif\" font-size=\"14.00\" text-anchor=\"middle\" x=\"207.664\" y=\"-733.8\">OccFus-L</text>\n",
       "</g>\n",
       "<!-- dPreCun&#45;R -->\n",
       "<g class=\"node\" id=\"node26\"><title>dPreCun-R</title>\n",
       "<ellipse cx=\"207.664\" cy=\"-666\" fill=\"none\" rx=\"49.805\" ry=\"18\" stroke=\"black\"/>\n",
       "<text font-family=\"Times,serif\" font-size=\"14.00\" text-anchor=\"middle\" x=\"207.664\" y=\"-661.8\">dPreCun-R</text>\n",
       "</g>\n",
       "<!-- OccFus&#45;L&#45;&gt;dPreCun&#45;R -->\n",
       "<g class=\"edge\" id=\"edge8\"><title>OccFus-L-&gt;dPreCun-R</title>\n",
       "<path d=\"M207.664,-719.697C207.664,-711.983 207.664,-702.712 207.664,-694.112\" fill=\"none\" stroke=\"black\"/>\n",
       "<polygon fill=\"black\" points=\"211.164,-694.104 207.664,-684.104 204.164,-694.104 211.164,-694.104\" stroke=\"black\"/>\n",
       "</g>\n",
       "<!-- OccFus&#45;R -->\n",
       "<g class=\"node\" id=\"node6\"><title>OccFus-R</title>\n",
       "<ellipse cx=\"108.664\" cy=\"-810\" fill=\"none\" rx=\"45.9373\" ry=\"18\" stroke=\"black\"/>\n",
       "<text font-family=\"Times,serif\" font-size=\"14.00\" text-anchor=\"middle\" x=\"108.664\" y=\"-805.8\">OccFus-R</text>\n",
       "</g>\n",
       "<!-- OccFus&#45;R&#45;&gt;EV2&#45;L -->\n",
       "<g class=\"edge\" id=\"edge1\"><title>OccFus-R-&gt;EV2-L</title>\n",
       "<path d=\"M108.664,-791.697C108.664,-780.846 108.664,-766.917 108.664,-756.104\" fill=\"none\" stroke=\"black\"/>\n",
       "</g>\n",
       "<!-- OccFus&#45;R&#45;&gt;OccFus&#45;L -->\n",
       "<g class=\"edge\" id=\"edge16\"><title>OccFus-R-&gt;OccFus-L</title>\n",
       "<path d=\"M130.145,-793.811C144.156,-783.904 162.633,-770.84 178.033,-759.951\" fill=\"none\" stroke=\"black\"/>\n",
       "<polygon fill=\"black\" points=\"180.08,-762.79 186.224,-754.159 176.038,-757.075 180.08,-762.79\" stroke=\"black\"/>\n",
       "</g>\n",
       "<!-- pFus&#45;L -->\n",
       "<g class=\"node\" id=\"node7\"><title>pFus-L</title>\n",
       "<ellipse cx=\"208.664\" cy=\"-810\" fill=\"none\" rx=\"35.8147\" ry=\"18\" stroke=\"black\"/>\n",
       "<text font-family=\"Times,serif\" font-size=\"14.00\" text-anchor=\"middle\" x=\"208.664\" y=\"-805.8\">pFus-L</text>\n",
       "</g>\n",
       "<!-- pFus&#45;L&#45;&gt;OccFus&#45;L -->\n",
       "<g class=\"edge\" id=\"edge32\"><title>pFus-L-&gt;OccFus-L</title>\n",
       "<path d=\"M208.417,-791.697C208.306,-783.983 208.174,-774.712 208.051,-766.112\" fill=\"none\" stroke=\"black\"/>\n",
       "<polygon fill=\"black\" points=\"211.551,-766.053 207.908,-756.104 204.551,-766.153 211.551,-766.053\" stroke=\"black\"/>\n",
       "</g>\n",
       "<!-- mFus&#45;L -->\n",
       "<g class=\"node\" id=\"node9\"><title>mFus-L</title>\n",
       "<ellipse cx=\"263.664\" cy=\"-378\" fill=\"none\" rx=\"38.2284\" ry=\"18\" stroke=\"black\"/>\n",
       "<text font-family=\"Times,serif\" font-size=\"14.00\" text-anchor=\"middle\" x=\"263.664\" y=\"-373.8\">mFus-L</text>\n",
       "</g>\n",
       "<!-- pFus&#45;L&#45;&gt;mFus&#45;L -->\n",
       "<g class=\"edge\" id=\"edge4\"><title>pFus-L-&gt;mFus-L</title>\n",
       "<path d=\"M237.077,-798.95C283.297,-780.572 369.664,-736.881 369.664,-667 369.664,-667 369.664,-667 369.664,-521 369.664,-480.553 374.066,-464.99 350.664,-432 338.749,-415.204 319.675,-402.722 302.418,-394.105\" fill=\"none\" stroke=\"black\"/>\n",
       "<polygon fill=\"black\" points=\"303.615,-390.8 293.076,-389.712 300.636,-397.135 303.615,-390.8\" stroke=\"black\"/>\n",
       "</g>\n",
       "<!-- pFus&#45;R -->\n",
       "<g class=\"node\" id=\"node8\"><title>pFus-R</title>\n",
       "<ellipse cx=\"108.664\" cy=\"-882\" fill=\"none\" rx=\"36.3078\" ry=\"18\" stroke=\"black\"/>\n",
       "<text font-family=\"Times,serif\" font-size=\"14.00\" text-anchor=\"middle\" x=\"108.664\" y=\"-877.8\">pFus-R</text>\n",
       "</g>\n",
       "<!-- pFus&#45;R&#45;&gt;EV1&#45;L -->\n",
       "<g class=\"edge\" id=\"edge36\"><title>pFus-R-&gt;EV1-L</title>\n",
       "<path d=\"M88.226,-867.054C57.4236,-844.198 2.66385,-795.606 2.66385,-739 2.66385,-739 2.66385,-739 2.66385,-665 2.66385,-623.812 15.6345,-577.512 25.0601,-549.304\" fill=\"none\" stroke=\"black\"/>\n",
       "<polygon fill=\"black\" points=\"28.3954,-550.368 28.3417,-539.773 21.7767,-548.089 28.3954,-550.368\" stroke=\"black\"/>\n",
       "</g>\n",
       "<!-- pFus&#45;R&#45;&gt;OccFus&#45;R -->\n",
       "<g class=\"edge\" id=\"edge19\"><title>pFus-R-&gt;OccFus-R</title>\n",
       "<path d=\"M108.664,-863.697C108.664,-852.846 108.664,-838.917 108.664,-828.104\" fill=\"none\" stroke=\"black\"/>\n",
       "</g>\n",
       "<!-- pFus&#45;R&#45;&gt;pFus&#45;L -->\n",
       "<g class=\"edge\" id=\"edge6\"><title>pFus-R-&gt;pFus-L</title>\n",
       "<path d=\"M128.9,-866.834C146.25,-854.69 171.117,-837.283 188.457,-825.144\" fill=\"none\" stroke=\"black\"/>\n",
       "</g>\n",
       "<!-- mFus&#45;R -->\n",
       "<g class=\"node\" id=\"node10\"><title>mFus-R</title>\n",
       "<ellipse cx=\"263.664\" cy=\"-306\" fill=\"none\" rx=\"38.7215\" ry=\"18\" stroke=\"black\"/>\n",
       "<text font-family=\"Times,serif\" font-size=\"14.00\" text-anchor=\"middle\" x=\"263.664\" y=\"-301.8\">mFus-R</text>\n",
       "</g>\n",
       "<!-- mFus&#45;L&#45;&gt;mFus&#45;R -->\n",
       "<g class=\"edge\" id=\"edge7\"><title>mFus-L-&gt;mFus-R</title>\n",
       "<path d=\"M263.664,-359.697C263.664,-351.983 263.664,-342.712 263.664,-334.112\" fill=\"none\" stroke=\"black\"/>\n",
       "<polygon fill=\"black\" points=\"267.164,-334.104 263.664,-324.104 260.164,-334.104 267.164,-334.104\" stroke=\"black\"/>\n",
       "</g>\n",
       "<!-- pMTG&#45;L -->\n",
       "<g class=\"node\" id=\"node11\"><title>pMTG-L</title>\n",
       "<ellipse cx=\"505.664\" cy=\"-90\" fill=\"none\" rx=\"42.5542\" ry=\"18\" stroke=\"black\"/>\n",
       "<text font-family=\"Times,serif\" font-size=\"14.00\" text-anchor=\"middle\" x=\"505.664\" y=\"-85.8\">pMTG-L</text>\n",
       "</g>\n",
       "<!-- pMTG&#45;R -->\n",
       "<g class=\"node\" id=\"node12\"><title>pMTG-R</title>\n",
       "<ellipse cx=\"433.664\" cy=\"-234\" fill=\"none\" rx=\"43.0474\" ry=\"18\" stroke=\"black\"/>\n",
       "<text font-family=\"Times,serif\" font-size=\"14.00\" text-anchor=\"middle\" x=\"433.664\" y=\"-229.8\">pMTG-R</text>\n",
       "</g>\n",
       "<!-- pMTG&#45;R&#45;&gt;pMTG&#45;L -->\n",
       "<g class=\"edge\" id=\"edge15\"><title>pMTG-R-&gt;pMTG-L</title>\n",
       "<path d=\"M439.281,-216.121C445.634,-197.856 456.787,-168.112 469.664,-144 474.773,-134.434 481.212,-124.466 487.227,-115.791\" fill=\"none\" stroke=\"black\"/>\n",
       "<polygon fill=\"black\" points=\"490.101,-117.789 493.036,-107.609 484.393,-113.737 490.101,-117.789\" stroke=\"black\"/>\n",
       "</g>\n",
       "<!-- IFG2&#45;R -->\n",
       "<g class=\"node\" id=\"node20\"><title>IFG2-R</title>\n",
       "<ellipse cx=\"384.664\" cy=\"-162\" fill=\"none\" rx=\"37.7439\" ry=\"18\" stroke=\"black\"/>\n",
       "<text font-family=\"Times,serif\" font-size=\"14.00\" text-anchor=\"middle\" x=\"384.664\" y=\"-157.8\">IFG2-R</text>\n",
       "</g>\n",
       "<!-- pMTG&#45;R&#45;&gt;IFG2&#45;R -->\n",
       "<g class=\"edge\" id=\"edge9\"><title>pMTG-R-&gt;IFG2-R</title>\n",
       "<path d=\"M422.052,-216.411C416.071,-207.868 408.659,-197.278 402.015,-187.787\" fill=\"none\" stroke=\"black\"/>\n",
       "<polygon fill=\"black\" points=\"404.795,-185.655 396.193,-179.47 399.06,-189.669 404.795,-185.655\" stroke=\"black\"/>\n",
       "</g>\n",
       "<!-- aFus&#45;R -->\n",
       "<g class=\"node\" id=\"node13\"><title>aFus-R</title>\n",
       "<ellipse cx=\"616.664\" cy=\"-162\" fill=\"none\" rx=\"35.8147\" ry=\"18\" stroke=\"black\"/>\n",
       "<text font-family=\"Times,serif\" font-size=\"14.00\" text-anchor=\"middle\" x=\"616.664\" y=\"-157.8\">aFus-R</text>\n",
       "</g>\n",
       "<!-- mMTG&#45;L -->\n",
       "<g class=\"node\" id=\"node14\"><title>mMTG-L</title>\n",
       "<ellipse cx=\"364.664\" cy=\"-378\" fill=\"none\" rx=\"44.9682\" ry=\"18\" stroke=\"black\"/>\n",
       "<text font-family=\"Times,serif\" font-size=\"14.00\" text-anchor=\"middle\" x=\"364.664\" y=\"-373.8\">mMTG-L</text>\n",
       "</g>\n",
       "<!-- mMTG&#45;R -->\n",
       "<g class=\"node\" id=\"node15\"><title>mMTG-R</title>\n",
       "<ellipse cx=\"433.664\" cy=\"-306\" fill=\"none\" rx=\"45.4614\" ry=\"18\" stroke=\"black\"/>\n",
       "<text font-family=\"Times,serif\" font-size=\"14.00\" text-anchor=\"middle\" x=\"433.664\" y=\"-301.8\">mMTG-R</text>\n",
       "</g>\n",
       "<!-- mMTG&#45;L&#45;&gt;mMTG&#45;R -->\n",
       "<g class=\"edge\" id=\"edge18\"><title>mMTG-L-&gt;mMTG-R</title>\n",
       "<path d=\"M380.321,-361.116C389.193,-352.116 400.463,-340.682 410.356,-330.646\" fill=\"none\" stroke=\"black\"/>\n",
       "<polygon fill=\"black\" points=\"413.062,-332.886 417.59,-323.307 408.077,-327.972 413.062,-332.886\" stroke=\"black\"/>\n",
       "</g>\n",
       "<!-- IFG1&#45;L -->\n",
       "<g class=\"node\" id=\"node18\"><title>IFG1-L</title>\n",
       "<ellipse cx=\"335.664\" cy=\"-234\" fill=\"none\" rx=\"37.2507\" ry=\"18\" stroke=\"black\"/>\n",
       "<text font-family=\"Times,serif\" font-size=\"14.00\" text-anchor=\"middle\" x=\"335.664\" y=\"-229.8\">IFG1-L</text>\n",
       "</g>\n",
       "<!-- mMTG&#45;L&#45;&gt;IFG1&#45;L -->\n",
       "<g class=\"edge\" id=\"edge24\"><title>mMTG-L-&gt;IFG1-L</title>\n",
       "<path d=\"M361.166,-359.871C356.201,-335.564 347.063,-290.819 341.181,-262.013\" fill=\"none\" stroke=\"black\"/>\n",
       "<polygon fill=\"black\" points=\"344.605,-261.287 339.174,-252.189 337.746,-262.687 344.605,-261.287\" stroke=\"black\"/>\n",
       "</g>\n",
       "<!-- mMTG&#45;R&#45;&gt;pMTG&#45;R -->\n",
       "<g class=\"edge\" id=\"edge26\"><title>mMTG-R-&gt;pMTG-R</title>\n",
       "<path d=\"M433.664,-287.697C433.664,-279.983 433.664,-270.712 433.664,-262.112\" fill=\"none\" stroke=\"black\"/>\n",
       "<polygon fill=\"black\" points=\"437.164,-262.104 433.664,-252.104 430.164,-262.104 437.164,-262.104\" stroke=\"black\"/>\n",
       "</g>\n",
       "<!-- aMTG&#45;R -->\n",
       "<g class=\"node\" id=\"node17\"><title>aMTG-R</title>\n",
       "<ellipse cx=\"537.664\" cy=\"-234\" fill=\"none\" rx=\"42.5542\" ry=\"18\" stroke=\"black\"/>\n",
       "<text font-family=\"Times,serif\" font-size=\"14.00\" text-anchor=\"middle\" x=\"537.664\" y=\"-229.8\">aMTG-R</text>\n",
       "</g>\n",
       "<!-- mMTG&#45;R&#45;&gt;aMTG&#45;R -->\n",
       "<g class=\"edge\" id=\"edge33\"><title>mMTG-R-&gt;aMTG-R</title>\n",
       "<path d=\"M455.72,-290.155C470.712,-280.064 490.741,-266.583 507.245,-255.474\" fill=\"none\" stroke=\"black\"/>\n",
       "<polygon fill=\"black\" points=\"509.655,-258.071 515.997,-249.584 505.746,-252.264 509.655,-258.071\" stroke=\"black\"/>\n",
       "</g>\n",
       "<!-- aMTG&#45;L -->\n",
       "<g class=\"node\" id=\"node16\"><title>aMTG-L</title>\n",
       "<ellipse cx=\"520.664\" cy=\"-162\" fill=\"none\" rx=\"42.0611\" ry=\"18\" stroke=\"black\"/>\n",
       "<text font-family=\"Times,serif\" font-size=\"14.00\" text-anchor=\"middle\" x=\"520.664\" y=\"-157.8\">aMTG-L</text>\n",
       "</g>\n",
       "<!-- aMTG&#45;L&#45;&gt;pMTG&#45;L -->\n",
       "<g class=\"edge\" id=\"edge14\"><title>aMTG-L-&gt;pMTG-L</title>\n",
       "<path d=\"M517.033,-144.055C515.363,-136.261 513.34,-126.822 511.466,-118.079\" fill=\"none\" stroke=\"black\"/>\n",
       "<polygon fill=\"black\" points=\"514.883,-117.32 509.366,-108.275 508.039,-118.787 514.883,-117.32\" stroke=\"black\"/>\n",
       "</g>\n",
       "<!-- aMTG&#45;R&#45;&gt;aFus&#45;R -->\n",
       "<g class=\"edge\" id=\"edge30\"><title>aMTG-R-&gt;aFus-R</title>\n",
       "<path d=\"M555.197,-217.465C566.085,-207.817 580.239,-195.275 592.219,-184.66\" fill=\"none\" stroke=\"black\"/>\n",
       "<polygon fill=\"black\" points=\"594.559,-187.263 599.722,-178.011 589.917,-182.024 594.559,-187.263\" stroke=\"black\"/>\n",
       "</g>\n",
       "<!-- aMTG&#45;R&#45;&gt;aMTG&#45;L -->\n",
       "<g class=\"edge\" id=\"edge11\"><title>aMTG-R-&gt;aMTG-L</title>\n",
       "<path d=\"M533.549,-216.055C531.656,-208.261 529.363,-198.822 527.24,-190.079\" fill=\"none\" stroke=\"black\"/>\n",
       "<polygon fill=\"black\" points=\"530.62,-189.167 524.859,-180.275 523.818,-190.819 530.62,-189.167\" stroke=\"black\"/>\n",
       "</g>\n",
       "<!-- IFG2&#45;L -->\n",
       "<g class=\"node\" id=\"node19\"><title>IFG2-L</title>\n",
       "<ellipse cx=\"316.664\" cy=\"-18\" fill=\"none\" rx=\"37.2507\" ry=\"18\" stroke=\"black\"/>\n",
       "<text font-family=\"Times,serif\" font-size=\"14.00\" text-anchor=\"middle\" x=\"316.664\" y=\"-13.8\">IFG2-L</text>\n",
       "</g>\n",
       "<!-- IFG1&#45;L&#45;&gt;IFG2&#45;L -->\n",
       "<g class=\"edge\" id=\"edge12\"><title>IFG1-L-&gt;IFG2-L</title>\n",
       "<path d=\"M334.141,-215.849C330.855,-178.832 323.072,-91.1809 319.095,-46.3863\" fill=\"none\" stroke=\"black\"/>\n",
       "<polygon fill=\"black\" points=\"322.565,-45.8837 318.194,-36.2325 315.592,-46.5028 322.565,-45.8837\" stroke=\"black\"/>\n",
       "</g>\n",
       "<!-- IFG1&#45;L&#45;&gt;IFG2&#45;R -->\n",
       "<g class=\"edge\" id=\"edge5\"><title>IFG1-L-&gt;IFG2-R</title>\n",
       "<path d=\"M347.029,-216.765C353.003,-208.23 360.456,-197.582 367.15,-188.019\" fill=\"none\" stroke=\"black\"/>\n",
       "<polygon fill=\"black\" points=\"370.153,-189.833 373.02,-179.633 364.418,-185.819 370.153,-189.833\" stroke=\"black\"/>\n",
       "</g>\n",
       "<!-- MPFC&#45;R -->\n",
       "<g class=\"node\" id=\"node24\"><title>MPFC-R</title>\n",
       "<ellipse cx=\"387.664\" cy=\"-90\" fill=\"none\" rx=\"42.5974\" ry=\"18\" stroke=\"black\"/>\n",
       "<text font-family=\"Times,serif\" font-size=\"14.00\" text-anchor=\"middle\" x=\"387.664\" y=\"-85.8\">MPFC-R</text>\n",
       "</g>\n",
       "<!-- IFG2&#45;R&#45;&gt;MPFC&#45;R -->\n",
       "<g class=\"edge\" id=\"edge22\"><title>IFG2-R-&gt;MPFC-R</title>\n",
       "<path d=\"M385.405,-143.697C385.736,-135.983 386.133,-126.712 386.502,-118.112\" fill=\"none\" stroke=\"black\"/>\n",
       "<polygon fill=\"black\" points=\"389.999,-118.245 386.931,-108.104 383.006,-117.945 389.999,-118.245\" stroke=\"black\"/>\n",
       "</g>\n",
       "<!-- TPJ&#45;L -->\n",
       "<g class=\"node\" id=\"node21\"><title>TPJ-L</title>\n",
       "<ellipse cx=\"309.664\" cy=\"-450\" fill=\"none\" rx=\"32.4324\" ry=\"18\" stroke=\"black\"/>\n",
       "<text font-family=\"Times,serif\" font-size=\"14.00\" text-anchor=\"middle\" x=\"309.664\" y=\"-445.8\">TPJ-L</text>\n",
       "</g>\n",
       "<!-- TPJ&#45;L&#45;&gt;mMTG&#45;L -->\n",
       "<g class=\"edge\" id=\"edge10\"><title>TPJ-L-&gt;mMTG-L</title>\n",
       "<path d=\"M322.144,-433.116C329.077,-424.292 337.848,-413.13 345.62,-403.238\" fill=\"none\" stroke=\"black\"/>\n",
       "<polygon fill=\"black\" points=\"348.425,-405.333 351.851,-395.307 342.921,-401.008 348.425,-405.333\" stroke=\"black\"/>\n",
       "</g>\n",
       "<!-- mPreCun&#45;L -->\n",
       "<g class=\"node\" id=\"node27\"><title>mPreCun-L</title>\n",
       "<ellipse cx=\"155.664\" cy=\"-378\" fill=\"none\" rx=\"51.726\" ry=\"18\" stroke=\"black\"/>\n",
       "<text font-family=\"Times,serif\" font-size=\"14.00\" text-anchor=\"middle\" x=\"155.664\" y=\"-373.8\">mPreCun-L</text>\n",
       "</g>\n",
       "<!-- TPJ&#45;L&#45;&gt;mPreCun&#45;L -->\n",
       "<g class=\"edge\" id=\"edge38\"><title>TPJ-L-&gt;mPreCun-L</title>\n",
       "<path d=\"M285.262,-437.908C261.031,-426.894 223.488,-409.829 195.035,-396.896\" fill=\"none\" stroke=\"black\"/>\n",
       "<polygon fill=\"black\" points=\"196.319,-393.635 185.767,-392.683 193.422,-400.007 196.319,-393.635\" stroke=\"black\"/>\n",
       "</g>\n",
       "<!-- TPJ&#45;R -->\n",
       "<g class=\"node\" id=\"node22\"><title>TPJ-R</title>\n",
       "<ellipse cx=\"308.664\" cy=\"-522\" fill=\"none\" rx=\"32.9255\" ry=\"18\" stroke=\"black\"/>\n",
       "<text font-family=\"Times,serif\" font-size=\"14.00\" text-anchor=\"middle\" x=\"308.664\" y=\"-517.8\">TPJ-R</text>\n",
       "</g>\n",
       "<!-- TPJ&#45;R&#45;&gt;TPJ&#45;L -->\n",
       "<g class=\"edge\" id=\"edge25\"><title>TPJ-R-&gt;TPJ-L</title>\n",
       "<path d=\"M308.911,-503.697C309.021,-495.983 309.154,-486.712 309.277,-478.112\" fill=\"none\" stroke=\"black\"/>\n",
       "<polygon fill=\"black\" points=\"312.776,-478.153 309.419,-468.104 305.777,-478.053 312.776,-478.153\" stroke=\"black\"/>\n",
       "</g>\n",
       "<!-- MPFC&#45;L -->\n",
       "<g class=\"node\" id=\"node23\"><title>MPFC-L</title>\n",
       "<ellipse cx=\"413.664\" cy=\"-18\" fill=\"none\" rx=\"42.1043\" ry=\"18\" stroke=\"black\"/>\n",
       "<text font-family=\"Times,serif\" font-size=\"14.00\" text-anchor=\"middle\" x=\"413.664\" y=\"-13.8\">MPFC-L</text>\n",
       "</g>\n",
       "<!-- MPFC&#45;R&#45;&gt;IFG2&#45;L -->\n",
       "<g class=\"edge\" id=\"edge35\"><title>MPFC-R-&gt;IFG2-L</title>\n",
       "<path d=\"M371.553,-73.1159C362.203,-63.8975 350.264,-52.1269 339.91,-41.9191\" fill=\"none\" stroke=\"black\"/>\n",
       "<polygon fill=\"black\" points=\"342.289,-39.3496 332.711,-34.8212 337.375,-44.3344 342.289,-39.3496\" stroke=\"black\"/>\n",
       "</g>\n",
       "<!-- MPFC&#45;R&#45;&gt;MPFC&#45;L -->\n",
       "<g class=\"edge\" id=\"edge13\"><title>MPFC-R-&gt;MPFC-L</title>\n",
       "<path d=\"M393.958,-72.055C396.884,-64.1762 400.435,-54.6165 403.712,-45.794\" fill=\"none\" stroke=\"black\"/>\n",
       "<polygon fill=\"black\" points=\"407.046,-46.8682 407.247,-36.2753 400.484,-44.4309 407.046,-46.8682\" stroke=\"black\"/>\n",
       "</g>\n",
       "<!-- dPreCun&#45;L -->\n",
       "<g class=\"node\" id=\"node25\"><title>dPreCun-L</title>\n",
       "<ellipse cx=\"92.6638\" cy=\"-450\" fill=\"none\" rx=\"49.3119\" ry=\"18\" stroke=\"black\"/>\n",
       "<text font-family=\"Times,serif\" font-size=\"14.00\" text-anchor=\"middle\" x=\"92.6638\" y=\"-445.8\">dPreCun-L</text>\n",
       "</g>\n",
       "<!-- dPreCun&#45;L&#45;&gt;mPreCun&#45;L -->\n",
       "<g class=\"edge\" id=\"edge23\"><title>dPreCun-L-&gt;mPreCun-L</title>\n",
       "<path d=\"M107.276,-432.765C115.192,-423.969 125.128,-412.928 133.934,-403.144\" fill=\"none\" stroke=\"black\"/>\n",
       "<polygon fill=\"black\" points=\"136.606,-405.408 140.694,-395.633 131.403,-400.725 136.606,-405.408\" stroke=\"black\"/>\n",
       "</g>\n",
       "<!-- dPreCun&#45;R&#45;&gt;dPreCun&#45;L -->\n",
       "<g class=\"edge\" id=\"edge37\"><title>dPreCun-R-&gt;dPreCun-L</title>\n",
       "<path d=\"M185.361,-649.823C172.77,-640.257 157.613,-626.916 147.664,-612 119.564,-569.871 104.434,-511.96 97.5042,-478.301\" fill=\"none\" stroke=\"black\"/>\n",
       "<polygon fill=\"black\" points=\"100.897,-477.415 95.5365,-468.276 94.0281,-478.763 100.897,-477.415\" stroke=\"black\"/>\n",
       "</g>\n",
       "<!-- mPreCun&#45;R -->\n",
       "<g class=\"node\" id=\"node28\"><title>mPreCun-R</title>\n",
       "<ellipse cx=\"208.664\" cy=\"-594\" fill=\"none\" rx=\"52.2192\" ry=\"18\" stroke=\"black\"/>\n",
       "<text font-family=\"Times,serif\" font-size=\"14.00\" text-anchor=\"middle\" x=\"208.664\" y=\"-589.8\">mPreCun-R</text>\n",
       "</g>\n",
       "<!-- dPreCun&#45;R&#45;&gt;mPreCun&#45;R -->\n",
       "<g class=\"edge\" id=\"edge20\"><title>dPreCun-R-&gt;mPreCun-R</title>\n",
       "<path d=\"M207.911,-647.697C208.021,-639.983 208.154,-630.712 208.277,-622.112\" fill=\"none\" stroke=\"black\"/>\n",
       "<polygon fill=\"black\" points=\"211.776,-622.153 208.419,-612.104 204.777,-622.053 211.776,-622.153\" stroke=\"black\"/>\n",
       "</g>\n",
       "<!-- mPreCun&#45;R&#45;&gt;TPJ&#45;R -->\n",
       "<g class=\"edge\" id=\"edge34\"><title>mPreCun-R-&gt;TPJ-R</title>\n",
       "<path d=\"M230.857,-577.465C245.616,-567.133 265.115,-553.484 280.901,-542.434\" fill=\"none\" stroke=\"black\"/>\n",
       "<polygon fill=\"black\" points=\"283.049,-545.202 289.235,-536.6 279.035,-539.468 283.049,-545.202\" stroke=\"black\"/>\n",
       "</g>\n",
       "<!-- vPreCun&#45;R -->\n",
       "<g class=\"node\" id=\"node30\"><title>vPreCun-R</title>\n",
       "<ellipse cx=\"207.664\" cy=\"-522\" fill=\"none\" rx=\"49.805\" ry=\"18\" stroke=\"black\"/>\n",
       "<text font-family=\"Times,serif\" font-size=\"14.00\" text-anchor=\"middle\" x=\"207.664\" y=\"-517.8\">vPreCun-R</text>\n",
       "</g>\n",
       "<!-- mPreCun&#45;R&#45;&gt;vPreCun&#45;R -->\n",
       "<g class=\"edge\" id=\"edge21\"><title>mPreCun-R-&gt;vPreCun-R</title>\n",
       "<path d=\"M208.417,-575.697C208.306,-567.983 208.174,-558.712 208.051,-550.112\" fill=\"none\" stroke=\"black\"/>\n",
       "<polygon fill=\"black\" points=\"211.551,-550.053 207.908,-540.104 204.551,-550.153 211.551,-550.053\" stroke=\"black\"/>\n",
       "</g>\n",
       "<!-- vPreCun&#45;L -->\n",
       "<g class=\"node\" id=\"node29\"><title>vPreCun-L</title>\n",
       "<ellipse cx=\"209.664\" cy=\"-450\" fill=\"none\" rx=\"49.3119\" ry=\"18\" stroke=\"black\"/>\n",
       "<text font-family=\"Times,serif\" font-size=\"14.00\" text-anchor=\"middle\" x=\"209.664\" y=\"-445.8\">vPreCun-L</text>\n",
       "</g>\n",
       "<!-- vPreCun&#45;L&#45;&gt;mFus&#45;L -->\n",
       "<g class=\"edge\" id=\"edge3\"><title>vPreCun-L-&gt;mFus-L</title>\n",
       "<path d=\"M222.461,-432.411C229.119,-423.781 237.387,-413.062 244.766,-403.497\" fill=\"none\" stroke=\"black\"/>\n",
       "<polygon fill=\"black\" points=\"247.622,-405.526 250.958,-395.47 242.079,-401.25 247.622,-405.526\" stroke=\"black\"/>\n",
       "</g>\n",
       "<!-- vPreCun&#45;L&#45;&gt;mPreCun&#45;L -->\n",
       "<g class=\"edge\" id=\"edge27\"><title>vPreCun-L-&gt;mPreCun-L</title>\n",
       "<path d=\"M196.867,-432.411C190.209,-423.781 181.94,-413.062 174.562,-403.497\" fill=\"none\" stroke=\"black\"/>\n",
       "<polygon fill=\"black\" points=\"177.249,-401.25 168.369,-395.47 171.706,-405.526 177.249,-401.25\" stroke=\"black\"/>\n",
       "</g>\n",
       "<!-- vPreCun&#45;R&#45;&gt;vPreCun&#45;L -->\n",
       "<g class=\"edge\" id=\"edge2\"><title>vPreCun-R-&gt;vPreCun-L</title>\n",
       "<path d=\"M208.158,-503.697C208.379,-495.983 208.643,-486.712 208.889,-478.112\" fill=\"none\" stroke=\"black\"/>\n",
       "<polygon fill=\"black\" points=\"212.388,-478.2 209.175,-468.104 205.391,-478 212.388,-478.2\" stroke=\"black\"/>\n",
       "</g>\n",
       "<!-- FAM&#45;UNFAM -->\n",
       "<g class=\"node\" id=\"node31\"><title>FAM-UNFAM</title>\n",
       "<ellipse cx=\"225.664\" cy=\"-882\" fill=\"none\" rx=\"62.7138\" ry=\"18\" stroke=\"black\"/>\n",
       "<text font-family=\"Times,serif\" font-size=\"14.00\" text-anchor=\"middle\" x=\"225.664\" y=\"-877.8\">FAM-UNFAM</text>\n",
       "</g>\n",
       "</g>\n",
       "</svg>"
      ],
      "text/plain": [
       "<IPython.core.display.SVG object>"
      ]
     },
     "execution_count": 70,
     "metadata": {},
     "output_type": "execute_result"
    }
   ],
   "source": [
    "# render resulting graph\n",
    "dot_withc_raw = images_withc_raw.getDot()\n",
    "svg_str = dot_withc_raw.create_svg(prog='dot')\n",
    "SVG(svg_str)"
   ]
  },
  {
   "cell_type": "markdown",
   "metadata": {},
   "source": [
    "## Conclusion stimulus modelling"
   ]
  },
  {
   "cell_type": "markdown",
   "metadata": {},
   "source": [
    "The constructed differential regressor (fam-unfam) does not fit in the graph, regardless of which data is used."
   ]
  },
  {
   "cell_type": "markdown",
   "metadata": {},
   "source": [
    "# AR modelling"
   ]
  },
  {
   "cell_type": "markdown",
   "metadata": {},
   "source": [
    "Explore if AR modelling changes the failure to connect the familiarity effect to the rest of the network."
   ]
  },
  {
   "cell_type": "markdown",
   "metadata": {},
   "source": [
    "## Preprocessed data"
   ]
  },
  {
   "cell_type": "code",
   "execution_count": 71,
   "metadata": {},
   "outputs": [
    {
     "name": "stderr",
     "output_type": "stream",
     "text": [
      "/Users/Oliver/anaconda2/envs/famface/lib/python2.7/site-packages/statsmodels/compat/pandas.py:56: FutureWarning: The pandas.core.datetools module is deprecated and will be removed in a future version. Please use the pandas.tseries module instead.\n",
      "  from pandas.core import datetools\n"
     ]
    }
   ],
   "source": [
    "from statsmodels.tsa.ar_model import AR"
   ]
  },
  {
   "cell_type": "code",
   "execution_count": 72,
   "metadata": {
    "collapsed": true
   },
   "outputs": [],
   "source": [
    "def ar_df(in_df, tr=2, lag=1):\n",
    "    \"\"\"\n",
    "    perform AR modelling on all columns in a given data frame.\n",
    "    Keep in mind that resulting data frame will be missing first row.\n",
    "    \"\"\"\n",
    "    # don't change original data frames, make copy instead\n",
    "    df = copy.deepcopy(in_df)\n",
    "    \n",
    "    # give df a timestamp as index\n",
    "    df['time'] = range(tr,len(df)*tr+1,tr)\n",
    "    df.index = pd.to_datetime(pd.to_timedelta(df['time'],unit='s'))\n",
    "    df = df.drop('time', 1)\n",
    "    \n",
    "    # get column names\n",
    "    header = list(df.columns.values)\n",
    "    \n",
    "    for cond in header:\n",
    "        # autoregressive model\n",
    "        ar_mod = AR(df[cond].astype(float), dates=df.index)\n",
    "\n",
    "        fit = ar_mod.fit(lag)\n",
    "        results = fit.predict()\n",
    "        df[cond] = results # change respective column in df\n",
    "\n",
    "    df = df.iloc[lag:] # don't include rows that are NaN due to AR\n",
    "    \n",
    "    return df"
   ]
  },
  {
   "cell_type": "code",
   "execution_count": 73,
   "metadata": {
    "collapsed": true,
    "scrolled": true
   },
   "outputs": [],
   "source": [
    "# perform AR modelling for all data frames based on preprocessed data\n",
    "dfs_withc_raw_ar = [ar_df(df) for df in dfs_withc_raw]"
   ]
  },
  {
   "cell_type": "code",
   "execution_count": 74,
   "metadata": {
    "collapsed": true
   },
   "outputs": [],
   "source": [
    "# perform images search\n",
    "pc.start_vm() # start\n",
    "images_withc_raw_ar = s.imagesSemBic(dfs_withc_raw_ar, verbose = True)\n",
    "pc.stop_vm() # stop"
   ]
  },
  {
   "cell_type": "code",
   "execution_count": 75,
   "metadata": {},
   "outputs": [
    {
     "data": {
      "image/svg+xml": [
       "<svg height=\"908pt\" viewBox=\"0.00 0.00 660.32 908.00\" width=\"660pt\" xmlns=\"http://www.w3.org/2000/svg\" xmlns:xlink=\"http://www.w3.org/1999/xlink\">\n",
       "<g class=\"graph\" id=\"graph0\" transform=\"scale(1 1) rotate(0) translate(4 904)\">\n",
       "<title>G</title>\n",
       "<polygon fill=\"white\" points=\"-4,4 -4,-904 656.321,-904 656.321,4 -4,4\" stroke=\"none\"/>\n",
       "<!-- EV1&#45;L -->\n",
       "<g class=\"node\" id=\"node1\"><title>EV1-L</title>\n",
       "<ellipse cx=\"34.6638\" cy=\"-522\" fill=\"none\" rx=\"34.8285\" ry=\"18\" stroke=\"black\"/>\n",
       "<text font-family=\"Times,serif\" font-size=\"14.00\" text-anchor=\"middle\" x=\"34.6638\" y=\"-517.8\">EV1-L</text>\n",
       "</g>\n",
       "<!-- EV1&#45;R -->\n",
       "<g class=\"node\" id=\"node2\"><title>EV1-R</title>\n",
       "<ellipse cx=\"65.6638\" cy=\"-594\" fill=\"none\" rx=\"35.3216\" ry=\"18\" stroke=\"black\"/>\n",
       "<text font-family=\"Times,serif\" font-size=\"14.00\" text-anchor=\"middle\" x=\"65.6638\" y=\"-589.8\">EV1-R</text>\n",
       "</g>\n",
       "<!-- EV1&#45;R&#45;&gt;EV1&#45;L -->\n",
       "<g class=\"edge\" id=\"edge28\"><title>EV1-R-&gt;EV1-L</title>\n",
       "<path d=\"M58.1596,-576.055C54.5803,-567.973 50.2176,-558.121 46.2276,-549.112\" fill=\"none\" stroke=\"black\"/>\n",
       "<polygon fill=\"black\" points=\"49.3485,-547.515 42.099,-539.789 42.9481,-550.35 49.3485,-547.515\" stroke=\"black\"/>\n",
       "</g>\n",
       "<!-- EV2&#45;L -->\n",
       "<g class=\"node\" id=\"node3\"><title>EV2-L</title>\n",
       "<ellipse cx=\"108.664\" cy=\"-738\" fill=\"none\" rx=\"34.8285\" ry=\"18\" stroke=\"black\"/>\n",
       "<text font-family=\"Times,serif\" font-size=\"14.00\" text-anchor=\"middle\" x=\"108.664\" y=\"-733.8\">EV2-L</text>\n",
       "</g>\n",
       "<!-- EV2&#45;L&#45;&gt;EV1&#45;R -->\n",
       "<g class=\"edge\" id=\"edge29\"><title>EV2-L-&gt;EV1-R</title>\n",
       "<path d=\"M112.292,-720.014C115.438,-701.658 118.269,-671.836 109.664,-648 104.304,-633.152 92.773,-619.525 82.8602,-609.807\" fill=\"none\" stroke=\"black\"/>\n",
       "</g>\n",
       "<!-- EV2&#45;R -->\n",
       "<g class=\"node\" id=\"node4\"><title>EV2-R</title>\n",
       "<ellipse cx=\"65.6638\" cy=\"-666\" fill=\"none\" rx=\"35.3216\" ry=\"18\" stroke=\"black\"/>\n",
       "<text font-family=\"Times,serif\" font-size=\"14.00\" text-anchor=\"middle\" x=\"65.6638\" y=\"-661.8\">EV2-R</text>\n",
       "</g>\n",
       "<!-- EV2&#45;L&#45;&gt;EV2&#45;R -->\n",
       "<g class=\"edge\" id=\"edge31\"><title>EV2-L-&gt;EV2-R</title>\n",
       "<path d=\"M98.4734,-720.411C91.6189,-709.252 82.6203,-694.604 75.7811,-683.47\" fill=\"none\" stroke=\"black\"/>\n",
       "</g>\n",
       "<!-- EV2&#45;R&#45;&gt;EV1&#45;R -->\n",
       "<g class=\"edge\" id=\"edge17\"><title>EV2-R-&gt;EV1-R</title>\n",
       "<path d=\"M65.6638,-647.697C65.6638,-636.846 65.6638,-622.917 65.6638,-612.104\" fill=\"none\" stroke=\"black\"/>\n",
       "</g>\n",
       "<!-- OccFus&#45;L -->\n",
       "<g class=\"node\" id=\"node5\"><title>OccFus-L</title>\n",
       "<ellipse cx=\"207.664\" cy=\"-738\" fill=\"none\" rx=\"45.4441\" ry=\"18\" stroke=\"black\"/>\n",
       "<text font-family=\"Times,serif\" font-size=\"14.00\" text-anchor=\"middle\" x=\"207.664\" y=\"-733.8\">OccFus-L</text>\n",
       "</g>\n",
       "<!-- dPreCun&#45;R -->\n",
       "<g class=\"node\" id=\"node26\"><title>dPreCun-R</title>\n",
       "<ellipse cx=\"207.664\" cy=\"-666\" fill=\"none\" rx=\"49.805\" ry=\"18\" stroke=\"black\"/>\n",
       "<text font-family=\"Times,serif\" font-size=\"14.00\" text-anchor=\"middle\" x=\"207.664\" y=\"-661.8\">dPreCun-R</text>\n",
       "</g>\n",
       "<!-- OccFus&#45;L&#45;&gt;dPreCun&#45;R -->\n",
       "<g class=\"edge\" id=\"edge8\"><title>OccFus-L-&gt;dPreCun-R</title>\n",
       "<path d=\"M207.664,-719.697C207.664,-711.983 207.664,-702.712 207.664,-694.112\" fill=\"none\" stroke=\"black\"/>\n",
       "<polygon fill=\"black\" points=\"211.164,-694.104 207.664,-684.104 204.164,-694.104 211.164,-694.104\" stroke=\"black\"/>\n",
       "</g>\n",
       "<!-- OccFus&#45;R -->\n",
       "<g class=\"node\" id=\"node6\"><title>OccFus-R</title>\n",
       "<ellipse cx=\"108.664\" cy=\"-810\" fill=\"none\" rx=\"45.9373\" ry=\"18\" stroke=\"black\"/>\n",
       "<text font-family=\"Times,serif\" font-size=\"14.00\" text-anchor=\"middle\" x=\"108.664\" y=\"-805.8\">OccFus-R</text>\n",
       "</g>\n",
       "<!-- OccFus&#45;R&#45;&gt;EV2&#45;L -->\n",
       "<g class=\"edge\" id=\"edge1\"><title>OccFus-R-&gt;EV2-L</title>\n",
       "<path d=\"M108.664,-791.697C108.664,-780.846 108.664,-766.917 108.664,-756.104\" fill=\"none\" stroke=\"black\"/>\n",
       "</g>\n",
       "<!-- OccFus&#45;R&#45;&gt;OccFus&#45;L -->\n",
       "<g class=\"edge\" id=\"edge16\"><title>OccFus-R-&gt;OccFus-L</title>\n",
       "<path d=\"M130.145,-793.811C144.156,-783.904 162.633,-770.84 178.033,-759.951\" fill=\"none\" stroke=\"black\"/>\n",
       "<polygon fill=\"black\" points=\"180.08,-762.79 186.224,-754.159 176.038,-757.075 180.08,-762.79\" stroke=\"black\"/>\n",
       "</g>\n",
       "<!-- pFus&#45;L -->\n",
       "<g class=\"node\" id=\"node7\"><title>pFus-L</title>\n",
       "<ellipse cx=\"208.664\" cy=\"-810\" fill=\"none\" rx=\"35.8147\" ry=\"18\" stroke=\"black\"/>\n",
       "<text font-family=\"Times,serif\" font-size=\"14.00\" text-anchor=\"middle\" x=\"208.664\" y=\"-805.8\">pFus-L</text>\n",
       "</g>\n",
       "<!-- pFus&#45;L&#45;&gt;OccFus&#45;L -->\n",
       "<g class=\"edge\" id=\"edge32\"><title>pFus-L-&gt;OccFus-L</title>\n",
       "<path d=\"M208.417,-791.697C208.306,-783.983 208.174,-774.712 208.051,-766.112\" fill=\"none\" stroke=\"black\"/>\n",
       "<polygon fill=\"black\" points=\"211.551,-766.053 207.908,-756.104 204.551,-766.153 211.551,-766.053\" stroke=\"black\"/>\n",
       "</g>\n",
       "<!-- mFus&#45;L -->\n",
       "<g class=\"node\" id=\"node9\"><title>mFus-L</title>\n",
       "<ellipse cx=\"263.664\" cy=\"-378\" fill=\"none\" rx=\"38.2284\" ry=\"18\" stroke=\"black\"/>\n",
       "<text font-family=\"Times,serif\" font-size=\"14.00\" text-anchor=\"middle\" x=\"263.664\" y=\"-373.8\">mFus-L</text>\n",
       "</g>\n",
       "<!-- pFus&#45;L&#45;&gt;mFus&#45;L -->\n",
       "<g class=\"edge\" id=\"edge4\"><title>pFus-L-&gt;mFus-L</title>\n",
       "<path d=\"M237.077,-798.95C283.297,-780.572 369.664,-736.881 369.664,-667 369.664,-667 369.664,-667 369.664,-521 369.664,-480.553 374.066,-464.99 350.664,-432 338.749,-415.204 319.675,-402.722 302.418,-394.105\" fill=\"none\" stroke=\"black\"/>\n",
       "<polygon fill=\"black\" points=\"303.615,-390.8 293.076,-389.712 300.636,-397.135 303.615,-390.8\" stroke=\"black\"/>\n",
       "</g>\n",
       "<!-- pFus&#45;R -->\n",
       "<g class=\"node\" id=\"node8\"><title>pFus-R</title>\n",
       "<ellipse cx=\"108.664\" cy=\"-882\" fill=\"none\" rx=\"36.3078\" ry=\"18\" stroke=\"black\"/>\n",
       "<text font-family=\"Times,serif\" font-size=\"14.00\" text-anchor=\"middle\" x=\"108.664\" y=\"-877.8\">pFus-R</text>\n",
       "</g>\n",
       "<!-- pFus&#45;R&#45;&gt;EV1&#45;L -->\n",
       "<g class=\"edge\" id=\"edge36\"><title>pFus-R-&gt;EV1-L</title>\n",
       "<path d=\"M88.226,-867.054C57.4236,-844.198 2.66385,-795.606 2.66385,-739 2.66385,-739 2.66385,-739 2.66385,-665 2.66385,-623.812 15.6345,-577.512 25.0601,-549.304\" fill=\"none\" stroke=\"black\"/>\n",
       "<polygon fill=\"black\" points=\"28.3954,-550.368 28.3417,-539.773 21.7767,-548.089 28.3954,-550.368\" stroke=\"black\"/>\n",
       "</g>\n",
       "<!-- pFus&#45;R&#45;&gt;OccFus&#45;R -->\n",
       "<g class=\"edge\" id=\"edge19\"><title>pFus-R-&gt;OccFus-R</title>\n",
       "<path d=\"M108.664,-863.697C108.664,-852.846 108.664,-838.917 108.664,-828.104\" fill=\"none\" stroke=\"black\"/>\n",
       "</g>\n",
       "<!-- pFus&#45;R&#45;&gt;pFus&#45;L -->\n",
       "<g class=\"edge\" id=\"edge6\"><title>pFus-R-&gt;pFus-L</title>\n",
       "<path d=\"M128.9,-866.834C146.25,-854.69 171.117,-837.283 188.457,-825.144\" fill=\"none\" stroke=\"black\"/>\n",
       "</g>\n",
       "<!-- mFus&#45;R -->\n",
       "<g class=\"node\" id=\"node10\"><title>mFus-R</title>\n",
       "<ellipse cx=\"263.664\" cy=\"-306\" fill=\"none\" rx=\"38.7215\" ry=\"18\" stroke=\"black\"/>\n",
       "<text font-family=\"Times,serif\" font-size=\"14.00\" text-anchor=\"middle\" x=\"263.664\" y=\"-301.8\">mFus-R</text>\n",
       "</g>\n",
       "<!-- mFus&#45;L&#45;&gt;mFus&#45;R -->\n",
       "<g class=\"edge\" id=\"edge7\"><title>mFus-L-&gt;mFus-R</title>\n",
       "<path d=\"M263.664,-359.697C263.664,-351.983 263.664,-342.712 263.664,-334.112\" fill=\"none\" stroke=\"black\"/>\n",
       "<polygon fill=\"black\" points=\"267.164,-334.104 263.664,-324.104 260.164,-334.104 267.164,-334.104\" stroke=\"black\"/>\n",
       "</g>\n",
       "<!-- pMTG&#45;L -->\n",
       "<g class=\"node\" id=\"node11\"><title>pMTG-L</title>\n",
       "<ellipse cx=\"505.664\" cy=\"-90\" fill=\"none\" rx=\"42.5542\" ry=\"18\" stroke=\"black\"/>\n",
       "<text font-family=\"Times,serif\" font-size=\"14.00\" text-anchor=\"middle\" x=\"505.664\" y=\"-85.8\">pMTG-L</text>\n",
       "</g>\n",
       "<!-- pMTG&#45;R -->\n",
       "<g class=\"node\" id=\"node12\"><title>pMTG-R</title>\n",
       "<ellipse cx=\"433.664\" cy=\"-234\" fill=\"none\" rx=\"43.0474\" ry=\"18\" stroke=\"black\"/>\n",
       "<text font-family=\"Times,serif\" font-size=\"14.00\" text-anchor=\"middle\" x=\"433.664\" y=\"-229.8\">pMTG-R</text>\n",
       "</g>\n",
       "<!-- pMTG&#45;R&#45;&gt;pMTG&#45;L -->\n",
       "<g class=\"edge\" id=\"edge15\"><title>pMTG-R-&gt;pMTG-L</title>\n",
       "<path d=\"M439.281,-216.121C445.634,-197.856 456.787,-168.112 469.664,-144 474.773,-134.434 481.212,-124.466 487.227,-115.791\" fill=\"none\" stroke=\"black\"/>\n",
       "<polygon fill=\"black\" points=\"490.101,-117.789 493.036,-107.609 484.393,-113.737 490.101,-117.789\" stroke=\"black\"/>\n",
       "</g>\n",
       "<!-- IFG2&#45;R -->\n",
       "<g class=\"node\" id=\"node20\"><title>IFG2-R</title>\n",
       "<ellipse cx=\"384.664\" cy=\"-162\" fill=\"none\" rx=\"37.7439\" ry=\"18\" stroke=\"black\"/>\n",
       "<text font-family=\"Times,serif\" font-size=\"14.00\" text-anchor=\"middle\" x=\"384.664\" y=\"-157.8\">IFG2-R</text>\n",
       "</g>\n",
       "<!-- pMTG&#45;R&#45;&gt;IFG2&#45;R -->\n",
       "<g class=\"edge\" id=\"edge9\"><title>pMTG-R-&gt;IFG2-R</title>\n",
       "<path d=\"M422.052,-216.411C416.071,-207.868 408.659,-197.278 402.015,-187.787\" fill=\"none\" stroke=\"black\"/>\n",
       "<polygon fill=\"black\" points=\"404.795,-185.655 396.193,-179.47 399.06,-189.669 404.795,-185.655\" stroke=\"black\"/>\n",
       "</g>\n",
       "<!-- aFus&#45;R -->\n",
       "<g class=\"node\" id=\"node13\"><title>aFus-R</title>\n",
       "<ellipse cx=\"616.664\" cy=\"-162\" fill=\"none\" rx=\"35.8147\" ry=\"18\" stroke=\"black\"/>\n",
       "<text font-family=\"Times,serif\" font-size=\"14.00\" text-anchor=\"middle\" x=\"616.664\" y=\"-157.8\">aFus-R</text>\n",
       "</g>\n",
       "<!-- mMTG&#45;L -->\n",
       "<g class=\"node\" id=\"node14\"><title>mMTG-L</title>\n",
       "<ellipse cx=\"364.664\" cy=\"-378\" fill=\"none\" rx=\"44.9682\" ry=\"18\" stroke=\"black\"/>\n",
       "<text font-family=\"Times,serif\" font-size=\"14.00\" text-anchor=\"middle\" x=\"364.664\" y=\"-373.8\">mMTG-L</text>\n",
       "</g>\n",
       "<!-- mMTG&#45;R -->\n",
       "<g class=\"node\" id=\"node15\"><title>mMTG-R</title>\n",
       "<ellipse cx=\"433.664\" cy=\"-306\" fill=\"none\" rx=\"45.4614\" ry=\"18\" stroke=\"black\"/>\n",
       "<text font-family=\"Times,serif\" font-size=\"14.00\" text-anchor=\"middle\" x=\"433.664\" y=\"-301.8\">mMTG-R</text>\n",
       "</g>\n",
       "<!-- mMTG&#45;L&#45;&gt;mMTG&#45;R -->\n",
       "<g class=\"edge\" id=\"edge18\"><title>mMTG-L-&gt;mMTG-R</title>\n",
       "<path d=\"M380.321,-361.116C389.193,-352.116 400.463,-340.682 410.356,-330.646\" fill=\"none\" stroke=\"black\"/>\n",
       "<polygon fill=\"black\" points=\"413.062,-332.886 417.59,-323.307 408.077,-327.972 413.062,-332.886\" stroke=\"black\"/>\n",
       "</g>\n",
       "<!-- IFG1&#45;L -->\n",
       "<g class=\"node\" id=\"node18\"><title>IFG1-L</title>\n",
       "<ellipse cx=\"335.664\" cy=\"-234\" fill=\"none\" rx=\"37.2507\" ry=\"18\" stroke=\"black\"/>\n",
       "<text font-family=\"Times,serif\" font-size=\"14.00\" text-anchor=\"middle\" x=\"335.664\" y=\"-229.8\">IFG1-L</text>\n",
       "</g>\n",
       "<!-- mMTG&#45;L&#45;&gt;IFG1&#45;L -->\n",
       "<g class=\"edge\" id=\"edge24\"><title>mMTG-L-&gt;IFG1-L</title>\n",
       "<path d=\"M361.166,-359.871C356.201,-335.564 347.063,-290.819 341.181,-262.013\" fill=\"none\" stroke=\"black\"/>\n",
       "<polygon fill=\"black\" points=\"344.605,-261.287 339.174,-252.189 337.746,-262.687 344.605,-261.287\" stroke=\"black\"/>\n",
       "</g>\n",
       "<!-- mMTG&#45;R&#45;&gt;pMTG&#45;R -->\n",
       "<g class=\"edge\" id=\"edge26\"><title>mMTG-R-&gt;pMTG-R</title>\n",
       "<path d=\"M433.664,-287.697C433.664,-279.983 433.664,-270.712 433.664,-262.112\" fill=\"none\" stroke=\"black\"/>\n",
       "<polygon fill=\"black\" points=\"437.164,-262.104 433.664,-252.104 430.164,-262.104 437.164,-262.104\" stroke=\"black\"/>\n",
       "</g>\n",
       "<!-- aMTG&#45;R -->\n",
       "<g class=\"node\" id=\"node17\"><title>aMTG-R</title>\n",
       "<ellipse cx=\"537.664\" cy=\"-234\" fill=\"none\" rx=\"42.5542\" ry=\"18\" stroke=\"black\"/>\n",
       "<text font-family=\"Times,serif\" font-size=\"14.00\" text-anchor=\"middle\" x=\"537.664\" y=\"-229.8\">aMTG-R</text>\n",
       "</g>\n",
       "<!-- mMTG&#45;R&#45;&gt;aMTG&#45;R -->\n",
       "<g class=\"edge\" id=\"edge33\"><title>mMTG-R-&gt;aMTG-R</title>\n",
       "<path d=\"M455.72,-290.155C470.712,-280.064 490.741,-266.583 507.245,-255.474\" fill=\"none\" stroke=\"black\"/>\n",
       "<polygon fill=\"black\" points=\"509.655,-258.071 515.997,-249.584 505.746,-252.264 509.655,-258.071\" stroke=\"black\"/>\n",
       "</g>\n",
       "<!-- aMTG&#45;L -->\n",
       "<g class=\"node\" id=\"node16\"><title>aMTG-L</title>\n",
       "<ellipse cx=\"520.664\" cy=\"-162\" fill=\"none\" rx=\"42.0611\" ry=\"18\" stroke=\"black\"/>\n",
       "<text font-family=\"Times,serif\" font-size=\"14.00\" text-anchor=\"middle\" x=\"520.664\" y=\"-157.8\">aMTG-L</text>\n",
       "</g>\n",
       "<!-- aMTG&#45;L&#45;&gt;pMTG&#45;L -->\n",
       "<g class=\"edge\" id=\"edge14\"><title>aMTG-L-&gt;pMTG-L</title>\n",
       "<path d=\"M517.033,-144.055C515.363,-136.261 513.34,-126.822 511.466,-118.079\" fill=\"none\" stroke=\"black\"/>\n",
       "<polygon fill=\"black\" points=\"514.883,-117.32 509.366,-108.275 508.039,-118.787 514.883,-117.32\" stroke=\"black\"/>\n",
       "</g>\n",
       "<!-- aMTG&#45;R&#45;&gt;aFus&#45;R -->\n",
       "<g class=\"edge\" id=\"edge30\"><title>aMTG-R-&gt;aFus-R</title>\n",
       "<path d=\"M555.197,-217.465C566.085,-207.817 580.239,-195.275 592.219,-184.66\" fill=\"none\" stroke=\"black\"/>\n",
       "<polygon fill=\"black\" points=\"594.559,-187.263 599.722,-178.011 589.917,-182.024 594.559,-187.263\" stroke=\"black\"/>\n",
       "</g>\n",
       "<!-- aMTG&#45;R&#45;&gt;aMTG&#45;L -->\n",
       "<g class=\"edge\" id=\"edge11\"><title>aMTG-R-&gt;aMTG-L</title>\n",
       "<path d=\"M533.549,-216.055C531.656,-208.261 529.363,-198.822 527.24,-190.079\" fill=\"none\" stroke=\"black\"/>\n",
       "<polygon fill=\"black\" points=\"530.62,-189.167 524.859,-180.275 523.818,-190.819 530.62,-189.167\" stroke=\"black\"/>\n",
       "</g>\n",
       "<!-- IFG2&#45;L -->\n",
       "<g class=\"node\" id=\"node19\"><title>IFG2-L</title>\n",
       "<ellipse cx=\"316.664\" cy=\"-18\" fill=\"none\" rx=\"37.2507\" ry=\"18\" stroke=\"black\"/>\n",
       "<text font-family=\"Times,serif\" font-size=\"14.00\" text-anchor=\"middle\" x=\"316.664\" y=\"-13.8\">IFG2-L</text>\n",
       "</g>\n",
       "<!-- IFG1&#45;L&#45;&gt;IFG2&#45;L -->\n",
       "<g class=\"edge\" id=\"edge12\"><title>IFG1-L-&gt;IFG2-L</title>\n",
       "<path d=\"M334.141,-215.849C330.855,-178.832 323.072,-91.1809 319.095,-46.3863\" fill=\"none\" stroke=\"black\"/>\n",
       "<polygon fill=\"black\" points=\"322.565,-45.8837 318.194,-36.2325 315.592,-46.5028 322.565,-45.8837\" stroke=\"black\"/>\n",
       "</g>\n",
       "<!-- IFG1&#45;L&#45;&gt;IFG2&#45;R -->\n",
       "<g class=\"edge\" id=\"edge5\"><title>IFG1-L-&gt;IFG2-R</title>\n",
       "<path d=\"M347.029,-216.765C353.003,-208.23 360.456,-197.582 367.15,-188.019\" fill=\"none\" stroke=\"black\"/>\n",
       "<polygon fill=\"black\" points=\"370.153,-189.833 373.02,-179.633 364.418,-185.819 370.153,-189.833\" stroke=\"black\"/>\n",
       "</g>\n",
       "<!-- MPFC&#45;R -->\n",
       "<g class=\"node\" id=\"node24\"><title>MPFC-R</title>\n",
       "<ellipse cx=\"387.664\" cy=\"-90\" fill=\"none\" rx=\"42.5974\" ry=\"18\" stroke=\"black\"/>\n",
       "<text font-family=\"Times,serif\" font-size=\"14.00\" text-anchor=\"middle\" x=\"387.664\" y=\"-85.8\">MPFC-R</text>\n",
       "</g>\n",
       "<!-- IFG2&#45;R&#45;&gt;MPFC&#45;R -->\n",
       "<g class=\"edge\" id=\"edge22\"><title>IFG2-R-&gt;MPFC-R</title>\n",
       "<path d=\"M385.405,-143.697C385.736,-135.983 386.133,-126.712 386.502,-118.112\" fill=\"none\" stroke=\"black\"/>\n",
       "<polygon fill=\"black\" points=\"389.999,-118.245 386.931,-108.104 383.006,-117.945 389.999,-118.245\" stroke=\"black\"/>\n",
       "</g>\n",
       "<!-- TPJ&#45;L -->\n",
       "<g class=\"node\" id=\"node21\"><title>TPJ-L</title>\n",
       "<ellipse cx=\"309.664\" cy=\"-450\" fill=\"none\" rx=\"32.4324\" ry=\"18\" stroke=\"black\"/>\n",
       "<text font-family=\"Times,serif\" font-size=\"14.00\" text-anchor=\"middle\" x=\"309.664\" y=\"-445.8\">TPJ-L</text>\n",
       "</g>\n",
       "<!-- TPJ&#45;L&#45;&gt;mMTG&#45;L -->\n",
       "<g class=\"edge\" id=\"edge10\"><title>TPJ-L-&gt;mMTG-L</title>\n",
       "<path d=\"M322.144,-433.116C329.077,-424.292 337.848,-413.13 345.62,-403.238\" fill=\"none\" stroke=\"black\"/>\n",
       "<polygon fill=\"black\" points=\"348.425,-405.333 351.851,-395.307 342.921,-401.008 348.425,-405.333\" stroke=\"black\"/>\n",
       "</g>\n",
       "<!-- mPreCun&#45;L -->\n",
       "<g class=\"node\" id=\"node27\"><title>mPreCun-L</title>\n",
       "<ellipse cx=\"155.664\" cy=\"-378\" fill=\"none\" rx=\"51.726\" ry=\"18\" stroke=\"black\"/>\n",
       "<text font-family=\"Times,serif\" font-size=\"14.00\" text-anchor=\"middle\" x=\"155.664\" y=\"-373.8\">mPreCun-L</text>\n",
       "</g>\n",
       "<!-- TPJ&#45;L&#45;&gt;mPreCun&#45;L -->\n",
       "<g class=\"edge\" id=\"edge38\"><title>TPJ-L-&gt;mPreCun-L</title>\n",
       "<path d=\"M285.262,-437.908C261.031,-426.894 223.488,-409.829 195.035,-396.896\" fill=\"none\" stroke=\"black\"/>\n",
       "<polygon fill=\"black\" points=\"196.319,-393.635 185.767,-392.683 193.422,-400.007 196.319,-393.635\" stroke=\"black\"/>\n",
       "</g>\n",
       "<!-- TPJ&#45;R -->\n",
       "<g class=\"node\" id=\"node22\"><title>TPJ-R</title>\n",
       "<ellipse cx=\"308.664\" cy=\"-522\" fill=\"none\" rx=\"32.9255\" ry=\"18\" stroke=\"black\"/>\n",
       "<text font-family=\"Times,serif\" font-size=\"14.00\" text-anchor=\"middle\" x=\"308.664\" y=\"-517.8\">TPJ-R</text>\n",
       "</g>\n",
       "<!-- TPJ&#45;R&#45;&gt;TPJ&#45;L -->\n",
       "<g class=\"edge\" id=\"edge25\"><title>TPJ-R-&gt;TPJ-L</title>\n",
       "<path d=\"M308.911,-503.697C309.021,-495.983 309.154,-486.712 309.277,-478.112\" fill=\"none\" stroke=\"black\"/>\n",
       "<polygon fill=\"black\" points=\"312.776,-478.153 309.419,-468.104 305.777,-478.053 312.776,-478.153\" stroke=\"black\"/>\n",
       "</g>\n",
       "<!-- MPFC&#45;L -->\n",
       "<g class=\"node\" id=\"node23\"><title>MPFC-L</title>\n",
       "<ellipse cx=\"413.664\" cy=\"-18\" fill=\"none\" rx=\"42.1043\" ry=\"18\" stroke=\"black\"/>\n",
       "<text font-family=\"Times,serif\" font-size=\"14.00\" text-anchor=\"middle\" x=\"413.664\" y=\"-13.8\">MPFC-L</text>\n",
       "</g>\n",
       "<!-- MPFC&#45;R&#45;&gt;IFG2&#45;L -->\n",
       "<g class=\"edge\" id=\"edge35\"><title>MPFC-R-&gt;IFG2-L</title>\n",
       "<path d=\"M371.553,-73.1159C362.203,-63.8975 350.264,-52.1269 339.91,-41.9191\" fill=\"none\" stroke=\"black\"/>\n",
       "<polygon fill=\"black\" points=\"342.289,-39.3496 332.711,-34.8212 337.375,-44.3344 342.289,-39.3496\" stroke=\"black\"/>\n",
       "</g>\n",
       "<!-- MPFC&#45;R&#45;&gt;MPFC&#45;L -->\n",
       "<g class=\"edge\" id=\"edge13\"><title>MPFC-R-&gt;MPFC-L</title>\n",
       "<path d=\"M393.958,-72.055C396.884,-64.1762 400.435,-54.6165 403.712,-45.794\" fill=\"none\" stroke=\"black\"/>\n",
       "<polygon fill=\"black\" points=\"407.046,-46.8682 407.247,-36.2753 400.484,-44.4309 407.046,-46.8682\" stroke=\"black\"/>\n",
       "</g>\n",
       "<!-- dPreCun&#45;L -->\n",
       "<g class=\"node\" id=\"node25\"><title>dPreCun-L</title>\n",
       "<ellipse cx=\"92.6638\" cy=\"-450\" fill=\"none\" rx=\"49.3119\" ry=\"18\" stroke=\"black\"/>\n",
       "<text font-family=\"Times,serif\" font-size=\"14.00\" text-anchor=\"middle\" x=\"92.6638\" y=\"-445.8\">dPreCun-L</text>\n",
       "</g>\n",
       "<!-- dPreCun&#45;L&#45;&gt;mPreCun&#45;L -->\n",
       "<g class=\"edge\" id=\"edge23\"><title>dPreCun-L-&gt;mPreCun-L</title>\n",
       "<path d=\"M107.276,-432.765C115.192,-423.969 125.128,-412.928 133.934,-403.144\" fill=\"none\" stroke=\"black\"/>\n",
       "<polygon fill=\"black\" points=\"136.606,-405.408 140.694,-395.633 131.403,-400.725 136.606,-405.408\" stroke=\"black\"/>\n",
       "</g>\n",
       "<!-- dPreCun&#45;R&#45;&gt;dPreCun&#45;L -->\n",
       "<g class=\"edge\" id=\"edge37\"><title>dPreCun-R-&gt;dPreCun-L</title>\n",
       "<path d=\"M185.361,-649.823C172.77,-640.257 157.613,-626.916 147.664,-612 119.564,-569.871 104.434,-511.96 97.5042,-478.301\" fill=\"none\" stroke=\"black\"/>\n",
       "<polygon fill=\"black\" points=\"100.897,-477.415 95.5365,-468.276 94.0281,-478.763 100.897,-477.415\" stroke=\"black\"/>\n",
       "</g>\n",
       "<!-- mPreCun&#45;R -->\n",
       "<g class=\"node\" id=\"node28\"><title>mPreCun-R</title>\n",
       "<ellipse cx=\"208.664\" cy=\"-594\" fill=\"none\" rx=\"52.2192\" ry=\"18\" stroke=\"black\"/>\n",
       "<text font-family=\"Times,serif\" font-size=\"14.00\" text-anchor=\"middle\" x=\"208.664\" y=\"-589.8\">mPreCun-R</text>\n",
       "</g>\n",
       "<!-- dPreCun&#45;R&#45;&gt;mPreCun&#45;R -->\n",
       "<g class=\"edge\" id=\"edge20\"><title>dPreCun-R-&gt;mPreCun-R</title>\n",
       "<path d=\"M207.911,-647.697C208.021,-639.983 208.154,-630.712 208.277,-622.112\" fill=\"none\" stroke=\"black\"/>\n",
       "<polygon fill=\"black\" points=\"211.776,-622.153 208.419,-612.104 204.777,-622.053 211.776,-622.153\" stroke=\"black\"/>\n",
       "</g>\n",
       "<!-- mPreCun&#45;R&#45;&gt;TPJ&#45;R -->\n",
       "<g class=\"edge\" id=\"edge34\"><title>mPreCun-R-&gt;TPJ-R</title>\n",
       "<path d=\"M230.857,-577.465C245.616,-567.133 265.115,-553.484 280.901,-542.434\" fill=\"none\" stroke=\"black\"/>\n",
       "<polygon fill=\"black\" points=\"283.049,-545.202 289.235,-536.6 279.035,-539.468 283.049,-545.202\" stroke=\"black\"/>\n",
       "</g>\n",
       "<!-- vPreCun&#45;R -->\n",
       "<g class=\"node\" id=\"node30\"><title>vPreCun-R</title>\n",
       "<ellipse cx=\"207.664\" cy=\"-522\" fill=\"none\" rx=\"49.805\" ry=\"18\" stroke=\"black\"/>\n",
       "<text font-family=\"Times,serif\" font-size=\"14.00\" text-anchor=\"middle\" x=\"207.664\" y=\"-517.8\">vPreCun-R</text>\n",
       "</g>\n",
       "<!-- mPreCun&#45;R&#45;&gt;vPreCun&#45;R -->\n",
       "<g class=\"edge\" id=\"edge21\"><title>mPreCun-R-&gt;vPreCun-R</title>\n",
       "<path d=\"M208.417,-575.697C208.306,-567.983 208.174,-558.712 208.051,-550.112\" fill=\"none\" stroke=\"black\"/>\n",
       "<polygon fill=\"black\" points=\"211.551,-550.053 207.908,-540.104 204.551,-550.153 211.551,-550.053\" stroke=\"black\"/>\n",
       "</g>\n",
       "<!-- vPreCun&#45;L -->\n",
       "<g class=\"node\" id=\"node29\"><title>vPreCun-L</title>\n",
       "<ellipse cx=\"209.664\" cy=\"-450\" fill=\"none\" rx=\"49.3119\" ry=\"18\" stroke=\"black\"/>\n",
       "<text font-family=\"Times,serif\" font-size=\"14.00\" text-anchor=\"middle\" x=\"209.664\" y=\"-445.8\">vPreCun-L</text>\n",
       "</g>\n",
       "<!-- vPreCun&#45;L&#45;&gt;mFus&#45;L -->\n",
       "<g class=\"edge\" id=\"edge3\"><title>vPreCun-L-&gt;mFus-L</title>\n",
       "<path d=\"M222.461,-432.411C229.119,-423.781 237.387,-413.062 244.766,-403.497\" fill=\"none\" stroke=\"black\"/>\n",
       "<polygon fill=\"black\" points=\"247.622,-405.526 250.958,-395.47 242.079,-401.25 247.622,-405.526\" stroke=\"black\"/>\n",
       "</g>\n",
       "<!-- vPreCun&#45;L&#45;&gt;mPreCun&#45;L -->\n",
       "<g class=\"edge\" id=\"edge27\"><title>vPreCun-L-&gt;mPreCun-L</title>\n",
       "<path d=\"M196.867,-432.411C190.209,-423.781 181.94,-413.062 174.562,-403.497\" fill=\"none\" stroke=\"black\"/>\n",
       "<polygon fill=\"black\" points=\"177.249,-401.25 168.369,-395.47 171.706,-405.526 177.249,-401.25\" stroke=\"black\"/>\n",
       "</g>\n",
       "<!-- vPreCun&#45;R&#45;&gt;vPreCun&#45;L -->\n",
       "<g class=\"edge\" id=\"edge2\"><title>vPreCun-R-&gt;vPreCun-L</title>\n",
       "<path d=\"M208.158,-503.697C208.379,-495.983 208.643,-486.712 208.889,-478.112\" fill=\"none\" stroke=\"black\"/>\n",
       "<polygon fill=\"black\" points=\"212.388,-478.2 209.175,-468.104 205.391,-478 212.388,-478.2\" stroke=\"black\"/>\n",
       "</g>\n",
       "<!-- FAM&#45;UNFAM -->\n",
       "<g class=\"node\" id=\"node31\"><title>FAM-UNFAM</title>\n",
       "<ellipse cx=\"225.664\" cy=\"-882\" fill=\"none\" rx=\"62.7138\" ry=\"18\" stroke=\"black\"/>\n",
       "<text font-family=\"Times,serif\" font-size=\"14.00\" text-anchor=\"middle\" x=\"225.664\" y=\"-877.8\">FAM-UNFAM</text>\n",
       "</g>\n",
       "</g>\n",
       "</svg>"
      ],
      "text/plain": [
       "<IPython.core.display.SVG object>"
      ]
     },
     "execution_count": 75,
     "metadata": {},
     "output_type": "execute_result"
    }
   ],
   "source": [
    "# render resulting graph\n",
    "dot_withc_raw_ar = images_withc_raw_ar.getDot()\n",
    "svg_str = dot_withc_raw_ar.create_svg(prog='dot')\n",
    "SVG(svg_str)"
   ]
  },
  {
   "cell_type": "code",
   "execution_count": 76,
   "metadata": {
    "collapsed": true
   },
   "outputs": [],
   "source": [
    "sb.set_style('white')"
   ]
  },
  {
   "cell_type": "code",
   "execution_count": 77,
   "metadata": {
    "scrolled": false
   },
   "outputs": [
    {
     "data": {
      "text/plain": [
       "<matplotlib.text.Text at 0x12e205c10>"
      ]
     },
     "execution_count": 77,
     "metadata": {},
     "output_type": "execute_result"
    },
    {
     "data": {
      "image/png": "[encoded data removed]",
      "text/plain": [
       "<matplotlib.figure.Figure at 0x12e1e9d90>"
      ]
     },
     "metadata": {},
     "output_type": "display_data"
    }
   ],
   "source": [
    "# time series of EV1-L before AR\n",
    "plt.plot(dfs_withc_raw[0]['EV1-L'].values)\n",
    "plt.plot(dfs_withc_raw_ar[0]['EV1-L'].values)\n",
    "plt.legend(['before AR', 'after AR'])\n",
    "plt.title('Preprocessed data, ROI: EV1-L', fontweight='bold')"
   ]
  },
  {
   "cell_type": "markdown",
   "metadata": {},
   "source": [
    "## Residual data"
   ]
  },
  {
   "cell_type": "code",
   "execution_count": 78,
   "metadata": {
    "collapsed": true
   },
   "outputs": [],
   "source": [
    "# perform AR modelling for all data frames based on preprocessed data\n",
    "dfs_withc_nb_ar = [ar_df(df) for df in dfs_withc_nb]"
   ]
  },
  {
   "cell_type": "code",
   "execution_count": 79,
   "metadata": {
    "collapsed": true
   },
   "outputs": [],
   "source": [
    "# perform images search\n",
    "pc.start_vm() # start\n",
    "images_withc_nb_ar = s.imagesSemBic(dfs_withc_nb_ar, verbose = True)\n",
    "pc.stop_vm() # stop"
   ]
  },
  {
   "cell_type": "code",
   "execution_count": 80,
   "metadata": {},
   "outputs": [
    {
     "data": {
      "image/svg+xml": [
       "<svg height=\"1268pt\" viewBox=\"0.00 0.00 463.74 1268.00\" width=\"464pt\" xmlns=\"http://www.w3.org/2000/svg\" xmlns:xlink=\"http://www.w3.org/1999/xlink\">\n",
       "<g class=\"graph\" id=\"graph0\" transform=\"scale(1 1) rotate(0) translate(4 1264)\">\n",
       "<title>G</title>\n",
       "<polygon fill=\"white\" points=\"-4,4 -4,-1264 459.736,-1264 459.736,4 -4,4\" stroke=\"none\"/>\n",
       "<!-- EV1&#45;L -->\n",
       "<g class=\"node\" id=\"node1\"><title>EV1-L</title>\n",
       "<ellipse cx=\"124.125\" cy=\"-882\" fill=\"none\" rx=\"34.8285\" ry=\"18\" stroke=\"black\"/>\n",
       "<text font-family=\"Times,serif\" font-size=\"14.00\" text-anchor=\"middle\" x=\"124.125\" y=\"-877.8\">EV1-L</text>\n",
       "</g>\n",
       "<!-- dPreCun&#45;R -->\n",
       "<g class=\"node\" id=\"node26\"><title>dPreCun-R</title>\n",
       "<ellipse cx=\"124.125\" cy=\"-810\" fill=\"none\" rx=\"49.805\" ry=\"18\" stroke=\"black\"/>\n",
       "<text font-family=\"Times,serif\" font-size=\"14.00\" text-anchor=\"middle\" x=\"124.125\" y=\"-805.8\">dPreCun-R</text>\n",
       "</g>\n",
       "<!-- EV1&#45;L&#45;&gt;dPreCun&#45;R -->\n",
       "<g class=\"edge\" id=\"edge8\"><title>EV1-L-&gt;dPreCun-R</title>\n",
       "<path d=\"M124.125,-863.697C124.125,-855.983 124.125,-846.712 124.125,-838.112\" fill=\"none\" stroke=\"black\"/>\n",
       "<polygon fill=\"black\" points=\"127.625,-838.104 124.125,-828.104 120.625,-838.104 127.625,-838.104\" stroke=\"black\"/>\n",
       "</g>\n",
       "<!-- EV1&#45;R -->\n",
       "<g class=\"node\" id=\"node2\"><title>EV1-R</title>\n",
       "<ellipse cx=\"156.125\" cy=\"-954\" fill=\"none\" rx=\"35.3216\" ry=\"18\" stroke=\"black\"/>\n",
       "<text font-family=\"Times,serif\" font-size=\"14.00\" text-anchor=\"middle\" x=\"156.125\" y=\"-949.8\">EV1-R</text>\n",
       "</g>\n",
       "<!-- EV1&#45;R&#45;&gt;EV1&#45;L -->\n",
       "<g class=\"edge\" id=\"edge28\"><title>EV1-R-&gt;EV1-L</title>\n",
       "<path d=\"M148.542,-936.411C144.811,-928.249 140.226,-918.22 136.041,-909.065\" fill=\"none\" stroke=\"black\"/>\n",
       "<polygon fill=\"black\" points=\"139.217,-907.596 131.877,-899.956 132.851,-910.506 139.217,-907.596\" stroke=\"black\"/>\n",
       "</g>\n",
       "<!-- EV2&#45;L -->\n",
       "<g class=\"node\" id=\"node3\"><title>EV2-L</title>\n",
       "<ellipse cx=\"161.125\" cy=\"-1098\" fill=\"none\" rx=\"34.8285\" ry=\"18\" stroke=\"black\"/>\n",
       "<text font-family=\"Times,serif\" font-size=\"14.00\" text-anchor=\"middle\" x=\"161.125\" y=\"-1093.8\">EV2-L</text>\n",
       "</g>\n",
       "<!-- EV2&#45;L&#45;&gt;EV1&#45;R -->\n",
       "<g class=\"edge\" id=\"edge29\"><title>EV2-L-&gt;EV1-R</title>\n",
       "<path d=\"M160.522,-1079.87C159.561,-1052.58 157.693,-999.52 156.73,-972.189\" fill=\"none\" stroke=\"black\"/>\n",
       "</g>\n",
       "<!-- EV2&#45;R -->\n",
       "<g class=\"node\" id=\"node4\"><title>EV2-R</title>\n",
       "<ellipse cx=\"206.125\" cy=\"-1026\" fill=\"none\" rx=\"35.3216\" ry=\"18\" stroke=\"black\"/>\n",
       "<text font-family=\"Times,serif\" font-size=\"14.00\" text-anchor=\"middle\" x=\"206.125\" y=\"-1021.8\">EV2-R</text>\n",
       "</g>\n",
       "<!-- EV2&#45;L&#45;&gt;EV2&#45;R -->\n",
       "<g class=\"edge\" id=\"edge30\"><title>EV2-L-&gt;EV2-R</title>\n",
       "<path d=\"M171.562,-1080.76C178.728,-1069.62 188.212,-1054.87 195.432,-1043.63\" fill=\"none\" stroke=\"black\"/>\n",
       "</g>\n",
       "<!-- EV2&#45;R&#45;&gt;EV1&#45;R -->\n",
       "<g class=\"edge\" id=\"edge17\"><title>EV2-R-&gt;EV1-R</title>\n",
       "<path d=\"M194.528,-1008.76C186.451,-997.456 175.723,-982.437 167.659,-971.147\" fill=\"none\" stroke=\"black\"/>\n",
       "</g>\n",
       "<!-- OccFus&#45;L -->\n",
       "<g class=\"node\" id=\"node5\"><title>OccFus-L</title>\n",
       "<ellipse cx=\"259.125\" cy=\"-1098\" fill=\"none\" rx=\"45.4441\" ry=\"18\" stroke=\"black\"/>\n",
       "<text font-family=\"Times,serif\" font-size=\"14.00\" text-anchor=\"middle\" x=\"259.125\" y=\"-1093.8\">OccFus-L</text>\n",
       "</g>\n",
       "<!-- OccFus&#45;R -->\n",
       "<g class=\"node\" id=\"node6\"><title>OccFus-R</title>\n",
       "<ellipse cx=\"167.125\" cy=\"-1170\" fill=\"none\" rx=\"45.9373\" ry=\"18\" stroke=\"black\"/>\n",
       "<text font-family=\"Times,serif\" font-size=\"14.00\" text-anchor=\"middle\" x=\"167.125\" y=\"-1165.8\">OccFus-R</text>\n",
       "</g>\n",
       "<!-- OccFus&#45;R&#45;&gt;EV2&#45;L -->\n",
       "<g class=\"edge\" id=\"edge2\"><title>OccFus-R-&gt;EV2-L</title>\n",
       "<path d=\"M165.642,-1151.7C164.712,-1140.85 163.518,-1126.92 162.591,-1116.1\" fill=\"none\" stroke=\"black\"/>\n",
       "</g>\n",
       "<!-- OccFus&#45;R&#45;&gt;OccFus&#45;L -->\n",
       "<g class=\"edge\" id=\"edge15\"><title>OccFus-R-&gt;OccFus-L</title>\n",
       "<path d=\"M187.543,-1153.46C200.256,-1143.79 216.792,-1131.21 230.767,-1120.58\" fill=\"none\" stroke=\"black\"/>\n",
       "<polygon fill=\"black\" points=\"233.242,-1123.09 239.081,-1114.25 229.003,-1117.52 233.242,-1123.09\" stroke=\"black\"/>\n",
       "</g>\n",
       "<!-- pFus&#45;L -->\n",
       "<g class=\"node\" id=\"node7\"><title>pFus-L</title>\n",
       "<ellipse cx=\"267.125\" cy=\"-1170\" fill=\"none\" rx=\"35.8147\" ry=\"18\" stroke=\"black\"/>\n",
       "<text font-family=\"Times,serif\" font-size=\"14.00\" text-anchor=\"middle\" x=\"267.125\" y=\"-1165.8\">pFus-L</text>\n",
       "</g>\n",
       "<!-- pFus&#45;L&#45;&gt;OccFus&#45;L -->\n",
       "<g class=\"edge\" id=\"edge31\"><title>pFus-L-&gt;OccFus-L</title>\n",
       "<path d=\"M265.148,-1151.7C264.266,-1143.98 263.207,-1134.71 262.224,-1126.11\" fill=\"none\" stroke=\"black\"/>\n",
       "<polygon fill=\"black\" points=\"265.693,-1125.64 261.08,-1116.1 258.738,-1126.44 265.693,-1125.64\" stroke=\"black\"/>\n",
       "</g>\n",
       "<!-- mFus&#45;L -->\n",
       "<g class=\"node\" id=\"node9\"><title>mFus-L</title>\n",
       "<ellipse cx=\"361.125\" cy=\"-1098\" fill=\"none\" rx=\"38.2284\" ry=\"18\" stroke=\"black\"/>\n",
       "<text font-family=\"Times,serif\" font-size=\"14.00\" text-anchor=\"middle\" x=\"361.125\" y=\"-1093.8\">mFus-L</text>\n",
       "</g>\n",
       "<!-- pFus&#45;L&#45;&gt;mFus&#45;L -->\n",
       "<g class=\"edge\" id=\"edge4\"><title>pFus-L-&gt;mFus-L</title>\n",
       "<path d=\"M286.602,-1154.5C302.735,-1142.48 325.547,-1125.49 341.673,-1113.49\" fill=\"none\" stroke=\"black\"/>\n",
       "</g>\n",
       "<!-- pFus&#45;R -->\n",
       "<g class=\"node\" id=\"node8\"><title>pFus-R</title>\n",
       "<ellipse cx=\"167.125\" cy=\"-1242\" fill=\"none\" rx=\"36.3078\" ry=\"18\" stroke=\"black\"/>\n",
       "<text font-family=\"Times,serif\" font-size=\"14.00\" text-anchor=\"middle\" x=\"167.125\" y=\"-1237.8\">pFus-R</text>\n",
       "</g>\n",
       "<!-- pFus&#45;R&#45;&gt;EV1&#45;L -->\n",
       "<g class=\"edge\" id=\"edge34\"><title>pFus-R-&gt;EV1-L</title>\n",
       "<path d=\"M147.168,-1226.73C135.201,-1217.12 120.691,-1203.42 112.125,-1188 92.4817,-1152.64 93.1252,-1139.45 93.1252,-1099 93.1252,-1099 93.1252,-1099 93.1252,-1025 93.1252,-983.873 105.69,-937.557 114.822,-909.328\" fill=\"none\" stroke=\"black\"/>\n",
       "<polygon fill=\"black\" points=\"118.159,-910.384 118.001,-899.79 111.518,-908.17 118.159,-910.384\" stroke=\"black\"/>\n",
       "</g>\n",
       "<!-- pFus&#45;R&#45;&gt;OccFus&#45;R -->\n",
       "<g class=\"edge\" id=\"edge18\"><title>pFus-R-&gt;OccFus-R</title>\n",
       "<path d=\"M167.125,-1223.7C167.125,-1212.85 167.125,-1198.92 167.125,-1188.1\" fill=\"none\" stroke=\"black\"/>\n",
       "</g>\n",
       "<!-- pFus&#45;R&#45;&gt;pFus&#45;L -->\n",
       "<g class=\"edge\" id=\"edge5\"><title>pFus-R-&gt;pFus-L</title>\n",
       "<path d=\"M187.362,-1226.83C204.711,-1214.69 229.578,-1197.28 246.919,-1185.14\" fill=\"none\" stroke=\"black\"/>\n",
       "</g>\n",
       "<!-- mFus&#45;R -->\n",
       "<g class=\"node\" id=\"node10\"><title>mFus-R</title>\n",
       "<ellipse cx=\"417.125\" cy=\"-1026\" fill=\"none\" rx=\"38.7215\" ry=\"18\" stroke=\"black\"/>\n",
       "<text font-family=\"Times,serif\" font-size=\"14.00\" text-anchor=\"middle\" x=\"417.125\" y=\"-1021.8\">mFus-R</text>\n",
       "</g>\n",
       "<!-- mFus&#45;L&#45;&gt;mFus&#45;R -->\n",
       "<g class=\"edge\" id=\"edge6\"><title>mFus-L-&gt;mFus-R</title>\n",
       "<path d=\"M374.113,-1080.76C383.16,-1069.46 395.176,-1054.44 404.207,-1043.15\" fill=\"none\" stroke=\"black\"/>\n",
       "</g>\n",
       "<!-- aFus&#45;R -->\n",
       "<g class=\"node\" id=\"node13\"><title>aFus-R</title>\n",
       "<ellipse cx=\"325.125\" cy=\"-1026\" fill=\"none\" rx=\"35.8147\" ry=\"18\" stroke=\"black\"/>\n",
       "<text font-family=\"Times,serif\" font-size=\"14.00\" text-anchor=\"middle\" x=\"325.125\" y=\"-1021.8\">aFus-R</text>\n",
       "</g>\n",
       "<!-- mFus&#45;L&#45;&gt;aFus&#45;R -->\n",
       "<g class=\"edge\" id=\"edge9\"><title>mFus-L-&gt;aFus-R</title>\n",
       "<path d=\"M352.594,-1080.41C346.938,-1069.41 339.539,-1055.03 333.845,-1043.96\" fill=\"none\" stroke=\"black\"/>\n",
       "</g>\n",
       "<!-- pMTG&#45;L -->\n",
       "<g class=\"node\" id=\"node11\"><title>pMTG-L</title>\n",
       "<ellipse cx=\"102.125\" cy=\"-162\" fill=\"none\" rx=\"42.5542\" ry=\"18\" stroke=\"black\"/>\n",
       "<text font-family=\"Times,serif\" font-size=\"14.00\" text-anchor=\"middle\" x=\"102.125\" y=\"-157.8\">pMTG-L</text>\n",
       "</g>\n",
       "<!-- pMTG&#45;R -->\n",
       "<g class=\"node\" id=\"node12\"><title>pMTG-R</title>\n",
       "<ellipse cx=\"196.125\" cy=\"-234\" fill=\"none\" rx=\"43.0474\" ry=\"18\" stroke=\"black\"/>\n",
       "<text font-family=\"Times,serif\" font-size=\"14.00\" text-anchor=\"middle\" x=\"196.125\" y=\"-229.8\">pMTG-R</text>\n",
       "</g>\n",
       "<!-- pMTG&#45;R&#45;&gt;pMTG&#45;L -->\n",
       "<g class=\"edge\" id=\"edge14\"><title>pMTG-R-&gt;pMTG-L</title>\n",
       "<path d=\"M175.729,-217.811C162.458,-207.929 144.969,-194.905 130.368,-184.032\" fill=\"none\" stroke=\"black\"/>\n",
       "<polygon fill=\"black\" points=\"132.27,-181.084 122.159,-177.919 128.089,-186.699 132.27,-181.084\" stroke=\"black\"/>\n",
       "</g>\n",
       "<!-- IFG2&#45;R -->\n",
       "<g class=\"node\" id=\"node20\"><title>IFG2-R</title>\n",
       "<ellipse cx=\"200.125\" cy=\"-162\" fill=\"none\" rx=\"37.7439\" ry=\"18\" stroke=\"black\"/>\n",
       "<text font-family=\"Times,serif\" font-size=\"14.00\" text-anchor=\"middle\" x=\"200.125\" y=\"-157.8\">IFG2-R</text>\n",
       "</g>\n",
       "<!-- pMTG&#45;R&#45;&gt;IFG2&#45;R -->\n",
       "<g class=\"edge\" id=\"edge7\"><title>pMTG-R-&gt;IFG2-R</title>\n",
       "<path d=\"M197.114,-215.697C197.555,-207.983 198.084,-198.712 198.576,-190.112\" fill=\"none\" stroke=\"black\"/>\n",
       "<polygon fill=\"black\" points=\"202.071,-190.288 199.148,-180.104 195.083,-189.888 202.071,-190.288\" stroke=\"black\"/>\n",
       "</g>\n",
       "<!-- mMTG&#45;L -->\n",
       "<g class=\"node\" id=\"node14\"><title>mMTG-L</title>\n",
       "<ellipse cx=\"127.125\" cy=\"-378\" fill=\"none\" rx=\"44.9682\" ry=\"18\" stroke=\"black\"/>\n",
       "<text font-family=\"Times,serif\" font-size=\"14.00\" text-anchor=\"middle\" x=\"127.125\" y=\"-373.8\">mMTG-L</text>\n",
       "</g>\n",
       "<!-- mMTG&#45;R -->\n",
       "<g class=\"node\" id=\"node15\"><title>mMTG-R</title>\n",
       "<ellipse cx=\"200.125\" cy=\"-306\" fill=\"none\" rx=\"45.4614\" ry=\"18\" stroke=\"black\"/>\n",
       "<text font-family=\"Times,serif\" font-size=\"14.00\" text-anchor=\"middle\" x=\"200.125\" y=\"-301.8\">mMTG-R</text>\n",
       "</g>\n",
       "<!-- mMTG&#45;L&#45;&gt;mMTG&#45;R -->\n",
       "<g class=\"edge\" id=\"edge16\"><title>mMTG-L-&gt;mMTG-R</title>\n",
       "<path d=\"M143.69,-361.116C153.304,-351.897 165.579,-340.127 176.224,-329.919\" fill=\"none\" stroke=\"black\"/>\n",
       "<polygon fill=\"black\" points=\"178.83,-332.269 183.626,-322.821 173.986,-327.216 178.83,-332.269\" stroke=\"black\"/>\n",
       "</g>\n",
       "<!-- IFG1&#45;L -->\n",
       "<g class=\"node\" id=\"node18\"><title>IFG1-L</title>\n",
       "<ellipse cx=\"99.1252\" cy=\"-306\" fill=\"none\" rx=\"37.2507\" ry=\"18\" stroke=\"black\"/>\n",
       "<text font-family=\"Times,serif\" font-size=\"14.00\" text-anchor=\"middle\" x=\"99.1252\" y=\"-301.8\">IFG1-L</text>\n",
       "</g>\n",
       "<!-- mMTG&#45;L&#45;&gt;IFG1&#45;L -->\n",
       "<g class=\"edge\" id=\"edge24\"><title>mMTG-L-&gt;IFG1-L</title>\n",
       "<path d=\"M120.347,-360.055C117.114,-351.973 113.174,-342.121 109.57,-333.112\" fill=\"none\" stroke=\"black\"/>\n",
       "<polygon fill=\"black\" points=\"112.804,-331.774 105.841,-323.789 106.305,-334.374 112.804,-331.774\" stroke=\"black\"/>\n",
       "</g>\n",
       "<!-- mMTG&#45;R&#45;&gt;pMTG&#45;R -->\n",
       "<g class=\"edge\" id=\"edge26\"><title>mMTG-R-&gt;pMTG-R</title>\n",
       "<path d=\"M199.136,-287.697C198.696,-279.983 198.166,-270.712 197.674,-262.112\" fill=\"none\" stroke=\"black\"/>\n",
       "<polygon fill=\"black\" points=\"201.167,-261.888 197.103,-252.104 194.179,-262.288 201.167,-261.888\" stroke=\"black\"/>\n",
       "</g>\n",
       "<!-- aMTG&#45;R -->\n",
       "<g class=\"node\" id=\"node17\"><title>aMTG-R</title>\n",
       "<ellipse cx=\"300.125\" cy=\"-234\" fill=\"none\" rx=\"42.5542\" ry=\"18\" stroke=\"black\"/>\n",
       "<text font-family=\"Times,serif\" font-size=\"14.00\" text-anchor=\"middle\" x=\"300.125\" y=\"-229.8\">aMTG-R</text>\n",
       "</g>\n",
       "<!-- mMTG&#45;R&#45;&gt;aMTG&#45;R -->\n",
       "<g class=\"edge\" id=\"edge33\"><title>mMTG-R-&gt;aMTG-R</title>\n",
       "<path d=\"M221.824,-289.811C236.17,-279.769 255.152,-266.482 270.833,-255.505\" fill=\"none\" stroke=\"black\"/>\n",
       "<polygon fill=\"black\" points=\"272.969,-258.282 279.154,-249.68 268.955,-252.547 272.969,-258.282\" stroke=\"black\"/>\n",
       "</g>\n",
       "<!-- aMTG&#45;L -->\n",
       "<g class=\"node\" id=\"node16\"><title>aMTG-L</title>\n",
       "<ellipse cx=\"300.125\" cy=\"-162\" fill=\"none\" rx=\"42.0611\" ry=\"18\" stroke=\"black\"/>\n",
       "<text font-family=\"Times,serif\" font-size=\"14.00\" text-anchor=\"middle\" x=\"300.125\" y=\"-157.8\">aMTG-L</text>\n",
       "</g>\n",
       "<!-- aMTG&#45;R&#45;&gt;aMTG&#45;L -->\n",
       "<g class=\"edge\" id=\"edge10\"><title>aMTG-R-&gt;aMTG-L</title>\n",
       "<path d=\"M300.125,-215.697C300.125,-207.983 300.125,-198.712 300.125,-190.112\" fill=\"none\" stroke=\"black\"/>\n",
       "<polygon fill=\"black\" points=\"303.625,-190.104 300.125,-180.104 296.625,-190.104 303.625,-190.104\" stroke=\"black\"/>\n",
       "</g>\n",
       "<!-- IFG1&#45;L&#45;&gt;pMTG&#45;L -->\n",
       "<g class=\"edge\" id=\"edge20\"><title>IFG1-L-&gt;pMTG-L</title>\n",
       "<path d=\"M99.487,-287.871C99.9983,-263.67 100.938,-219.211 101.546,-190.393\" fill=\"none\" stroke=\"black\"/>\n",
       "<polygon fill=\"black\" points=\"105.05,-190.261 101.762,-180.189 98.0515,-190.113 105.05,-190.261\" stroke=\"black\"/>\n",
       "</g>\n",
       "<!-- IFG2&#45;L -->\n",
       "<g class=\"node\" id=\"node19\"><title>IFG2-L</title>\n",
       "<ellipse cx=\"37.1252\" cy=\"-234\" fill=\"none\" rx=\"37.2507\" ry=\"18\" stroke=\"black\"/>\n",
       "<text font-family=\"Times,serif\" font-size=\"14.00\" text-anchor=\"middle\" x=\"37.1252\" y=\"-229.8\">IFG2-L</text>\n",
       "</g>\n",
       "<!-- IFG1&#45;L&#45;&gt;IFG2&#45;L -->\n",
       "<g class=\"edge\" id=\"edge12\"><title>IFG1-L-&gt;IFG2-L</title>\n",
       "<path d=\"M85.0564,-289.116C77.05,-280.076 66.8702,-268.583 57.9531,-258.515\" fill=\"none\" stroke=\"black\"/>\n",
       "<polygon fill=\"black\" points=\"60.3887,-255.986 51.1382,-250.821 55.1486,-260.628 60.3887,-255.986\" stroke=\"black\"/>\n",
       "</g>\n",
       "<!-- MPFC&#45;R -->\n",
       "<g class=\"node\" id=\"node24\"><title>MPFC-R</title>\n",
       "<ellipse cx=\"200.125\" cy=\"-90\" fill=\"none\" rx=\"42.5974\" ry=\"18\" stroke=\"black\"/>\n",
       "<text font-family=\"Times,serif\" font-size=\"14.00\" text-anchor=\"middle\" x=\"200.125\" y=\"-85.8\">MPFC-R</text>\n",
       "</g>\n",
       "<!-- IFG2&#45;R&#45;&gt;MPFC&#45;R -->\n",
       "<g class=\"edge\" id=\"edge23\"><title>IFG2-R-&gt;MPFC-R</title>\n",
       "<path d=\"M200.125,-143.697C200.125,-135.983 200.125,-126.712 200.125,-118.112\" fill=\"none\" stroke=\"black\"/>\n",
       "<polygon fill=\"black\" points=\"203.625,-118.104 200.125,-108.104 196.625,-118.104 203.625,-118.104\" stroke=\"black\"/>\n",
       "</g>\n",
       "<!-- TPJ&#45;L -->\n",
       "<g class=\"node\" id=\"node21\"><title>TPJ-L</title>\n",
       "<ellipse cx=\"143.125\" cy=\"-450\" fill=\"none\" rx=\"32.4324\" ry=\"18\" stroke=\"black\"/>\n",
       "<text font-family=\"Times,serif\" font-size=\"14.00\" text-anchor=\"middle\" x=\"143.125\" y=\"-445.8\">TPJ-L</text>\n",
       "</g>\n",
       "<!-- TPJ&#45;L&#45;&gt;mMTG&#45;L -->\n",
       "<g class=\"edge\" id=\"edge11\"><title>TPJ-L-&gt;mMTG-L</title>\n",
       "<path d=\"M139.252,-432.055C137.471,-424.261 135.313,-414.822 133.315,-406.079\" fill=\"none\" stroke=\"black\"/>\n",
       "<polygon fill=\"black\" points=\"136.714,-405.244 131.074,-396.275 129.89,-406.804 136.714,-405.244\" stroke=\"black\"/>\n",
       "</g>\n",
       "<!-- TPJ&#45;R -->\n",
       "<g class=\"node\" id=\"node22\"><title>TPJ-R</title>\n",
       "<ellipse cx=\"223.125\" cy=\"-378\" fill=\"none\" rx=\"32.9255\" ry=\"18\" stroke=\"black\"/>\n",
       "<text font-family=\"Times,serif\" font-size=\"14.00\" text-anchor=\"middle\" x=\"223.125\" y=\"-373.8\">TPJ-R</text>\n",
       "</g>\n",
       "<!-- TPJ&#45;L&#45;&gt;TPJ&#45;R -->\n",
       "<g class=\"edge\" id=\"edge25\"><title>TPJ-L-&gt;TPJ-R</title>\n",
       "<path d=\"M159.701,-434.496C170.889,-424.707 185.852,-411.614 198.434,-400.605\" fill=\"none\" stroke=\"black\"/>\n",
       "<polygon fill=\"black\" points=\"201.074,-402.945 206.295,-393.726 196.465,-397.677 201.074,-402.945\" stroke=\"black\"/>\n",
       "</g>\n",
       "<!-- MPFC&#45;L -->\n",
       "<g class=\"node\" id=\"node23\"><title>MPFC-L</title>\n",
       "<ellipse cx=\"200.125\" cy=\"-18\" fill=\"none\" rx=\"42.1043\" ry=\"18\" stroke=\"black\"/>\n",
       "<text font-family=\"Times,serif\" font-size=\"14.00\" text-anchor=\"middle\" x=\"200.125\" y=\"-13.8\">MPFC-L</text>\n",
       "</g>\n",
       "<!-- MPFC&#45;R&#45;&gt;MPFC&#45;L -->\n",
       "<g class=\"edge\" id=\"edge13\"><title>MPFC-R-&gt;MPFC-L</title>\n",
       "<path d=\"M200.125,-71.6966C200.125,-63.9827 200.125,-54.7125 200.125,-46.1124\" fill=\"none\" stroke=\"black\"/>\n",
       "<polygon fill=\"black\" points=\"203.625,-46.1043 200.125,-36.1043 196.625,-46.1044 203.625,-46.1043\" stroke=\"black\"/>\n",
       "</g>\n",
       "<!-- dPreCun&#45;L -->\n",
       "<g class=\"node\" id=\"node25\"><title>dPreCun-L</title>\n",
       "<ellipse cx=\"64.1252\" cy=\"-738\" fill=\"none\" rx=\"49.3119\" ry=\"18\" stroke=\"black\"/>\n",
       "<text font-family=\"Times,serif\" font-size=\"14.00\" text-anchor=\"middle\" x=\"64.1252\" y=\"-733.8\">dPreCun-L</text>\n",
       "</g>\n",
       "<!-- dPreCun&#45;R&#45;&gt;dPreCun&#45;L -->\n",
       "<g class=\"edge\" id=\"edge35\"><title>dPreCun-R-&gt;dPreCun-L</title>\n",
       "<path d=\"M109.906,-792.411C102.434,-783.693 93.1355,-772.845 84.8746,-763.208\" fill=\"none\" stroke=\"black\"/>\n",
       "<polygon fill=\"black\" points=\"87.4076,-760.785 78.2423,-755.47 82.0928,-765.34 87.4076,-760.785\" stroke=\"black\"/>\n",
       "</g>\n",
       "<!-- mPreCun&#45;R -->\n",
       "<g class=\"node\" id=\"node28\"><title>mPreCun-R</title>\n",
       "<ellipse cx=\"184.125\" cy=\"-738\" fill=\"none\" rx=\"52.2192\" ry=\"18\" stroke=\"black\"/>\n",
       "<text font-family=\"Times,serif\" font-size=\"14.00\" text-anchor=\"middle\" x=\"184.125\" y=\"-733.8\">mPreCun-R</text>\n",
       "</g>\n",
       "<!-- dPreCun&#45;R&#45;&gt;mPreCun&#45;R -->\n",
       "<g class=\"edge\" id=\"edge19\"><title>dPreCun-R-&gt;mPreCun-R</title>\n",
       "<path d=\"M138.344,-792.411C145.817,-783.693 155.115,-772.845 163.376,-763.208\" fill=\"none\" stroke=\"black\"/>\n",
       "<polygon fill=\"black\" points=\"166.158,-765.34 170.008,-755.47 160.843,-760.785 166.158,-765.34\" stroke=\"black\"/>\n",
       "</g>\n",
       "<!-- mPreCun&#45;L -->\n",
       "<g class=\"node\" id=\"node27\"><title>mPreCun-L</title>\n",
       "<ellipse cx=\"143.125\" cy=\"-522\" fill=\"none\" rx=\"51.726\" ry=\"18\" stroke=\"black\"/>\n",
       "<text font-family=\"Times,serif\" font-size=\"14.00\" text-anchor=\"middle\" x=\"143.125\" y=\"-517.8\">mPreCun-L</text>\n",
       "</g>\n",
       "<!-- mPreCun&#45;L&#45;&gt;TPJ&#45;L -->\n",
       "<g class=\"edge\" id=\"edge36\"><title>mPreCun-L-&gt;TPJ-L</title>\n",
       "<path d=\"M143.125,-503.697C143.125,-495.983 143.125,-486.712 143.125,-478.112\" fill=\"none\" stroke=\"black\"/>\n",
       "<polygon fill=\"black\" points=\"146.625,-478.104 143.125,-468.104 139.625,-478.104 146.625,-478.104\" stroke=\"black\"/>\n",
       "</g>\n",
       "<!-- mPreCun&#45;R&#45;&gt;mPreCun&#45;L -->\n",
       "<g class=\"edge\" id=\"edge1\"><title>mPreCun-R-&gt;mPreCun-L</title>\n",
       "<path d=\"M176.616,-720.135C172.339,-709.876 167.23,-696.403 164.125,-684 152.564,-637.813 147.117,-582.487 144.749,-550.187\" fill=\"none\" stroke=\"black\"/>\n",
       "<polygon fill=\"black\" points=\"148.237,-549.899 144.059,-540.163 141.254,-550.379 148.237,-549.899\" stroke=\"black\"/>\n",
       "</g>\n",
       "<!-- vPreCun&#45;R -->\n",
       "<g class=\"node\" id=\"node30\"><title>vPreCun-R</title>\n",
       "<ellipse cx=\"223.125\" cy=\"-666\" fill=\"none\" rx=\"49.805\" ry=\"18\" stroke=\"black\"/>\n",
       "<text font-family=\"Times,serif\" font-size=\"14.00\" text-anchor=\"middle\" x=\"223.125\" y=\"-661.8\">vPreCun-R</text>\n",
       "</g>\n",
       "<!-- mPreCun&#45;R&#45;&gt;vPreCun&#45;R -->\n",
       "<g class=\"edge\" id=\"edge21\"><title>mPreCun-R-&gt;vPreCun-R</title>\n",
       "<path d=\"M193.566,-720.055C198.165,-711.801 203.792,-701.701 208.897,-692.538\" fill=\"none\" stroke=\"black\"/>\n",
       "<polygon fill=\"black\" points=\"211.962,-694.228 213.771,-683.789 205.847,-690.821 211.962,-694.228\" stroke=\"black\"/>\n",
       "</g>\n",
       "<!-- vPreCun&#45;L -->\n",
       "<g class=\"node\" id=\"node29\"><title>vPreCun-L</title>\n",
       "<ellipse cx=\"300.125\" cy=\"-594\" fill=\"none\" rx=\"49.3119\" ry=\"18\" stroke=\"black\"/>\n",
       "<text font-family=\"Times,serif\" font-size=\"14.00\" text-anchor=\"middle\" x=\"300.125\" y=\"-589.8\">vPreCun-L</text>\n",
       "</g>\n",
       "<!-- vPreCun&#45;L&#45;&gt;aMTG&#45;R -->\n",
       "<g class=\"edge\" id=\"edge22\"><title>vPreCun-L-&gt;aMTG-R</title>\n",
       "<path d=\"M300.125,-575.951C300.125,-549.292 300.125,-496.115 300.125,-451 300.125,-451 300.125,-451 300.125,-377 300.125,-336.996 300.125,-290.653 300.125,-262.08\" fill=\"none\" stroke=\"black\"/>\n",
       "<polygon fill=\"black\" points=\"303.625,-262.049 300.125,-252.049 296.625,-262.049 303.625,-262.049\" stroke=\"black\"/>\n",
       "</g>\n",
       "<!-- vPreCun&#45;L&#45;&gt;mPreCun&#45;L -->\n",
       "<g class=\"edge\" id=\"edge27\"><title>vPreCun-L-&gt;mPreCun-L</title>\n",
       "<path d=\"M270.225,-579.669C245.474,-568.633 210.096,-552.859 182.946,-540.755\" fill=\"none\" stroke=\"black\"/>\n",
       "<polygon fill=\"black\" points=\"184.276,-537.515 173.717,-536.64 181.425,-543.909 184.276,-537.515\" stroke=\"black\"/>\n",
       "</g>\n",
       "<!-- vPreCun&#45;R&#45;&gt;TPJ&#45;R -->\n",
       "<g class=\"edge\" id=\"edge32\"><title>vPreCun-R-&gt;TPJ-R</title>\n",
       "<path d=\"M223.125,-647.966C223.125,-600.291 223.125,-465.185 223.125,-406.63\" fill=\"none\" stroke=\"black\"/>\n",
       "<polygon fill=\"black\" points=\"226.625,-406.306 223.125,-396.306 219.625,-406.306 226.625,-406.306\" stroke=\"black\"/>\n",
       "</g>\n",
       "<!-- vPreCun&#45;R&#45;&gt;vPreCun&#45;L -->\n",
       "<g class=\"edge\" id=\"edge3\"><title>vPreCun-R-&gt;vPreCun-L</title>\n",
       "<path d=\"M240.598,-649.116C250.764,-639.874 263.753,-628.066 275.002,-617.84\" fill=\"none\" stroke=\"black\"/>\n",
       "<polygon fill=\"black\" points=\"277.41,-620.38 282.455,-611.064 272.701,-615.2 277.41,-620.38\" stroke=\"black\"/>\n",
       "</g>\n",
       "<!-- FAM&#45;UNFAM -->\n",
       "<g class=\"node\" id=\"node31\"><title>FAM-UNFAM</title>\n",
       "<ellipse cx=\"284.125\" cy=\"-1242\" fill=\"none\" rx=\"62.7138\" ry=\"18\" stroke=\"black\"/>\n",
       "<text font-family=\"Times,serif\" font-size=\"14.00\" text-anchor=\"middle\" x=\"284.125\" y=\"-1237.8\">FAM-UNFAM</text>\n",
       "</g>\n",
       "</g>\n",
       "</svg>"
      ],
      "text/plain": [
       "<IPython.core.display.SVG object>"
      ]
     },
     "execution_count": 80,
     "metadata": {},
     "output_type": "execute_result"
    }
   ],
   "source": [
    "# render resulting graph\n",
    "dot_withc_nb_ar = images_withc_nb_ar.getDot()\n",
    "svg_str = dot_withc_nb_ar.create_svg(prog='dot')\n",
    "SVG(svg_str)"
   ]
  },
  {
   "cell_type": "code",
   "execution_count": 81,
   "metadata": {},
   "outputs": [
    {
     "data": {
      "text/plain": [
       "<matplotlib.text.Text at 0x12ca2ed10>"
      ]
     },
     "execution_count": 81,
     "metadata": {},
     "output_type": "execute_result"
    },
    {
     "data": {
      "image/png": "[encoded data removed]",
      "text/plain": [
       "<matplotlib.figure.Figure at 0x12f447890>"
      ]
     },
     "metadata": {},
     "output_type": "display_data"
    }
   ],
   "source": [
    "# example time series before AR in residual data\n",
    "plt.plot(dfs_withc_nb[0]['FAM-UNFAM'].values)\n",
    "plt.plot(dfs_withc_nb_ar[0]['FAM-UNFAM'].values)\n",
    "plt.legend(['before AR', 'after AR'])\n",
    "plt.title('residual data, familiarity regressor (FAM-UNFAM)', fontweight='bold')"
   ]
  },
  {
   "cell_type": "markdown",
   "metadata": {},
   "source": [
    "## Conclusion AR modelling"
   ]
  },
  {
   "cell_type": "markdown",
   "metadata": {},
   "source": [
    "AR modelling does not influence the graph (neither for preprocessed nor residual data)."
   ]
  },
  {
   "cell_type": "markdown",
   "metadata": {},
   "source": [
    "# Which edges change?"
   ]
  },
  {
   "cell_type": "markdown",
   "metadata": {},
   "source": [
    "Work in progress"
   ]
  },
  {
   "cell_type": "markdown",
   "metadata": {},
   "source": [
    "## residual data"
   ]
  },
  {
   "cell_type": "code",
   "execution_count": 82,
   "metadata": {
    "collapsed": true,
    "scrolled": true
   },
   "outputs": [],
   "source": [
    "## reshape our list of adjacency matrices, so we can make a heatmap\n",
    "## with 11 columns (for each run) and 900 rows (for each possible edge)\n",
    "\n",
    "# np.shape(am_list_nb)\n",
    "# am_list_nb_reshape = np.array(am_list_nb).reshape(900,11)\n",
    "# np.shape(am_list_nb_reshape)"
   ]
  },
  {
   "cell_type": "code",
   "execution_count": 83,
   "metadata": {
    "collapsed": true
   },
   "outputs": [],
   "source": [
    "## plot heatmap\n",
    "\n",
    "# fig, ax = plt.subplots(figsize=(18,30))\n",
    "# hm = sb.heatmap(am_list_nb_reshape, cbar=False, xticklabels=False)"
   ]
  }
 ],
 "metadata": {
  "kernelspec": {
   "display_name": "Python 2",
   "language": "python",
   "name": "python2"
  },
  "language_info": {
   "codemirror_mode": {
    "name": "ipython",
    "version": 2
   },
   "file_extension": ".py",
   "mimetype": "text/x-python",
   "name": "python",
   "nbconvert_exporter": "python",
   "pygments_lexer": "ipython2",
   "version": "2.7.13"
  }
 },
 "nbformat": 4,
 "nbformat_minor": 2
}
