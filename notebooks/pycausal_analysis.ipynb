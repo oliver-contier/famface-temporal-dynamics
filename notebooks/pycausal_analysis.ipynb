{
 "cells": [
  {
   "cell_type": "markdown",
   "metadata": {},
   "source": [
    "# IMaGES on ROI time series"
   ]
  },
  {
   "cell_type": "code",
   "execution_count": 267,
   "metadata": {
    "collapsed": true
   },
   "outputs": [],
   "source": [
    "import os\n",
    "import pickle\n",
    "from os.path import join as pjoin\n",
    "import glob\n",
    "import pandas as pd\n",
    "import numpy as np\n",
    "import pydot\n",
    "from IPython.display import SVG\n",
    "import matplotlib.pyplot as plt\n",
    "import seaborn as sb\n",
    "from matplotlib import pyplot, patches\n",
    "from pycausal import pycausal as pc\n",
    "from pycausal import search as s\n",
    "import networkx as nx\n",
    "from networkx.drawing import nx_pydot\n",
    "import itertools\n",
    "import copy"
   ]
  },
  {
   "cell_type": "code",
   "execution_count": 158,
   "metadata": {
    "collapsed": true
   },
   "outputs": [],
   "source": [
    "%matplotlib inline"
   ]
  },
  {
   "cell_type": "code",
   "execution_count": 294,
   "metadata": {
    "collapsed": true
   },
   "outputs": [],
   "source": [
    "sb.set_context('notebook')"
   ]
  },
  {
   "cell_type": "code",
   "execution_count": 159,
   "metadata": {
    "collapsed": true
   },
   "outputs": [],
   "source": [
    "def getdfs(csvdir):\n",
    "    \"\"\"give us list of data frames for csv files in directory\"\"\"\n",
    "    dfs = []\n",
    "    for csvfile in glob.glob(csvdir + os.sep + \"*.csv\"):\n",
    "        df = pd.read_csv(csvfile)\n",
    "        dfs.append(df)\n",
    "    return dfs"
   ]
  },
  {
   "cell_type": "markdown",
   "metadata": {},
   "source": [
    "## Preprocessed BOLD data"
   ]
  },
  {
   "cell_type": "code",
   "execution_count": 160,
   "metadata": {
    "collapsed": true
   },
   "outputs": [],
   "source": [
    "# directory with csv files for roi time series (seperate csv file for each run)\n",
    "csvdir_allruns = pjoin('/host', 'famfaces', 'extract_meants', 'csv', 'allruns')\n",
    "dfs = getdfs(csvdir_allruns)"
   ]
  },
  {
   "cell_type": "code",
   "execution_count": 161,
   "metadata": {
    "collapsed": true
   },
   "outputs": [],
   "source": [
    "# perform images search\n",
    "pc.start_vm() # start\n",
    "images_raw = s.imagesSemBic(dfs, verbose = True)\n",
    "pc.stop_vm() # stop"
   ]
  },
  {
   "cell_type": "code",
   "execution_count": 360,
   "metadata": {},
   "outputs": [],
   "source": [
    "# show nodes\n",
    "nodes = [str(node) for node in images_raw.getNodes()]"
   ]
  },
  {
   "cell_type": "code",
   "execution_count": 163,
   "metadata": {
    "collapsed": true
   },
   "outputs": [],
   "source": [
    "# show edges\n",
    "# images.getEdges()"
   ]
  },
  {
   "cell_type": "code",
   "execution_count": 164,
   "metadata": {},
   "outputs": [
    {
     "data": {
      "image/svg+xml": [
       "<svg height=\"908pt\" viewBox=\"0.00 0.00 464.39 908.00\" width=\"464pt\" xmlns=\"http://www.w3.org/2000/svg\" xmlns:xlink=\"http://www.w3.org/1999/xlink\">\n",
       "<g class=\"graph\" id=\"graph0\" transform=\"scale(1 1) rotate(0) translate(4 904)\">\n",
       "<title>G</title>\n",
       "<polygon fill=\"white\" points=\"-4,4 -4,-904 460.39,-904 460.39,4 -4,4\" stroke=\"none\"/>\n",
       "<!-- EV1&#45;L -->\n",
       "<g class=\"node\" id=\"node1\"><title>EV1-L</title>\n",
       "<ellipse cx=\"105.527\" cy=\"-738\" fill=\"none\" rx=\"34.8285\" ry=\"18\" stroke=\"black\"/>\n",
       "<text font-family=\"Times,serif\" font-size=\"14.00\" text-anchor=\"middle\" x=\"105.527\" y=\"-733.8\">EV1-L</text>\n",
       "</g>\n",
       "<!-- EV1&#45;R -->\n",
       "<g class=\"node\" id=\"node2\"><title>EV1-R</title>\n",
       "<ellipse cx=\"128.527\" cy=\"-810\" fill=\"none\" rx=\"35.3216\" ry=\"18\" stroke=\"black\"/>\n",
       "<text font-family=\"Times,serif\" font-size=\"14.00\" text-anchor=\"middle\" x=\"128.527\" y=\"-805.8\">EV1-R</text>\n",
       "</g>\n",
       "<!-- EV1&#45;R&#45;&gt;EV1&#45;L -->\n",
       "<g class=\"edge\" id=\"edge23\"><title>EV1-R-&gt;EV1-L</title>\n",
       "<path d=\"M122.959,-792.055C119.343,-781.049 114.649,-766.764 111.043,-755.789\" fill=\"none\" stroke=\"black\"/>\n",
       "</g>\n",
       "<!-- EV2&#45;L -->\n",
       "<g class=\"node\" id=\"node3\"><title>EV2-L</title>\n",
       "<ellipse cx=\"192.527\" cy=\"-738\" fill=\"none\" rx=\"34.8285\" ry=\"18\" stroke=\"black\"/>\n",
       "<text font-family=\"Times,serif\" font-size=\"14.00\" text-anchor=\"middle\" x=\"192.527\" y=\"-733.8\">EV2-L</text>\n",
       "</g>\n",
       "<!-- EV1&#45;R&#45;&gt;EV2&#45;L -->\n",
       "<g class=\"edge\" id=\"edge24\"><title>EV1-R-&gt;EV2-L</title>\n",
       "<path d=\"M142.731,-793.465C153.337,-781.865 167.767,-766.082 178.363,-754.492\" fill=\"none\" stroke=\"black\"/>\n",
       "</g>\n",
       "<!-- EV2&#45;R -->\n",
       "<g class=\"node\" id=\"node4\"><title>EV2-R</title>\n",
       "<ellipse cx=\"190.527\" cy=\"-666\" fill=\"none\" rx=\"35.3216\" ry=\"18\" stroke=\"black\"/>\n",
       "<text font-family=\"Times,serif\" font-size=\"14.00\" text-anchor=\"middle\" x=\"190.527\" y=\"-661.8\">EV2-R</text>\n",
       "</g>\n",
       "<!-- EV2&#45;L&#45;&gt;EV2&#45;R -->\n",
       "<g class=\"edge\" id=\"edge25\"><title>EV2-L-&gt;EV2-R</title>\n",
       "<path d=\"M192.033,-719.697C191.723,-708.846 191.325,-694.917 191.016,-684.104\" fill=\"none\" stroke=\"black\"/>\n",
       "</g>\n",
       "<!-- OccFus&#45;L -->\n",
       "<g class=\"node\" id=\"node5\"><title>OccFus-L</title>\n",
       "<ellipse cx=\"293.527\" cy=\"-738\" fill=\"none\" rx=\"45.4441\" ry=\"18\" stroke=\"black\"/>\n",
       "<text font-family=\"Times,serif\" font-size=\"14.00\" text-anchor=\"middle\" x=\"293.527\" y=\"-733.8\">OccFus-L</text>\n",
       "</g>\n",
       "<!-- dPreCun&#45;R -->\n",
       "<g class=\"node\" id=\"node26\"><title>dPreCun-R</title>\n",
       "<ellipse cx=\"293.527\" cy=\"-666\" fill=\"none\" rx=\"49.805\" ry=\"18\" stroke=\"black\"/>\n",
       "<text font-family=\"Times,serif\" font-size=\"14.00\" text-anchor=\"middle\" x=\"293.527\" y=\"-661.8\">dPreCun-R</text>\n",
       "</g>\n",
       "<!-- OccFus&#45;L&#45;&gt;dPreCun&#45;R -->\n",
       "<g class=\"edge\" id=\"edge6\"><title>OccFus-L-&gt;dPreCun-R</title>\n",
       "<path d=\"M293.527,-719.697C293.527,-711.983 293.527,-702.712 293.527,-694.112\" fill=\"none\" stroke=\"black\"/>\n",
       "<polygon fill=\"black\" points=\"297.027,-694.104 293.527,-684.104 290.027,-694.104 297.027,-694.104\" stroke=\"black\"/>\n",
       "</g>\n",
       "<!-- OccFus&#45;R -->\n",
       "<g class=\"node\" id=\"node6\"><title>OccFus-R</title>\n",
       "<ellipse cx=\"272.527\" cy=\"-810\" fill=\"none\" rx=\"45.9373\" ry=\"18\" stroke=\"black\"/>\n",
       "<text font-family=\"Times,serif\" font-size=\"14.00\" text-anchor=\"middle\" x=\"272.527\" y=\"-805.8\">OccFus-R</text>\n",
       "</g>\n",
       "<!-- OccFus&#45;R&#45;&gt;EV2&#45;L -->\n",
       "<g class=\"edge\" id=\"edge1\"><title>OccFus-R-&gt;EV2-L</title>\n",
       "<path d=\"M254.374,-793.116C240.913,-781.337 222.69,-765.392 209.514,-753.864\" fill=\"none\" stroke=\"black\"/>\n",
       "</g>\n",
       "<!-- OccFus&#45;R&#45;&gt;OccFus&#45;L -->\n",
       "<g class=\"edge\" id=\"edge13\"><title>OccFus-R-&gt;OccFus-L</title>\n",
       "<path d=\"M277.611,-792.055C279.949,-784.261 282.781,-774.822 285.403,-766.079\" fill=\"none\" stroke=\"black\"/>\n",
       "<polygon fill=\"black\" points=\"288.823,-766.859 288.345,-756.275 282.119,-764.848 288.823,-766.859\" stroke=\"black\"/>\n",
       "</g>\n",
       "<!-- pFus&#45;L -->\n",
       "<g class=\"node\" id=\"node7\"><title>pFus-L</title>\n",
       "<ellipse cx=\"372.527\" cy=\"-810\" fill=\"none\" rx=\"35.8147\" ry=\"18\" stroke=\"black\"/>\n",
       "<text font-family=\"Times,serif\" font-size=\"14.00\" text-anchor=\"middle\" x=\"372.527\" y=\"-805.8\">pFus-L</text>\n",
       "</g>\n",
       "<!-- pFus&#45;L&#45;&gt;OccFus&#45;L -->\n",
       "<g class=\"edge\" id=\"edge26\"><title>pFus-L-&gt;OccFus-L</title>\n",
       "<path d=\"M355.385,-793.811C344.664,-784.311 330.667,-771.909 318.699,-761.304\" fill=\"none\" stroke=\"black\"/>\n",
       "<polygon fill=\"black\" points=\"320.988,-758.656 311.182,-754.644 316.346,-763.896 320.988,-758.656\" stroke=\"black\"/>\n",
       "</g>\n",
       "<!-- mFus&#45;L -->\n",
       "<g class=\"node\" id=\"node9\"><title>mFus-L</title>\n",
       "<ellipse cx=\"397.527\" cy=\"-738\" fill=\"none\" rx=\"38.2284\" ry=\"18\" stroke=\"black\"/>\n",
       "<text font-family=\"Times,serif\" font-size=\"14.00\" text-anchor=\"middle\" x=\"397.527\" y=\"-733.8\">mFus-L</text>\n",
       "</g>\n",
       "<!-- pFus&#45;L&#45;&gt;mFus&#45;L -->\n",
       "<g class=\"edge\" id=\"edge3\"><title>pFus-L-&gt;mFus-L</title>\n",
       "<path d=\"M378.579,-792.055C382.51,-781.049 387.612,-766.764 391.531,-755.789\" fill=\"none\" stroke=\"black\"/>\n",
       "</g>\n",
       "<!-- pFus&#45;R -->\n",
       "<g class=\"node\" id=\"node8\"><title>pFus-R</title>\n",
       "<ellipse cx=\"322.527\" cy=\"-882\" fill=\"none\" rx=\"36.3078\" ry=\"18\" stroke=\"black\"/>\n",
       "<text font-family=\"Times,serif\" font-size=\"14.00\" text-anchor=\"middle\" x=\"322.527\" y=\"-877.8\">pFus-R</text>\n",
       "</g>\n",
       "<!-- pFus&#45;R&#45;&gt;OccFus&#45;R -->\n",
       "<g class=\"edge\" id=\"edge15\"><title>pFus-R-&gt;OccFus-R</title>\n",
       "<path d=\"M310.93,-864.765C302.968,-853.618 292.431,-838.865 284.408,-827.633\" fill=\"none\" stroke=\"black\"/>\n",
       "</g>\n",
       "<!-- pFus&#45;R&#45;&gt;pFus&#45;L -->\n",
       "<g class=\"edge\" id=\"edge4\"><title>pFus-R-&gt;pFus-L</title>\n",
       "<path d=\"M334.124,-864.765C342.201,-853.456 352.929,-838.437 360.993,-827.147\" fill=\"none\" stroke=\"black\"/>\n",
       "</g>\n",
       "<!-- mFus&#45;R -->\n",
       "<g class=\"node\" id=\"node10\"><title>mFus-R</title>\n",
       "<ellipse cx=\"400.527\" cy=\"-666\" fill=\"none\" rx=\"38.7215\" ry=\"18\" stroke=\"black\"/>\n",
       "<text font-family=\"Times,serif\" font-size=\"14.00\" text-anchor=\"middle\" x=\"400.527\" y=\"-661.8\">mFus-R</text>\n",
       "</g>\n",
       "<!-- mFus&#45;L&#45;&gt;mFus&#45;R -->\n",
       "<g class=\"edge\" id=\"edge5\"><title>mFus-L-&gt;mFus-R</title>\n",
       "<path d=\"M398.269,-719.697C398.734,-708.846 399.331,-694.917 399.794,-684.104\" fill=\"none\" stroke=\"black\"/>\n",
       "</g>\n",
       "<!-- pMTG&#45;L -->\n",
       "<g class=\"node\" id=\"node11\"><title>pMTG-L</title>\n",
       "<ellipse cx=\"42.5271\" cy=\"-162\" fill=\"none\" rx=\"42.5542\" ry=\"18\" stroke=\"black\"/>\n",
       "<text font-family=\"Times,serif\" font-size=\"14.00\" text-anchor=\"middle\" x=\"42.5271\" y=\"-157.8\">pMTG-L</text>\n",
       "</g>\n",
       "<!-- pMTG&#45;R -->\n",
       "<g class=\"node\" id=\"node12\"><title>pMTG-R</title>\n",
       "<ellipse cx=\"137.527\" cy=\"-234\" fill=\"none\" rx=\"43.0474\" ry=\"18\" stroke=\"black\"/>\n",
       "<text font-family=\"Times,serif\" font-size=\"14.00\" text-anchor=\"middle\" x=\"137.527\" y=\"-229.8\">pMTG-R</text>\n",
       "</g>\n",
       "<!-- pMTG&#45;R&#45;&gt;pMTG&#45;L -->\n",
       "<g class=\"edge\" id=\"edge12\"><title>pMTG-R-&gt;pMTG-L</title>\n",
       "<path d=\"M116.914,-217.811C103.502,-207.929 85.8263,-194.905 71.0704,-184.032\" fill=\"none\" stroke=\"black\"/>\n",
       "<polygon fill=\"black\" points=\"72.9009,-181.033 62.7741,-177.919 68.7485,-186.669 72.9009,-181.033\" stroke=\"black\"/>\n",
       "</g>\n",
       "<!-- IFG2&#45;R -->\n",
       "<g class=\"node\" id=\"node20\"><title>IFG2-R</title>\n",
       "<ellipse cx=\"140.527\" cy=\"-162\" fill=\"none\" rx=\"37.7439\" ry=\"18\" stroke=\"black\"/>\n",
       "<text font-family=\"Times,serif\" font-size=\"14.00\" text-anchor=\"middle\" x=\"140.527\" y=\"-157.8\">IFG2-R</text>\n",
       "</g>\n",
       "<!-- pMTG&#45;R&#45;&gt;IFG2&#45;R -->\n",
       "<g class=\"edge\" id=\"edge7\"><title>pMTG-R-&gt;IFG2-R</title>\n",
       "<path d=\"M138.269,-215.697C138.599,-207.983 138.997,-198.712 139.365,-190.112\" fill=\"none\" stroke=\"black\"/>\n",
       "<polygon fill=\"black\" points=\"142.863,-190.245 139.794,-180.104 135.869,-189.945 142.863,-190.245\" stroke=\"black\"/>\n",
       "</g>\n",
       "<!-- aFus&#45;R -->\n",
       "<g class=\"node\" id=\"node13\"><title>aFus-R</title>\n",
       "<ellipse cx=\"412.527\" cy=\"-882\" fill=\"none\" rx=\"35.8147\" ry=\"18\" stroke=\"black\"/>\n",
       "<text font-family=\"Times,serif\" font-size=\"14.00\" text-anchor=\"middle\" x=\"412.527\" y=\"-877.8\">aFus-R</text>\n",
       "</g>\n",
       "<!-- mMTG&#45;L -->\n",
       "<g class=\"node\" id=\"node14\"><title>mMTG-L</title>\n",
       "<ellipse cx=\"289.527\" cy=\"-378\" fill=\"none\" rx=\"44.9682\" ry=\"18\" stroke=\"black\"/>\n",
       "<text font-family=\"Times,serif\" font-size=\"14.00\" text-anchor=\"middle\" x=\"289.527\" y=\"-373.8\">mMTG-L</text>\n",
       "</g>\n",
       "<!-- mMTG&#45;R -->\n",
       "<g class=\"node\" id=\"node15\"><title>mMTG-R</title>\n",
       "<ellipse cx=\"239.527\" cy=\"-306\" fill=\"none\" rx=\"45.4614\" ry=\"18\" stroke=\"black\"/>\n",
       "<text font-family=\"Times,serif\" font-size=\"14.00\" text-anchor=\"middle\" x=\"239.527\" y=\"-301.8\">mMTG-R</text>\n",
       "</g>\n",
       "<!-- mMTG&#45;L&#45;&gt;mMTG&#45;R -->\n",
       "<g class=\"edge\" id=\"edge14\"><title>mMTG-L-&gt;mMTG-R</title>\n",
       "<path d=\"M277.678,-360.411C271.575,-351.868 264.012,-341.278 257.232,-331.787\" fill=\"none\" stroke=\"black\"/>\n",
       "<polygon fill=\"black\" points=\"259.952,-329.573 251.291,-323.47 254.256,-333.642 259.952,-329.573\" stroke=\"black\"/>\n",
       "</g>\n",
       "<!-- IFG1&#45;L -->\n",
       "<g class=\"node\" id=\"node18\"><title>IFG1-L</title>\n",
       "<ellipse cx=\"340.527\" cy=\"-306\" fill=\"none\" rx=\"37.2507\" ry=\"18\" stroke=\"black\"/>\n",
       "<text font-family=\"Times,serif\" font-size=\"14.00\" text-anchor=\"middle\" x=\"340.527\" y=\"-301.8\">IFG1-L</text>\n",
       "</g>\n",
       "<!-- mMTG&#45;L&#45;&gt;IFG1&#45;L -->\n",
       "<g class=\"edge\" id=\"edge19\"><title>mMTG-L-&gt;IFG1-L</title>\n",
       "<path d=\"M301.613,-360.411C307.838,-351.868 315.553,-341.278 322.468,-331.787\" fill=\"none\" stroke=\"black\"/>\n",
       "<polygon fill=\"black\" points=\"325.468,-333.613 328.528,-323.47 319.81,-329.491 325.468,-333.613\" stroke=\"black\"/>\n",
       "</g>\n",
       "<!-- mMTG&#45;R&#45;&gt;pMTG&#45;R -->\n",
       "<g class=\"edge\" id=\"edge21\"><title>mMTG-R-&gt;pMTG-R</title>\n",
       "<path d=\"M217.896,-290.155C203.29,-280.132 183.811,-266.763 167.687,-255.698\" fill=\"none\" stroke=\"black\"/>\n",
       "<polygon fill=\"black\" points=\"169.353,-252.596 159.127,-249.824 165.392,-258.368 169.353,-252.596\" stroke=\"black\"/>\n",
       "</g>\n",
       "<!-- aMTG&#45;R -->\n",
       "<g class=\"node\" id=\"node17\"><title>aMTG-R</title>\n",
       "<ellipse cx=\"241.527\" cy=\"-234\" fill=\"none\" rx=\"42.5542\" ry=\"18\" stroke=\"black\"/>\n",
       "<text font-family=\"Times,serif\" font-size=\"14.00\" text-anchor=\"middle\" x=\"241.527\" y=\"-229.8\">aMTG-R</text>\n",
       "</g>\n",
       "<!-- mMTG&#45;R&#45;&gt;aMTG&#45;R -->\n",
       "<g class=\"edge\" id=\"edge27\"><title>mMTG-R-&gt;aMTG-R</title>\n",
       "<path d=\"M240.021,-287.697C240.242,-279.983 240.507,-270.712 240.752,-262.112\" fill=\"none\" stroke=\"black\"/>\n",
       "<polygon fill=\"black\" points=\"244.251,-262.2 241.038,-252.104 237.254,-262 244.251,-262.2\" stroke=\"black\"/>\n",
       "</g>\n",
       "<!-- aMTG&#45;L -->\n",
       "<g class=\"node\" id=\"node16\"><title>aMTG-L</title>\n",
       "<ellipse cx=\"241.527\" cy=\"-162\" fill=\"none\" rx=\"42.0611\" ry=\"18\" stroke=\"black\"/>\n",
       "<text font-family=\"Times,serif\" font-size=\"14.00\" text-anchor=\"middle\" x=\"241.527\" y=\"-157.8\">aMTG-L</text>\n",
       "</g>\n",
       "<!-- aMTG&#45;R&#45;&gt;aMTG&#45;L -->\n",
       "<g class=\"edge\" id=\"edge9\"><title>aMTG-R-&gt;aMTG-L</title>\n",
       "<path d=\"M241.527,-215.697C241.527,-207.983 241.527,-198.712 241.527,-190.112\" fill=\"none\" stroke=\"black\"/>\n",
       "<polygon fill=\"black\" points=\"245.027,-190.104 241.527,-180.104 238.027,-190.104 245.027,-190.104\" stroke=\"black\"/>\n",
       "</g>\n",
       "<!-- IFG2&#45;L -->\n",
       "<g class=\"node\" id=\"node19\"><title>IFG2-L</title>\n",
       "<ellipse cx=\"340.527\" cy=\"-234\" fill=\"none\" rx=\"37.2507\" ry=\"18\" stroke=\"black\"/>\n",
       "<text font-family=\"Times,serif\" font-size=\"14.00\" text-anchor=\"middle\" x=\"340.527\" y=\"-229.8\">IFG2-L</text>\n",
       "</g>\n",
       "<!-- IFG1&#45;L&#45;&gt;IFG2&#45;L -->\n",
       "<g class=\"edge\" id=\"edge10\"><title>IFG1-L-&gt;IFG2-L</title>\n",
       "<path d=\"M340.527,-287.697C340.527,-279.983 340.527,-270.712 340.527,-262.112\" fill=\"none\" stroke=\"black\"/>\n",
       "<polygon fill=\"black\" points=\"344.027,-262.104 340.527,-252.104 337.027,-262.104 344.027,-262.104\" stroke=\"black\"/>\n",
       "</g>\n",
       "<!-- MPFC&#45;R -->\n",
       "<g class=\"node\" id=\"node24\"><title>MPFC-R</title>\n",
       "<ellipse cx=\"140.527\" cy=\"-90\" fill=\"none\" rx=\"42.5974\" ry=\"18\" stroke=\"black\"/>\n",
       "<text font-family=\"Times,serif\" font-size=\"14.00\" text-anchor=\"middle\" x=\"140.527\" y=\"-85.8\">MPFC-R</text>\n",
       "</g>\n",
       "<!-- IFG2&#45;R&#45;&gt;MPFC&#45;R -->\n",
       "<g class=\"edge\" id=\"edge18\"><title>IFG2-R-&gt;MPFC-R</title>\n",
       "<path d=\"M140.527,-143.697C140.527,-135.983 140.527,-126.712 140.527,-118.112\" fill=\"none\" stroke=\"black\"/>\n",
       "<polygon fill=\"black\" points=\"144.027,-118.104 140.527,-108.104 137.027,-118.104 144.027,-118.104\" stroke=\"black\"/>\n",
       "</g>\n",
       "<!-- TPJ&#45;L -->\n",
       "<g class=\"node\" id=\"node21\"><title>TPJ-L</title>\n",
       "<ellipse cx=\"303.527\" cy=\"-450\" fill=\"none\" rx=\"32.4324\" ry=\"18\" stroke=\"black\"/>\n",
       "<text font-family=\"Times,serif\" font-size=\"14.00\" text-anchor=\"middle\" x=\"303.527\" y=\"-445.8\">TPJ-L</text>\n",
       "</g>\n",
       "<!-- TPJ&#45;L&#45;&gt;mMTG&#45;L -->\n",
       "<g class=\"edge\" id=\"edge8\"><title>TPJ-L-&gt;mMTG-L</title>\n",
       "<path d=\"M300.138,-432.055C298.596,-424.346 296.732,-415.027 295,-406.364\" fill=\"none\" stroke=\"black\"/>\n",
       "<polygon fill=\"black\" points=\"298.375,-405.395 292.982,-396.275 291.511,-406.768 298.375,-405.395\" stroke=\"black\"/>\n",
       "</g>\n",
       "<!-- mPreCun&#45;L -->\n",
       "<g class=\"node\" id=\"node27\"><title>mPreCun-L</title>\n",
       "<ellipse cx=\"404.527\" cy=\"-378\" fill=\"none\" rx=\"51.726\" ry=\"18\" stroke=\"black\"/>\n",
       "<text font-family=\"Times,serif\" font-size=\"14.00\" text-anchor=\"middle\" x=\"404.527\" y=\"-373.8\">mPreCun-L</text>\n",
       "</g>\n",
       "<!-- TPJ&#45;L&#45;&gt;mPreCun&#45;L -->\n",
       "<g class=\"edge\" id=\"edge30\"><title>TPJ-L-&gt;mPreCun-L</title>\n",
       "<path d=\"M323.001,-435.503C337.45,-425.489 357.432,-411.64 373.996,-400.16\" fill=\"none\" stroke=\"black\"/>\n",
       "<polygon fill=\"black\" points=\"376.074,-402.978 382.3,-394.405 372.087,-397.225 376.074,-402.978\" stroke=\"black\"/>\n",
       "</g>\n",
       "<!-- TPJ&#45;R -->\n",
       "<g class=\"node\" id=\"node22\"><title>TPJ-R</title>\n",
       "<ellipse cx=\"303.527\" cy=\"-522\" fill=\"none\" rx=\"32.9255\" ry=\"18\" stroke=\"black\"/>\n",
       "<text font-family=\"Times,serif\" font-size=\"14.00\" text-anchor=\"middle\" x=\"303.527\" y=\"-517.8\">TPJ-R</text>\n",
       "</g>\n",
       "<!-- TPJ&#45;R&#45;&gt;TPJ&#45;L -->\n",
       "<g class=\"edge\" id=\"edge20\"><title>TPJ-R-&gt;TPJ-L</title>\n",
       "<path d=\"M303.527,-503.697C303.527,-495.983 303.527,-486.712 303.527,-478.112\" fill=\"none\" stroke=\"black\"/>\n",
       "<polygon fill=\"black\" points=\"307.027,-478.104 303.527,-468.104 300.027,-478.104 307.027,-478.104\" stroke=\"black\"/>\n",
       "</g>\n",
       "<!-- MPFC&#45;L -->\n",
       "<g class=\"node\" id=\"node23\"><title>MPFC-L</title>\n",
       "<ellipse cx=\"140.527\" cy=\"-18\" fill=\"none\" rx=\"42.1043\" ry=\"18\" stroke=\"black\"/>\n",
       "<text font-family=\"Times,serif\" font-size=\"14.00\" text-anchor=\"middle\" x=\"140.527\" y=\"-13.8\">MPFC-L</text>\n",
       "</g>\n",
       "<!-- MPFC&#45;R&#45;&gt;MPFC&#45;L -->\n",
       "<g class=\"edge\" id=\"edge11\"><title>MPFC-R-&gt;MPFC-L</title>\n",
       "<path d=\"M140.527,-71.6966C140.527,-63.9827 140.527,-54.7125 140.527,-46.1124\" fill=\"none\" stroke=\"black\"/>\n",
       "<polygon fill=\"black\" points=\"144.027,-46.1043 140.527,-36.1043 137.027,-46.1044 144.027,-46.1043\" stroke=\"black\"/>\n",
       "</g>\n",
       "<!-- dPreCun&#45;L -->\n",
       "<g class=\"node\" id=\"node25\"><title>dPreCun-L</title>\n",
       "<ellipse cx=\"233.527\" cy=\"-594\" fill=\"none\" rx=\"49.3119\" ry=\"18\" stroke=\"black\"/>\n",
       "<text font-family=\"Times,serif\" font-size=\"14.00\" text-anchor=\"middle\" x=\"233.527\" y=\"-589.8\">dPreCun-L</text>\n",
       "</g>\n",
       "<!-- dPreCun&#45;R&#45;&gt;dPreCun&#45;L -->\n",
       "<g class=\"edge\" id=\"edge29\"><title>dPreCun-R-&gt;dPreCun-L</title>\n",
       "<path d=\"M279.308,-648.411C271.836,-639.693 262.537,-628.845 254.277,-619.208\" fill=\"none\" stroke=\"black\"/>\n",
       "<polygon fill=\"black\" points=\"256.81,-616.785 247.644,-611.47 251.495,-621.34 256.81,-616.785\" stroke=\"black\"/>\n",
       "</g>\n",
       "<!-- mPreCun&#45;R -->\n",
       "<g class=\"node\" id=\"node28\"><title>mPreCun-R</title>\n",
       "<ellipse cx=\"353.527\" cy=\"-594\" fill=\"none\" rx=\"52.2192\" ry=\"18\" stroke=\"black\"/>\n",
       "<text font-family=\"Times,serif\" font-size=\"14.00\" text-anchor=\"middle\" x=\"353.527\" y=\"-589.8\">mPreCun-R</text>\n",
       "</g>\n",
       "<!-- dPreCun&#45;R&#45;&gt;mPreCun&#45;R -->\n",
       "<g class=\"edge\" id=\"edge16\"><title>dPreCun-R-&gt;mPreCun-R</title>\n",
       "<path d=\"M307.746,-648.411C315.219,-639.693 324.517,-628.845 332.778,-619.208\" fill=\"none\" stroke=\"black\"/>\n",
       "<polygon fill=\"black\" points=\"335.559,-621.34 339.41,-611.47 330.245,-616.785 335.559,-621.34\" stroke=\"black\"/>\n",
       "</g>\n",
       "<!-- mPreCun&#45;R&#45;&gt;TPJ&#45;R -->\n",
       "<g class=\"edge\" id=\"edge28\"><title>mPreCun-R-&gt;TPJ-R</title>\n",
       "<path d=\"M341.678,-576.411C335.487,-567.744 327.792,-556.971 320.938,-547.375\" fill=\"none\" stroke=\"black\"/>\n",
       "<polygon fill=\"black\" points=\"323.608,-545.091 314.947,-538.988 317.912,-549.16 323.608,-545.091\" stroke=\"black\"/>\n",
       "</g>\n",
       "<!-- vPreCun&#45;R -->\n",
       "<g class=\"node\" id=\"node30\"><title>vPreCun-R</title>\n",
       "<ellipse cx=\"404.527\" cy=\"-522\" fill=\"none\" rx=\"49.805\" ry=\"18\" stroke=\"black\"/>\n",
       "<text font-family=\"Times,serif\" font-size=\"14.00\" text-anchor=\"middle\" x=\"404.527\" y=\"-517.8\">vPreCun-R</text>\n",
       "</g>\n",
       "<!-- mPreCun&#45;R&#45;&gt;vPreCun&#45;R -->\n",
       "<g class=\"edge\" id=\"edge17\"><title>mPreCun-R-&gt;vPreCun-R</title>\n",
       "<path d=\"M365.613,-576.411C371.748,-567.992 379.329,-557.585 386.167,-548.201\" fill=\"none\" stroke=\"black\"/>\n",
       "<polygon fill=\"black\" points=\"389.114,-550.1 392.173,-539.956 383.456,-545.978 389.114,-550.1\" stroke=\"black\"/>\n",
       "</g>\n",
       "<!-- vPreCun&#45;L -->\n",
       "<g class=\"node\" id=\"node29\"><title>vPreCun-L</title>\n",
       "<ellipse cx=\"404.527\" cy=\"-450\" fill=\"none\" rx=\"49.3119\" ry=\"18\" stroke=\"black\"/>\n",
       "<text font-family=\"Times,serif\" font-size=\"14.00\" text-anchor=\"middle\" x=\"404.527\" y=\"-445.8\">vPreCun-L</text>\n",
       "</g>\n",
       "<!-- vPreCun&#45;L&#45;&gt;mPreCun&#45;L -->\n",
       "<g class=\"edge\" id=\"edge22\"><title>vPreCun-L-&gt;mPreCun-L</title>\n",
       "<path d=\"M404.527,-431.697C404.527,-423.983 404.527,-414.712 404.527,-406.112\" fill=\"none\" stroke=\"black\"/>\n",
       "<polygon fill=\"black\" points=\"408.027,-406.104 404.527,-396.104 401.027,-406.104 408.027,-406.104\" stroke=\"black\"/>\n",
       "</g>\n",
       "<!-- vPreCun&#45;R&#45;&gt;vPreCun&#45;L -->\n",
       "<g class=\"edge\" id=\"edge2\"><title>vPreCun-R-&gt;vPreCun-L</title>\n",
       "<path d=\"M404.527,-503.697C404.527,-495.983 404.527,-486.712 404.527,-478.112\" fill=\"none\" stroke=\"black\"/>\n",
       "<polygon fill=\"black\" points=\"408.027,-478.104 404.527,-468.104 401.027,-478.104 408.027,-478.104\" stroke=\"black\"/>\n",
       "</g>\n",
       "</g>\n",
       "</svg>"
      ],
      "text/plain": [
       "<IPython.core.display.SVG object>"
      ]
     },
     "execution_count": 164,
     "metadata": {},
     "output_type": "execute_result"
    }
   ],
   "source": [
    "# render resulting graph\n",
    "dot_raw = images_raw.getDot()\n",
    "svg_str = dot_raw.create_svg(prog='dot')\n",
    "SVG(svg_str)"
   ]
  },
  {
   "cell_type": "markdown",
   "metadata": {},
   "source": [
    "## Residuals"
   ]
  },
  {
   "cell_type": "markdown",
   "metadata": {},
   "source": [
    "From a nuisance model with motion parameters, outliers, and button press as regressors."
   ]
  },
  {
   "cell_type": "code",
   "execution_count": 165,
   "metadata": {
    "collapsed": true
   },
   "outputs": [],
   "source": [
    "# nuisance data with button press\n",
    "dfs_nb = getdfs(pjoin('/host', 'famfaces', 'extract_meants_nuisance_button', 'csv', 'run*'))"
   ]
  },
  {
   "cell_type": "code",
   "execution_count": 166,
   "metadata": {
    "collapsed": true
   },
   "outputs": [],
   "source": [
    "# perform images search\n",
    "pc.start_vm() # start\n",
    "images_nb = s.imagesSemBic(dfs_nb, verbose = True)\n",
    "pc.stop_vm() # stop"
   ]
  },
  {
   "cell_type": "code",
   "execution_count": 167,
   "metadata": {
    "collapsed": true
   },
   "outputs": [],
   "source": [
    "# nodes and edges\n",
    "# images_nb.getNodes()\n",
    "# images_nb.getEdges()  "
   ]
  },
  {
   "cell_type": "code",
   "execution_count": 268,
   "metadata": {},
   "outputs": [
    {
     "data": {
      "image/svg+xml": [
       "<svg height=\"764pt\" viewBox=\"0.00 0.00 592.93 764.00\" width=\"593pt\" xmlns=\"http://www.w3.org/2000/svg\" xmlns:xlink=\"http://www.w3.org/1999/xlink\">\n",
       "<g class=\"graph\" id=\"graph0\" transform=\"scale(1 1) rotate(0) translate(4 760)\">\n",
       "<title>G</title>\n",
       "<polygon fill=\"white\" points=\"-4,4 -4,-760 588.933,-760 588.933,4 -4,4\" stroke=\"none\"/>\n",
       "<!-- EV1&#45;L -->\n",
       "<g class=\"node\" id=\"node1\"><title>EV1-L</title>\n",
       "<ellipse cx=\"159.406\" cy=\"-594\" fill=\"none\" rx=\"34.8285\" ry=\"18\" stroke=\"black\"/>\n",
       "<text font-family=\"Times,serif\" font-size=\"14.00\" text-anchor=\"middle\" x=\"159.406\" y=\"-589.8\">EV1-L</text>\n",
       "</g>\n",
       "<!-- EV1&#45;R -->\n",
       "<g class=\"node\" id=\"node2\"><title>EV1-R</title>\n",
       "<ellipse cx=\"212.406\" cy=\"-522\" fill=\"none\" rx=\"35.3216\" ry=\"18\" stroke=\"black\"/>\n",
       "<text font-family=\"Times,serif\" font-size=\"14.00\" text-anchor=\"middle\" x=\"212.406\" y=\"-517.8\">EV1-R</text>\n",
       "</g>\n",
       "<!-- EV1&#45;L&#45;&gt;EV1&#45;R -->\n",
       "<g class=\"edge\" id=\"edge23\"><title>EV1-L-&gt;EV1-R</title>\n",
       "<path d=\"M171.432,-577.116C179.984,-565.821 191.436,-550.696 200.059,-539.307\" fill=\"none\" stroke=\"black\"/>\n",
       "</g>\n",
       "<!-- dPreCun&#45;R -->\n",
       "<g class=\"node\" id=\"node26\"><title>dPreCun-R</title>\n",
       "<ellipse cx=\"109.406\" cy=\"-522\" fill=\"none\" rx=\"49.805\" ry=\"18\" stroke=\"black\"/>\n",
       "<text font-family=\"Times,serif\" font-size=\"14.00\" text-anchor=\"middle\" x=\"109.406\" y=\"-517.8\">dPreCun-R</text>\n",
       "</g>\n",
       "<!-- EV1&#45;L&#45;&gt;dPreCun&#45;R -->\n",
       "<g class=\"edge\" id=\"edge8\"><title>EV1-L-&gt;dPreCun-R</title>\n",
       "<path d=\"M147.809,-576.765C139.847,-565.618 129.309,-550.865 121.287,-539.633\" fill=\"none\" stroke=\"black\"/>\n",
       "</g>\n",
       "<!-- EV2&#45;L -->\n",
       "<g class=\"node\" id=\"node3\"><title>EV2-L</title>\n",
       "<ellipse cx=\"295.406\" cy=\"-594\" fill=\"none\" rx=\"34.8285\" ry=\"18\" stroke=\"black\"/>\n",
       "<text font-family=\"Times,serif\" font-size=\"14.00\" text-anchor=\"middle\" x=\"295.406\" y=\"-589.8\">EV2-L</text>\n",
       "</g>\n",
       "<!-- EV2&#45;L&#45;&gt;EV1&#45;R -->\n",
       "<g class=\"edge\" id=\"edge24\"><title>EV2-L-&gt;EV1-R</title>\n",
       "<path d=\"M277.804,-578.155C263.718,-566.276 244.061,-549.697 229.983,-537.824\" fill=\"none\" stroke=\"black\"/>\n",
       "</g>\n",
       "<!-- EV2&#45;R -->\n",
       "<g class=\"node\" id=\"node4\"><title>EV2-R</title>\n",
       "<ellipse cx=\"300.406\" cy=\"-522\" fill=\"none\" rx=\"35.3216\" ry=\"18\" stroke=\"black\"/>\n",
       "<text font-family=\"Times,serif\" font-size=\"14.00\" text-anchor=\"middle\" x=\"300.406\" y=\"-517.8\">EV2-R</text>\n",
       "</g>\n",
       "<!-- EV2&#45;L&#45;&gt;EV2&#45;R -->\n",
       "<g class=\"edge\" id=\"edge25\"><title>EV2-L-&gt;EV2-R</title>\n",
       "<path d=\"M296.642,-575.697C297.417,-564.846 298.412,-550.917 299.184,-540.104\" fill=\"none\" stroke=\"black\"/>\n",
       "</g>\n",
       "<!-- OccFus&#45;L -->\n",
       "<g class=\"node\" id=\"node5\"><title>OccFus-L</title>\n",
       "<ellipse cx=\"295.406\" cy=\"-738\" fill=\"none\" rx=\"45.4441\" ry=\"18\" stroke=\"black\"/>\n",
       "<text font-family=\"Times,serif\" font-size=\"14.00\" text-anchor=\"middle\" x=\"295.406\" y=\"-733.8\">OccFus-L</text>\n",
       "</g>\n",
       "<!-- OccFus&#45;R -->\n",
       "<g class=\"node\" id=\"node6\"><title>OccFus-R</title>\n",
       "<ellipse cx=\"295.406\" cy=\"-666\" fill=\"none\" rx=\"45.9373\" ry=\"18\" stroke=\"black\"/>\n",
       "<text font-family=\"Times,serif\" font-size=\"14.00\" text-anchor=\"middle\" x=\"295.406\" y=\"-661.8\">OccFus-R</text>\n",
       "</g>\n",
       "<!-- OccFus&#45;L&#45;&gt;OccFus&#45;R -->\n",
       "<g class=\"edge\" id=\"edge14\"><title>OccFus-L-&gt;OccFus-R</title>\n",
       "<path d=\"M295.406,-719.697C295.406,-708.846 295.406,-694.917 295.406,-684.104\" fill=\"none\" stroke=\"black\"/>\n",
       "</g>\n",
       "<!-- OccFus&#45;R&#45;&gt;EV2&#45;L -->\n",
       "<g class=\"edge\" id=\"edge2\"><title>OccFus-R-&gt;EV2-L</title>\n",
       "<path d=\"M295.406,-647.697C295.406,-636.846 295.406,-622.917 295.406,-612.104\" fill=\"none\" stroke=\"black\"/>\n",
       "</g>\n",
       "<!-- pFus&#45;L -->\n",
       "<g class=\"node\" id=\"node7\"><title>pFus-L</title>\n",
       "<ellipse cx=\"395.406\" cy=\"-666\" fill=\"none\" rx=\"35.8147\" ry=\"18\" stroke=\"black\"/>\n",
       "<text font-family=\"Times,serif\" font-size=\"14.00\" text-anchor=\"middle\" x=\"395.406\" y=\"-661.8\">pFus-L</text>\n",
       "</g>\n",
       "<!-- mFus&#45;L -->\n",
       "<g class=\"node\" id=\"node9\"><title>mFus-L</title>\n",
       "<ellipse cx=\"395.406\" cy=\"-594\" fill=\"none\" rx=\"38.2284\" ry=\"18\" stroke=\"black\"/>\n",
       "<text font-family=\"Times,serif\" font-size=\"14.00\" text-anchor=\"middle\" x=\"395.406\" y=\"-589.8\">mFus-L</text>\n",
       "</g>\n",
       "<!-- pFus&#45;L&#45;&gt;mFus&#45;L -->\n",
       "<g class=\"edge\" id=\"edge4\"><title>pFus-L-&gt;mFus-L</title>\n",
       "<path d=\"M395.406,-647.697C395.406,-636.846 395.406,-622.917 395.406,-612.104\" fill=\"none\" stroke=\"black\"/>\n",
       "</g>\n",
       "<!-- pFus&#45;R -->\n",
       "<g class=\"node\" id=\"node8\"><title>pFus-R</title>\n",
       "<ellipse cx=\"395.406\" cy=\"-738\" fill=\"none\" rx=\"36.3078\" ry=\"18\" stroke=\"black\"/>\n",
       "<text font-family=\"Times,serif\" font-size=\"14.00\" text-anchor=\"middle\" x=\"395.406\" y=\"-733.8\">pFus-R</text>\n",
       "</g>\n",
       "<!-- pFus&#45;R&#45;&gt;OccFus&#45;R -->\n",
       "<g class=\"edge\" id=\"edge16\"><title>pFus-R-&gt;OccFus-R</title>\n",
       "<path d=\"M375.169,-722.834C358.276,-711.009 334.257,-694.196 316.997,-682.114\" fill=\"none\" stroke=\"black\"/>\n",
       "</g>\n",
       "<!-- pFus&#45;R&#45;&gt;pFus&#45;L -->\n",
       "<g class=\"edge\" id=\"edge5\"><title>pFus-R-&gt;pFus-L</title>\n",
       "<path d=\"M395.406,-719.697C395.406,-708.846 395.406,-694.917 395.406,-684.104\" fill=\"none\" stroke=\"black\"/>\n",
       "</g>\n",
       "<!-- mFus&#45;R -->\n",
       "<g class=\"node\" id=\"node10\"><title>mFus-R</title>\n",
       "<ellipse cx=\"395.406\" cy=\"-522\" fill=\"none\" rx=\"38.7215\" ry=\"18\" stroke=\"black\"/>\n",
       "<text font-family=\"Times,serif\" font-size=\"14.00\" text-anchor=\"middle\" x=\"395.406\" y=\"-517.8\">mFus-R</text>\n",
       "</g>\n",
       "<!-- mFus&#45;L&#45;&gt;mFus&#45;R -->\n",
       "<g class=\"edge\" id=\"edge6\"><title>mFus-L-&gt;mFus-R</title>\n",
       "<path d=\"M395.406,-575.697C395.406,-564.846 395.406,-550.917 395.406,-540.104\" fill=\"none\" stroke=\"black\"/>\n",
       "</g>\n",
       "<!-- pMTG&#45;L -->\n",
       "<g class=\"node\" id=\"node11\"><title>pMTG-L</title>\n",
       "<ellipse cx=\"542.406\" cy=\"-306\" fill=\"none\" rx=\"42.5542\" ry=\"18\" stroke=\"black\"/>\n",
       "<text font-family=\"Times,serif\" font-size=\"14.00\" text-anchor=\"middle\" x=\"542.406\" y=\"-301.8\">pMTG-L</text>\n",
       "</g>\n",
       "<!-- pMTG&#45;R -->\n",
       "<g class=\"node\" id=\"node12\"><title>pMTG-R</title>\n",
       "<ellipse cx=\"541.406\" cy=\"-234\" fill=\"none\" rx=\"43.0474\" ry=\"18\" stroke=\"black\"/>\n",
       "<text font-family=\"Times,serif\" font-size=\"14.00\" text-anchor=\"middle\" x=\"541.406\" y=\"-229.8\">pMTG-R</text>\n",
       "</g>\n",
       "<!-- pMTG&#45;L&#45;&gt;pMTG&#45;R -->\n",
       "<g class=\"edge\" id=\"edge13\"><title>pMTG-L-&gt;pMTG-R</title>\n",
       "<path d=\"M542.159,-287.697C542.004,-276.846 541.805,-262.917 541.65,-252.104\" fill=\"none\" stroke=\"black\"/>\n",
       "</g>\n",
       "<!-- IFG2&#45;R -->\n",
       "<g class=\"node\" id=\"node20\"><title>IFG2-R</title>\n",
       "<ellipse cx=\"541.406\" cy=\"-162\" fill=\"none\" rx=\"37.7439\" ry=\"18\" stroke=\"black\"/>\n",
       "<text font-family=\"Times,serif\" font-size=\"14.00\" text-anchor=\"middle\" x=\"541.406\" y=\"-157.8\">IFG2-R</text>\n",
       "</g>\n",
       "<!-- pMTG&#45;R&#45;&gt;IFG2&#45;R -->\n",
       "<g class=\"edge\" id=\"edge7\"><title>pMTG-R-&gt;IFG2-R</title>\n",
       "<path d=\"M541.406,-215.697C541.406,-204.846 541.406,-190.917 541.406,-180.104\" fill=\"none\" stroke=\"black\"/>\n",
       "</g>\n",
       "<!-- aFus&#45;R -->\n",
       "<g class=\"node\" id=\"node13\"><title>aFus-R</title>\n",
       "<ellipse cx=\"485.406\" cy=\"-738\" fill=\"none\" rx=\"35.8147\" ry=\"18\" stroke=\"black\"/>\n",
       "<text font-family=\"Times,serif\" font-size=\"14.00\" text-anchor=\"middle\" x=\"485.406\" y=\"-733.8\">aFus-R</text>\n",
       "</g>\n",
       "<!-- mMTG&#45;L -->\n",
       "<g class=\"node\" id=\"node14\"><title>mMTG-L</title>\n",
       "<ellipse cx=\"331.406\" cy=\"-234\" fill=\"none\" rx=\"44.9682\" ry=\"18\" stroke=\"black\"/>\n",
       "<text font-family=\"Times,serif\" font-size=\"14.00\" text-anchor=\"middle\" x=\"331.406\" y=\"-229.8\">mMTG-L</text>\n",
       "</g>\n",
       "<!-- mMTG&#45;R -->\n",
       "<g class=\"node\" id=\"node15\"><title>mMTG-R</title>\n",
       "<ellipse cx=\"436.406\" cy=\"-306\" fill=\"none\" rx=\"45.4614\" ry=\"18\" stroke=\"black\"/>\n",
       "<text font-family=\"Times,serif\" font-size=\"14.00\" text-anchor=\"middle\" x=\"436.406\" y=\"-301.8\">mMTG-R</text>\n",
       "</g>\n",
       "<!-- mMTG&#45;R&#45;&gt;pMTG&#45;R -->\n",
       "<g class=\"edge\" id=\"edge21\"><title>mMTG-R-&gt;pMTG-R</title>\n",
       "<path d=\"M458.674,-290.155C476.613,-278.195 501.696,-261.473 519.53,-249.584\" fill=\"none\" stroke=\"black\"/>\n",
       "</g>\n",
       "<!-- mMTG&#45;R&#45;&gt;mMTG&#45;L -->\n",
       "<g class=\"edge\" id=\"edge15\"><title>mMTG-R-&gt;mMTG-L</title>\n",
       "<path d=\"M414.138,-290.155C396.319,-278.276 371.452,-261.697 353.642,-249.824\" fill=\"none\" stroke=\"black\"/>\n",
       "</g>\n",
       "<!-- aMTG&#45;R -->\n",
       "<g class=\"node\" id=\"node17\"><title>aMTG-R</title>\n",
       "<ellipse cx=\"437.406\" cy=\"-234\" fill=\"none\" rx=\"42.5542\" ry=\"18\" stroke=\"black\"/>\n",
       "<text font-family=\"Times,serif\" font-size=\"14.00\" text-anchor=\"middle\" x=\"437.406\" y=\"-229.8\">aMTG-R</text>\n",
       "</g>\n",
       "<!-- mMTG&#45;R&#45;&gt;aMTG&#45;R -->\n",
       "<g class=\"edge\" id=\"edge26\"><title>mMTG-R-&gt;aMTG-R</title>\n",
       "<path d=\"M436.653,-287.697C436.808,-276.846 437.007,-262.917 437.161,-252.104\" fill=\"none\" stroke=\"black\"/>\n",
       "</g>\n",
       "<!-- aMTG&#45;L -->\n",
       "<g class=\"node\" id=\"node16\"><title>aMTG-L</title>\n",
       "<ellipse cx=\"437.406\" cy=\"-162\" fill=\"none\" rx=\"42.0611\" ry=\"18\" stroke=\"black\"/>\n",
       "<text font-family=\"Times,serif\" font-size=\"14.00\" text-anchor=\"middle\" x=\"437.406\" y=\"-157.8\">aMTG-L</text>\n",
       "</g>\n",
       "<!-- aMTG&#45;R&#45;&gt;aMTG&#45;L -->\n",
       "<g class=\"edge\" id=\"edge10\"><title>aMTG-R-&gt;aMTG-L</title>\n",
       "<path d=\"M437.406,-215.697C437.406,-204.846 437.406,-190.917 437.406,-180.104\" fill=\"none\" stroke=\"black\"/>\n",
       "</g>\n",
       "<!-- IFG1&#45;L -->\n",
       "<g class=\"node\" id=\"node18\"><title>IFG1-L</title>\n",
       "<ellipse cx=\"333.406\" cy=\"-306\" fill=\"none\" rx=\"37.2507\" ry=\"18\" stroke=\"black\"/>\n",
       "<text font-family=\"Times,serif\" font-size=\"14.00\" text-anchor=\"middle\" x=\"333.406\" y=\"-301.8\">IFG1-L</text>\n",
       "</g>\n",
       "<!-- IFG1&#45;L&#45;&gt;mMTG&#45;L -->\n",
       "<g class=\"edge\" id=\"edge20\"><title>IFG1-L-&gt;mMTG-L</title>\n",
       "<path d=\"M332.911,-287.697C332.601,-276.846 332.203,-262.917 331.895,-252.104\" fill=\"none\" stroke=\"black\"/>\n",
       "</g>\n",
       "<!-- IFG2&#45;L -->\n",
       "<g class=\"node\" id=\"node19\"><title>IFG2-L</title>\n",
       "<ellipse cx=\"336.406\" cy=\"-378\" fill=\"none\" rx=\"37.2507\" ry=\"18\" stroke=\"black\"/>\n",
       "<text font-family=\"Times,serif\" font-size=\"14.00\" text-anchor=\"middle\" x=\"336.406\" y=\"-373.8\">IFG2-L</text>\n",
       "</g>\n",
       "<!-- IFG2&#45;L&#45;&gt;IFG1&#45;L -->\n",
       "<g class=\"edge\" id=\"edge11\"><title>IFG2-L-&gt;IFG1-L</title>\n",
       "<path d=\"M335.664,-359.697C335.199,-348.846 334.602,-334.917 334.139,-324.104\" fill=\"none\" stroke=\"black\"/>\n",
       "</g>\n",
       "<!-- MPFC&#45;R -->\n",
       "<g class=\"node\" id=\"node24\"><title>MPFC-R</title>\n",
       "<ellipse cx=\"541.406\" cy=\"-90\" fill=\"none\" rx=\"42.5974\" ry=\"18\" stroke=\"black\"/>\n",
       "<text font-family=\"Times,serif\" font-size=\"14.00\" text-anchor=\"middle\" x=\"541.406\" y=\"-85.8\">MPFC-R</text>\n",
       "</g>\n",
       "<!-- IFG2&#45;R&#45;&gt;MPFC&#45;R -->\n",
       "<g class=\"edge\" id=\"edge19\"><title>IFG2-R-&gt;MPFC-R</title>\n",
       "<path d=\"M541.406,-143.697C541.406,-132.846 541.406,-118.917 541.406,-108.104\" fill=\"none\" stroke=\"black\"/>\n",
       "</g>\n",
       "<!-- TPJ&#45;L -->\n",
       "<g class=\"node\" id=\"node21\"><title>TPJ-L</title>\n",
       "<ellipse cx=\"233.406\" cy=\"-306\" fill=\"none\" rx=\"32.4324\" ry=\"18\" stroke=\"black\"/>\n",
       "<text font-family=\"Times,serif\" font-size=\"14.00\" text-anchor=\"middle\" x=\"233.406\" y=\"-301.8\">TPJ-L</text>\n",
       "</g>\n",
       "<!-- TPJ&#45;L&#45;&gt;mMTG&#45;L -->\n",
       "<g class=\"edge\" id=\"edge9\"><title>TPJ-L-&gt;mMTG-L</title>\n",
       "<path d=\"M252.767,-291.17C269.39,-279.297 293.303,-262.216 310.388,-250.013\" fill=\"none\" stroke=\"black\"/>\n",
       "</g>\n",
       "<!-- TPJ&#45;R -->\n",
       "<g class=\"node\" id=\"node22\"><title>TPJ-R</title>\n",
       "<ellipse cx=\"233.406\" cy=\"-234\" fill=\"none\" rx=\"32.9255\" ry=\"18\" stroke=\"black\"/>\n",
       "<text font-family=\"Times,serif\" font-size=\"14.00\" text-anchor=\"middle\" x=\"233.406\" y=\"-229.8\">TPJ-R</text>\n",
       "</g>\n",
       "<!-- TPJ&#45;L&#45;&gt;TPJ&#45;R -->\n",
       "<g class=\"edge\" id=\"edge22\"><title>TPJ-L-&gt;TPJ-R</title>\n",
       "<path d=\"M233.406,-287.697C233.406,-276.846 233.406,-262.917 233.406,-252.104\" fill=\"none\" stroke=\"black\"/>\n",
       "</g>\n",
       "<!-- MPFC&#45;L -->\n",
       "<g class=\"node\" id=\"node23\"><title>MPFC-L</title>\n",
       "<ellipse cx=\"541.406\" cy=\"-18\" fill=\"none\" rx=\"42.1043\" ry=\"18\" stroke=\"black\"/>\n",
       "<text font-family=\"Times,serif\" font-size=\"14.00\" text-anchor=\"middle\" x=\"541.406\" y=\"-13.8\">MPFC-L</text>\n",
       "</g>\n",
       "<!-- MPFC&#45;R&#45;&gt;MPFC&#45;L -->\n",
       "<g class=\"edge\" id=\"edge12\"><title>MPFC-R-&gt;MPFC-L</title>\n",
       "<path d=\"M541.406,-71.6966C541.406,-60.8463 541.406,-46.9167 541.406,-36.1043\" fill=\"none\" stroke=\"black\"/>\n",
       "</g>\n",
       "<!-- dPreCun&#45;L -->\n",
       "<g class=\"node\" id=\"node25\"><title>dPreCun-L</title>\n",
       "<ellipse cx=\"49.4058\" cy=\"-450\" fill=\"none\" rx=\"49.3119\" ry=\"18\" stroke=\"black\"/>\n",
       "<text font-family=\"Times,serif\" font-size=\"14.00\" text-anchor=\"middle\" x=\"49.4058\" y=\"-445.8\">dPreCun-L</text>\n",
       "</g>\n",
       "<!-- dPreCun&#45;R&#45;&gt;dPreCun&#45;L -->\n",
       "<g class=\"edge\" id=\"edge27\"><title>dPreCun-R-&gt;dPreCun-L</title>\n",
       "<path d=\"M95.1867,-504.411C85.6222,-493.252 73.066,-478.604 63.5229,-467.47\" fill=\"none\" stroke=\"black\"/>\n",
       "</g>\n",
       "<!-- mPreCun&#45;R -->\n",
       "<g class=\"node\" id=\"node28\"><title>mPreCun-R</title>\n",
       "<ellipse cx=\"169.406\" cy=\"-450\" fill=\"none\" rx=\"52.2192\" ry=\"18\" stroke=\"black\"/>\n",
       "<text font-family=\"Times,serif\" font-size=\"14.00\" text-anchor=\"middle\" x=\"169.406\" y=\"-445.8\">mPreCun-R</text>\n",
       "</g>\n",
       "<!-- dPreCun&#45;R&#45;&gt;mPreCun&#45;R -->\n",
       "<g class=\"edge\" id=\"edge17\"><title>dPreCun-R-&gt;mPreCun-R</title>\n",
       "<path d=\"M123.625,-504.411C133.189,-493.252 145.746,-478.604 155.289,-467.47\" fill=\"none\" stroke=\"black\"/>\n",
       "</g>\n",
       "<!-- mPreCun&#45;L -->\n",
       "<g class=\"node\" id=\"node27\"><title>mPreCun-L</title>\n",
       "<ellipse cx=\"229.406\" cy=\"-378\" fill=\"none\" rx=\"51.726\" ry=\"18\" stroke=\"black\"/>\n",
       "<text font-family=\"Times,serif\" font-size=\"14.00\" text-anchor=\"middle\" x=\"229.406\" y=\"-373.8\">mPreCun-L</text>\n",
       "</g>\n",
       "<!-- mPreCun&#45;L&#45;&gt;TPJ&#45;L -->\n",
       "<g class=\"edge\" id=\"edge28\"><title>mPreCun-L-&gt;TPJ-L</title>\n",
       "<path d=\"M230.395,-359.697C231.015,-348.846 231.811,-334.917 232.428,-324.104\" fill=\"none\" stroke=\"black\"/>\n",
       "</g>\n",
       "<!-- mPreCun&#45;R&#45;&gt;mPreCun&#45;L -->\n",
       "<g class=\"edge\" id=\"edge1\"><title>mPreCun-R-&gt;mPreCun-L</title>\n",
       "<path d=\"M183.625,-432.411C193.189,-421.252 205.746,-406.604 215.289,-395.47\" fill=\"none\" stroke=\"black\"/>\n",
       "</g>\n",
       "<!-- vPreCun&#45;R -->\n",
       "<g class=\"node\" id=\"node30\"><title>vPreCun-R</title>\n",
       "<ellipse cx=\"109.406\" cy=\"-378\" fill=\"none\" rx=\"49.805\" ry=\"18\" stroke=\"black\"/>\n",
       "<text font-family=\"Times,serif\" font-size=\"14.00\" text-anchor=\"middle\" x=\"109.406\" y=\"-373.8\">vPreCun-R</text>\n",
       "</g>\n",
       "<!-- mPreCun&#45;R&#45;&gt;vPreCun&#45;R -->\n",
       "<g class=\"edge\" id=\"edge18\"><title>mPreCun-R-&gt;vPreCun-R</title>\n",
       "<path d=\"M155.187,-432.411C145.622,-421.252 133.066,-406.604 123.523,-395.47\" fill=\"none\" stroke=\"black\"/>\n",
       "</g>\n",
       "<!-- vPreCun&#45;L -->\n",
       "<g class=\"node\" id=\"node29\"><title>vPreCun-L</title>\n",
       "<ellipse cx=\"109.406\" cy=\"-306\" fill=\"none\" rx=\"49.3119\" ry=\"18\" stroke=\"black\"/>\n",
       "<text font-family=\"Times,serif\" font-size=\"14.00\" text-anchor=\"middle\" x=\"109.406\" y=\"-301.8\">vPreCun-L</text>\n",
       "</g>\n",
       "<!-- vPreCun&#45;R&#45;&gt;vPreCun&#45;L -->\n",
       "<g class=\"edge\" id=\"edge3\"><title>vPreCun-R-&gt;vPreCun-L</title>\n",
       "<path d=\"M109.406,-359.697C109.406,-348.846 109.406,-334.917 109.406,-324.104\" fill=\"none\" stroke=\"black\"/>\n",
       "</g>\n",
       "</g>\n",
       "</svg>"
      ],
      "text/plain": [
       "<IPython.core.display.SVG object>"
      ]
     },
     "execution_count": 268,
     "metadata": {},
     "output_type": "execute_result"
    }
   ],
   "source": [
    "# render resulting graph\n",
    "dot_nb = images_nb.getDot()\n",
    "SVG(dot_nb.create_svg(prog='dot'))"
   ]
  },
  {
   "cell_type": "markdown",
   "metadata": {},
   "source": [
    "### Conclusion: Preprocessed vs. residual data"
   ]
  },
  {
   "cell_type": "markdown",
   "metadata": {},
   "source": [
    "Taking the residuals of a nuisance model as input for IMaGES results in no directed edges.\n",
    "\n",
    "However, the generall look of the network makes sense. And since it is only plausible, that the signal has to start in early visual areas, you can see a nice progression from early visual areas to fusiform gyrus, but on the other hand from early visual to precuneus, to TJP, to IFG, to MTP, to MPFC.\n",
    "\n",
    "**However**... it does look structurally different than the model based on the preprocessed data. So the question is, which one we should trust more. The residual one might be more conservative, because it (at least) should be less prone to artifact variance."
   ]
  },
  {
   "cell_type": "markdown",
   "metadata": {},
   "source": [
    "# Extract directed edges from images object *manually*"
   ]
  },
  {
   "cell_type": "code",
   "execution_count": 169,
   "metadata": {
    "collapsed": true
   },
   "outputs": [],
   "source": [
    "def splitpair(pair):\n",
    "    \"\"\"\n",
    "    split string containing two nodes into a tuple of two nodes.\n",
    "    ignore directedness of connection.\n",
    "    Used in get_adjacencies.\n",
    "    \"\"\"\n",
    "    split = tuple([label.replace('- ', '').replace('> ', '').replace(' ', '') # looks ugly, but is supposedly faster\n",
    "                   for label in pair.split('--')])\n",
    "    return split"
   ]
  },
  {
   "cell_type": "code",
   "execution_count": 170,
   "metadata": {
    "collapsed": true
   },
   "outputs": [],
   "source": [
    "def get_adjacencies(images_instance):\n",
    "    \"\"\"\n",
    "    returns a list of tuples of connected nodes (i.e. pairs)\n",
    "    \"\"\"\n",
    "    \n",
    "    # get edges and convert from unicode to string\n",
    "    images_edges = images_instance.edges\n",
    "    edgestrings = [str(edge) for edge in images_edges]\n",
    "    \n",
    "    # split the strings to get tuples, turn into arrays and sort\n",
    "    edges = np.array([splitpair(pair) for pair in edgestrings])\n",
    "    connections = edges[np.argsort(edges[:, 0])]\n",
    "    \n",
    "    return connections"
   ]
  },
  {
   "cell_type": "markdown",
   "metadata": {},
   "source": [
    "# to networkx"
   ]
  },
  {
   "cell_type": "markdown",
   "metadata": {},
   "source": [
    "**Problems with networkx**\n",
    "\n",
    "I suspect that when loading the pydot from images into networkx, some things go wrong:\n",
    "\n",
    "1) all connections are directed (see graph visualization below)\n",
    "\n",
    "2) This leads to an adjacency matrix that is asymmetrical and more sparse\n",
    "\n",
    "3) I suspect this is because networkx has no object for graphs with both directed and undirected edges"
   ]
  },
  {
   "cell_type": "code",
   "execution_count": 171,
   "metadata": {
    "collapsed": true
   },
   "outputs": [],
   "source": [
    "# switch from images.pydot to nx graph\n",
    "graph_raw = nx_pydot.from_pydot(dot_raw)\n",
    "graph_nb = nx_pydot.from_pydot(dot_nb)\n",
    "\n",
    "# check if the nx adj matrix is identical to the one we extracted manually (nope)\n",
    "from_nx = nx.to_numpy_matrix(graph_nb)\n",
    "# from_nx == adjacency_matrix"
   ]
  },
  {
   "cell_type": "code",
   "execution_count": 172,
   "metadata": {
    "collapsed": true
   },
   "outputs": [],
   "source": [
    "def get_sorted_matrix_nx(G):\n",
    "    \"\"\"\n",
    "    Use nx inherent method to extract numpy matrix from given graph object.\n",
    "    rows and columns will be sorted by node label alphabetically.\n",
    "    \"\"\"\n",
    "    node_order = sorted(G.nodes())\n",
    "    adjacency_matrix = nx.to_numpy_matrix(G, dtype=np.bool, nodelist=node_order)\n",
    "    return adjacency_matrix"
   ]
  },
  {
   "cell_type": "code",
   "execution_count": 173,
   "metadata": {
    "collapsed": true
   },
   "outputs": [],
   "source": [
    "# testmatrix = get_sorted_matrix_nx(graph_nb)\n",
    "# testmatrix"
   ]
  },
  {
   "cell_type": "markdown",
   "metadata": {},
   "source": [
    "### make graph undirected"
   ]
  },
  {
   "cell_type": "code",
   "execution_count": 174,
   "metadata": {
    "collapsed": true
   },
   "outputs": [],
   "source": [
    "und_raw = graph_raw.to_undirected()\n",
    "und_nb = graph_nb.to_undirected()"
   ]
  },
  {
   "cell_type": "code",
   "execution_count": 175,
   "metadata": {
    "collapsed": true
   },
   "outputs": [],
   "source": [
    "# positions=nx.spring_layout(graph_nb,iterations=30)\n",
    "# plt.figure(figsize=(12,12)) \n",
    "# nx.draw_networkx(und_nb, pos=positions)\n",
    "# plt.show()"
   ]
  },
  {
   "cell_type": "code",
   "execution_count": 176,
   "metadata": {
    "collapsed": true
   },
   "outputs": [],
   "source": [
    "# adjacency matrix of the new undirected graph\n",
    "am_und_raw = get_sorted_matrix_nx(und_raw)\n",
    "am_und_nb = get_sorted_matrix_nx(und_nb)"
   ]
  },
  {
   "cell_type": "markdown",
   "metadata": {},
   "source": [
    "### plot adjacency matrix"
   ]
  },
  {
   "cell_type": "code",
   "execution_count": 177,
   "metadata": {
    "collapsed": true
   },
   "outputs": [],
   "source": [
    "def plot_am_from_nx(G, node_order=None, partitions=[], colors=[], figsz=(5,5)):\n",
    "    \"\"\"\n",
    "    - G is a netorkx graph\n",
    "    - node_order (optional) is a list of nodes, where each node in G\n",
    "          appears exactly once\n",
    "    - partitions is a list of node lists, where each node in G appears\n",
    "          in exactly one node list\n",
    "    - colors is a list of strings indicating what color each\n",
    "          partition should be\n",
    "    If partitions is specified, the same number of colors needs to be\n",
    "    specified.\n",
    "    \n",
    "    adapted from: http://sociograph.blogspot.de/2012/11/visualizing-adjacency-matrices-in-python.html\n",
    "    \"\"\"\n",
    "    adjacency_matrix = nx.to_numpy_matrix(G, dtype=np.bool, nodelist=node_order)\n",
    "\n",
    "    #Plot adjacency matrix in toned-down black and white\n",
    "    fig = pyplot.figure(figsize=figsz) # in inches\n",
    "    pyplot.imshow(adjacency_matrix,\n",
    "                  cmap=\"binary\",\n",
    "                  interpolation=\"none\")\n",
    "    \n",
    "    # add labels as axes ticks\n",
    "    plt.xticks(np.arange(0,30), node_order, rotation='vertical')\n",
    "    plt.yticks(np.arange(0,30), node_order)\n",
    "\n",
    "    # add a grid\n",
    "    ax=plt.gca()\n",
    "    ax.set_xticks([x-0.5 for x in range(0,30)],minor=True )\n",
    "    ax.set_yticks([y-0.5 for y in range(0,30)],minor=True)\n",
    "    #plot grid on minor axes\n",
    "    plt.grid(which=\"minor\",ls=\"-\",lw=1)\n",
    "    \n",
    "    # The rest is just if you have sorted nodes by a partition and want to\n",
    "    # highlight the module boundaries\n",
    "    assert len(partitions) == len(colors)\n",
    "    ax = pyplot.gca()\n",
    "    for partition, color in zip(partitions, colors):\n",
    "        current_idx = 0\n",
    "        for module in partition:\n",
    "            ax.add_patch(patches.Rectangle((current_idx, current_idx),\n",
    "                                          len(module), # Width\n",
    "                                          len(module), # Height\n",
    "                                          facecolor=\"none\",\n",
    "                                          edgecolor=color,\n",
    "                                          linewidth=\"1\"))\n",
    "            current_idx += len(module)\n",
    "            \n",
    "    return fig"
   ]
  },
  {
   "cell_type": "code",
   "execution_count": 262,
   "metadata": {
    "scrolled": false
   },
   "outputs": [],
   "source": [
    "# undirected adjacency matrix from preprocessed data\n",
    "# matxrixplot = plot_am_from_nx(G=und_raw, figsz=(6,6), node_order=sorted(graph_nb.nodes()))"
   ]
  },
  {
   "cell_type": "code",
   "execution_count": 263,
   "metadata": {},
   "outputs": [],
   "source": [
    "# undirected adjacency matrix from residual data\n",
    "# matxrixplot = plot_am_from_nx(G=und_nb, figsz=(6,6), node_order=sorted(graph_nb.nodes()))"
   ]
  },
  {
   "cell_type": "markdown",
   "metadata": {
    "collapsed": true
   },
   "source": [
    "# Graph Matching methods"
   ]
  },
  {
   "cell_type": "markdown",
   "metadata": {},
   "source": [
    "**Simple matching**\n",
    "\n",
    "return the fraction of identical elements between two arrays"
   ]
  },
  {
   "cell_type": "code",
   "execution_count": 180,
   "metadata": {
    "collapsed": true
   },
   "outputs": [],
   "source": [
    "def simple_match(m1, m2):\n",
    "    \"\"\"\n",
    "    return the relative number of identical elements between two arrays.\n",
    "    \"\"\"\n",
    "    assert np.shape(m1) == np.shape(m2)\n",
    "    return float(np.sum(m1 == m2)) / float(m1.size)"
   ]
  },
  {
   "cell_type": "code",
   "execution_count": 181,
   "metadata": {},
   "outputs": [
    {
     "name": "stdout",
     "output_type": "stream",
     "text": [
      "0.986666666667\n"
     ]
    }
   ],
   "source": [
    "# simple matching graphs from preprocessed and residual data\n",
    "match_residuals_preprocessed = simple_match(am_und_raw, am_und_nb)\n",
    "print(match_residuals_preprocessed)"
   ]
  },
  {
   "cell_type": "markdown",
   "metadata": {},
   "source": [
    "**Jaccard Index**"
   ]
  },
  {
   "cell_type": "markdown",
   "metadata": {},
   "source": [
    "Use Scikit learn. Basically, the Jaccard index is the intersection divided by the union of two sets."
   ]
  },
  {
   "cell_type": "code",
   "execution_count": 182,
   "metadata": {
    "collapsed": true
   },
   "outputs": [],
   "source": [
    "from sklearn.metrics import jaccard_similarity_score as jaccard"
   ]
  },
  {
   "cell_type": "code",
   "execution_count": 183,
   "metadata": {},
   "outputs": [
    {
     "data": {
      "text/plain": [
       "0.86111111111111105"
      ]
     },
     "execution_count": 183,
     "metadata": {},
     "output_type": "execute_result"
    }
   ],
   "source": [
    "# jaccard index comparing graphs from preprocessed and residual data\n",
    "jaccard(am_und_raw, am_und_nb)"
   ]
  },
  {
   "cell_type": "markdown",
   "metadata": {},
   "source": [
    "## Similarity across runs of undirected graphs (preprocessed data)"
   ]
  },
  {
   "cell_type": "code",
   "execution_count": 184,
   "metadata": {
    "collapsed": true
   },
   "outputs": [],
   "source": [
    "basedir = '/host/famfaces/extract_meants/csv'\n",
    "rundirs_raw = [pjoin(basedir, 'run%03d' % i) for i in xrange(1,12)]"
   ]
  },
  {
   "cell_type": "code",
   "execution_count": 185,
   "metadata": {
    "collapsed": true
   },
   "outputs": [],
   "source": [
    "def csv2am_undirected(rundir):\n",
    "    \"\"\"\n",
    "    Procedure to run images over all datasets in one run,\n",
    "    convert to nx, make graph undirected, and extract\n",
    "    sorted adjacency matrix.\n",
    "    \"\"\"\n",
    "    # get dataframes\n",
    "    dfs = getdfs(rundir)  \n",
    "    # perform iamges\n",
    "    pc.start_vm()\n",
    "    images = s.imagesSemBic(dfs, verbose = True)\n",
    "    pc.stop_vm()\n",
    "    # convert images to nx via pydot\n",
    "    G = nx_pydot.from_pydot(images.getDot()) \n",
    "    G_undir = G.to_undirected() # make graph undirected\n",
    "    # get sorted adjacency matrix\n",
    "    am = get_sorted_matrix_nx(G_undir)\n",
    "    return am"
   ]
  },
  {
   "cell_type": "code",
   "execution_count": 186,
   "metadata": {
    "collapsed": true
   },
   "outputs": [],
   "source": [
    "def get_all_ams(rundirs):\n",
    "    \"\"\"\n",
    "    get adjacency matrices of all runs\n",
    "    \"\"\"\n",
    "    am_list = [csv2am_undirected(rundir) for rundir in rundirs]\n",
    "    return am_list"
   ]
  },
  {
   "cell_type": "code",
   "execution_count": 187,
   "metadata": {
    "collapsed": true
   },
   "outputs": [],
   "source": [
    "## this command takes a while to execute\n",
    "# am_list = get_all_ams(rundirs_raw)"
   ]
  },
  {
   "cell_type": "code",
   "execution_count": 191,
   "metadata": {
    "collapsed": true
   },
   "outputs": [],
   "source": [
    "# save am_list as pickle\n",
    "#with open('am_list.pickle', 'wb') as handle:\n",
    "#    pickle.dump(am_list, handle, protocol=pickle.HIGHEST_PROTOCOL)\n",
    "\n",
    "with open('am_list.pickle', 'rb') as handle:\n",
    "    am_list = pickle.load(handle)"
   ]
  },
  {
   "cell_type": "code",
   "execution_count": 192,
   "metadata": {
    "collapsed": true
   },
   "outputs": [],
   "source": [
    "def compare_runs(am_list, method='simple', symmetric=False):\n",
    "    \"\"\"\n",
    "    pairwise comparison of matrices in a list of matrices.\n",
    "    Choose between different measures of similarity.\n",
    "    Choose if the input matrices are symmetric, due to undirected graphs.\n",
    "    \"\"\"\n",
    "    \n",
    "    if symmetric:\n",
    "        am_list = [np.triu(am) for am in am_list]\n",
    "    \n",
    "    if method=='simple':\n",
    "        match_list = np.array([\n",
    "            [simple_match(am1, am2) for am1 in am_list]\n",
    "            for am2 in am_list])\n",
    "        \n",
    "    if method=='jaccard':\n",
    "        match_list = np.array([\n",
    "            [jaccard(am1, am2) for am1 in am_list]\n",
    "            for am2 in am_list])\n",
    "        \n",
    "    return match_list"
   ]
  },
  {
   "cell_type": "code",
   "execution_count": 338,
   "metadata": {
    "collapsed": true
   },
   "outputs": [],
   "source": [
    "def plot_match_matrix(match_matrix, ttl=None):\n",
    "    \n",
    "    matrixplot = sb.heatmap(match_matrix, square=True, cmap='viridis')\n",
    "    plt.xticks(np.arange(0.5, 11.5, 1), range(1,12))\n",
    "    plt.yticks(np.arange(0.5, 11.5, 1), range(1,12))\n",
    "    \n",
    "    if ttl:\n",
    "        plt.title(ttl, fontweight='bold')\n",
    "\n",
    "    print('minimum: ' + str(np.min(match_matrix)))\n",
    "    print('maximum: ' + str(np.max(match_matrix)))\n",
    "    print('mean: ' + str(np.mean(match_matrix)))\n",
    "\n",
    "    return matrixplot"
   ]
  },
  {
   "cell_type": "code",
   "execution_count": 339,
   "metadata": {
    "collapsed": true
   },
   "outputs": [],
   "source": [
    "# Graph similarity (simple matching) across runs for preprocessed data\n",
    "match_matrix_raw = compare_runs(am_list, symmetric=True)"
   ]
  },
  {
   "cell_type": "code",
   "execution_count": 340,
   "metadata": {},
   "outputs": [
    {
     "name": "stdout",
     "output_type": "stream",
     "text": [
      "minimum: 0.983333333333\n",
      "maximum: 1.0\n",
      "mean: 0.990743801653\n"
     ]
    },
    {
     "data": {
      "image/png": "[encoded data removed]",
      "text/plain": [
       "<matplotlib.figure.Figure at 0x12ed7de90>"
      ]
     },
     "metadata": {},
     "output_type": "display_data"
    }
   ],
   "source": [
    "matrixplot_raw = plot_match_matrix(match_matrix_raw,\n",
    "                                   ttl='Simple matching of graphs per run \\n (preprocessed data)')"
   ]
  },
  {
   "cell_type": "code",
   "execution_count": 341,
   "metadata": {
    "scrolled": false
   },
   "outputs": [
    {
     "data": {
      "text/plain": [
       "<matplotlib.text.Text at 0x1329f8a10>"
      ]
     },
     "execution_count": 341,
     "metadata": {},
     "output_type": "execute_result"
    },
    {
     "data": {
      "image/png": "[encoded data removed]",
      "text/plain": [
       "<matplotlib.figure.Figure at 0x132725f90>"
      ]
     },
     "metadata": {},
     "output_type": "display_data"
    }
   ],
   "source": [
    "# Clustered Graph similarity (simple matching) across runs for preprocessed data\n",
    "clustermap = sb.clustermap(match_matrix_raw, cmap='viridis',\n",
    "                          xticklabels=range(1,12), yticklabels=range(1,12))\n",
    "plt.title('Simple matching of graphs per run \\n (preprocessed data)', fontweight='bold', loc='center')"
   ]
  },
  {
   "cell_type": "code",
   "execution_count": 342,
   "metadata": {
    "collapsed": true
   },
   "outputs": [],
   "source": [
    "jaccard_matrix_raw = compare_runs(am_list, method='jaccard', symmetric=True)"
   ]
  },
  {
   "cell_type": "code",
   "execution_count": 343,
   "metadata": {},
   "outputs": [
    {
     "name": "stdout",
     "output_type": "stream",
     "text": [
      "minimum: 0.766666666667\n",
      "maximum: 1.0\n",
      "mean: 0.87741046832\n"
     ]
    },
    {
     "data": {
      "image/png": "[encoded data removed]",
      "text/plain": [
       "<matplotlib.figure.Figure at 0x13278e450>"
      ]
     },
     "metadata": {},
     "output_type": "display_data"
    }
   ],
   "source": [
    "jaccard_plot_raw = plot_match_matrix(jaccard_matrix_raw,\n",
    "                                     ttl='Jaccard index comparing graphs per run \\n (preprocessed data)')"
   ]
  },
  {
   "cell_type": "code",
   "execution_count": 344,
   "metadata": {},
   "outputs": [
    {
     "data": {
      "text/plain": [
       "<matplotlib.text.Text at 0x1331f0650>"
      ]
     },
     "execution_count": 344,
     "metadata": {},
     "output_type": "execute_result"
    },
    {
     "data": {
      "image/png": "[encoded data removed]",
      "text/plain": [
       "<matplotlib.figure.Figure at 0x132f0c4d0>"
      ]
     },
     "metadata": {},
     "output_type": "display_data"
    }
   ],
   "source": [
    "# Clustered Graph similarity (Jaccard Index) across runs for preprocessed data\n",
    "clustermap = sb.clustermap(jaccard_matrix_raw, cmap='viridis',\n",
    "                          xticklabels=range(1,12), yticklabels=range(1,12))\n",
    "plt.title('Jaccard index comparing graphs per run \\n (preprocessed data)', fontweight='bold', loc='center')"
   ]
  },
  {
   "cell_type": "markdown",
   "metadata": {},
   "source": [
    "### conclusion"
   ]
  },
  {
   "cell_type": "markdown",
   "metadata": {},
   "source": [
    "Wether you use Jaccard or Simple Matching, the general pattern of correlation across runs stays the same. In a nutshell, the first 2-3 runs correlate less with the other runs than the other runs among each other. In other words, the graph topology seems to 'stabilize' after the second run.\n",
    "\n",
    "**TODO:**\n",
    "\n",
    "Find out which adjacencies change"
   ]
  },
  {
   "cell_type": "markdown",
   "metadata": {},
   "source": [
    "## Similarity across runs of DIRECTED graphs (preprocessed data)"
   ]
  },
  {
   "cell_type": "code",
   "execution_count": 245,
   "metadata": {
    "collapsed": true
   },
   "outputs": [],
   "source": [
    "def get_mixed_adjacency_dicts(images_instance):\n",
    "    \"\"\"\n",
    "    create a list of dicts, each containing the pair of nodes\n",
    "    and wether edge is directed.\n",
    "    \"\"\"\n",
    "    edgestrings = [str(edge) for edge in images_instance.edges]\n",
    "    \n",
    "    pairdicts = []\n",
    "    for element in sorted(edgestrings):\n",
    "        pairdict = {}\n",
    "        if '-->' in element:\n",
    "            pairdict['directed'] = True\n",
    "            pair = element.split('-->')\n",
    "        else:\n",
    "            pairdict['directed'] = False\n",
    "            pair = [word.replace('- ', '')\n",
    "                    for word in element.split('--')]\n",
    "\n",
    "        # remove whitespace and append\n",
    "        pairdict['pair'] = [string.replace(' ', '') for string in pair]\n",
    "        pairdicts.append(pairdict)\n",
    "    return pairdicts"
   ]
  },
  {
   "cell_type": "code",
   "execution_count": 246,
   "metadata": {},
   "outputs": [
    {
     "data": {
      "text/plain": [
       "[{'directed': False, 'pair': ['EV1-R', 'EV1-L']},\n",
       " {'directed': False, 'pair': ['EV1-R', 'EV2-L']},\n",
       " {'directed': False, 'pair': ['EV2-L', 'EV2-R']},\n",
       " {'directed': True, 'pair': ['IFG1-L', 'IFG2-L']},\n",
       " {'directed': True, 'pair': ['IFG2-R', 'MPFC-R']}]"
      ]
     },
     "execution_count": 246,
     "metadata": {},
     "output_type": "execute_result"
    }
   ],
   "source": [
    "adjacency_dicts = get_mixed_adjacency_dicts(images_raw)\n",
    "# show first few entries as example\n",
    "adjacency_dicts[:5]"
   ]
  },
  {
   "cell_type": "code",
   "execution_count": 247,
   "metadata": {
    "collapsed": true
   },
   "outputs": [],
   "source": [
    "def mixed_am_from_images(images_instance):\n",
    "    \n",
    "    # get nodes and dict of adjacencies (mixed)\n",
    "    adjacency_dicts = get_mixed_adjacency_dicts(images_instance)\n",
    "    nodes = [str(node) for node in images_instance.nodes]\n",
    "\n",
    "    # initiate empty matrix\n",
    "    am = np.zeros((len(nodes),len(nodes)))\n",
    "    \n",
    "    for edgedict in adjacency_dicts:\n",
    "        # find out node indices for source and target\n",
    "        source_index = nodes.index(edgedict['pair'][0])\n",
    "        target_index = nodes.index(edgedict['pair'][1])\n",
    "        # fill in matrix\n",
    "        am[source_index, target_index] = 1\n",
    "        # for undirected edges, also fill in on other side of diagonal\n",
    "        if not edgedict['directed']:\n",
    "            am[target_index, source_index] = 1\n",
    "    return am"
   ]
  },
  {
   "cell_type": "code",
   "execution_count": 248,
   "metadata": {
    "collapsed": true
   },
   "outputs": [],
   "source": [
    "def csv2mixed_am(rundir):\n",
    "    \"\"\"\n",
    "    run images on csv directory and extract mixed adjacency matrix\n",
    "    \"\"\"\n",
    "    # get dataframes\n",
    "    dfs = getdfs(rundir)  \n",
    "    # perform iamges\n",
    "    pc.start_vm()\n",
    "    images_instance = s.imagesSemBic(dfs, verbose = True)\n",
    "    pc.stop_vm()\n",
    "    # get mixed adjacency matrix\n",
    "    am = mixed_am_from_images(images_instance)\n",
    "    return am"
   ]
  },
  {
   "cell_type": "code",
   "execution_count": 249,
   "metadata": {},
   "outputs": [
    {
     "data": {
      "text/plain": [
       "(11, 30, 30)"
      ]
     },
     "execution_count": 249,
     "metadata": {},
     "output_type": "execute_result"
    }
   ],
   "source": [
    "mixed_ams = [csv2mixed_am(rundir) for rundir in rundirs_raw]\n",
    "np.shape(mixed_ams)"
   ]
  },
  {
   "cell_type": "code",
   "execution_count": 363,
   "metadata": {},
   "outputs": [
    {
     "data": {
      "text/plain": [
       "<matplotlib.axes._subplots.AxesSubplot at 0x134f5b410>"
      ]
     },
     "execution_count": 363,
     "metadata": {},
     "output_type": "execute_result"
    },
    {
     "data": {
      "image/png": "[encoded data removed]",
      "text/plain": [
       "<matplotlib.figure.Figure at 0x134f6fd50>"
      ]
     },
     "metadata": {},
     "output_type": "display_data"
    }
   ],
   "source": [
    "# inspect one random am\n",
    "sb.heatmap(mixed_ams[1],\n",
    "           cbar=False, square=True,\n",
    "           xticklabels=nodes, yticklabels=nodes)"
   ]
  },
  {
   "cell_type": "code",
   "execution_count": 215,
   "metadata": {
    "collapsed": true
   },
   "outputs": [],
   "source": [
    "#with open('mixed_ams.pickle', 'wb') as handle:\n",
    "#    pickle.dump(mixed_ams, handle, protocol=pickle.HIGHEST_PROTOCOL)"
   ]
  },
  {
   "cell_type": "code",
   "execution_count": 216,
   "metadata": {
    "collapsed": true
   },
   "outputs": [],
   "source": [
    "# simple matching of DIRECTED adjacency matrix from preprocessed data across runs\n",
    "simple_matches_directed = compare_runs(mixed_ams)"
   ]
  },
  {
   "cell_type": "code",
   "execution_count": 345,
   "metadata": {},
   "outputs": [
    {
     "name": "stdout",
     "output_type": "stream",
     "text": [
      "minimum: 0.957777777778\n",
      "maximum: 1.0\n",
      "mean: 0.975500459137\n"
     ]
    },
    {
     "data": {
      "text/plain": [
       "<matplotlib.axes._subplots.AxesSubplot at 0x1334ab2d0>"
      ]
     },
     "execution_count": 345,
     "metadata": {},
     "output_type": "execute_result"
    },
    {
     "data": {
      "image/png": "[encoded data removed]",
      "text/plain": [
       "<matplotlib.figure.Figure at 0x1334b9150>"
      ]
     },
     "metadata": {},
     "output_type": "display_data"
    }
   ],
   "source": [
    "plot_match_matrix(simple_matches_directed, \n",
    "                 'Simple matching of DIRECTED graphs \\n per run (preprocessed data)')"
   ]
  },
  {
   "cell_type": "code",
   "execution_count": 346,
   "metadata": {},
   "outputs": [
    {
     "data": {
      "text/plain": [
       "<matplotlib.text.Text at 0x133a08290>"
      ]
     },
     "execution_count": 346,
     "metadata": {},
     "output_type": "execute_result"
    },
    {
     "data": {
      "image/png": "[encoded data removed]",
      "text/plain": [
       "<matplotlib.figure.Figure at 0x1334c7a10>"
      ]
     },
     "metadata": {},
     "output_type": "display_data"
    }
   ],
   "source": [
    "clustermap = sb.clustermap(simple_matches_directed, cmap='viridis',\n",
    "                          xticklabels=range(1,12), yticklabels=range(1,12))\n",
    "plt.title('Simple matching of DIRECTED graphs \\n per run (preprocessed data)', loc='center', fontweight='bold')"
   ]
  },
  {
   "cell_type": "code",
   "execution_count": 347,
   "metadata": {},
   "outputs": [],
   "source": [
    "jaccard_directed = compare_runs(mixed_ams, method='jaccard')"
   ]
  },
  {
   "cell_type": "code",
   "execution_count": 348,
   "metadata": {
    "scrolled": false
   },
   "outputs": [
    {
     "name": "stdout",
     "output_type": "stream",
     "text": [
      "minimum: 0.394444444444\n",
      "maximum: 1.0\n",
      "mean: 0.638475665748\n"
     ]
    },
    {
     "data": {
      "text/plain": [
       "<matplotlib.axes._subplots.AxesSubplot at 0x133cb34d0>"
      ]
     },
     "execution_count": 348,
     "metadata": {},
     "output_type": "execute_result"
    },
    {
     "data": {
      "image/png": "[encoded data removed]",
      "text/plain": [
       "<matplotlib.figure.Figure at 0x1337bcad0>"
      ]
     },
     "metadata": {},
     "output_type": "display_data"
    }
   ],
   "source": [
    "plot_match_matrix(jaccard_directed,\n",
    "                 ttl='Jaccard index comparing DIRECTED graphs \\n per run (preprocessed data)')"
   ]
  },
  {
   "cell_type": "code",
   "execution_count": 349,
   "metadata": {},
   "outputs": [
    {
     "data": {
      "text/plain": [
       "<matplotlib.text.Text at 0x134223f50>"
      ]
     },
     "execution_count": 349,
     "metadata": {},
     "output_type": "execute_result"
    },
    {
     "data": {
      "image/png": "[encoded data removed]",
      "text/plain": [
       "<matplotlib.figure.Figure at 0x133d18450>"
      ]
     },
     "metadata": {},
     "output_type": "display_data"
    }
   ],
   "source": [
    "clustermap = sb.clustermap(jaccard_directed, cmap='viridis',\n",
    "                          xticklabels=range(1,12), yticklabels=range(1,12))\n",
    "plt.title('Jaccard index comparing DIRECTED graphs \\n per run (preprocessed data)', loc='center', fontweight='bold')"
   ]
  },
  {
   "cell_type": "markdown",
   "metadata": {},
   "source": [
    "## Similarity across runs of undirected graphs (residual data)"
   ]
  },
  {
   "cell_type": "code",
   "execution_count": 270,
   "metadata": {
    "collapsed": true
   },
   "outputs": [],
   "source": [
    "basedir_nb = '/host/famfaces/extract_meants_nuisance_button/csv'\n",
    "rundirs_nb = [pjoin(basedir_nb, 'run%02d' % i) for i in xrange(1,12)]"
   ]
  },
  {
   "cell_type": "code",
   "execution_count": 271,
   "metadata": {
    "collapsed": true
   },
   "outputs": [],
   "source": [
    "# again, this takes a while. use pickle\n",
    "am_list_nb = get_all_ams(rundirs_nb)"
   ]
  },
  {
   "cell_type": "code",
   "execution_count": 272,
   "metadata": {
    "collapsed": true
   },
   "outputs": [],
   "source": [
    "# save am_list_nb as pickle\n",
    "#with open('am_list_nb.pickle', 'wb') as handle:\n",
    "#    pickle.dump(am_list_nb, handle, protocol=pickle.HIGHEST_PROTOCOL)"
   ]
  },
  {
   "cell_type": "code",
   "execution_count": 273,
   "metadata": {
    "collapsed": true
   },
   "outputs": [],
   "source": [
    "# Graph similarity (simple matching) across runs for residual data\n",
    "match_matrix_nb = compare_runs(am_list_nb, symmetric=True)"
   ]
  },
  {
   "cell_type": "code",
   "execution_count": 350,
   "metadata": {},
   "outputs": [
    {
     "name": "stdout",
     "output_type": "stream",
     "text": [
      "minimum: 0.988888888889\n",
      "maximum: 1.0\n",
      "mean: 0.995592286501\n"
     ]
    },
    {
     "data": {
      "text/plain": [
       "<matplotlib.axes._subplots.AxesSubplot at 0x1344b0190>"
      ]
     },
     "execution_count": 350,
     "metadata": {},
     "output_type": "execute_result"
    },
    {
     "data": {
      "image/png": "[encoded data removed]",
      "text/plain": [
       "<matplotlib.figure.Figure at 0x1344e5750>"
      ]
     },
     "metadata": {},
     "output_type": "display_data"
    }
   ],
   "source": [
    "plot_match_matrix(match_matrix_nb,\n",
    "                  ttl='Simple matching comparing graphs across runs \\n (residual data)')"
   ]
  },
  {
   "cell_type": "code",
   "execution_count": 364,
   "metadata": {},
   "outputs": [
    {
     "data": {
      "text/plain": [
       "<matplotlib.text.Text at 0x1353b2d10>"
      ]
     },
     "execution_count": 364,
     "metadata": {},
     "output_type": "execute_result"
    },
    {
     "data": {
      "image/png": "[encoded data removed]",
      "text/plain": [
       "<matplotlib.figure.Figure at 0x13515d210>"
      ]
     },
     "metadata": {},
     "output_type": "display_data"
    }
   ],
   "source": [
    "clustermap = sb.clustermap(match_matrix_nb, cmap='viridis',\n",
    "                          xticklabels=range(1,12), yticklabels=range(1,12))\n",
    "plt.title('Clustered Simple matching comparing graphs across runs \\n (residual data)', loc='center', fontweight='bold')"
   ]
  },
  {
   "cell_type": "code",
   "execution_count": 351,
   "metadata": {
    "collapsed": true
   },
   "outputs": [],
   "source": [
    "# graph similarity (jaccard index) for residual data\n",
    "jaccard_matrix_nb = compare_runs(am_list_nb, method='jaccard', symmetric=True)"
   ]
  },
  {
   "cell_type": "code",
   "execution_count": 352,
   "metadata": {},
   "outputs": [
    {
     "name": "stdout",
     "output_type": "stream",
     "text": [
      "minimum: 0.75\n",
      "maximum: 1.0\n",
      "mean: 0.923966942149\n"
     ]
    },
    {
     "data": {
      "text/plain": [
       "<matplotlib.axes._subplots.AxesSubplot at 0x1332115d0>"
      ]
     },
     "execution_count": 352,
     "metadata": {},
     "output_type": "execute_result"
    },
    {
     "data": {
      "image/png": "[encoded data removed]",
      "text/plain": [
       "<matplotlib.figure.Figure at 0x1338f6fd0>"
      ]
     },
     "metadata": {},
     "output_type": "display_data"
    }
   ],
   "source": [
    "plot_match_matrix(jaccard_matrix_nb,\n",
    "                  ttl='Jaccard index comparing graphs across runs \\n (residual data)')"
   ]
  },
  {
   "cell_type": "code",
   "execution_count": 365,
   "metadata": {},
   "outputs": [
    {
     "data": {
      "text/plain": [
       "<matplotlib.text.Text at 0x1359febd0>"
      ]
     },
     "execution_count": 365,
     "metadata": {},
     "output_type": "execute_result"
    },
    {
     "data": {
      "image/png": "[encoded data removed]",
      "text/plain": [
       "<matplotlib.figure.Figure at 0x12e2e4dd0>"
      ]
     },
     "metadata": {},
     "output_type": "display_data"
    }
   ],
   "source": [
    "clustermap = sb.clustermap(jaccard_matrix_nb, cmap='viridis',\n",
    "                          xticklabels=range(1,12), yticklabels=range(1,12))\n",
    "plt.title('Clustered Jaccard index comparing graphs across runs \\n (residual data)', loc='center', fontweight='bold')"
   ]
  },
  {
   "cell_type": "markdown",
   "metadata": {},
   "source": [
    " "
   ]
  },
  {
   "cell_type": "markdown",
   "metadata": {},
   "source": [
    " "
   ]
  },
  {
   "cell_type": "markdown",
   "metadata": {},
   "source": [
    "# Influence of experimental stimulation"
   ]
  },
  {
   "cell_type": "markdown",
   "metadata": {},
   "source": [
    "\n"
   ]
  },
  {
   "cell_type": "markdown",
   "metadata": {},
   "source": [
    "## Residual data"
   ]
  },
  {
   "cell_type": "code",
   "execution_count": 4,
   "metadata": {
    "collapsed": true
   },
   "outputs": [],
   "source": [
    "path_withc_nb = pjoin('/host', 'famfaces', 'extract_meants_nuisance_button_withcontrast', 'sub*', 'csv', 'run*')"
   ]
  },
  {
   "cell_type": "code",
   "execution_count": 5,
   "metadata": {
    "collapsed": true
   },
   "outputs": [],
   "source": [
    "dfs_withc_nb = getdfs(path_withc_nb)"
   ]
  },
  {
   "cell_type": "code",
   "execution_count": 6,
   "metadata": {
    "collapsed": true
   },
   "outputs": [],
   "source": [
    "# perform images search\n",
    "pc.start_vm() # start\n",
    "images_withc_nb = s.imagesSemBic(dfs_withc_nb, verbose = True)\n",
    "pc.stop_vm() # stop"
   ]
  },
  {
   "cell_type": "code",
   "execution_count": 7,
   "metadata": {},
   "outputs": [
    {
     "data": {
      "image/svg+xml": [
       "<svg height=\"908pt\" viewBox=\"0.00 0.00 832.38 908.00\" width=\"832pt\" xmlns=\"http://www.w3.org/2000/svg\" xmlns:xlink=\"http://www.w3.org/1999/xlink\">\n",
       "<g class=\"graph\" id=\"graph0\" transform=\"scale(1 1) rotate(0) translate(4 904)\">\n",
       "<title>G</title>\n",
       "<polygon fill=\"white\" points=\"-4,4 -4,-904 828.384,-904 828.384,4 -4,4\" stroke=\"none\"/>\n",
       "<!-- EV1&#45;L -->\n",
       "<g class=\"node\" id=\"node1\"><title>EV1-L</title>\n",
       "<ellipse cx=\"370.527\" cy=\"-594\" fill=\"none\" rx=\"34.8285\" ry=\"18\" stroke=\"black\"/>\n",
       "<text font-family=\"Times,serif\" font-size=\"14.00\" text-anchor=\"middle\" x=\"370.527\" y=\"-589.8\">EV1-L</text>\n",
       "</g>\n",
       "<!-- dPreCun&#45;R -->\n",
       "<g class=\"node\" id=\"node26\"><title>dPreCun-R</title>\n",
       "<ellipse cx=\"370.527\" cy=\"-522\" fill=\"none\" rx=\"49.805\" ry=\"18\" stroke=\"black\"/>\n",
       "<text font-family=\"Times,serif\" font-size=\"14.00\" text-anchor=\"middle\" x=\"370.527\" y=\"-517.8\">dPreCun-R</text>\n",
       "</g>\n",
       "<!-- EV1&#45;L&#45;&gt;dPreCun&#45;R -->\n",
       "<g class=\"edge\" id=\"edge8\"><title>EV1-L-&gt;dPreCun-R</title>\n",
       "<path d=\"M370.527,-575.697C370.527,-564.846 370.527,-550.917 370.527,-540.104\" fill=\"none\" stroke=\"black\"/>\n",
       "</g>\n",
       "<!-- EV1&#45;R -->\n",
       "<g class=\"node\" id=\"node2\"><title>EV1-R</title>\n",
       "<ellipse cx=\"370.527\" cy=\"-666\" fill=\"none\" rx=\"35.3216\" ry=\"18\" stroke=\"black\"/>\n",
       "<text font-family=\"Times,serif\" font-size=\"14.00\" text-anchor=\"middle\" x=\"370.527\" y=\"-661.8\">EV1-R</text>\n",
       "</g>\n",
       "<!-- EV1&#45;R&#45;&gt;EV1&#45;L -->\n",
       "<g class=\"edge\" id=\"edge23\"><title>EV1-R-&gt;EV1-L</title>\n",
       "<path d=\"M370.527,-647.697C370.527,-636.846 370.527,-622.917 370.527,-612.104\" fill=\"none\" stroke=\"black\"/>\n",
       "</g>\n",
       "<!-- EV2&#45;L -->\n",
       "<g class=\"node\" id=\"node3\"><title>EV2-L</title>\n",
       "<ellipse cx=\"454.527\" cy=\"-738\" fill=\"none\" rx=\"34.8285\" ry=\"18\" stroke=\"black\"/>\n",
       "<text font-family=\"Times,serif\" font-size=\"14.00\" text-anchor=\"middle\" x=\"454.527\" y=\"-733.8\">EV2-L</text>\n",
       "</g>\n",
       "<!-- EV2&#45;L&#45;&gt;EV1&#45;R -->\n",
       "<g class=\"edge\" id=\"edge24\"><title>EV2-L-&gt;EV1-R</title>\n",
       "<path d=\"M436.713,-722.155C422.458,-710.276 402.564,-693.697 388.316,-681.824\" fill=\"none\" stroke=\"black\"/>\n",
       "</g>\n",
       "<!-- EV2&#45;R -->\n",
       "<g class=\"node\" id=\"node4\"><title>EV2-R</title>\n",
       "<ellipse cx=\"458.527\" cy=\"-666\" fill=\"none\" rx=\"35.3216\" ry=\"18\" stroke=\"black\"/>\n",
       "<text font-family=\"Times,serif\" font-size=\"14.00\" text-anchor=\"middle\" x=\"458.527\" y=\"-661.8\">EV2-R</text>\n",
       "</g>\n",
       "<!-- EV2&#45;L&#45;&gt;EV2&#45;R -->\n",
       "<g class=\"edge\" id=\"edge25\"><title>EV2-L-&gt;EV2-R</title>\n",
       "<path d=\"M455.516,-719.697C456.136,-708.846 456.932,-694.917 457.55,-684.104\" fill=\"none\" stroke=\"black\"/>\n",
       "</g>\n",
       "<!-- OccFus&#45;L -->\n",
       "<g class=\"node\" id=\"node5\"><title>OccFus-L</title>\n",
       "<ellipse cx=\"454.527\" cy=\"-882\" fill=\"none\" rx=\"45.4441\" ry=\"18\" stroke=\"black\"/>\n",
       "<text font-family=\"Times,serif\" font-size=\"14.00\" text-anchor=\"middle\" x=\"454.527\" y=\"-877.8\">OccFus-L</text>\n",
       "</g>\n",
       "<!-- OccFus&#45;R -->\n",
       "<g class=\"node\" id=\"node6\"><title>OccFus-R</title>\n",
       "<ellipse cx=\"454.527\" cy=\"-810\" fill=\"none\" rx=\"45.9373\" ry=\"18\" stroke=\"black\"/>\n",
       "<text font-family=\"Times,serif\" font-size=\"14.00\" text-anchor=\"middle\" x=\"454.527\" y=\"-805.8\">OccFus-R</text>\n",
       "</g>\n",
       "<!-- OccFus&#45;L&#45;&gt;OccFus&#45;R -->\n",
       "<g class=\"edge\" id=\"edge14\"><title>OccFus-L-&gt;OccFus-R</title>\n",
       "<path d=\"M454.527,-863.697C454.527,-852.846 454.527,-838.917 454.527,-828.104\" fill=\"none\" stroke=\"black\"/>\n",
       "</g>\n",
       "<!-- OccFus&#45;R&#45;&gt;EV2&#45;L -->\n",
       "<g class=\"edge\" id=\"edge2\"><title>OccFus-R-&gt;EV2-L</title>\n",
       "<path d=\"M454.527,-791.697C454.527,-780.846 454.527,-766.917 454.527,-756.104\" fill=\"none\" stroke=\"black\"/>\n",
       "</g>\n",
       "<!-- pFus&#45;L -->\n",
       "<g class=\"node\" id=\"node7\"><title>pFus-L</title>\n",
       "<ellipse cx=\"554.527\" cy=\"-810\" fill=\"none\" rx=\"35.8147\" ry=\"18\" stroke=\"black\"/>\n",
       "<text font-family=\"Times,serif\" font-size=\"14.00\" text-anchor=\"middle\" x=\"554.527\" y=\"-805.8\">pFus-L</text>\n",
       "</g>\n",
       "<!-- mFus&#45;L -->\n",
       "<g class=\"node\" id=\"node9\"><title>mFus-L</title>\n",
       "<ellipse cx=\"554.527\" cy=\"-738\" fill=\"none\" rx=\"38.2284\" ry=\"18\" stroke=\"black\"/>\n",
       "<text font-family=\"Times,serif\" font-size=\"14.00\" text-anchor=\"middle\" x=\"554.527\" y=\"-733.8\">mFus-L</text>\n",
       "</g>\n",
       "<!-- pFus&#45;L&#45;&gt;mFus&#45;L -->\n",
       "<g class=\"edge\" id=\"edge4\"><title>pFus-L-&gt;mFus-L</title>\n",
       "<path d=\"M554.527,-791.697C554.527,-780.846 554.527,-766.917 554.527,-756.104\" fill=\"none\" stroke=\"black\"/>\n",
       "</g>\n",
       "<!-- pFus&#45;R -->\n",
       "<g class=\"node\" id=\"node8\"><title>pFus-R</title>\n",
       "<ellipse cx=\"554.527\" cy=\"-882\" fill=\"none\" rx=\"36.3078\" ry=\"18\" stroke=\"black\"/>\n",
       "<text font-family=\"Times,serif\" font-size=\"14.00\" text-anchor=\"middle\" x=\"554.527\" y=\"-877.8\">pFus-R</text>\n",
       "</g>\n",
       "<!-- pFus&#45;R&#45;&gt;OccFus&#45;R -->\n",
       "<g class=\"edge\" id=\"edge16\"><title>pFus-R-&gt;OccFus-R</title>\n",
       "<path d=\"M534.291,-866.834C517.398,-855.009 493.378,-838.196 476.118,-826.114\" fill=\"none\" stroke=\"black\"/>\n",
       "</g>\n",
       "<!-- pFus&#45;R&#45;&gt;pFus&#45;L -->\n",
       "<g class=\"edge\" id=\"edge5\"><title>pFus-R-&gt;pFus-L</title>\n",
       "<path d=\"M554.527,-863.697C554.527,-852.846 554.527,-838.917 554.527,-828.104\" fill=\"none\" stroke=\"black\"/>\n",
       "</g>\n",
       "<!-- mFus&#45;R -->\n",
       "<g class=\"node\" id=\"node10\"><title>mFus-R</title>\n",
       "<ellipse cx=\"554.527\" cy=\"-666\" fill=\"none\" rx=\"38.7215\" ry=\"18\" stroke=\"black\"/>\n",
       "<text font-family=\"Times,serif\" font-size=\"14.00\" text-anchor=\"middle\" x=\"554.527\" y=\"-661.8\">mFus-R</text>\n",
       "</g>\n",
       "<!-- mFus&#45;L&#45;&gt;mFus&#45;R -->\n",
       "<g class=\"edge\" id=\"edge6\"><title>mFus-L-&gt;mFus-R</title>\n",
       "<path d=\"M554.527,-719.697C554.527,-708.846 554.527,-694.917 554.527,-684.104\" fill=\"none\" stroke=\"black\"/>\n",
       "</g>\n",
       "<!-- pMTG&#45;L -->\n",
       "<g class=\"node\" id=\"node11\"><title>pMTG-L</title>\n",
       "<ellipse cx=\"42.5271\" cy=\"-306\" fill=\"none\" rx=\"42.5542\" ry=\"18\" stroke=\"black\"/>\n",
       "<text font-family=\"Times,serif\" font-size=\"14.00\" text-anchor=\"middle\" x=\"42.5271\" y=\"-301.8\">pMTG-L</text>\n",
       "</g>\n",
       "<!-- pMTG&#45;R -->\n",
       "<g class=\"node\" id=\"node12\"><title>pMTG-R</title>\n",
       "<ellipse cx=\"43.5271\" cy=\"-234\" fill=\"none\" rx=\"43.0474\" ry=\"18\" stroke=\"black\"/>\n",
       "<text font-family=\"Times,serif\" font-size=\"14.00\" text-anchor=\"middle\" x=\"43.5271\" y=\"-229.8\">pMTG-R</text>\n",
       "</g>\n",
       "<!-- pMTG&#45;L&#45;&gt;pMTG&#45;R -->\n",
       "<g class=\"edge\" id=\"edge13\"><title>pMTG-L-&gt;pMTG-R</title>\n",
       "<path d=\"M42.7743,-287.697C42.9293,-276.846 43.1283,-262.917 43.2828,-252.104\" fill=\"none\" stroke=\"black\"/>\n",
       "</g>\n",
       "<!-- IFG2&#45;R -->\n",
       "<g class=\"node\" id=\"node20\"><title>IFG2-R</title>\n",
       "<ellipse cx=\"43.5271\" cy=\"-162\" fill=\"none\" rx=\"37.7439\" ry=\"18\" stroke=\"black\"/>\n",
       "<text font-family=\"Times,serif\" font-size=\"14.00\" text-anchor=\"middle\" x=\"43.5271\" y=\"-157.8\">IFG2-R</text>\n",
       "</g>\n",
       "<!-- pMTG&#45;R&#45;&gt;IFG2&#45;R -->\n",
       "<g class=\"edge\" id=\"edge7\"><title>pMTG-R-&gt;IFG2-R</title>\n",
       "<path d=\"M43.5271,-215.697C43.5271,-204.846 43.5271,-190.917 43.5271,-180.104\" fill=\"none\" stroke=\"black\"/>\n",
       "</g>\n",
       "<!-- aFus&#45;R -->\n",
       "<g class=\"node\" id=\"node13\"><title>aFus-R</title>\n",
       "<ellipse cx=\"644.527\" cy=\"-882\" fill=\"none\" rx=\"35.8147\" ry=\"18\" stroke=\"black\"/>\n",
       "<text font-family=\"Times,serif\" font-size=\"14.00\" text-anchor=\"middle\" x=\"644.527\" y=\"-877.8\">aFus-R</text>\n",
       "</g>\n",
       "<!-- mMTG&#45;L -->\n",
       "<g class=\"node\" id=\"node14\"><title>mMTG-L</title>\n",
       "<ellipse cx=\"148.527\" cy=\"-378\" fill=\"none\" rx=\"44.9682\" ry=\"18\" stroke=\"black\"/>\n",
       "<text font-family=\"Times,serif\" font-size=\"14.00\" text-anchor=\"middle\" x=\"148.527\" y=\"-373.8\">mMTG-L</text>\n",
       "</g>\n",
       "<!-- mMTG&#45;R -->\n",
       "<g class=\"node\" id=\"node15\"><title>mMTG-R</title>\n",
       "<ellipse cx=\"148.527\" cy=\"-306\" fill=\"none\" rx=\"45.4614\" ry=\"18\" stroke=\"black\"/>\n",
       "<text font-family=\"Times,serif\" font-size=\"14.00\" text-anchor=\"middle\" x=\"148.527\" y=\"-301.8\">mMTG-R</text>\n",
       "</g>\n",
       "<!-- mMTG&#45;L&#45;&gt;mMTG&#45;R -->\n",
       "<g class=\"edge\" id=\"edge15\"><title>mMTG-L-&gt;mMTG-R</title>\n",
       "<path d=\"M148.527,-359.697C148.527,-348.846 148.527,-334.917 148.527,-324.104\" fill=\"none\" stroke=\"black\"/>\n",
       "</g>\n",
       "<!-- mMTG&#45;R&#45;&gt;pMTG&#45;R -->\n",
       "<g class=\"edge\" id=\"edge21\"><title>mMTG-R-&gt;pMTG-R</title>\n",
       "<path d=\"M126.259,-290.155C108.32,-278.195 83.2368,-261.473 65.4028,-249.584\" fill=\"none\" stroke=\"black\"/>\n",
       "</g>\n",
       "<!-- aMTG&#45;R -->\n",
       "<g class=\"node\" id=\"node17\"><title>aMTG-R</title>\n",
       "<ellipse cx=\"148.527\" cy=\"-234\" fill=\"none\" rx=\"42.5542\" ry=\"18\" stroke=\"black\"/>\n",
       "<text font-family=\"Times,serif\" font-size=\"14.00\" text-anchor=\"middle\" x=\"148.527\" y=\"-229.8\">aMTG-R</text>\n",
       "</g>\n",
       "<!-- mMTG&#45;R&#45;&gt;aMTG&#45;R -->\n",
       "<g class=\"edge\" id=\"edge26\"><title>mMTG-R-&gt;aMTG-R</title>\n",
       "<path d=\"M148.527,-287.697C148.527,-276.846 148.527,-262.917 148.527,-252.104\" fill=\"none\" stroke=\"black\"/>\n",
       "</g>\n",
       "<!-- aMTG&#45;L -->\n",
       "<g class=\"node\" id=\"node16\"><title>aMTG-L</title>\n",
       "<ellipse cx=\"148.527\" cy=\"-162\" fill=\"none\" rx=\"42.0611\" ry=\"18\" stroke=\"black\"/>\n",
       "<text font-family=\"Times,serif\" font-size=\"14.00\" text-anchor=\"middle\" x=\"148.527\" y=\"-157.8\">aMTG-L</text>\n",
       "</g>\n",
       "<!-- aMTG&#45;R&#45;&gt;aMTG&#45;L -->\n",
       "<g class=\"edge\" id=\"edge10\"><title>aMTG-R-&gt;aMTG-L</title>\n",
       "<path d=\"M148.527,-215.697C148.527,-204.846 148.527,-190.917 148.527,-180.104\" fill=\"none\" stroke=\"black\"/>\n",
       "</g>\n",
       "<!-- IFG1&#45;L -->\n",
       "<g class=\"node\" id=\"node18\"><title>IFG1-L</title>\n",
       "<ellipse cx=\"145.527\" cy=\"-450\" fill=\"none\" rx=\"37.2507\" ry=\"18\" stroke=\"black\"/>\n",
       "<text font-family=\"Times,serif\" font-size=\"14.00\" text-anchor=\"middle\" x=\"145.527\" y=\"-445.8\">IFG1-L</text>\n",
       "</g>\n",
       "<!-- IFG1&#45;L&#45;&gt;mMTG&#45;L -->\n",
       "<g class=\"edge\" id=\"edge20\"><title>IFG1-L-&gt;mMTG-L</title>\n",
       "<path d=\"M146.269,-431.697C146.734,-420.846 147.331,-406.917 147.794,-396.104\" fill=\"none\" stroke=\"black\"/>\n",
       "</g>\n",
       "<!-- IFG2&#45;L -->\n",
       "<g class=\"node\" id=\"node19\"><title>IFG2-L</title>\n",
       "<ellipse cx=\"143.527\" cy=\"-522\" fill=\"none\" rx=\"37.2507\" ry=\"18\" stroke=\"black\"/>\n",
       "<text font-family=\"Times,serif\" font-size=\"14.00\" text-anchor=\"middle\" x=\"143.527\" y=\"-517.8\">IFG2-L</text>\n",
       "</g>\n",
       "<!-- IFG2&#45;L&#45;&gt;IFG1&#45;L -->\n",
       "<g class=\"edge\" id=\"edge11\"><title>IFG2-L-&gt;IFG1-L</title>\n",
       "<path d=\"M144.021,-503.697C144.331,-492.846 144.729,-478.917 145.038,-468.104\" fill=\"none\" stroke=\"black\"/>\n",
       "</g>\n",
       "<!-- MPFC&#45;R -->\n",
       "<g class=\"node\" id=\"node24\"><title>MPFC-R</title>\n",
       "<ellipse cx=\"43.5271\" cy=\"-90\" fill=\"none\" rx=\"42.5974\" ry=\"18\" stroke=\"black\"/>\n",
       "<text font-family=\"Times,serif\" font-size=\"14.00\" text-anchor=\"middle\" x=\"43.5271\" y=\"-85.8\">MPFC-R</text>\n",
       "</g>\n",
       "<!-- IFG2&#45;R&#45;&gt;MPFC&#45;R -->\n",
       "<g class=\"edge\" id=\"edge19\"><title>IFG2-R-&gt;MPFC-R</title>\n",
       "<path d=\"M43.5271,-143.697C43.5271,-132.846 43.5271,-118.917 43.5271,-108.104\" fill=\"none\" stroke=\"black\"/>\n",
       "</g>\n",
       "<!-- TPJ&#45;L -->\n",
       "<g class=\"node\" id=\"node21\"><title>TPJ-L</title>\n",
       "<ellipse cx=\"245.527\" cy=\"-450\" fill=\"none\" rx=\"32.4324\" ry=\"18\" stroke=\"black\"/>\n",
       "<text font-family=\"Times,serif\" font-size=\"14.00\" text-anchor=\"middle\" x=\"245.527\" y=\"-445.8\">TPJ-L</text>\n",
       "</g>\n",
       "<!-- TPJ&#45;L&#45;&gt;mMTG&#45;L -->\n",
       "<g class=\"edge\" id=\"edge9\"><title>TPJ-L-&gt;mMTG-L</title>\n",
       "<path d=\"M226.363,-435.17C209.91,-423.297 186.241,-406.216 169.33,-394.013\" fill=\"none\" stroke=\"black\"/>\n",
       "</g>\n",
       "<!-- TPJ&#45;R -->\n",
       "<g class=\"node\" id=\"node22\"><title>TPJ-R</title>\n",
       "<ellipse cx=\"245.527\" cy=\"-378\" fill=\"none\" rx=\"32.9255\" ry=\"18\" stroke=\"black\"/>\n",
       "<text font-family=\"Times,serif\" font-size=\"14.00\" text-anchor=\"middle\" x=\"245.527\" y=\"-373.8\">TPJ-R</text>\n",
       "</g>\n",
       "<!-- TPJ&#45;L&#45;&gt;TPJ&#45;R -->\n",
       "<g class=\"edge\" id=\"edge22\"><title>TPJ-L-&gt;TPJ-R</title>\n",
       "<path d=\"M245.527,-431.697C245.527,-420.846 245.527,-406.917 245.527,-396.104\" fill=\"none\" stroke=\"black\"/>\n",
       "</g>\n",
       "<!-- MPFC&#45;L -->\n",
       "<g class=\"node\" id=\"node23\"><title>MPFC-L</title>\n",
       "<ellipse cx=\"43.5271\" cy=\"-18\" fill=\"none\" rx=\"42.1043\" ry=\"18\" stroke=\"black\"/>\n",
       "<text font-family=\"Times,serif\" font-size=\"14.00\" text-anchor=\"middle\" x=\"43.5271\" y=\"-13.8\">MPFC-L</text>\n",
       "</g>\n",
       "<!-- MPFC&#45;R&#45;&gt;MPFC&#45;L -->\n",
       "<g class=\"edge\" id=\"edge12\"><title>MPFC-R-&gt;MPFC-L</title>\n",
       "<path d=\"M43.5271,-71.6966C43.5271,-60.8463 43.5271,-46.9167 43.5271,-36.1043\" fill=\"none\" stroke=\"black\"/>\n",
       "</g>\n",
       "<!-- dPreCun&#45;L -->\n",
       "<g class=\"node\" id=\"node25\"><title>dPreCun-L</title>\n",
       "<ellipse cx=\"370.527\" cy=\"-450\" fill=\"none\" rx=\"49.3119\" ry=\"18\" stroke=\"black\"/>\n",
       "<text font-family=\"Times,serif\" font-size=\"14.00\" text-anchor=\"middle\" x=\"370.527\" y=\"-445.8\">dPreCun-L</text>\n",
       "</g>\n",
       "<!-- dPreCun&#45;R&#45;&gt;dPreCun&#45;L -->\n",
       "<g class=\"edge\" id=\"edge27\"><title>dPreCun-R-&gt;dPreCun-L</title>\n",
       "<path d=\"M370.527,-503.697C370.527,-492.846 370.527,-478.917 370.527,-468.104\" fill=\"none\" stroke=\"black\"/>\n",
       "</g>\n",
       "<!-- mPreCun&#45;L -->\n",
       "<g class=\"node\" id=\"node27\"><title>mPreCun-L</title>\n",
       "<ellipse cx=\"250.527\" cy=\"-522\" fill=\"none\" rx=\"51.726\" ry=\"18\" stroke=\"black\"/>\n",
       "<text font-family=\"Times,serif\" font-size=\"14.00\" text-anchor=\"middle\" x=\"250.527\" y=\"-517.8\">mPreCun-L</text>\n",
       "</g>\n",
       "<!-- mPreCun&#45;L&#45;&gt;TPJ&#45;L -->\n",
       "<g class=\"edge\" id=\"edge28\"><title>mPreCun-L-&gt;TPJ-L</title>\n",
       "<path d=\"M249.291,-503.697C248.516,-492.846 247.521,-478.917 246.749,-468.104\" fill=\"none\" stroke=\"black\"/>\n",
       "</g>\n",
       "<!-- mPreCun&#45;R -->\n",
       "<g class=\"node\" id=\"node28\"><title>mPreCun-R</title>\n",
       "<ellipse cx=\"257.527\" cy=\"-594\" fill=\"none\" rx=\"52.2192\" ry=\"18\" stroke=\"black\"/>\n",
       "<text font-family=\"Times,serif\" font-size=\"14.00\" text-anchor=\"middle\" x=\"257.527\" y=\"-589.8\">mPreCun-R</text>\n",
       "</g>\n",
       "<!-- mPreCun&#45;R&#45;&gt;dPreCun&#45;R -->\n",
       "<g class=\"edge\" id=\"edge17\"><title>mPreCun-R-&gt;dPreCun-R</title>\n",
       "<path d=\"M281.768,-577.983C300.834,-566.173 327.27,-549.796 346.326,-537.992\" fill=\"none\" stroke=\"black\"/>\n",
       "</g>\n",
       "<!-- mPreCun&#45;R&#45;&gt;mPreCun&#45;L -->\n",
       "<g class=\"edge\" id=\"edge1\"><title>mPreCun-R-&gt;mPreCun-L</title>\n",
       "<path d=\"M255.797,-575.697C254.712,-564.846 253.319,-550.917 252.238,-540.104\" fill=\"none\" stroke=\"black\"/>\n",
       "</g>\n",
       "<!-- vPreCun&#45;L -->\n",
       "<g class=\"node\" id=\"node29\"><title>vPreCun-L</title>\n",
       "<ellipse cx=\"137.527\" cy=\"-594\" fill=\"none\" rx=\"49.3119\" ry=\"18\" stroke=\"black\"/>\n",
       "<text font-family=\"Times,serif\" font-size=\"14.00\" text-anchor=\"middle\" x=\"137.527\" y=\"-589.8\">vPreCun-L</text>\n",
       "</g>\n",
       "<!-- vPreCun&#45;R -->\n",
       "<g class=\"node\" id=\"node30\"><title>vPreCun-R</title>\n",
       "<ellipse cx=\"197.527\" cy=\"-666\" fill=\"none\" rx=\"49.805\" ry=\"18\" stroke=\"black\"/>\n",
       "<text font-family=\"Times,serif\" font-size=\"14.00\" text-anchor=\"middle\" x=\"197.527\" y=\"-661.8\">vPreCun-R</text>\n",
       "</g>\n",
       "<!-- vPreCun&#45;R&#45;&gt;mPreCun&#45;R -->\n",
       "<g class=\"edge\" id=\"edge18\"><title>vPreCun-R-&gt;mPreCun-R</title>\n",
       "<path d=\"M211.746,-648.411C221.311,-637.252 233.867,-622.604 243.41,-611.47\" fill=\"none\" stroke=\"black\"/>\n",
       "</g>\n",
       "<!-- vPreCun&#45;R&#45;&gt;vPreCun&#45;L -->\n",
       "<g class=\"edge\" id=\"edge3\"><title>vPreCun-R-&gt;vPreCun-L</title>\n",
       "<path d=\"M183.308,-648.411C173.743,-637.252 161.187,-622.604 151.644,-611.47\" fill=\"none\" stroke=\"black\"/>\n",
       "</g>\n",
       "<!-- FAM&#45;UNFAM -->\n",
       "<g class=\"node\" id=\"node31\"><title>FAM-UNFAM</title>\n",
       "<ellipse cx=\"761.527\" cy=\"-882\" fill=\"none\" rx=\"62.7138\" ry=\"18\" stroke=\"black\"/>\n",
       "<text font-family=\"Times,serif\" font-size=\"14.00\" text-anchor=\"middle\" x=\"761.527\" y=\"-877.8\">FAM-UNFAM</text>\n",
       "</g>\n",
       "</g>\n",
       "</svg>"
      ],
      "text/plain": [
       "<IPython.core.display.SVG object>"
      ]
     },
     "execution_count": 7,
     "metadata": {},
     "output_type": "execute_result"
    }
   ],
   "source": [
    "# render resulting graph\n",
    "dot_withc_nb = images_withc_nb.getDot()\n",
    "svg_str = dot_withc_nb.create_svg(prog='dot')\n",
    "SVG(svg_str)"
   ]
  },
  {
   "cell_type": "markdown",
   "metadata": {},
   "source": [
    "## Preprocessed data"
   ]
  },
  {
   "cell_type": "code",
   "execution_count": 95,
   "metadata": {
    "collapsed": true
   },
   "outputs": [],
   "source": [
    "path_withc_raw = pjoin('/host', 'famfaces', 'extract_meants_withcontrast', 'sub*', 'csv', 'run*')"
   ]
  },
  {
   "cell_type": "code",
   "execution_count": 96,
   "metadata": {
    "collapsed": true
   },
   "outputs": [],
   "source": [
    "dfs_withc_raw = getdfs(path_withc_raw)"
   ]
  },
  {
   "cell_type": "code",
   "execution_count": 10,
   "metadata": {
    "collapsed": true
   },
   "outputs": [],
   "source": [
    "# perform images search\n",
    "pc.start_vm() # start\n",
    "images_withc_raw = s.imagesSemBic(dfs_withc_raw, verbose = True)\n",
    "pc.stop_vm() # stop"
   ]
  },
  {
   "cell_type": "code",
   "execution_count": 11,
   "metadata": {},
   "outputs": [
    {
     "data": {
      "image/svg+xml": [
       "<svg height=\"908pt\" viewBox=\"0.00 0.00 620.38 908.00\" width=\"620pt\" xmlns=\"http://www.w3.org/2000/svg\" xmlns:xlink=\"http://www.w3.org/1999/xlink\">\n",
       "<g class=\"graph\" id=\"graph0\" transform=\"scale(1 1) rotate(0) translate(4 904)\">\n",
       "<title>G</title>\n",
       "<polygon fill=\"white\" points=\"-4,4 -4,-904 616.384,-904 616.384,4 -4,4\" stroke=\"none\"/>\n",
       "<!-- EV1&#45;L -->\n",
       "<g class=\"node\" id=\"node1\"><title>EV1-L</title>\n",
       "<ellipse cx=\"192.527\" cy=\"-882\" fill=\"none\" rx=\"34.8285\" ry=\"18\" stroke=\"black\"/>\n",
       "<text font-family=\"Times,serif\" font-size=\"14.00\" text-anchor=\"middle\" x=\"192.527\" y=\"-877.8\">EV1-L</text>\n",
       "</g>\n",
       "<!-- EV1&#45;R -->\n",
       "<g class=\"node\" id=\"node2\"><title>EV1-R</title>\n",
       "<ellipse cx=\"192.527\" cy=\"-810\" fill=\"none\" rx=\"35.3216\" ry=\"18\" stroke=\"black\"/>\n",
       "<text font-family=\"Times,serif\" font-size=\"14.00\" text-anchor=\"middle\" x=\"192.527\" y=\"-805.8\">EV1-R</text>\n",
       "</g>\n",
       "<!-- EV1&#45;L&#45;&gt;EV1&#45;R -->\n",
       "<g class=\"edge\" id=\"edge23\"><title>EV1-L-&gt;EV1-R</title>\n",
       "<path d=\"M192.527,-863.697C192.527,-852.846 192.527,-838.917 192.527,-828.104\" fill=\"none\" stroke=\"black\"/>\n",
       "</g>\n",
       "<!-- EV2&#45;L -->\n",
       "<g class=\"node\" id=\"node3\"><title>EV2-L</title>\n",
       "<ellipse cx=\"192.527\" cy=\"-738\" fill=\"none\" rx=\"34.8285\" ry=\"18\" stroke=\"black\"/>\n",
       "<text font-family=\"Times,serif\" font-size=\"14.00\" text-anchor=\"middle\" x=\"192.527\" y=\"-733.8\">EV2-L</text>\n",
       "</g>\n",
       "<!-- EV1&#45;R&#45;&gt;EV2&#45;L -->\n",
       "<g class=\"edge\" id=\"edge24\"><title>EV1-R-&gt;EV2-L</title>\n",
       "<path d=\"M192.527,-791.697C192.527,-780.846 192.527,-766.917 192.527,-756.104\" fill=\"none\" stroke=\"black\"/>\n",
       "</g>\n",
       "<!-- EV2&#45;R -->\n",
       "<g class=\"node\" id=\"node4\"><title>EV2-R</title>\n",
       "<ellipse cx=\"191.527\" cy=\"-666\" fill=\"none\" rx=\"35.3216\" ry=\"18\" stroke=\"black\"/>\n",
       "<text font-family=\"Times,serif\" font-size=\"14.00\" text-anchor=\"middle\" x=\"191.527\" y=\"-661.8\">EV2-R</text>\n",
       "</g>\n",
       "<!-- EV2&#45;L&#45;&gt;EV2&#45;R -->\n",
       "<g class=\"edge\" id=\"edge25\"><title>EV2-L-&gt;EV2-R</title>\n",
       "<path d=\"M192.28,-719.697C192.125,-708.846 191.926,-694.917 191.771,-684.104\" fill=\"none\" stroke=\"black\"/>\n",
       "</g>\n",
       "<!-- OccFus&#45;L -->\n",
       "<g class=\"node\" id=\"node5\"><title>OccFus-L</title>\n",
       "<ellipse cx=\"294.527\" cy=\"-738\" fill=\"none\" rx=\"45.4441\" ry=\"18\" stroke=\"black\"/>\n",
       "<text font-family=\"Times,serif\" font-size=\"14.00\" text-anchor=\"middle\" x=\"294.527\" y=\"-733.8\">OccFus-L</text>\n",
       "</g>\n",
       "<!-- dPreCun&#45;R -->\n",
       "<g class=\"node\" id=\"node26\"><title>dPreCun-R</title>\n",
       "<ellipse cx=\"294.527\" cy=\"-666\" fill=\"none\" rx=\"49.805\" ry=\"18\" stroke=\"black\"/>\n",
       "<text font-family=\"Times,serif\" font-size=\"14.00\" text-anchor=\"middle\" x=\"294.527\" y=\"-661.8\">dPreCun-R</text>\n",
       "</g>\n",
       "<!-- OccFus&#45;L&#45;&gt;dPreCun&#45;R -->\n",
       "<g class=\"edge\" id=\"edge6\"><title>OccFus-L-&gt;dPreCun-R</title>\n",
       "<path d=\"M294.527,-719.697C294.527,-711.983 294.527,-702.712 294.527,-694.112\" fill=\"none\" stroke=\"black\"/>\n",
       "<polygon fill=\"black\" points=\"298.027,-694.104 294.527,-684.104 291.027,-694.104 298.027,-694.104\" stroke=\"black\"/>\n",
       "</g>\n",
       "<!-- OccFus&#45;R -->\n",
       "<g class=\"node\" id=\"node6\"><title>OccFus-R</title>\n",
       "<ellipse cx=\"292.527\" cy=\"-810\" fill=\"none\" rx=\"45.9373\" ry=\"18\" stroke=\"black\"/>\n",
       "<text font-family=\"Times,serif\" font-size=\"14.00\" text-anchor=\"middle\" x=\"292.527\" y=\"-805.8\">OccFus-R</text>\n",
       "</g>\n",
       "<!-- OccFus&#45;R&#45;&gt;EV2&#45;L -->\n",
       "<g class=\"edge\" id=\"edge1\"><title>OccFus-R-&gt;EV2-L</title>\n",
       "<path d=\"M270.829,-793.811C253.481,-781.668 229.356,-764.78 212.484,-752.97\" fill=\"none\" stroke=\"black\"/>\n",
       "</g>\n",
       "<!-- OccFus&#45;R&#45;&gt;OccFus&#45;L -->\n",
       "<g class=\"edge\" id=\"edge13\"><title>OccFus-R-&gt;OccFus-L</title>\n",
       "<path d=\"M293.021,-791.697C293.242,-783.983 293.507,-774.712 293.752,-766.112\" fill=\"none\" stroke=\"black\"/>\n",
       "<polygon fill=\"black\" points=\"297.251,-766.2 294.038,-756.104 290.254,-766 297.251,-766.2\" stroke=\"black\"/>\n",
       "</g>\n",
       "<!-- pFus&#45;L -->\n",
       "<g class=\"node\" id=\"node7\"><title>pFus-L</title>\n",
       "<ellipse cx=\"392.527\" cy=\"-810\" fill=\"none\" rx=\"35.8147\" ry=\"18\" stroke=\"black\"/>\n",
       "<text font-family=\"Times,serif\" font-size=\"14.00\" text-anchor=\"middle\" x=\"392.527\" y=\"-805.8\">pFus-L</text>\n",
       "</g>\n",
       "<!-- pFus&#45;L&#45;&gt;OccFus&#45;L -->\n",
       "<g class=\"edge\" id=\"edge26\"><title>pFus-L-&gt;OccFus-L</title>\n",
       "<path d=\"M372.695,-794.834C358.727,-784.857 339.786,-771.328 324.048,-760.086\" fill=\"none\" stroke=\"black\"/>\n",
       "<polygon fill=\"black\" points=\"325.858,-757.078 315.686,-754.114 321.789,-762.774 325.858,-757.078\" stroke=\"black\"/>\n",
       "</g>\n",
       "<!-- mFus&#45;L -->\n",
       "<g class=\"node\" id=\"node9\"><title>mFus-L</title>\n",
       "<ellipse cx=\"398.527\" cy=\"-738\" fill=\"none\" rx=\"38.2284\" ry=\"18\" stroke=\"black\"/>\n",
       "<text font-family=\"Times,serif\" font-size=\"14.00\" text-anchor=\"middle\" x=\"398.527\" y=\"-733.8\">mFus-L</text>\n",
       "</g>\n",
       "<!-- pFus&#45;L&#45;&gt;mFus&#45;L -->\n",
       "<g class=\"edge\" id=\"edge3\"><title>pFus-L-&gt;mFus-L</title>\n",
       "<path d=\"M394.01,-791.697C394.94,-780.846 396.134,-766.917 397.061,-756.104\" fill=\"none\" stroke=\"black\"/>\n",
       "</g>\n",
       "<!-- pFus&#45;R -->\n",
       "<g class=\"node\" id=\"node8\"><title>pFus-R</title>\n",
       "<ellipse cx=\"342.527\" cy=\"-882\" fill=\"none\" rx=\"36.3078\" ry=\"18\" stroke=\"black\"/>\n",
       "<text font-family=\"Times,serif\" font-size=\"14.00\" text-anchor=\"middle\" x=\"342.527\" y=\"-877.8\">pFus-R</text>\n",
       "</g>\n",
       "<!-- pFus&#45;R&#45;&gt;OccFus&#45;R -->\n",
       "<g class=\"edge\" id=\"edge15\"><title>pFus-R-&gt;OccFus-R</title>\n",
       "<path d=\"M330.93,-864.765C322.968,-853.618 312.431,-838.865 304.408,-827.633\" fill=\"none\" stroke=\"black\"/>\n",
       "</g>\n",
       "<!-- pFus&#45;R&#45;&gt;pFus&#45;L -->\n",
       "<g class=\"edge\" id=\"edge4\"><title>pFus-R-&gt;pFus-L</title>\n",
       "<path d=\"M354.124,-864.765C362.201,-853.456 372.929,-838.437 380.993,-827.147\" fill=\"none\" stroke=\"black\"/>\n",
       "</g>\n",
       "<!-- mFus&#45;R -->\n",
       "<g class=\"node\" id=\"node10\"><title>mFus-R</title>\n",
       "<ellipse cx=\"401.527\" cy=\"-666\" fill=\"none\" rx=\"38.7215\" ry=\"18\" stroke=\"black\"/>\n",
       "<text font-family=\"Times,serif\" font-size=\"14.00\" text-anchor=\"middle\" x=\"401.527\" y=\"-661.8\">mFus-R</text>\n",
       "</g>\n",
       "<!-- mFus&#45;L&#45;&gt;mFus&#45;R -->\n",
       "<g class=\"edge\" id=\"edge5\"><title>mFus-L-&gt;mFus-R</title>\n",
       "<path d=\"M399.269,-719.697C399.734,-708.846 400.331,-694.917 400.794,-684.104\" fill=\"none\" stroke=\"black\"/>\n",
       "</g>\n",
       "<!-- pMTG&#45;L -->\n",
       "<g class=\"node\" id=\"node11\"><title>pMTG-L</title>\n",
       "<ellipse cx=\"42.5271\" cy=\"-162\" fill=\"none\" rx=\"42.5542\" ry=\"18\" stroke=\"black\"/>\n",
       "<text font-family=\"Times,serif\" font-size=\"14.00\" text-anchor=\"middle\" x=\"42.5271\" y=\"-157.8\">pMTG-L</text>\n",
       "</g>\n",
       "<!-- pMTG&#45;R -->\n",
       "<g class=\"node\" id=\"node12\"><title>pMTG-R</title>\n",
       "<ellipse cx=\"137.527\" cy=\"-234\" fill=\"none\" rx=\"43.0474\" ry=\"18\" stroke=\"black\"/>\n",
       "<text font-family=\"Times,serif\" font-size=\"14.00\" text-anchor=\"middle\" x=\"137.527\" y=\"-229.8\">pMTG-R</text>\n",
       "</g>\n",
       "<!-- pMTG&#45;R&#45;&gt;pMTG&#45;L -->\n",
       "<g class=\"edge\" id=\"edge12\"><title>pMTG-R-&gt;pMTG-L</title>\n",
       "<path d=\"M116.914,-217.811C103.502,-207.929 85.8263,-194.905 71.0704,-184.032\" fill=\"none\" stroke=\"black\"/>\n",
       "<polygon fill=\"black\" points=\"72.9009,-181.033 62.7741,-177.919 68.7485,-186.669 72.9009,-181.033\" stroke=\"black\"/>\n",
       "</g>\n",
       "<!-- IFG2&#45;R -->\n",
       "<g class=\"node\" id=\"node20\"><title>IFG2-R</title>\n",
       "<ellipse cx=\"140.527\" cy=\"-162\" fill=\"none\" rx=\"37.7439\" ry=\"18\" stroke=\"black\"/>\n",
       "<text font-family=\"Times,serif\" font-size=\"14.00\" text-anchor=\"middle\" x=\"140.527\" y=\"-157.8\">IFG2-R</text>\n",
       "</g>\n",
       "<!-- pMTG&#45;R&#45;&gt;IFG2&#45;R -->\n",
       "<g class=\"edge\" id=\"edge7\"><title>pMTG-R-&gt;IFG2-R</title>\n",
       "<path d=\"M138.269,-215.697C138.599,-207.983 138.997,-198.712 139.365,-190.112\" fill=\"none\" stroke=\"black\"/>\n",
       "<polygon fill=\"black\" points=\"142.863,-190.245 139.794,-180.104 135.869,-189.945 142.863,-190.245\" stroke=\"black\"/>\n",
       "</g>\n",
       "<!-- aFus&#45;R -->\n",
       "<g class=\"node\" id=\"node13\"><title>aFus-R</title>\n",
       "<ellipse cx=\"432.527\" cy=\"-882\" fill=\"none\" rx=\"35.8147\" ry=\"18\" stroke=\"black\"/>\n",
       "<text font-family=\"Times,serif\" font-size=\"14.00\" text-anchor=\"middle\" x=\"432.527\" y=\"-877.8\">aFus-R</text>\n",
       "</g>\n",
       "<!-- mMTG&#45;L -->\n",
       "<g class=\"node\" id=\"node14\"><title>mMTG-L</title>\n",
       "<ellipse cx=\"289.527\" cy=\"-378\" fill=\"none\" rx=\"44.9682\" ry=\"18\" stroke=\"black\"/>\n",
       "<text font-family=\"Times,serif\" font-size=\"14.00\" text-anchor=\"middle\" x=\"289.527\" y=\"-373.8\">mMTG-L</text>\n",
       "</g>\n",
       "<!-- mMTG&#45;R -->\n",
       "<g class=\"node\" id=\"node15\"><title>mMTG-R</title>\n",
       "<ellipse cx=\"239.527\" cy=\"-306\" fill=\"none\" rx=\"45.4614\" ry=\"18\" stroke=\"black\"/>\n",
       "<text font-family=\"Times,serif\" font-size=\"14.00\" text-anchor=\"middle\" x=\"239.527\" y=\"-301.8\">mMTG-R</text>\n",
       "</g>\n",
       "<!-- mMTG&#45;L&#45;&gt;mMTG&#45;R -->\n",
       "<g class=\"edge\" id=\"edge14\"><title>mMTG-L-&gt;mMTG-R</title>\n",
       "<path d=\"M277.678,-360.411C271.575,-351.868 264.012,-341.278 257.232,-331.787\" fill=\"none\" stroke=\"black\"/>\n",
       "<polygon fill=\"black\" points=\"259.952,-329.573 251.291,-323.47 254.256,-333.642 259.952,-329.573\" stroke=\"black\"/>\n",
       "</g>\n",
       "<!-- IFG1&#45;L -->\n",
       "<g class=\"node\" id=\"node18\"><title>IFG1-L</title>\n",
       "<ellipse cx=\"340.527\" cy=\"-306\" fill=\"none\" rx=\"37.2507\" ry=\"18\" stroke=\"black\"/>\n",
       "<text font-family=\"Times,serif\" font-size=\"14.00\" text-anchor=\"middle\" x=\"340.527\" y=\"-301.8\">IFG1-L</text>\n",
       "</g>\n",
       "<!-- mMTG&#45;L&#45;&gt;IFG1&#45;L -->\n",
       "<g class=\"edge\" id=\"edge19\"><title>mMTG-L-&gt;IFG1-L</title>\n",
       "<path d=\"M301.613,-360.411C307.838,-351.868 315.553,-341.278 322.468,-331.787\" fill=\"none\" stroke=\"black\"/>\n",
       "<polygon fill=\"black\" points=\"325.468,-333.613 328.528,-323.47 319.81,-329.491 325.468,-333.613\" stroke=\"black\"/>\n",
       "</g>\n",
       "<!-- mMTG&#45;R&#45;&gt;pMTG&#45;R -->\n",
       "<g class=\"edge\" id=\"edge21\"><title>mMTG-R-&gt;pMTG-R</title>\n",
       "<path d=\"M217.896,-290.155C203.29,-280.132 183.811,-266.763 167.687,-255.698\" fill=\"none\" stroke=\"black\"/>\n",
       "<polygon fill=\"black\" points=\"169.353,-252.596 159.127,-249.824 165.392,-258.368 169.353,-252.596\" stroke=\"black\"/>\n",
       "</g>\n",
       "<!-- aMTG&#45;R -->\n",
       "<g class=\"node\" id=\"node17\"><title>aMTG-R</title>\n",
       "<ellipse cx=\"241.527\" cy=\"-234\" fill=\"none\" rx=\"42.5542\" ry=\"18\" stroke=\"black\"/>\n",
       "<text font-family=\"Times,serif\" font-size=\"14.00\" text-anchor=\"middle\" x=\"241.527\" y=\"-229.8\">aMTG-R</text>\n",
       "</g>\n",
       "<!-- mMTG&#45;R&#45;&gt;aMTG&#45;R -->\n",
       "<g class=\"edge\" id=\"edge27\"><title>mMTG-R-&gt;aMTG-R</title>\n",
       "<path d=\"M240.021,-287.697C240.242,-279.983 240.507,-270.712 240.752,-262.112\" fill=\"none\" stroke=\"black\"/>\n",
       "<polygon fill=\"black\" points=\"244.251,-262.2 241.038,-252.104 237.254,-262 244.251,-262.2\" stroke=\"black\"/>\n",
       "</g>\n",
       "<!-- aMTG&#45;L -->\n",
       "<g class=\"node\" id=\"node16\"><title>aMTG-L</title>\n",
       "<ellipse cx=\"241.527\" cy=\"-162\" fill=\"none\" rx=\"42.0611\" ry=\"18\" stroke=\"black\"/>\n",
       "<text font-family=\"Times,serif\" font-size=\"14.00\" text-anchor=\"middle\" x=\"241.527\" y=\"-157.8\">aMTG-L</text>\n",
       "</g>\n",
       "<!-- aMTG&#45;R&#45;&gt;aMTG&#45;L -->\n",
       "<g class=\"edge\" id=\"edge9\"><title>aMTG-R-&gt;aMTG-L</title>\n",
       "<path d=\"M241.527,-215.697C241.527,-207.983 241.527,-198.712 241.527,-190.112\" fill=\"none\" stroke=\"black\"/>\n",
       "<polygon fill=\"black\" points=\"245.027,-190.104 241.527,-180.104 238.027,-190.104 245.027,-190.104\" stroke=\"black\"/>\n",
       "</g>\n",
       "<!-- IFG2&#45;L -->\n",
       "<g class=\"node\" id=\"node19\"><title>IFG2-L</title>\n",
       "<ellipse cx=\"340.527\" cy=\"-234\" fill=\"none\" rx=\"37.2507\" ry=\"18\" stroke=\"black\"/>\n",
       "<text font-family=\"Times,serif\" font-size=\"14.00\" text-anchor=\"middle\" x=\"340.527\" y=\"-229.8\">IFG2-L</text>\n",
       "</g>\n",
       "<!-- IFG1&#45;L&#45;&gt;IFG2&#45;L -->\n",
       "<g class=\"edge\" id=\"edge10\"><title>IFG1-L-&gt;IFG2-L</title>\n",
       "<path d=\"M340.527,-287.697C340.527,-279.983 340.527,-270.712 340.527,-262.112\" fill=\"none\" stroke=\"black\"/>\n",
       "<polygon fill=\"black\" points=\"344.027,-262.104 340.527,-252.104 337.027,-262.104 344.027,-262.104\" stroke=\"black\"/>\n",
       "</g>\n",
       "<!-- MPFC&#45;R -->\n",
       "<g class=\"node\" id=\"node24\"><title>MPFC-R</title>\n",
       "<ellipse cx=\"140.527\" cy=\"-90\" fill=\"none\" rx=\"42.5974\" ry=\"18\" stroke=\"black\"/>\n",
       "<text font-family=\"Times,serif\" font-size=\"14.00\" text-anchor=\"middle\" x=\"140.527\" y=\"-85.8\">MPFC-R</text>\n",
       "</g>\n",
       "<!-- IFG2&#45;R&#45;&gt;MPFC&#45;R -->\n",
       "<g class=\"edge\" id=\"edge18\"><title>IFG2-R-&gt;MPFC-R</title>\n",
       "<path d=\"M140.527,-143.697C140.527,-135.983 140.527,-126.712 140.527,-118.112\" fill=\"none\" stroke=\"black\"/>\n",
       "<polygon fill=\"black\" points=\"144.027,-118.104 140.527,-108.104 137.027,-118.104 144.027,-118.104\" stroke=\"black\"/>\n",
       "</g>\n",
       "<!-- TPJ&#45;L -->\n",
       "<g class=\"node\" id=\"node21\"><title>TPJ-L</title>\n",
       "<ellipse cx=\"303.527\" cy=\"-450\" fill=\"none\" rx=\"32.4324\" ry=\"18\" stroke=\"black\"/>\n",
       "<text font-family=\"Times,serif\" font-size=\"14.00\" text-anchor=\"middle\" x=\"303.527\" y=\"-445.8\">TPJ-L</text>\n",
       "</g>\n",
       "<!-- TPJ&#45;L&#45;&gt;mMTG&#45;L -->\n",
       "<g class=\"edge\" id=\"edge8\"><title>TPJ-L-&gt;mMTG-L</title>\n",
       "<path d=\"M300.138,-432.055C298.596,-424.346 296.732,-415.027 295,-406.364\" fill=\"none\" stroke=\"black\"/>\n",
       "<polygon fill=\"black\" points=\"298.375,-405.395 292.982,-396.275 291.511,-406.768 298.375,-405.395\" stroke=\"black\"/>\n",
       "</g>\n",
       "<!-- mPreCun&#45;L -->\n",
       "<g class=\"node\" id=\"node27\"><title>mPreCun-L</title>\n",
       "<ellipse cx=\"404.527\" cy=\"-378\" fill=\"none\" rx=\"51.726\" ry=\"18\" stroke=\"black\"/>\n",
       "<text font-family=\"Times,serif\" font-size=\"14.00\" text-anchor=\"middle\" x=\"404.527\" y=\"-373.8\">mPreCun-L</text>\n",
       "</g>\n",
       "<!-- TPJ&#45;L&#45;&gt;mPreCun&#45;L -->\n",
       "<g class=\"edge\" id=\"edge30\"><title>TPJ-L-&gt;mPreCun-L</title>\n",
       "<path d=\"M323.001,-435.503C337.45,-425.489 357.432,-411.64 373.996,-400.16\" fill=\"none\" stroke=\"black\"/>\n",
       "<polygon fill=\"black\" points=\"376.074,-402.978 382.3,-394.405 372.087,-397.225 376.074,-402.978\" stroke=\"black\"/>\n",
       "</g>\n",
       "<!-- TPJ&#45;R -->\n",
       "<g class=\"node\" id=\"node22\"><title>TPJ-R</title>\n",
       "<ellipse cx=\"303.527\" cy=\"-522\" fill=\"none\" rx=\"32.9255\" ry=\"18\" stroke=\"black\"/>\n",
       "<text font-family=\"Times,serif\" font-size=\"14.00\" text-anchor=\"middle\" x=\"303.527\" y=\"-517.8\">TPJ-R</text>\n",
       "</g>\n",
       "<!-- TPJ&#45;R&#45;&gt;TPJ&#45;L -->\n",
       "<g class=\"edge\" id=\"edge20\"><title>TPJ-R-&gt;TPJ-L</title>\n",
       "<path d=\"M303.527,-503.697C303.527,-495.983 303.527,-486.712 303.527,-478.112\" fill=\"none\" stroke=\"black\"/>\n",
       "<polygon fill=\"black\" points=\"307.027,-478.104 303.527,-468.104 300.027,-478.104 307.027,-478.104\" stroke=\"black\"/>\n",
       "</g>\n",
       "<!-- MPFC&#45;L -->\n",
       "<g class=\"node\" id=\"node23\"><title>MPFC-L</title>\n",
       "<ellipse cx=\"140.527\" cy=\"-18\" fill=\"none\" rx=\"42.1043\" ry=\"18\" stroke=\"black\"/>\n",
       "<text font-family=\"Times,serif\" font-size=\"14.00\" text-anchor=\"middle\" x=\"140.527\" y=\"-13.8\">MPFC-L</text>\n",
       "</g>\n",
       "<!-- MPFC&#45;R&#45;&gt;MPFC&#45;L -->\n",
       "<g class=\"edge\" id=\"edge11\"><title>MPFC-R-&gt;MPFC-L</title>\n",
       "<path d=\"M140.527,-71.6966C140.527,-63.9827 140.527,-54.7125 140.527,-46.1124\" fill=\"none\" stroke=\"black\"/>\n",
       "<polygon fill=\"black\" points=\"144.027,-46.1043 140.527,-36.1043 137.027,-46.1044 144.027,-46.1043\" stroke=\"black\"/>\n",
       "</g>\n",
       "<!-- dPreCun&#45;L -->\n",
       "<g class=\"node\" id=\"node25\"><title>dPreCun-L</title>\n",
       "<ellipse cx=\"234.527\" cy=\"-594\" fill=\"none\" rx=\"49.3119\" ry=\"18\" stroke=\"black\"/>\n",
       "<text font-family=\"Times,serif\" font-size=\"14.00\" text-anchor=\"middle\" x=\"234.527\" y=\"-589.8\">dPreCun-L</text>\n",
       "</g>\n",
       "<!-- dPreCun&#45;R&#45;&gt;dPreCun&#45;L -->\n",
       "<g class=\"edge\" id=\"edge29\"><title>dPreCun-R-&gt;dPreCun-L</title>\n",
       "<path d=\"M280.308,-648.411C272.836,-639.693 263.537,-628.845 255.277,-619.208\" fill=\"none\" stroke=\"black\"/>\n",
       "<polygon fill=\"black\" points=\"257.81,-616.785 248.644,-611.47 252.495,-621.34 257.81,-616.785\" stroke=\"black\"/>\n",
       "</g>\n",
       "<!-- mPreCun&#45;R -->\n",
       "<g class=\"node\" id=\"node28\"><title>mPreCun-R</title>\n",
       "<ellipse cx=\"354.527\" cy=\"-594\" fill=\"none\" rx=\"52.2192\" ry=\"18\" stroke=\"black\"/>\n",
       "<text font-family=\"Times,serif\" font-size=\"14.00\" text-anchor=\"middle\" x=\"354.527\" y=\"-589.8\">mPreCun-R</text>\n",
       "</g>\n",
       "<!-- dPreCun&#45;R&#45;&gt;mPreCun&#45;R -->\n",
       "<g class=\"edge\" id=\"edge16\"><title>dPreCun-R-&gt;mPreCun-R</title>\n",
       "<path d=\"M308.746,-648.411C316.219,-639.693 325.517,-628.845 333.778,-619.208\" fill=\"none\" stroke=\"black\"/>\n",
       "<polygon fill=\"black\" points=\"336.559,-621.34 340.41,-611.47 331.245,-616.785 336.559,-621.34\" stroke=\"black\"/>\n",
       "</g>\n",
       "<!-- mPreCun&#45;R&#45;&gt;TPJ&#45;R -->\n",
       "<g class=\"edge\" id=\"edge28\"><title>mPreCun-R-&gt;TPJ-R</title>\n",
       "<path d=\"M342.441,-576.411C336.062,-567.655 328.117,-556.751 321.073,-547.082\" fill=\"none\" stroke=\"black\"/>\n",
       "<polygon fill=\"black\" points=\"323.893,-545.009 315.176,-538.988 318.235,-549.132 323.893,-545.009\" stroke=\"black\"/>\n",
       "</g>\n",
       "<!-- vPreCun&#45;R -->\n",
       "<g class=\"node\" id=\"node30\"><title>vPreCun-R</title>\n",
       "<ellipse cx=\"404.527\" cy=\"-522\" fill=\"none\" rx=\"49.805\" ry=\"18\" stroke=\"black\"/>\n",
       "<text font-family=\"Times,serif\" font-size=\"14.00\" text-anchor=\"middle\" x=\"404.527\" y=\"-517.8\">vPreCun-R</text>\n",
       "</g>\n",
       "<!-- mPreCun&#45;R&#45;&gt;vPreCun&#45;R -->\n",
       "<g class=\"edge\" id=\"edge17\"><title>mPreCun-R-&gt;vPreCun-R</title>\n",
       "<path d=\"M366.376,-576.411C372.39,-567.992 379.824,-557.585 386.527,-548.201\" fill=\"none\" stroke=\"black\"/>\n",
       "<polygon fill=\"black\" points=\"389.451,-550.128 392.416,-539.956 383.755,-546.059 389.451,-550.128\" stroke=\"black\"/>\n",
       "</g>\n",
       "<!-- vPreCun&#45;L -->\n",
       "<g class=\"node\" id=\"node29\"><title>vPreCun-L</title>\n",
       "<ellipse cx=\"404.527\" cy=\"-450\" fill=\"none\" rx=\"49.3119\" ry=\"18\" stroke=\"black\"/>\n",
       "<text font-family=\"Times,serif\" font-size=\"14.00\" text-anchor=\"middle\" x=\"404.527\" y=\"-445.8\">vPreCun-L</text>\n",
       "</g>\n",
       "<!-- vPreCun&#45;L&#45;&gt;mPreCun&#45;L -->\n",
       "<g class=\"edge\" id=\"edge22\"><title>vPreCun-L-&gt;mPreCun-L</title>\n",
       "<path d=\"M404.527,-431.697C404.527,-423.983 404.527,-414.712 404.527,-406.112\" fill=\"none\" stroke=\"black\"/>\n",
       "<polygon fill=\"black\" points=\"408.027,-406.104 404.527,-396.104 401.027,-406.104 408.027,-406.104\" stroke=\"black\"/>\n",
       "</g>\n",
       "<!-- vPreCun&#45;R&#45;&gt;vPreCun&#45;L -->\n",
       "<g class=\"edge\" id=\"edge2\"><title>vPreCun-R-&gt;vPreCun-L</title>\n",
       "<path d=\"M404.527,-503.697C404.527,-495.983 404.527,-486.712 404.527,-478.112\" fill=\"none\" stroke=\"black\"/>\n",
       "<polygon fill=\"black\" points=\"408.027,-478.104 404.527,-468.104 401.027,-478.104 408.027,-478.104\" stroke=\"black\"/>\n",
       "</g>\n",
       "<!-- FAM&#45;UNFAM -->\n",
       "<g class=\"node\" id=\"node31\"><title>FAM-UNFAM</title>\n",
       "<ellipse cx=\"549.527\" cy=\"-882\" fill=\"none\" rx=\"62.7138\" ry=\"18\" stroke=\"black\"/>\n",
       "<text font-family=\"Times,serif\" font-size=\"14.00\" text-anchor=\"middle\" x=\"549.527\" y=\"-877.8\">FAM-UNFAM</text>\n",
       "</g>\n",
       "</g>\n",
       "</svg>"
      ],
      "text/plain": [
       "<IPython.core.display.SVG object>"
      ]
     },
     "execution_count": 11,
     "metadata": {},
     "output_type": "execute_result"
    }
   ],
   "source": [
    "# render resulting graph\n",
    "dot_withc_raw = images_withc_raw.getDot()\n",
    "svg_str = dot_withc_raw.create_svg(prog='dot')\n",
    "SVG(svg_str)"
   ]
  },
  {
   "cell_type": "markdown",
   "metadata": {},
   "source": [
    "## Conclusion stimulus modelling"
   ]
  },
  {
   "cell_type": "markdown",
   "metadata": {},
   "source": [
    "The constructed differential regressor (fam-unfam) does not fit in the graph, regardless of which data is used."
   ]
  },
  {
   "cell_type": "markdown",
   "metadata": {},
   "source": [
    "# AR modelling"
   ]
  },
  {
   "cell_type": "markdown",
   "metadata": {},
   "source": [
    "## Preprocessed data"
   ]
  },
  {
   "cell_type": "code",
   "execution_count": 12,
   "metadata": {},
   "outputs": [
    {
     "name": "stderr",
     "output_type": "stream",
     "text": [
      "/Users/Oliver/anaconda2/envs/famface/lib/python2.7/site-packages/statsmodels/compat/pandas.py:56: FutureWarning: The pandas.core.datetools module is deprecated and will be removed in a future version. Please use the pandas.tseries module instead.\n",
      "  from pandas.core import datetools\n"
     ]
    }
   ],
   "source": [
    "from statsmodels.tsa.ar_model import AR"
   ]
  },
  {
   "cell_type": "code",
   "execution_count": 136,
   "metadata": {
    "collapsed": true
   },
   "outputs": [],
   "source": [
    "def ar_df(in_df, tr=2, lag=1):\n",
    "    \"\"\"\n",
    "    perform AR modelling on all columns in a given data frame.\n",
    "    Keep in mind that resulting data frame will be missing first row.\n",
    "    \"\"\"\n",
    "    # don't change original data frames, make copy instead\n",
    "    df = copy.deepcopy(in_df)\n",
    "    \n",
    "    # give df a timestamp as index\n",
    "    df['time'] = range(tr,len(df)*tr+1,tr)\n",
    "    df.index = pd.to_datetime(pd.to_timedelta(df['time'],unit='s'))\n",
    "    df = df.drop('time', 1)\n",
    "    \n",
    "    # get column names\n",
    "    header = list(df.columns.values)\n",
    "    \n",
    "    for cond in header:\n",
    "        # autoregressive model\n",
    "        ar_mod = AR(df[cond].astype(float), dates=df.index)\n",
    "\n",
    "        fit = ar_mod.fit(lag)\n",
    "        results = fit.predict()\n",
    "        df[cond] = results # change respective column in df\n",
    "\n",
    "    df = df.iloc[lag:] # don't include rows that are NaN due to AR\n",
    "    \n",
    "    return df"
   ]
  },
  {
   "cell_type": "code",
   "execution_count": 137,
   "metadata": {
    "scrolled": true
   },
   "outputs": [],
   "source": [
    "# perform AR modelling for all data frames based on preprocessed data\n",
    "dfs_withc_raw_ar = [ar_df(df) for df in dfs_withc_raw]"
   ]
  },
  {
   "cell_type": "code",
   "execution_count": 139,
   "metadata": {},
   "outputs": [],
   "source": [
    "# perform images search\n",
    "pc.start_vm() # start\n",
    "images_withc_raw_ar = s.imagesSemBic(dfs_withc_raw_ar, verbose = True)\n",
    "pc.stop_vm() # stop"
   ]
  },
  {
   "cell_type": "code",
   "execution_count": 140,
   "metadata": {},
   "outputs": [
    {
     "data": {
      "image/svg+xml": [
       "<svg height=\"980pt\" viewBox=\"0.00 0.00 550.38 980.00\" width=\"550pt\" xmlns=\"http://www.w3.org/2000/svg\" xmlns:xlink=\"http://www.w3.org/1999/xlink\">\n",
       "<g class=\"graph\" id=\"graph0\" transform=\"scale(1 1) rotate(0) translate(4 976)\">\n",
       "<title>G</title>\n",
       "<polygon fill=\"white\" points=\"-4,4 -4,-976 546.384,-976 546.384,4 -4,4\" stroke=\"none\"/>\n",
       "<!-- EV1&#45;L -->\n",
       "<g class=\"node\" id=\"node1\"><title>EV1-L</title>\n",
       "<ellipse cx=\"299.527\" cy=\"-738\" fill=\"none\" rx=\"34.8285\" ry=\"18\" stroke=\"black\"/>\n",
       "<text font-family=\"Times,serif\" font-size=\"14.00\" text-anchor=\"middle\" x=\"299.527\" y=\"-733.8\">EV1-L</text>\n",
       "</g>\n",
       "<!-- EV1&#45;R -->\n",
       "<g class=\"node\" id=\"node2\"><title>EV1-R</title>\n",
       "<ellipse cx=\"301.527\" cy=\"-666\" fill=\"none\" rx=\"35.3216\" ry=\"18\" stroke=\"black\"/>\n",
       "<text font-family=\"Times,serif\" font-size=\"14.00\" text-anchor=\"middle\" x=\"301.527\" y=\"-661.8\">EV1-R</text>\n",
       "</g>\n",
       "<!-- EV1&#45;L&#45;&gt;EV1&#45;R -->\n",
       "<g class=\"edge\" id=\"edge23\"><title>EV1-L-&gt;EV1-R</title>\n",
       "<path d=\"M300.021,-719.697C300.331,-708.846 300.729,-694.917 301.038,-684.104\" fill=\"none\" stroke=\"black\"/>\n",
       "</g>\n",
       "<!-- EV2&#45;L -->\n",
       "<g class=\"node\" id=\"node3\"><title>EV2-L</title>\n",
       "<ellipse cx=\"386.527\" cy=\"-738\" fill=\"none\" rx=\"34.8285\" ry=\"18\" stroke=\"black\"/>\n",
       "<text font-family=\"Times,serif\" font-size=\"14.00\" text-anchor=\"middle\" x=\"386.527\" y=\"-733.8\">EV2-L</text>\n",
       "</g>\n",
       "<!-- EV2&#45;L&#45;&gt;EV1&#45;R -->\n",
       "<g class=\"edge\" id=\"edge24\"><title>EV2-L-&gt;EV1-R</title>\n",
       "<path d=\"M368.915,-722.496C354.424,-710.562 333.973,-693.72 319.409,-681.726\" fill=\"none\" stroke=\"black\"/>\n",
       "</g>\n",
       "<!-- EV2&#45;R -->\n",
       "<g class=\"node\" id=\"node4\"><title>EV2-R</title>\n",
       "<ellipse cx=\"389.527\" cy=\"-666\" fill=\"none\" rx=\"35.3216\" ry=\"18\" stroke=\"black\"/>\n",
       "<text font-family=\"Times,serif\" font-size=\"14.00\" text-anchor=\"middle\" x=\"389.527\" y=\"-661.8\">EV2-R</text>\n",
       "</g>\n",
       "<!-- EV2&#45;L&#45;&gt;EV2&#45;R -->\n",
       "<g class=\"edge\" id=\"edge25\"><title>EV2-L-&gt;EV2-R</title>\n",
       "<path d=\"M387.269,-719.697C387.734,-708.846 388.331,-694.917 388.794,-684.104\" fill=\"none\" stroke=\"black\"/>\n",
       "</g>\n",
       "<!-- OccFus&#45;L -->\n",
       "<g class=\"node\" id=\"node5\"><title>OccFus-L</title>\n",
       "<ellipse cx=\"199.527\" cy=\"-738\" fill=\"none\" rx=\"45.4441\" ry=\"18\" stroke=\"black\"/>\n",
       "<text font-family=\"Times,serif\" font-size=\"14.00\" text-anchor=\"middle\" x=\"199.527\" y=\"-733.8\">OccFus-L</text>\n",
       "</g>\n",
       "<!-- dPreCun&#45;R -->\n",
       "<g class=\"node\" id=\"node26\"><title>dPreCun-R</title>\n",
       "<ellipse cx=\"198.527\" cy=\"-666\" fill=\"none\" rx=\"49.805\" ry=\"18\" stroke=\"black\"/>\n",
       "<text font-family=\"Times,serif\" font-size=\"14.00\" text-anchor=\"middle\" x=\"198.527\" y=\"-661.8\">dPreCun-R</text>\n",
       "</g>\n",
       "<!-- OccFus&#45;L&#45;&gt;dPreCun&#45;R -->\n",
       "<g class=\"edge\" id=\"edge6\"><title>OccFus-L-&gt;dPreCun-R</title>\n",
       "<path d=\"M199.28,-719.697C199.17,-711.983 199.037,-702.712 198.914,-694.112\" fill=\"none\" stroke=\"black\"/>\n",
       "<polygon fill=\"black\" points=\"202.414,-694.053 198.771,-684.104 195.415,-694.153 202.414,-694.053\" stroke=\"black\"/>\n",
       "</g>\n",
       "<!-- OccFus&#45;R -->\n",
       "<g class=\"node\" id=\"node6\"><title>OccFus-R</title>\n",
       "<ellipse cx=\"273.527\" cy=\"-810\" fill=\"none\" rx=\"45.9373\" ry=\"18\" stroke=\"black\"/>\n",
       "<text font-family=\"Times,serif\" font-size=\"14.00\" text-anchor=\"middle\" x=\"273.527\" y=\"-805.8\">OccFus-R</text>\n",
       "</g>\n",
       "<!-- OccFus&#45;R&#45;&gt;EV2&#45;L -->\n",
       "<g class=\"edge\" id=\"edge1\"><title>OccFus-R-&gt;EV2-L</title>\n",
       "<path d=\"M296.941,-794.496C316.981,-782.082 345.595,-764.356 365.055,-752.302\" fill=\"none\" stroke=\"black\"/>\n",
       "</g>\n",
       "<!-- OccFus&#45;R&#45;&gt;OccFus&#45;L -->\n",
       "<g class=\"edge\" id=\"edge13\"><title>OccFus-R-&gt;OccFus-L</title>\n",
       "<path d=\"M256.735,-793.116C246.99,-783.897 234.547,-772.127 223.756,-761.919\" fill=\"none\" stroke=\"black\"/>\n",
       "<polygon fill=\"black\" points=\"225.922,-759.151 216.252,-754.821 221.112,-764.236 225.922,-759.151\" stroke=\"black\"/>\n",
       "</g>\n",
       "<!-- pFus&#45;L -->\n",
       "<g class=\"node\" id=\"node7\"><title>pFus-L</title>\n",
       "<ellipse cx=\"273.527\" cy=\"-954\" fill=\"none\" rx=\"35.8147\" ry=\"18\" stroke=\"black\"/>\n",
       "<text font-family=\"Times,serif\" font-size=\"14.00\" text-anchor=\"middle\" x=\"273.527\" y=\"-949.8\">pFus-L</text>\n",
       "</g>\n",
       "<!-- pFus&#45;L&#45;&gt;OccFus&#45;L -->\n",
       "<g class=\"edge\" id=\"edge26\"><title>pFus-L-&gt;OccFus-L</title>\n",
       "<path d=\"M256.869,-937.883C247.081,-928.049 235.329,-914.408 228.527,-900 207.938,-856.389 201.904,-799.798 200.174,-766.633\" fill=\"none\" stroke=\"black\"/>\n",
       "<polygon fill=\"black\" points=\"203.658,-766.18 199.738,-756.337 196.664,-766.476 203.658,-766.18\" stroke=\"black\"/>\n",
       "</g>\n",
       "<!-- pFus&#45;R -->\n",
       "<g class=\"node\" id=\"node8\"><title>pFus-R</title>\n",
       "<ellipse cx=\"273.527\" cy=\"-882\" fill=\"none\" rx=\"36.3078\" ry=\"18\" stroke=\"black\"/>\n",
       "<text font-family=\"Times,serif\" font-size=\"14.00\" text-anchor=\"middle\" x=\"273.527\" y=\"-877.8\">pFus-R</text>\n",
       "</g>\n",
       "<!-- pFus&#45;L&#45;&gt;pFus&#45;R -->\n",
       "<g class=\"edge\" id=\"edge4\"><title>pFus-L-&gt;pFus-R</title>\n",
       "<path d=\"M273.527,-935.697C273.527,-924.846 273.527,-910.917 273.527,-900.104\" fill=\"none\" stroke=\"black\"/>\n",
       "</g>\n",
       "<!-- mFus&#45;L -->\n",
       "<g class=\"node\" id=\"node9\"><title>mFus-L</title>\n",
       "<ellipse cx=\"370.527\" cy=\"-882\" fill=\"none\" rx=\"38.2284\" ry=\"18\" stroke=\"black\"/>\n",
       "<text font-family=\"Times,serif\" font-size=\"14.00\" text-anchor=\"middle\" x=\"370.527\" y=\"-877.8\">mFus-L</text>\n",
       "</g>\n",
       "<!-- pFus&#45;L&#45;&gt;mFus&#45;L -->\n",
       "<g class=\"edge\" id=\"edge3\"><title>pFus-L-&gt;mFus-L</title>\n",
       "<path d=\"M293.157,-938.834C309.875,-926.77 333.789,-909.512 350.594,-897.385\" fill=\"none\" stroke=\"black\"/>\n",
       "</g>\n",
       "<!-- pFus&#45;R&#45;&gt;OccFus&#45;R -->\n",
       "<g class=\"edge\" id=\"edge15\"><title>pFus-R-&gt;OccFus-R</title>\n",
       "<path d=\"M273.527,-863.697C273.527,-852.846 273.527,-838.917 273.527,-828.104\" fill=\"none\" stroke=\"black\"/>\n",
       "</g>\n",
       "<!-- mFus&#45;R -->\n",
       "<g class=\"node\" id=\"node10\"><title>mFus-R</title>\n",
       "<ellipse cx=\"376.527\" cy=\"-810\" fill=\"none\" rx=\"38.7215\" ry=\"18\" stroke=\"black\"/>\n",
       "<text font-family=\"Times,serif\" font-size=\"14.00\" text-anchor=\"middle\" x=\"376.527\" y=\"-805.8\">mFus-R</text>\n",
       "</g>\n",
       "<!-- mFus&#45;L&#45;&gt;mFus&#45;R -->\n",
       "<g class=\"edge\" id=\"edge5\"><title>mFus-L-&gt;mFus-R</title>\n",
       "<path d=\"M372.01,-863.697C372.94,-852.846 374.134,-838.917 375.061,-828.104\" fill=\"none\" stroke=\"black\"/>\n",
       "</g>\n",
       "<!-- pMTG&#45;L -->\n",
       "<g class=\"node\" id=\"node11\"><title>pMTG-L</title>\n",
       "<ellipse cx=\"241.527\" cy=\"-162\" fill=\"none\" rx=\"42.5542\" ry=\"18\" stroke=\"black\"/>\n",
       "<text font-family=\"Times,serif\" font-size=\"14.00\" text-anchor=\"middle\" x=\"241.527\" y=\"-157.8\">pMTG-L</text>\n",
       "</g>\n",
       "<!-- pMTG&#45;R -->\n",
       "<g class=\"node\" id=\"node12\"><title>pMTG-R</title>\n",
       "<ellipse cx=\"146.527\" cy=\"-234\" fill=\"none\" rx=\"43.0474\" ry=\"18\" stroke=\"black\"/>\n",
       "<text font-family=\"Times,serif\" font-size=\"14.00\" text-anchor=\"middle\" x=\"146.527\" y=\"-229.8\">pMTG-R</text>\n",
       "</g>\n",
       "<!-- pMTG&#45;R&#45;&gt;pMTG&#45;L -->\n",
       "<g class=\"edge\" id=\"edge12\"><title>pMTG-R-&gt;pMTG-L</title>\n",
       "<path d=\"M167.141,-217.811C180.552,-207.929 198.228,-194.905 212.984,-184.032\" fill=\"none\" stroke=\"black\"/>\n",
       "<polygon fill=\"black\" points=\"215.306,-186.669 221.28,-177.919 211.153,-181.033 215.306,-186.669\" stroke=\"black\"/>\n",
       "</g>\n",
       "<!-- IFG2&#45;R -->\n",
       "<g class=\"node\" id=\"node20\"><title>IFG2-R</title>\n",
       "<ellipse cx=\"143.527\" cy=\"-162\" fill=\"none\" rx=\"37.7439\" ry=\"18\" stroke=\"black\"/>\n",
       "<text font-family=\"Times,serif\" font-size=\"14.00\" text-anchor=\"middle\" x=\"143.527\" y=\"-157.8\">IFG2-R</text>\n",
       "</g>\n",
       "<!-- pMTG&#45;R&#45;&gt;IFG2&#45;R -->\n",
       "<g class=\"edge\" id=\"edge7\"><title>pMTG-R-&gt;IFG2-R</title>\n",
       "<path d=\"M145.786,-215.697C145.455,-207.983 145.058,-198.712 144.689,-190.112\" fill=\"none\" stroke=\"black\"/>\n",
       "<polygon fill=\"black\" points=\"148.185,-189.945 144.26,-180.104 141.192,-190.245 148.185,-189.945\" stroke=\"black\"/>\n",
       "</g>\n",
       "<!-- aFus&#45;R -->\n",
       "<g class=\"node\" id=\"node13\"><title>aFus-R</title>\n",
       "<ellipse cx=\"362.527\" cy=\"-954\" fill=\"none\" rx=\"35.8147\" ry=\"18\" stroke=\"black\"/>\n",
       "<text font-family=\"Times,serif\" font-size=\"14.00\" text-anchor=\"middle\" x=\"362.527\" y=\"-949.8\">aFus-R</text>\n",
       "</g>\n",
       "<!-- mMTG&#45;L -->\n",
       "<g class=\"node\" id=\"node14\"><title>mMTG-L</title>\n",
       "<ellipse cx=\"194.527\" cy=\"-378\" fill=\"none\" rx=\"44.9682\" ry=\"18\" stroke=\"black\"/>\n",
       "<text font-family=\"Times,serif\" font-size=\"14.00\" text-anchor=\"middle\" x=\"194.527\" y=\"-373.8\">mMTG-L</text>\n",
       "</g>\n",
       "<!-- mMTG&#45;R -->\n",
       "<g class=\"node\" id=\"node15\"><title>mMTG-R</title>\n",
       "<ellipse cx=\"144.527\" cy=\"-306\" fill=\"none\" rx=\"45.4614\" ry=\"18\" stroke=\"black\"/>\n",
       "<text font-family=\"Times,serif\" font-size=\"14.00\" text-anchor=\"middle\" x=\"144.527\" y=\"-301.8\">mMTG-R</text>\n",
       "</g>\n",
       "<!-- mMTG&#45;L&#45;&gt;mMTG&#45;R -->\n",
       "<g class=\"edge\" id=\"edge14\"><title>mMTG-L-&gt;mMTG-R</title>\n",
       "<path d=\"M182.678,-360.411C176.575,-351.868 169.012,-341.278 162.232,-331.787\" fill=\"none\" stroke=\"black\"/>\n",
       "<polygon fill=\"black\" points=\"164.952,-329.573 156.291,-323.47 159.256,-333.642 164.952,-329.573\" stroke=\"black\"/>\n",
       "</g>\n",
       "<!-- IFG1&#45;L -->\n",
       "<g class=\"node\" id=\"node18\"><title>IFG1-L</title>\n",
       "<ellipse cx=\"245.527\" cy=\"-306\" fill=\"none\" rx=\"37.2507\" ry=\"18\" stroke=\"black\"/>\n",
       "<text font-family=\"Times,serif\" font-size=\"14.00\" text-anchor=\"middle\" x=\"245.527\" y=\"-301.8\">IFG1-L</text>\n",
       "</g>\n",
       "<!-- mMTG&#45;L&#45;&gt;IFG1&#45;L -->\n",
       "<g class=\"edge\" id=\"edge19\"><title>mMTG-L-&gt;IFG1-L</title>\n",
       "<path d=\"M206.613,-360.411C212.838,-351.868 220.553,-341.278 227.468,-331.787\" fill=\"none\" stroke=\"black\"/>\n",
       "<polygon fill=\"black\" points=\"230.468,-333.613 233.528,-323.47 224.81,-329.491 230.468,-333.613\" stroke=\"black\"/>\n",
       "</g>\n",
       "<!-- mMTG&#45;R&#45;&gt;pMTG&#45;R -->\n",
       "<g class=\"edge\" id=\"edge21\"><title>mMTG-R-&gt;pMTG-R</title>\n",
       "<path d=\"M145.021,-287.697C145.242,-279.983 145.507,-270.712 145.752,-262.112\" fill=\"none\" stroke=\"black\"/>\n",
       "<polygon fill=\"black\" points=\"149.251,-262.2 146.038,-252.104 142.254,-262 149.251,-262.2\" stroke=\"black\"/>\n",
       "</g>\n",
       "<!-- aMTG&#45;R -->\n",
       "<g class=\"node\" id=\"node17\"><title>aMTG-R</title>\n",
       "<ellipse cx=\"42.5271\" cy=\"-234\" fill=\"none\" rx=\"42.5542\" ry=\"18\" stroke=\"black\"/>\n",
       "<text font-family=\"Times,serif\" font-size=\"14.00\" text-anchor=\"middle\" x=\"42.5271\" y=\"-229.8\">aMTG-R</text>\n",
       "</g>\n",
       "<!-- mMTG&#45;R&#45;&gt;aMTG&#45;R -->\n",
       "<g class=\"edge\" id=\"edge27\"><title>mMTG-R-&gt;aMTG-R</title>\n",
       "<path d=\"M122.896,-290.155C108.29,-280.132 88.8108,-266.763 72.6874,-255.698\" fill=\"none\" stroke=\"black\"/>\n",
       "<polygon fill=\"black\" points=\"74.3531,-252.596 64.1275,-249.824 70.3922,-258.368 74.3531,-252.596\" stroke=\"black\"/>\n",
       "</g>\n",
       "<!-- aMTG&#45;L -->\n",
       "<g class=\"node\" id=\"node16\"><title>aMTG-L</title>\n",
       "<ellipse cx=\"42.5271\" cy=\"-162\" fill=\"none\" rx=\"42.0611\" ry=\"18\" stroke=\"black\"/>\n",
       "<text font-family=\"Times,serif\" font-size=\"14.00\" text-anchor=\"middle\" x=\"42.5271\" y=\"-157.8\">aMTG-L</text>\n",
       "</g>\n",
       "<!-- aMTG&#45;R&#45;&gt;aMTG&#45;L -->\n",
       "<g class=\"edge\" id=\"edge9\"><title>aMTG-R-&gt;aMTG-L</title>\n",
       "<path d=\"M42.5271,-215.697C42.5271,-207.983 42.5271,-198.712 42.5271,-190.112\" fill=\"none\" stroke=\"black\"/>\n",
       "<polygon fill=\"black\" points=\"46.0272,-190.104 42.5271,-180.104 39.0272,-190.104 46.0272,-190.104\" stroke=\"black\"/>\n",
       "</g>\n",
       "<!-- IFG2&#45;L -->\n",
       "<g class=\"node\" id=\"node19\"><title>IFG2-L</title>\n",
       "<ellipse cx=\"245.527\" cy=\"-234\" fill=\"none\" rx=\"37.2507\" ry=\"18\" stroke=\"black\"/>\n",
       "<text font-family=\"Times,serif\" font-size=\"14.00\" text-anchor=\"middle\" x=\"245.527\" y=\"-229.8\">IFG2-L</text>\n",
       "</g>\n",
       "<!-- IFG1&#45;L&#45;&gt;IFG2&#45;L -->\n",
       "<g class=\"edge\" id=\"edge10\"><title>IFG1-L-&gt;IFG2-L</title>\n",
       "<path d=\"M245.527,-287.697C245.527,-279.983 245.527,-270.712 245.527,-262.112\" fill=\"none\" stroke=\"black\"/>\n",
       "<polygon fill=\"black\" points=\"249.027,-262.104 245.527,-252.104 242.027,-262.104 249.027,-262.104\" stroke=\"black\"/>\n",
       "</g>\n",
       "<!-- MPFC&#45;R -->\n",
       "<g class=\"node\" id=\"node24\"><title>MPFC-R</title>\n",
       "<ellipse cx=\"143.527\" cy=\"-90\" fill=\"none\" rx=\"42.5974\" ry=\"18\" stroke=\"black\"/>\n",
       "<text font-family=\"Times,serif\" font-size=\"14.00\" text-anchor=\"middle\" x=\"143.527\" y=\"-85.8\">MPFC-R</text>\n",
       "</g>\n",
       "<!-- IFG2&#45;R&#45;&gt;MPFC&#45;R -->\n",
       "<g class=\"edge\" id=\"edge18\"><title>IFG2-R-&gt;MPFC-R</title>\n",
       "<path d=\"M143.527,-143.697C143.527,-135.983 143.527,-126.712 143.527,-118.112\" fill=\"none\" stroke=\"black\"/>\n",
       "<polygon fill=\"black\" points=\"147.027,-118.104 143.527,-108.104 140.027,-118.104 147.027,-118.104\" stroke=\"black\"/>\n",
       "</g>\n",
       "<!-- TPJ&#45;L -->\n",
       "<g class=\"node\" id=\"node21\"><title>TPJ-L</title>\n",
       "<ellipse cx=\"208.527\" cy=\"-450\" fill=\"none\" rx=\"32.4324\" ry=\"18\" stroke=\"black\"/>\n",
       "<text font-family=\"Times,serif\" font-size=\"14.00\" text-anchor=\"middle\" x=\"208.527\" y=\"-445.8\">TPJ-L</text>\n",
       "</g>\n",
       "<!-- TPJ&#45;L&#45;&gt;mMTG&#45;L -->\n",
       "<g class=\"edge\" id=\"edge8\"><title>TPJ-L-&gt;mMTG-L</title>\n",
       "<path d=\"M205.138,-432.055C203.596,-424.346 201.732,-415.027 200,-406.364\" fill=\"none\" stroke=\"black\"/>\n",
       "<polygon fill=\"black\" points=\"203.375,-405.395 197.982,-396.275 196.511,-406.768 203.375,-405.395\" stroke=\"black\"/>\n",
       "</g>\n",
       "<!-- mPreCun&#45;L -->\n",
       "<g class=\"node\" id=\"node27\"><title>mPreCun-L</title>\n",
       "<ellipse cx=\"309.527\" cy=\"-378\" fill=\"none\" rx=\"51.726\" ry=\"18\" stroke=\"black\"/>\n",
       "<text font-family=\"Times,serif\" font-size=\"14.00\" text-anchor=\"middle\" x=\"309.527\" y=\"-373.8\">mPreCun-L</text>\n",
       "</g>\n",
       "<!-- TPJ&#45;L&#45;&gt;mPreCun&#45;L -->\n",
       "<g class=\"edge\" id=\"edge30\"><title>TPJ-L-&gt;mPreCun-L</title>\n",
       "<path d=\"M228.001,-435.503C242.45,-425.489 262.432,-411.64 278.996,-400.16\" fill=\"none\" stroke=\"black\"/>\n",
       "<polygon fill=\"black\" points=\"281.074,-402.978 287.3,-394.405 277.087,-397.225 281.074,-402.978\" stroke=\"black\"/>\n",
       "</g>\n",
       "<!-- TPJ&#45;R -->\n",
       "<g class=\"node\" id=\"node22\"><title>TPJ-R</title>\n",
       "<ellipse cx=\"208.527\" cy=\"-522\" fill=\"none\" rx=\"32.9255\" ry=\"18\" stroke=\"black\"/>\n",
       "<text font-family=\"Times,serif\" font-size=\"14.00\" text-anchor=\"middle\" x=\"208.527\" y=\"-517.8\">TPJ-R</text>\n",
       "</g>\n",
       "<!-- TPJ&#45;R&#45;&gt;TPJ&#45;L -->\n",
       "<g class=\"edge\" id=\"edge20\"><title>TPJ-R-&gt;TPJ-L</title>\n",
       "<path d=\"M208.527,-503.697C208.527,-495.983 208.527,-486.712 208.527,-478.112\" fill=\"none\" stroke=\"black\"/>\n",
       "<polygon fill=\"black\" points=\"212.027,-478.104 208.527,-468.104 205.027,-478.104 212.027,-478.104\" stroke=\"black\"/>\n",
       "</g>\n",
       "<!-- MPFC&#45;L -->\n",
       "<g class=\"node\" id=\"node23\"><title>MPFC-L</title>\n",
       "<ellipse cx=\"143.527\" cy=\"-18\" fill=\"none\" rx=\"42.1043\" ry=\"18\" stroke=\"black\"/>\n",
       "<text font-family=\"Times,serif\" font-size=\"14.00\" text-anchor=\"middle\" x=\"143.527\" y=\"-13.8\">MPFC-L</text>\n",
       "</g>\n",
       "<!-- MPFC&#45;R&#45;&gt;MPFC&#45;L -->\n",
       "<g class=\"edge\" id=\"edge11\"><title>MPFC-R-&gt;MPFC-L</title>\n",
       "<path d=\"M143.527,-71.6966C143.527,-63.9827 143.527,-54.7125 143.527,-46.1124\" fill=\"none\" stroke=\"black\"/>\n",
       "<polygon fill=\"black\" points=\"147.027,-46.1043 143.527,-36.1043 140.027,-46.1044 147.027,-46.1043\" stroke=\"black\"/>\n",
       "</g>\n",
       "<!-- dPreCun&#45;L -->\n",
       "<g class=\"node\" id=\"node25\"><title>dPreCun-L</title>\n",
       "<ellipse cx=\"138.527\" cy=\"-594\" fill=\"none\" rx=\"49.3119\" ry=\"18\" stroke=\"black\"/>\n",
       "<text font-family=\"Times,serif\" font-size=\"14.00\" text-anchor=\"middle\" x=\"138.527\" y=\"-589.8\">dPreCun-L</text>\n",
       "</g>\n",
       "<!-- dPreCun&#45;R&#45;&gt;dPreCun&#45;L -->\n",
       "<g class=\"edge\" id=\"edge29\"><title>dPreCun-R-&gt;dPreCun-L</title>\n",
       "<path d=\"M184.308,-648.411C176.836,-639.693 167.537,-628.845 159.277,-619.208\" fill=\"none\" stroke=\"black\"/>\n",
       "<polygon fill=\"black\" points=\"161.81,-616.785 152.644,-611.47 156.495,-621.34 161.81,-616.785\" stroke=\"black\"/>\n",
       "</g>\n",
       "<!-- mPreCun&#45;R -->\n",
       "<g class=\"node\" id=\"node28\"><title>mPreCun-R</title>\n",
       "<ellipse cx=\"258.527\" cy=\"-594\" fill=\"none\" rx=\"52.2192\" ry=\"18\" stroke=\"black\"/>\n",
       "<text font-family=\"Times,serif\" font-size=\"14.00\" text-anchor=\"middle\" x=\"258.527\" y=\"-589.8\">mPreCun-R</text>\n",
       "</g>\n",
       "<!-- dPreCun&#45;R&#45;&gt;mPreCun&#45;R -->\n",
       "<g class=\"edge\" id=\"edge16\"><title>dPreCun-R-&gt;mPreCun-R</title>\n",
       "<path d=\"M212.746,-648.411C220.219,-639.693 229.517,-628.845 237.778,-619.208\" fill=\"none\" stroke=\"black\"/>\n",
       "<polygon fill=\"black\" points=\"240.559,-621.34 244.41,-611.47 235.245,-616.785 240.559,-621.34\" stroke=\"black\"/>\n",
       "</g>\n",
       "<!-- mPreCun&#45;R&#45;&gt;TPJ&#45;R -->\n",
       "<g class=\"edge\" id=\"edge28\"><title>mPreCun-R-&gt;TPJ-R</title>\n",
       "<path d=\"M246.678,-576.411C240.487,-567.744 232.792,-556.971 225.938,-547.375\" fill=\"none\" stroke=\"black\"/>\n",
       "<polygon fill=\"black\" points=\"228.608,-545.091 219.947,-538.988 222.912,-549.16 228.608,-545.091\" stroke=\"black\"/>\n",
       "</g>\n",
       "<!-- vPreCun&#45;R -->\n",
       "<g class=\"node\" id=\"node30\"><title>vPreCun-R</title>\n",
       "<ellipse cx=\"309.527\" cy=\"-522\" fill=\"none\" rx=\"49.805\" ry=\"18\" stroke=\"black\"/>\n",
       "<text font-family=\"Times,serif\" font-size=\"14.00\" text-anchor=\"middle\" x=\"309.527\" y=\"-517.8\">vPreCun-R</text>\n",
       "</g>\n",
       "<!-- mPreCun&#45;R&#45;&gt;vPreCun&#45;R -->\n",
       "<g class=\"edge\" id=\"edge17\"><title>mPreCun-R-&gt;vPreCun-R</title>\n",
       "<path d=\"M270.613,-576.411C276.748,-567.992 284.329,-557.585 291.167,-548.201\" fill=\"none\" stroke=\"black\"/>\n",
       "<polygon fill=\"black\" points=\"294.114,-550.1 297.173,-539.956 288.456,-545.978 294.114,-550.1\" stroke=\"black\"/>\n",
       "</g>\n",
       "<!-- vPreCun&#45;L -->\n",
       "<g class=\"node\" id=\"node29\"><title>vPreCun-L</title>\n",
       "<ellipse cx=\"309.527\" cy=\"-450\" fill=\"none\" rx=\"49.3119\" ry=\"18\" stroke=\"black\"/>\n",
       "<text font-family=\"Times,serif\" font-size=\"14.00\" text-anchor=\"middle\" x=\"309.527\" y=\"-445.8\">vPreCun-L</text>\n",
       "</g>\n",
       "<!-- vPreCun&#45;L&#45;&gt;mPreCun&#45;L -->\n",
       "<g class=\"edge\" id=\"edge22\"><title>vPreCun-L-&gt;mPreCun-L</title>\n",
       "<path d=\"M309.527,-431.697C309.527,-423.983 309.527,-414.712 309.527,-406.112\" fill=\"none\" stroke=\"black\"/>\n",
       "<polygon fill=\"black\" points=\"313.027,-406.104 309.527,-396.104 306.027,-406.104 313.027,-406.104\" stroke=\"black\"/>\n",
       "</g>\n",
       "<!-- vPreCun&#45;R&#45;&gt;vPreCun&#45;L -->\n",
       "<g class=\"edge\" id=\"edge2\"><title>vPreCun-R-&gt;vPreCun-L</title>\n",
       "<path d=\"M309.527,-503.697C309.527,-495.983 309.527,-486.712 309.527,-478.112\" fill=\"none\" stroke=\"black\"/>\n",
       "<polygon fill=\"black\" points=\"313.027,-478.104 309.527,-468.104 306.027,-478.104 313.027,-478.104\" stroke=\"black\"/>\n",
       "</g>\n",
       "<!-- FAM&#45;UNFAM -->\n",
       "<g class=\"node\" id=\"node31\"><title>FAM-UNFAM</title>\n",
       "<ellipse cx=\"479.527\" cy=\"-954\" fill=\"none\" rx=\"62.7138\" ry=\"18\" stroke=\"black\"/>\n",
       "<text font-family=\"Times,serif\" font-size=\"14.00\" text-anchor=\"middle\" x=\"479.527\" y=\"-949.8\">FAM-UNFAM</text>\n",
       "</g>\n",
       "</g>\n",
       "</svg>"
      ],
      "text/plain": [
       "<IPython.core.display.SVG object>"
      ]
     },
     "execution_count": 140,
     "metadata": {},
     "output_type": "execute_result"
    }
   ],
   "source": [
    "# render resulting graph\n",
    "dot_withc_raw_ar = images_withc_raw_ar.getDot()\n",
    "svg_str = dot_withc_raw_ar.create_svg(prog='dot')\n",
    "SVG(svg_str)"
   ]
  },
  {
   "cell_type": "code",
   "execution_count": 307,
   "metadata": {
    "collapsed": true
   },
   "outputs": [],
   "source": [
    "sb.set_style('white')"
   ]
  },
  {
   "cell_type": "code",
   "execution_count": 308,
   "metadata": {
    "scrolled": false
   },
   "outputs": [
    {
     "data": {
      "text/plain": [
       "[<matplotlib.lines.Line2D at 0x12af765d0>]"
      ]
     },
     "execution_count": 308,
     "metadata": {},
     "output_type": "execute_result"
    },
    {
     "data": {
      "image/png": "[encoded data removed]",
      "text/plain": [
       "<matplotlib.figure.Figure at 0x12c8a8750>"
      ]
     },
     "metadata": {},
     "output_type": "display_data"
    }
   ],
   "source": [
    "# time series of EV1-L before AR\n",
    "plt.plot(dfs_withc_raw[0]['EV1-L'])"
   ]
  },
  {
   "cell_type": "code",
   "execution_count": 309,
   "metadata": {},
   "outputs": [
    {
     "data": {
      "text/plain": [
       "[<matplotlib.lines.Line2D at 0x1292aba90>]"
      ]
     },
     "execution_count": 309,
     "metadata": {},
     "output_type": "execute_result"
    },
    {
     "data": {
      "image/png": "[encoded data removed]",
      "text/plain": [
       "<matplotlib.figure.Figure at 0x12c3a8dd0>"
      ]
     },
     "metadata": {},
     "output_type": "display_data"
    }
   ],
   "source": [
    "# ... and after AR\n",
    "plt.plot(dfs_withc_raw_ar[0]['EV1-L'])"
   ]
  },
  {
   "cell_type": "markdown",
   "metadata": {},
   "source": [
    "## Residual data"
   ]
  },
  {
   "cell_type": "code",
   "execution_count": 143,
   "metadata": {
    "collapsed": true
   },
   "outputs": [],
   "source": [
    "# perform AR modelling for all data frames based on preprocessed data\n",
    "dfs_withc_nb_ar = [ar_df(df) for df in dfs_withc_nb]"
   ]
  },
  {
   "cell_type": "code",
   "execution_count": 144,
   "metadata": {
    "collapsed": true
   },
   "outputs": [],
   "source": [
    "# perform images search\n",
    "pc.start_vm() # start\n",
    "images_withc_nb_ar = s.imagesSemBic(dfs_withc_nb_ar, verbose = True)\n",
    "pc.stop_vm() # stop"
   ]
  },
  {
   "cell_type": "code",
   "execution_count": 310,
   "metadata": {},
   "outputs": [
    {
     "data": {
      "image/svg+xml": [
       "<svg height=\"260pt\" viewBox=\"0.00 0.00 1165.16 260.00\" width=\"1165pt\" xmlns=\"http://www.w3.org/2000/svg\" xmlns:xlink=\"http://www.w3.org/1999/xlink\">\n",
       "<g class=\"graph\" id=\"graph0\" transform=\"scale(1 1) rotate(0) translate(4 256)\">\n",
       "<title>G</title>\n",
       "<polygon fill=\"white\" points=\"-4,4 -4,-256 1161.16,-256 1161.16,4 -4,4\" stroke=\"none\"/>\n",
       "<!-- EV1&#45;L -->\n",
       "<g class=\"node\" id=\"node1\"><title>EV1-L</title>\n",
       "<ellipse cx=\"320.611\" cy=\"-162\" fill=\"none\" rx=\"34.8285\" ry=\"18\" stroke=\"black\"/>\n",
       "<text font-family=\"Times,serif\" font-size=\"14.00\" text-anchor=\"middle\" x=\"320.611\" y=\"-157.8\">EV1-L</text>\n",
       "</g>\n",
       "<!-- EV1&#45;R -->\n",
       "<g class=\"node\" id=\"node2\"><title>EV1-R</title>\n",
       "<ellipse cx=\"276.611\" cy=\"-234\" fill=\"none\" rx=\"35.3216\" ry=\"18\" stroke=\"black\"/>\n",
       "<text font-family=\"Times,serif\" font-size=\"14.00\" text-anchor=\"middle\" x=\"276.611\" y=\"-229.8\">EV1-R</text>\n",
       "</g>\n",
       "<!-- EV1&#45;R&#45;&gt;EV1&#45;L -->\n",
       "<g class=\"edge\" id=\"edge23\"><title>EV1-R-&gt;EV1-L</title>\n",
       "<path d=\"M286.816,-216.765C293.822,-205.618 303.095,-190.865 310.155,-179.633\" fill=\"none\" stroke=\"black\"/>\n",
       "</g>\n",
       "<!-- EV2&#45;L -->\n",
       "<g class=\"node\" id=\"node3\"><title>EV2-L</title>\n",
       "<ellipse cx=\"233.611\" cy=\"-162\" fill=\"none\" rx=\"34.8285\" ry=\"18\" stroke=\"black\"/>\n",
       "<text font-family=\"Times,serif\" font-size=\"14.00\" text-anchor=\"middle\" x=\"233.611\" y=\"-157.8\">EV2-L</text>\n",
       "</g>\n",
       "<!-- EV1&#45;R&#45;&gt;EV2&#45;L -->\n",
       "<g class=\"edge\" id=\"edge24\"><title>EV1-R-&gt;EV2-L</title>\n",
       "<path d=\"M266.42,-216.411C259.566,-205.252 250.567,-190.604 243.728,-179.47\" fill=\"none\" stroke=\"black\"/>\n",
       "</g>\n",
       "<!-- EV2&#45;R -->\n",
       "<g class=\"node\" id=\"node4\"><title>EV2-R</title>\n",
       "<ellipse cx=\"240.611\" cy=\"-90\" fill=\"none\" rx=\"35.3216\" ry=\"18\" stroke=\"black\"/>\n",
       "<text font-family=\"Times,serif\" font-size=\"14.00\" text-anchor=\"middle\" x=\"240.611\" y=\"-85.8\">EV2-R</text>\n",
       "</g>\n",
       "<!-- EV2&#45;L&#45;&gt;EV2&#45;R -->\n",
       "<g class=\"edge\" id=\"edge25\"><title>EV2-L-&gt;EV2-R</title>\n",
       "<path d=\"M235.341,-143.697C236.426,-132.846 237.819,-118.917 238.9,-108.104\" fill=\"none\" stroke=\"black\"/>\n",
       "</g>\n",
       "<!-- OccFus&#45;R -->\n",
       "<g class=\"node\" id=\"node6\"><title>OccFus-R</title>\n",
       "<ellipse cx=\"141.611\" cy=\"-90\" fill=\"none\" rx=\"45.9373\" ry=\"18\" stroke=\"black\"/>\n",
       "<text font-family=\"Times,serif\" font-size=\"14.00\" text-anchor=\"middle\" x=\"141.611\" y=\"-85.8\">OccFus-R</text>\n",
       "</g>\n",
       "<!-- EV2&#45;L&#45;&gt;OccFus&#45;R -->\n",
       "<g class=\"edge\" id=\"edge2\"><title>EV2-L-&gt;OccFus-R</title>\n",
       "<path d=\"M214.548,-146.496C199.074,-134.722 177.322,-118.172 161.603,-106.212\" fill=\"none\" stroke=\"black\"/>\n",
       "</g>\n",
       "<!-- OccFus&#45;L -->\n",
       "<g class=\"node\" id=\"node5\"><title>OccFus-L</title>\n",
       "<ellipse cx=\"141.611\" cy=\"-18\" fill=\"none\" rx=\"45.4441\" ry=\"18\" stroke=\"black\"/>\n",
       "<text font-family=\"Times,serif\" font-size=\"14.00\" text-anchor=\"middle\" x=\"141.611\" y=\"-13.8\">OccFus-L</text>\n",
       "</g>\n",
       "<!-- OccFus&#45;R&#45;&gt;OccFus&#45;L -->\n",
       "<g class=\"edge\" id=\"edge14\"><title>OccFus-R-&gt;OccFus-L</title>\n",
       "<path d=\"M141.611,-71.6966C141.611,-60.8463 141.611,-46.9167 141.611,-36.1043\" fill=\"none\" stroke=\"black\"/>\n",
       "</g>\n",
       "<!-- pFus&#45;L -->\n",
       "<g class=\"node\" id=\"node7\"><title>pFus-L</title>\n",
       "<ellipse cx=\"91.6106\" cy=\"-234\" fill=\"none\" rx=\"35.8147\" ry=\"18\" stroke=\"black\"/>\n",
       "<text font-family=\"Times,serif\" font-size=\"14.00\" text-anchor=\"middle\" x=\"91.6106\" y=\"-229.8\">pFus-L</text>\n",
       "</g>\n",
       "<!-- pFus&#45;R -->\n",
       "<g class=\"node\" id=\"node8\"><title>pFus-R</title>\n",
       "<ellipse cx=\"138.611\" cy=\"-162\" fill=\"none\" rx=\"36.3078\" ry=\"18\" stroke=\"black\"/>\n",
       "<text font-family=\"Times,serif\" font-size=\"14.00\" text-anchor=\"middle\" x=\"138.611\" y=\"-157.8\">pFus-R</text>\n",
       "</g>\n",
       "<!-- pFus&#45;L&#45;&gt;pFus&#45;R -->\n",
       "<g class=\"edge\" id=\"edge5\"><title>pFus-L-&gt;pFus-R</title>\n",
       "<path d=\"M102.511,-216.765C109.996,-205.618 119.901,-190.865 127.442,-179.633\" fill=\"none\" stroke=\"black\"/>\n",
       "</g>\n",
       "<!-- mFus&#45;L -->\n",
       "<g class=\"node\" id=\"node9\"><title>mFus-L</title>\n",
       "<ellipse cx=\"43.6106\" cy=\"-162\" fill=\"none\" rx=\"38.2284\" ry=\"18\" stroke=\"black\"/>\n",
       "<text font-family=\"Times,serif\" font-size=\"14.00\" text-anchor=\"middle\" x=\"43.6106\" y=\"-157.8\">mFus-L</text>\n",
       "</g>\n",
       "<!-- pFus&#45;L&#45;&gt;mFus&#45;L -->\n",
       "<g class=\"edge\" id=\"edge4\"><title>pFus-L-&gt;mFus-L</title>\n",
       "<path d=\"M80.4778,-216.765C72.834,-205.618 62.718,-190.865 55.0163,-179.633\" fill=\"none\" stroke=\"black\"/>\n",
       "</g>\n",
       "<!-- pFus&#45;R&#45;&gt;OccFus&#45;R -->\n",
       "<g class=\"edge\" id=\"edge16\"><title>pFus-R-&gt;OccFus-R</title>\n",
       "<path d=\"M139.352,-143.697C139.817,-132.846 140.414,-118.917 140.878,-108.104\" fill=\"none\" stroke=\"black\"/>\n",
       "</g>\n",
       "<!-- mFus&#45;R -->\n",
       "<g class=\"node\" id=\"node10\"><title>mFus-R</title>\n",
       "<ellipse cx=\"38.6106\" cy=\"-90\" fill=\"none\" rx=\"38.7215\" ry=\"18\" stroke=\"black\"/>\n",
       "<text font-family=\"Times,serif\" font-size=\"14.00\" text-anchor=\"middle\" x=\"38.6106\" y=\"-85.8\">mFus-R</text>\n",
       "</g>\n",
       "<!-- mFus&#45;L&#45;&gt;mFus&#45;R -->\n",
       "<g class=\"edge\" id=\"edge6\"><title>mFus-L-&gt;mFus-R</title>\n",
       "<path d=\"M42.3746,-143.697C41.5996,-132.846 40.6046,-118.917 39.8323,-108.104\" fill=\"none\" stroke=\"black\"/>\n",
       "</g>\n",
       "<!-- pMTG&#45;L -->\n",
       "<g class=\"node\" id=\"node11\"><title>pMTG-L</title>\n",
       "<ellipse cx=\"907.611\" cy=\"-18\" fill=\"none\" rx=\"42.5542\" ry=\"18\" stroke=\"black\"/>\n",
       "<text font-family=\"Times,serif\" font-size=\"14.00\" text-anchor=\"middle\" x=\"907.611\" y=\"-13.8\">pMTG-L</text>\n",
       "</g>\n",
       "<!-- pMTG&#45;R -->\n",
       "<g class=\"node\" id=\"node12\"><title>pMTG-R</title>\n",
       "<ellipse cx=\"907.611\" cy=\"-90\" fill=\"none\" rx=\"43.0474\" ry=\"18\" stroke=\"black\"/>\n",
       "<text font-family=\"Times,serif\" font-size=\"14.00\" text-anchor=\"middle\" x=\"907.611\" y=\"-85.8\">pMTG-R</text>\n",
       "</g>\n",
       "<!-- pMTG&#45;R&#45;&gt;pMTG&#45;L -->\n",
       "<g class=\"edge\" id=\"edge13\"><title>pMTG-R-&gt;pMTG-L</title>\n",
       "<path d=\"M907.611,-71.6966C907.611,-60.8463 907.611,-46.9167 907.611,-36.1043\" fill=\"none\" stroke=\"black\"/>\n",
       "</g>\n",
       "<!-- IFG2&#45;R -->\n",
       "<g class=\"node\" id=\"node20\"><title>IFG2-R</title>\n",
       "<ellipse cx=\"1011.61\" cy=\"-18\" fill=\"none\" rx=\"37.7439\" ry=\"18\" stroke=\"black\"/>\n",
       "<text font-family=\"Times,serif\" font-size=\"14.00\" text-anchor=\"middle\" x=\"1011.61\" y=\"-13.8\">IFG2-R</text>\n",
       "</g>\n",
       "<!-- pMTG&#45;R&#45;&gt;IFG2&#45;R -->\n",
       "<g class=\"edge\" id=\"edge7\"><title>pMTG-R-&gt;IFG2-R</title>\n",
       "<path d=\"M929.412,-74.3257C947.4,-62.2184 972.766,-45.1453 990.548,-33.1767\" fill=\"none\" stroke=\"black\"/>\n",
       "</g>\n",
       "<!-- aFus&#45;R -->\n",
       "<g class=\"node\" id=\"node13\"><title>aFus-R</title>\n",
       "<ellipse cx=\"892.611\" cy=\"-234\" fill=\"none\" rx=\"35.8147\" ry=\"18\" stroke=\"black\"/>\n",
       "<text font-family=\"Times,serif\" font-size=\"14.00\" text-anchor=\"middle\" x=\"892.611\" y=\"-229.8\">aFus-R</text>\n",
       "</g>\n",
       "<!-- mMTG&#45;L -->\n",
       "<g class=\"node\" id=\"node14\"><title>mMTG-L</title>\n",
       "<ellipse cx=\"801.611\" cy=\"-90\" fill=\"none\" rx=\"44.9682\" ry=\"18\" stroke=\"black\"/>\n",
       "<text font-family=\"Times,serif\" font-size=\"14.00\" text-anchor=\"middle\" x=\"801.611\" y=\"-85.8\">mMTG-L</text>\n",
       "</g>\n",
       "<!-- mMTG&#45;R -->\n",
       "<g class=\"node\" id=\"node15\"><title>mMTG-R</title>\n",
       "<ellipse cx=\"906.611\" cy=\"-162\" fill=\"none\" rx=\"45.4614\" ry=\"18\" stroke=\"black\"/>\n",
       "<text font-family=\"Times,serif\" font-size=\"14.00\" text-anchor=\"middle\" x=\"906.611\" y=\"-157.8\">mMTG-R</text>\n",
       "</g>\n",
       "<!-- mMTG&#45;R&#45;&gt;pMTG&#45;R -->\n",
       "<g class=\"edge\" id=\"edge21\"><title>mMTG-R-&gt;pMTG-R</title>\n",
       "<path d=\"M906.858,-143.697C907.013,-132.846 907.212,-118.917 907.366,-108.104\" fill=\"none\" stroke=\"black\"/>\n",
       "</g>\n",
       "<!-- mMTG&#45;R&#45;&gt;mMTG&#45;L -->\n",
       "<g class=\"edge\" id=\"edge15\"><title>mMTG-R-&gt;mMTG-L</title>\n",
       "<path d=\"M884.343,-146.155C866.524,-134.276 841.657,-117.697 823.846,-105.824\" fill=\"none\" stroke=\"black\"/>\n",
       "</g>\n",
       "<!-- aMTG&#45;R -->\n",
       "<g class=\"node\" id=\"node17\"><title>aMTG-R</title>\n",
       "<ellipse cx=\"1011.61\" cy=\"-90\" fill=\"none\" rx=\"42.5542\" ry=\"18\" stroke=\"black\"/>\n",
       "<text font-family=\"Times,serif\" font-size=\"14.00\" text-anchor=\"middle\" x=\"1011.61\" y=\"-85.8\">aMTG-R</text>\n",
       "</g>\n",
       "<!-- mMTG&#45;R&#45;&gt;aMTG&#45;R -->\n",
       "<g class=\"edge\" id=\"edge26\"><title>mMTG-R-&gt;aMTG-R</title>\n",
       "<path d=\"M928.878,-146.155C946.818,-134.195 971.901,-117.473 989.735,-105.584\" fill=\"none\" stroke=\"black\"/>\n",
       "</g>\n",
       "<!-- aMTG&#45;L -->\n",
       "<g class=\"node\" id=\"node16\"><title>aMTG-L</title>\n",
       "<ellipse cx=\"1012.61\" cy=\"-162\" fill=\"none\" rx=\"42.0611\" ry=\"18\" stroke=\"black\"/>\n",
       "<text font-family=\"Times,serif\" font-size=\"14.00\" text-anchor=\"middle\" x=\"1012.61\" y=\"-157.8\">aMTG-L</text>\n",
       "</g>\n",
       "<!-- aMTG&#45;L&#45;&gt;aMTG&#45;R -->\n",
       "<g class=\"edge\" id=\"edge10\"><title>aMTG-L-&gt;aMTG-R</title>\n",
       "<path d=\"M1012.36,-143.697C1012.21,-132.846 1012.01,-118.917 1011.85,-108.104\" fill=\"none\" stroke=\"black\"/>\n",
       "</g>\n",
       "<!-- IFG1&#45;L -->\n",
       "<g class=\"node\" id=\"node18\"><title>IFG1-L</title>\n",
       "<ellipse cx=\"801.611\" cy=\"-162\" fill=\"none\" rx=\"37.2507\" ry=\"18\" stroke=\"black\"/>\n",
       "<text font-family=\"Times,serif\" font-size=\"14.00\" text-anchor=\"middle\" x=\"801.611\" y=\"-157.8\">IFG1-L</text>\n",
       "</g>\n",
       "<!-- IFG1&#45;L&#45;&gt;mMTG&#45;L -->\n",
       "<g class=\"edge\" id=\"edge20\"><title>IFG1-L-&gt;mMTG-L</title>\n",
       "<path d=\"M801.611,-143.697C801.611,-132.846 801.611,-118.917 801.611,-108.104\" fill=\"none\" stroke=\"black\"/>\n",
       "</g>\n",
       "<!-- IFG2&#45;L -->\n",
       "<g class=\"node\" id=\"node19\"><title>IFG2-L</title>\n",
       "<ellipse cx=\"801.611\" cy=\"-234\" fill=\"none\" rx=\"37.2507\" ry=\"18\" stroke=\"black\"/>\n",
       "<text font-family=\"Times,serif\" font-size=\"14.00\" text-anchor=\"middle\" x=\"801.611\" y=\"-229.8\">IFG2-L</text>\n",
       "</g>\n",
       "<!-- IFG2&#45;L&#45;&gt;IFG1&#45;L -->\n",
       "<g class=\"edge\" id=\"edge11\"><title>IFG2-L-&gt;IFG1-L</title>\n",
       "<path d=\"M801.611,-215.697C801.611,-204.846 801.611,-190.917 801.611,-180.104\" fill=\"none\" stroke=\"black\"/>\n",
       "</g>\n",
       "<!-- TPJ&#45;L -->\n",
       "<g class=\"node\" id=\"node21\"><title>TPJ-L</title>\n",
       "<ellipse cx=\"705.611\" cy=\"-162\" fill=\"none\" rx=\"32.4324\" ry=\"18\" stroke=\"black\"/>\n",
       "<text font-family=\"Times,serif\" font-size=\"14.00\" text-anchor=\"middle\" x=\"705.611\" y=\"-157.8\">TPJ-L</text>\n",
       "</g>\n",
       "<!-- TPJ&#45;L&#45;&gt;mMTG&#45;L -->\n",
       "<g class=\"edge\" id=\"edge9\"><title>TPJ-L-&gt;mMTG-L</title>\n",
       "<path d=\"M724.577,-147.17C740.861,-135.297 764.285,-118.216 781.022,-106.013\" fill=\"none\" stroke=\"black\"/>\n",
       "</g>\n",
       "<!-- TPJ&#45;R -->\n",
       "<g class=\"node\" id=\"node22\"><title>TPJ-R</title>\n",
       "<ellipse cx=\"705.611\" cy=\"-90\" fill=\"none\" rx=\"32.9255\" ry=\"18\" stroke=\"black\"/>\n",
       "<text font-family=\"Times,serif\" font-size=\"14.00\" text-anchor=\"middle\" x=\"705.611\" y=\"-85.8\">TPJ-R</text>\n",
       "</g>\n",
       "<!-- TPJ&#45;L&#45;&gt;TPJ&#45;R -->\n",
       "<g class=\"edge\" id=\"edge22\"><title>TPJ-L-&gt;TPJ-R</title>\n",
       "<path d=\"M705.611,-143.697C705.611,-132.846 705.611,-118.917 705.611,-108.104\" fill=\"none\" stroke=\"black\"/>\n",
       "</g>\n",
       "<!-- mPreCun&#45;L -->\n",
       "<g class=\"node\" id=\"node27\"><title>mPreCun-L</title>\n",
       "<ellipse cx=\"602.611\" cy=\"-90\" fill=\"none\" rx=\"51.726\" ry=\"18\" stroke=\"black\"/>\n",
       "<text font-family=\"Times,serif\" font-size=\"14.00\" text-anchor=\"middle\" x=\"602.611\" y=\"-85.8\">mPreCun-L</text>\n",
       "</g>\n",
       "<!-- TPJ&#45;L&#45;&gt;mPreCun&#45;L -->\n",
       "<g class=\"edge\" id=\"edge28\"><title>TPJ-L-&gt;mPreCun-L</title>\n",
       "<path d=\"M685.751,-147.503C668.448,-135.744 643.363,-118.696 625.278,-106.405\" fill=\"none\" stroke=\"black\"/>\n",
       "</g>\n",
       "<!-- MPFC&#45;L -->\n",
       "<g class=\"node\" id=\"node23\"><title>MPFC-L</title>\n",
       "<ellipse cx=\"1114.61\" cy=\"-18\" fill=\"none\" rx=\"42.1043\" ry=\"18\" stroke=\"black\"/>\n",
       "<text font-family=\"Times,serif\" font-size=\"14.00\" text-anchor=\"middle\" x=\"1114.61\" y=\"-13.8\">MPFC-L</text>\n",
       "</g>\n",
       "<!-- MPFC&#45;R -->\n",
       "<g class=\"node\" id=\"node24\"><title>MPFC-R</title>\n",
       "<ellipse cx=\"1114.61\" cy=\"-90\" fill=\"none\" rx=\"42.5974\" ry=\"18\" stroke=\"black\"/>\n",
       "<text font-family=\"Times,serif\" font-size=\"14.00\" text-anchor=\"middle\" x=\"1114.61\" y=\"-85.8\">MPFC-R</text>\n",
       "</g>\n",
       "<!-- MPFC&#45;R&#45;&gt;IFG2&#45;R -->\n",
       "<g class=\"edge\" id=\"edge19\"><title>MPFC-R-&gt;IFG2-R</title>\n",
       "<path d=\"M1092.77,-74.1548C1074.93,-62.0348 1049.9,-45.0234 1032.37,-33.1076\" fill=\"none\" stroke=\"black\"/>\n",
       "</g>\n",
       "<!-- MPFC&#45;R&#45;&gt;MPFC&#45;L -->\n",
       "<g class=\"edge\" id=\"edge12\"><title>MPFC-R-&gt;MPFC-L</title>\n",
       "<path d=\"M1114.61,-71.6966C1114.61,-60.8463 1114.61,-46.9167 1114.61,-36.1043\" fill=\"none\" stroke=\"black\"/>\n",
       "</g>\n",
       "<!-- dPreCun&#45;L -->\n",
       "<g class=\"node\" id=\"node25\"><title>dPreCun-L</title>\n",
       "<ellipse cx=\"422.611\" cy=\"-162\" fill=\"none\" rx=\"49.3119\" ry=\"18\" stroke=\"black\"/>\n",
       "<text font-family=\"Times,serif\" font-size=\"14.00\" text-anchor=\"middle\" x=\"422.611\" y=\"-157.8\">dPreCun-L</text>\n",
       "</g>\n",
       "<!-- dPreCun&#45;R -->\n",
       "<g class=\"node\" id=\"node26\"><title>dPreCun-R</title>\n",
       "<ellipse cx=\"422.611\" cy=\"-234\" fill=\"none\" rx=\"49.805\" ry=\"18\" stroke=\"black\"/>\n",
       "<text font-family=\"Times,serif\" font-size=\"14.00\" text-anchor=\"middle\" x=\"422.611\" y=\"-229.8\">dPreCun-R</text>\n",
       "</g>\n",
       "<!-- dPreCun&#45;R&#45;&gt;EV1&#45;L -->\n",
       "<g class=\"edge\" id=\"edge8\"><title>dPreCun-R-&gt;EV1-L</title>\n",
       "<path d=\"M400.478,-217.811C382.666,-205.587 357.85,-188.556 340.626,-176.736\" fill=\"none\" stroke=\"black\"/>\n",
       "</g>\n",
       "<!-- dPreCun&#45;R&#45;&gt;dPreCun&#45;L -->\n",
       "<g class=\"edge\" id=\"edge27\"><title>dPreCun-R-&gt;dPreCun-L</title>\n",
       "<path d=\"M422.611,-215.697C422.611,-204.846 422.611,-190.917 422.611,-180.104\" fill=\"none\" stroke=\"black\"/>\n",
       "</g>\n",
       "<!-- mPreCun&#45;R -->\n",
       "<g class=\"node\" id=\"node28\"><title>mPreCun-R</title>\n",
       "<ellipse cx=\"542.611\" cy=\"-162\" fill=\"none\" rx=\"52.2192\" ry=\"18\" stroke=\"black\"/>\n",
       "<text font-family=\"Times,serif\" font-size=\"14.00\" text-anchor=\"middle\" x=\"542.611\" y=\"-157.8\">mPreCun-R</text>\n",
       "</g>\n",
       "<!-- dPreCun&#45;R&#45;&gt;mPreCun&#45;R -->\n",
       "<g class=\"edge\" id=\"edge17\"><title>dPreCun-R-&gt;mPreCun-R</title>\n",
       "<path d=\"M447.767,-218.326C468.109,-206.459 496.63,-189.822 517.074,-177.896\" fill=\"none\" stroke=\"black\"/>\n",
       "</g>\n",
       "<!-- mPreCun&#45;R&#45;&gt;mPreCun&#45;L -->\n",
       "<g class=\"edge\" id=\"edge1\"><title>mPreCun-R-&gt;mPreCun-L</title>\n",
       "<path d=\"M556.83,-144.411C566.394,-133.252 578.95,-118.604 588.493,-107.47\" fill=\"none\" stroke=\"black\"/>\n",
       "</g>\n",
       "<!-- vPreCun&#45;R -->\n",
       "<g class=\"node\" id=\"node30\"><title>vPreCun-R</title>\n",
       "<ellipse cx=\"482.611\" cy=\"-90\" fill=\"none\" rx=\"49.805\" ry=\"18\" stroke=\"black\"/>\n",
       "<text font-family=\"Times,serif\" font-size=\"14.00\" text-anchor=\"middle\" x=\"482.611\" y=\"-85.8\">vPreCun-R</text>\n",
       "</g>\n",
       "<!-- mPreCun&#45;R&#45;&gt;vPreCun&#45;R -->\n",
       "<g class=\"edge\" id=\"edge18\"><title>mPreCun-R-&gt;vPreCun-R</title>\n",
       "<path d=\"M528.391,-144.411C518.827,-133.252 506.271,-118.604 496.728,-107.47\" fill=\"none\" stroke=\"black\"/>\n",
       "</g>\n",
       "<!-- vPreCun&#45;L -->\n",
       "<g class=\"node\" id=\"node29\"><title>vPreCun-L</title>\n",
       "<ellipse cx=\"482.611\" cy=\"-18\" fill=\"none\" rx=\"49.3119\" ry=\"18\" stroke=\"black\"/>\n",
       "<text font-family=\"Times,serif\" font-size=\"14.00\" text-anchor=\"middle\" x=\"482.611\" y=\"-13.8\">vPreCun-L</text>\n",
       "</g>\n",
       "<!-- vPreCun&#45;R&#45;&gt;vPreCun&#45;L -->\n",
       "<g class=\"edge\" id=\"edge3\"><title>vPreCun-R-&gt;vPreCun-L</title>\n",
       "<path d=\"M482.611,-71.6966C482.611,-60.8463 482.611,-46.9167 482.611,-36.1043\" fill=\"none\" stroke=\"black\"/>\n",
       "</g>\n",
       "<!-- FAM&#45;UNFAM -->\n",
       "<g class=\"node\" id=\"node31\"><title>FAM-UNFAM</title>\n",
       "<ellipse cx=\"1009.61\" cy=\"-234\" fill=\"none\" rx=\"62.7138\" ry=\"18\" stroke=\"black\"/>\n",
       "<text font-family=\"Times,serif\" font-size=\"14.00\" text-anchor=\"middle\" x=\"1009.61\" y=\"-229.8\">FAM-UNFAM</text>\n",
       "</g>\n",
       "</g>\n",
       "</svg>"
      ],
      "text/plain": [
       "<IPython.core.display.SVG object>"
      ]
     },
     "execution_count": 310,
     "metadata": {},
     "output_type": "execute_result"
    }
   ],
   "source": [
    "# render resulting graph\n",
    "dot_withc_nb_ar = images_withc_nb_ar.getDot()\n",
    "svg_str = dot_withc_nb_ar.create_svg(prog='dot')\n",
    "SVG(svg_str)"
   ]
  },
  {
   "cell_type": "code",
   "execution_count": 311,
   "metadata": {},
   "outputs": [
    {
     "data": {
      "text/plain": [
       "[<matplotlib.lines.Line2D at 0x12c379190>]"
      ]
     },
     "execution_count": 311,
     "metadata": {},
     "output_type": "execute_result"
    },
    {
     "data": {
      "image/png": "[encoded data removed]",
      "text/plain": [
       "<matplotlib.figure.Figure at 0x12c3541d0>"
      ]
     },
     "metadata": {},
     "output_type": "display_data"
    }
   ],
   "source": [
    "# example time series before AR in residual data\n",
    "plt.plot(dfs_withc_nb[0]['EV1-L'])"
   ]
  },
  {
   "cell_type": "code",
   "execution_count": 312,
   "metadata": {},
   "outputs": [
    {
     "data": {
      "text/plain": [
       "[<matplotlib.lines.Line2D at 0x12bdb6fd0>]"
      ]
     },
     "execution_count": 312,
     "metadata": {},
     "output_type": "execute_result"
    },
    {
     "data": {
      "image/png": "[encoded data removed]",
      "text/plain": [
       "<matplotlib.figure.Figure at 0x12c3b6850>"
      ]
     },
     "metadata": {},
     "output_type": "display_data"
    }
   ],
   "source": [
    "# and after AR\n",
    "plt.plot(dfs_withc_nb_ar[0]['EV1-L'])"
   ]
  },
  {
   "cell_type": "markdown",
   "metadata": {},
   "source": [
    "## Conclusion AR modelling"
   ]
  },
  {
   "cell_type": "markdown",
   "metadata": {},
   "source": [
    "AR modelling does not influence the graph (neither for preprocessed nor residual data). Looking at the timeseries from the ROIs (as well as the differential regressor), AR did not seem to have a noticable influence on the values."
   ]
  }
 ],
 "metadata": {
  "kernelspec": {
   "display_name": "Python 2",
   "language": "python",
   "name": "python2"
  },
  "language_info": {
   "codemirror_mode": {
    "name": "ipython",
    "version": 2
   },
   "file_extension": ".py",
   "mimetype": "text/x-python",
   "name": "python",
   "nbconvert_exporter": "python",
   "pygments_lexer": "ipython2",
   "version": "2.7.13"
  }
 },
 "nbformat": 4,
 "nbformat_minor": 2
}
